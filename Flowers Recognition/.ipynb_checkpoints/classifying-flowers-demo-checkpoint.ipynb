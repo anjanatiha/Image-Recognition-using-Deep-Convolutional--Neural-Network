{
 "cells": [
  {
   "cell_type": "markdown",
   "metadata": {
    "_cell_guid": "4b978caf-dad8-451f-8104-4a80f681b9a6",
    "_uuid": "56b3ce4bc7abde8f9997d1ba23beb7407ccd129c"
   },
   "source": [
    "# Final Project: Classifying Flowers\n",
    "It's nearing the end of year and it's time we work on one final project. First we learned about AI, and now we are going to combine it with web scraping. The first thing we are going to do is create a neural network to classify the flowers. Then I will direct you to a website where you will have to scrape all the images off and classify them. Whover does it with the best accuracy will win. I will show you a benchmark for this competition. We are going to use Keras along with some other libraries we will need to extract data from the files. Here is the stuff we will be doing in this project:\n",
    "1. Opening and Pre-processing Image Files\n",
    "2. Data Augmentation\n",
    "3. Using Pretrained Models\n",
    "4. Hyperparameter Search\n",
    "5. Saving a Neural Network\n",
    "6. Web Scraping\n",
    "I am trying to give you a more realistic view of what a real data scientist will do but on a short time, so follow along!"
   ]
  },
  {
   "cell_type": "code",
   "execution_count": 1,
   "metadata": {
    "_cell_guid": "8909b973-a960-4169-8ee3-5ab490e1ec3c",
    "_uuid": "d47b2b263967c777ca7cd4fdeca5da7ba0b1dcb0"
   },
   "outputs": [
    {
     "name": "stderr",
     "output_type": "stream",
     "text": [
      "C:\\Users\\Anjana Tiha\\Anaconda3\\lib\\site-packages\\h5py\\__init__.py:36: FutureWarning: Conversion of the second argument of issubdtype from `float` to `np.floating` is deprecated. In future, it will be treated as `np.float64 == np.dtype(float).type`.\n",
      "  from ._conv import register_converters as _register_converters\n",
      "Using TensorFlow backend.\n"
     ]
    }
   ],
   "source": [
    "import numpy as np\n",
    "from PIL import Image\n",
    "from keras.applications import *\n",
    "from keras.models import Model\n",
    "from keras.layers import Input, Dense\n",
    "from keras import backend as K\n",
    "import os"
   ]
  },
  {
   "cell_type": "markdown",
   "metadata": {
    "_cell_guid": "44c23a7d-96a3-4af7-9ec9-4eaa52411f64",
    "_uuid": "33ec64ca1304b22259a6f0ad8d2284d4f0e2b8b8"
   },
   "source": [
    "## Opening Image Files\n",
    "This is a very straightforward step. We can automatically extract images from an archived folder. Let's see what kinds of flowers are in this dataset:"
   ]
  },
  {
   "cell_type": "code",
   "execution_count": 2,
   "metadata": {
    "_cell_guid": "2a4f7ab2-86a0-429d-b646-b280beee5f13",
    "_uuid": "12157dbc6fcb82d5aa507685e9193d7febaea6a0"
   },
   "outputs": [
    {
     "name": "stdout",
     "output_type": "stream",
     "text": [
      "['daisy', 'dandelion', 'rose', 'sunflower', 'tulip']\n"
     ]
    }
   ],
   "source": [
    "flowers = os.listdir('flowers')\n",
    "print (flowers)"
   ]
  },
  {
   "cell_type": "markdown",
   "metadata": {
    "_cell_guid": "3134dc49-df24-4484-ab4c-88a1f41e5316",
    "_uuid": "e866454c04af5d76f320baaf09e6dfbd9d9be7e8"
   },
   "source": [
    "Ok. So we have 5 classes: Rose, Dandelion, Sunflower, Tulip, and Daisy. Each folder has images of the respective class in it. If you read the description of the dataset, the images' dimensions are not all the same! We will have to resize them! Since I will be using a pretrained model and fine-tuning it, I will have to resize them to a specific size, regardless of the dimensions they were before. I will resize them to the 224x224. We will use `os.listdir('..input/flowers/flowers/flower_name')` for each folder so we can get their path. Then we can open the images!\n",
    "<br>\n",
    "Here is how we are going to do this: We will create a dictionary, where each key is a label. Then we will create a list corresponding to each key. We will go over all the files and add their paths to their respective label."
   ]
  },
  {
   "cell_type": "code",
   "execution_count": 4,
   "metadata": {
    "_cell_guid": "ce073f1c-0f91-40b2-a438-1468c3e707e0",
    "_uuid": "dfefb65683d22603ae5de2dc76ddf4edf22b84e7"
   },
   "outputs": [
    {
     "ename": "FileNotFoundError",
     "evalue": "[WinError 3] The system cannot find the path specified: 'flowers-recognition/flowers/flowers/rose'",
     "output_type": "error",
     "traceback": [
      "\u001b[1;31m---------------------------------------------------------------------------\u001b[0m",
      "\u001b[1;31mFileNotFoundError\u001b[0m                         Traceback (most recent call last)",
      "\u001b[1;32m<ipython-input-4-5b6f5aa37174>\u001b[0m in \u001b[0;36m<module>\u001b[1;34m()\u001b[0m\n\u001b[0;32m      7\u001b[0m \u001b[1;33m\u001b[0m\u001b[0m\n\u001b[0;32m      8\u001b[0m \u001b[1;32mfor\u001b[0m \u001b[0mkey\u001b[0m\u001b[1;33m,\u001b[0m \u001b[0mimages\u001b[0m \u001b[1;32min\u001b[0m \u001b[0mpaths\u001b[0m\u001b[1;33m.\u001b[0m\u001b[0mitems\u001b[0m\u001b[1;33m(\u001b[0m\u001b[1;33m)\u001b[0m\u001b[1;33m:\u001b[0m\u001b[1;33m\u001b[0m\u001b[0m\n\u001b[1;32m----> 9\u001b[1;33m     \u001b[1;32mfor\u001b[0m \u001b[0mfilename\u001b[0m \u001b[1;32min\u001b[0m \u001b[0mos\u001b[0m\u001b[1;33m.\u001b[0m\u001b[0mlistdir\u001b[0m\u001b[1;33m(\u001b[0m\u001b[1;34m'flowers-recognition/flowers/flowers/'\u001b[0m\u001b[1;33m+\u001b[0m\u001b[0mkey\u001b[0m\u001b[1;33m)\u001b[0m\u001b[1;33m:\u001b[0m\u001b[1;33m\u001b[0m\u001b[0m\n\u001b[0m\u001b[0;32m     10\u001b[0m         \u001b[0mpaths\u001b[0m\u001b[1;33m[\u001b[0m\u001b[0mkey\u001b[0m\u001b[1;33m]\u001b[0m\u001b[1;33m.\u001b[0m\u001b[0mappend\u001b[0m\u001b[1;33m(\u001b[0m\u001b[1;34m'flowers-recognition/flowers/flowers/'\u001b[0m\u001b[1;33m+\u001b[0m\u001b[0mkey\u001b[0m\u001b[1;33m+\u001b[0m\u001b[1;34m'/'\u001b[0m\u001b[1;33m+\u001b[0m\u001b[0mfilename\u001b[0m\u001b[1;33m)\u001b[0m\u001b[1;33m\u001b[0m\u001b[0m\n\u001b[0;32m     11\u001b[0m \u001b[1;33m\u001b[0m\u001b[0m\n",
      "\u001b[1;31mFileNotFoundError\u001b[0m: [WinError 3] The system cannot find the path specified: 'flowers-recognition/flowers/flowers/rose'"
     ]
    }
   ],
   "source": [
    "paths = {'rose': [],\n",
    "         'dandelion': [],\n",
    "         'sunflower': [],\n",
    "         'tulip': [],\n",
    "         'daisy': []\n",
    "        }\n",
    "\n",
    "for key, images in paths.items():\n",
    "    for filename in os.listdir('flowers/flowers/'+key):\n",
    "        paths[key].append('flowers-recognition/flowers/flowers/'+key+'/'+filename)\n",
    "    \n",
    "    print (len(images),key,'images')"
   ]
  },
  {
   "cell_type": "code",
   "execution_count": 4,
   "metadata": {
    "_cell_guid": "c7c07b0c-a7d5-493f-a128-62219a42cdbe",
    "_uuid": "d88dc68aa3792b14b81a9b3fbb18b4c3a510e7b6",
    "collapsed": true
   },
   "outputs": [],
   "source": [
    "X = []\n",
    "Y = []\n",
    "mapping = {'rose': 0,\n",
    "         'dandelion': 1,\n",
    "         'sunflower': 2,\n",
    "         'tulip': 3,\n",
    "         'daisy': 4\n",
    "        }\n",
    "for label,image_paths in paths.items():\n",
    "    for path in image_paths:\n",
    "        if '.py' not in path:\n",
    "            image = Image.open(path)\n",
    "            image = image.resize((224,224))\n",
    "            X.append(np.array(image))\n",
    "\n",
    "            one_hot = np.array([0.,0.,0.,0.,0.])\n",
    "            one_hot[mapping[label]] = 1.\n",
    "            Y.append(one_hot)"
   ]
  },
  {
   "cell_type": "code",
   "execution_count": 5,
   "metadata": {
    "_cell_guid": "f4188e5c-930c-4cf0-aa2f-7234163a5ead",
    "_uuid": "467ff10e7b080f1e1438174271dc453dacd2284a",
    "collapsed": true
   },
   "outputs": [],
   "source": [
    "aug_X = []\n",
    "aug_Y = []\n",
    "\n",
    "for image in X:\n",
    "    aug_X.append(np.flip(image,1))\n",
    "\n",
    "aug_Y = Y"
   ]
  },
  {
   "cell_type": "code",
   "execution_count": 6,
   "metadata": {
    "_cell_guid": "f3d99241-4c1f-4d30-a4bc-5c06517b0a21",
    "_uuid": "c6b32e882ee254905a2c64f59294144d097dbd11",
    "collapsed": true
   },
   "outputs": [],
   "source": [
    "X = X + aug_X\n",
    "Y = Y + aug_Y"
   ]
  },
  {
   "cell_type": "code",
   "execution_count": 7,
   "metadata": {
    "_cell_guid": "e589ef84-595c-4db4-bf50-c33ff6ea2d16",
    "_uuid": "614d35169084ec0b927ad199136b91eaa7489308"
   },
   "outputs": [],
   "source": [
    "len(X)"
   ]
  },
  {
   "cell_type": "code",
   "execution_count": 8,
   "metadata": {
    "_cell_guid": "d68ecd21-e403-421b-a2ae-d474e6916c00",
    "_uuid": "0deeff5febf8c5a55aad92eeef95a2e87be64da2",
    "collapsed": true
   },
   "outputs": [],
   "source": [
    "from keras.applications.resnet50 import ResNet50\n",
    "from keras.models import Model\n",
    "from keras.layers import Dense\n",
    "from keras import backend as K"
   ]
  },
  {
   "cell_type": "code",
   "execution_count": 9,
   "metadata": {
    "_cell_guid": "b097c79d-faa1-48e2-b80a-fd966e4bf1ca",
    "_uuid": "1c626267438cc2f1f5c228a006e9c65490001fd6",
    "collapsed": true
   },
   "outputs": [],
   "source": [
    "base_model = ResNet50(weights=None, include_top=False, input_shape=(224,224,3))"
   ]
  },
  {
   "cell_type": "code",
   "execution_count": 10,
   "metadata": {
    "_cell_guid": "0c6ef9d3-4bad-451f-8a61-79400304dd10",
    "_uuid": "63e689996475102b7d860166a4ae184ca9d90c09",
    "collapsed": true
   },
   "outputs": [],
   "source": [
    "base_model.load_weights('../input/keras-pretrained-models/resnet50_weights_tf_dim_ordering_tf_kernels_notop.h5')"
   ]
  },
  {
   "cell_type": "code",
   "execution_count": 11,
   "metadata": {
    "_cell_guid": "2e1c626e-6f06-47d7-85ba-a1c70f13dc21",
    "_uuid": "030267c1e7ddeffa4ce9cd78713ea471370dd69a",
    "collapsed": true
   },
   "outputs": [],
   "source": [
    "for layer in base_model.layers:\n",
    "    layer.trainable = False"
   ]
  },
  {
   "cell_type": "code",
   "execution_count": 12,
   "metadata": {
    "_cell_guid": "9c6b644c-5772-4203-b583-b5416a40a73c",
    "_uuid": "301665fbfdfac256e8476f994bd5617615af0573",
    "collapsed": true
   },
   "outputs": [],
   "source": [
    "output = base_model.output"
   ]
  },
  {
   "cell_type": "code",
   "execution_count": 13,
   "metadata": {
    "_cell_guid": "54eff2e5-50e7-4376-bda9-bc654105ddd6",
    "_uuid": "bac0577907b27e41233fba63ef336b26ec068b18",
    "collapsed": true
   },
   "outputs": [],
   "source": [
    "from keras.layers import Flatten"
   ]
  },
  {
   "cell_type": "code",
   "execution_count": 14,
   "metadata": {
    "_cell_guid": "ae4ed7ce-49f3-4bb3-ad11-1863c8e47fdb",
    "_uuid": "817dafa0bd278d5a1c46d6fbba3edb98d4b624f1",
    "collapsed": true
   },
   "outputs": [],
   "source": [
    "output = Flatten()(output)"
   ]
  },
  {
   "cell_type": "code",
   "execution_count": 15,
   "metadata": {
    "_cell_guid": "8e97d104-74a9-47a6-9ec1-f025c16124f5",
    "_uuid": "1796c35d3ed8a948e85be71d00b6f81bec4dfebd",
    "collapsed": true
   },
   "outputs": [],
   "source": [
    "output = Dense(5, activation='softmax')(output)"
   ]
  },
  {
   "cell_type": "code",
   "execution_count": 16,
   "metadata": {
    "_cell_guid": "94188d54-9a80-4505-b30e-fb8ad3a920d1",
    "_uuid": "5308bd56ceef52994d99446a4aeefd5926f85efd",
    "collapsed": true
   },
   "outputs": [],
   "source": [
    "model = Model(inputs=base_model.input, outputs=output)"
   ]
  },
  {
   "cell_type": "code",
   "execution_count": 17,
   "metadata": {
    "_cell_guid": "ec594bbf-6781-436d-9615-45494ee1c479",
    "_uuid": "51912e614006d58a482ce1e6b71f6c68e8f3ba35"
   },
   "outputs": [],
   "source": [
    "model.summary()"
   ]
  },
  {
   "cell_type": "code",
   "execution_count": 18,
   "metadata": {
    "_cell_guid": "f568e1cd-cd56-4a86-9c6f-4b2a819babc2",
    "_uuid": "e99fee5e452bf54bccc3660d93a8d979743eb32e",
    "collapsed": true
   },
   "outputs": [],
   "source": [
    "model.compile(optimizer='adam', loss='categorical_crossentropy', metrics=['accuracy'])"
   ]
  },
  {
   "cell_type": "code",
   "execution_count": 19,
   "metadata": {
    "_cell_guid": "392c30be-cd6a-4cf1-baa7-7140ec6014fe",
    "_uuid": "69c29a3f0e09c63ff561e295079464dd4667aa00",
    "scrolled": true
   },
   "outputs": [],
   "source": [
    "model.fit(np.stack(X,axis=0),np.stack(Y,axis=0),validation_split=0.1,batch_size=8,epochs=15,verbose=1)"
   ]
  },
  {
   "cell_type": "code",
   "execution_count": null,
   "metadata": {
    "_cell_guid": "fbbce495-3737-42c2-bd95-1207c5c30ffe",
    "_uuid": "2cd0b79b8684a48750a87f13a5d4fa35ebf4d87e",
    "collapsed": true
   },
   "outputs": [],
   "source": []
  }
 ],
 "metadata": {
  "kernelspec": {
   "display_name": "Python 3",
   "language": "python",
   "name": "python3"
  },
  "language_info": {
   "codemirror_mode": {
    "name": "ipython",
    "version": 3
   },
   "file_extension": ".py",
   "mimetype": "text/x-python",
   "name": "python",
   "nbconvert_exporter": "python",
   "pygments_lexer": "ipython3",
   "version": "3.6.5"
  }
 },
 "nbformat": 4,
 "nbformat_minor": 1
}
