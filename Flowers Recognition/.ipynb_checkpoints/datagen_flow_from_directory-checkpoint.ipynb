{
 "cells": [
  {
   "cell_type": "code",
   "execution_count": 81,
   "metadata": {},
   "outputs": [],
   "source": [
    "import os\n",
    "import shutil\n",
    "import pandas as pd"
   ]
  },
  {
   "cell_type": "code",
   "execution_count": 82,
   "metadata": {},
   "outputs": [],
   "source": [
    "main_from_directory = \"data\\\\archive\\\\flowers\"\n",
    "train_from_directory = \"data\\\\tmp\\\\flowers\"\n",
    "test_from_directory = \"data\\\\tmp\\\\flowers\"\n",
    "validate_from_directory = \"data\\\\tmp\\\\flowers\"\n",
    "\n",
    "main_to_directory = \"data\\\\tmp\\\\flowers\"\n",
    "train_to_directory = \"data\\\\train\"\n",
    "test_to_directory = \"data\\\\test\"\n",
    "validate_to_directory = \"data\\\\validate\""
   ]
  },
  {
   "cell_type": "code",
   "execution_count": 88,
   "metadata": {},
   "outputs": [],
   "source": [
    "# if os.path.isdir(main_to_directory):\n",
    "#     os.rmdir(main_to_directory)\n",
    "# if not os.path.isdir(main_to_directory):\n",
    "#     os.mkdir(main_to_directory)\n",
    "#     try:\n",
    "#         shutil.copytree(main_from_directory, main_to_directory)\n",
    "#     except:\n",
    "#         print(\"not coppied\")\n",
    "#         pass\n",
    "\n",
    "\n",
    "\n",
    "if not os.path.isdir(train_to_directory):\n",
    "    os.mkdir(train_to_directory)\n",
    "\n",
    "if not os.path.isdir(test_to_directory):\n",
    "    os.mkdir(test_to_directory)\n",
    "\n",
    "if not os.path.isdir(validate_to_directory):\n",
    "    os.mkdir(validate_to_directory)\n"
   ]
  },
  {
   "cell_type": "code",
   "execution_count": 92,
   "metadata": {
    "scrolled": true
   },
   "outputs": [
    {
     "name": "stdout",
     "output_type": "stream",
     "text": [
      "22\n",
      "daisy 22\n",
      "26\n",
      "dandelion 26\n",
      "40\n",
      "keras-pretrained-models 40\n",
      "21\n",
      "rose 21\n",
      "26\n",
      "sunflower 26\n",
      "22\n",
      "tulip 22\n"
     ]
    }
   ],
   "source": [
    "master_directory = train_from_directory\n",
    "i=0\n",
    "for directory in os.listdir(master_directory):\n",
    "    \n",
    "    sub_directory = os.path.join(master_directory, directory)\n",
    "    sub_directory_files = os.listdir(sub_directory)\n",
    "    count_files = len(sub_directory_files)\n",
    "    print(count_files)\n",
    "    print(directory, count_files)\n",
    "    train_count = count_files*0.7\n",
    "    validate_count = train_count+count_files*0.2\n",
    "#     test_count = train_count+count_files*0.2\n",
    "    \n",
    "    cat_train_dir = os.path.join(train_to_directory, directory)\n",
    "    cat_test_dir = os.path.join(test_to_directory, directory)\n",
    "    cat_validate_dir = os.path.join(validate_to_directory, directory)\n",
    "    \n",
    "    if not os.path.isdir(cat_train_dir):\n",
    "        os.mkdir(cat_train_dir)\n",
    "    \n",
    "    if not os.path.isdir(cat_test_dir):\n",
    "        os.mkdir(cat_test_dir)\n",
    "                 \n",
    "    if not os.path.isdir(cat_validate_dir):\n",
    "        os.mkdir(cat_validate_dir)\n",
    "    \n",
    "    from_dir_path = os.path.join(master_directory, directory)\n",
    "    from_dir_files= os.listdir(from_dir_path)\n",
    "    i = 0\n",
    "    for filename in from_dir_files:\n",
    "        try:\n",
    "            file_path_from = os.path.join(from_dir_path, filename)\n",
    "            if i<=train_count:\n",
    "                shutil.copyfile(file_path_from, os.path.join(cat_train_dir, filename))\n",
    "            elif i<=validate_count:\n",
    "                shutil.copyfile(file_path_from, os.path.join(cat_validate_dir, filename))\n",
    "            else:\n",
    "                shutil.copyfile(file_path_from, os.path.join(cat_test_dir, filename))\n",
    "           \n",
    "        except:\n",
    "            print(\"Exception for index: \", i, \"Breed: \", \", File: \", file_path_from)\n",
    "        i+=1\n"
   ]
  },
  {
   "cell_type": "code",
   "execution_count": 91,
   "metadata": {},
   "outputs": [
    {
     "name": "stdout",
     "output_type": "stream",
     "text": [
      "64\n"
     ]
    }
   ],
   "source": [
    "print(len(\"C:\\\\Users\\\\Andromeda\\\\Programming\\\\Projects\\\\Flowers Recognition\\\\data\"))"
   ]
  },
  {
   "cell_type": "code",
   "execution_count": null,
   "metadata": {},
   "outputs": [],
   "source": []
  }
 ],
 "metadata": {
  "kernelspec": {
   "display_name": "Python 3",
   "language": "python",
   "name": "python3"
  },
  "language_info": {
   "codemirror_mode": {
    "name": "ipython",
    "version": 3
   },
   "file_extension": ".py",
   "mimetype": "text/x-python",
   "name": "python",
   "nbconvert_exporter": "python",
   "pygments_lexer": "ipython3",
   "version": "3.6.5"
  }
 },
 "nbformat": 4,
 "nbformat_minor": 2
}
