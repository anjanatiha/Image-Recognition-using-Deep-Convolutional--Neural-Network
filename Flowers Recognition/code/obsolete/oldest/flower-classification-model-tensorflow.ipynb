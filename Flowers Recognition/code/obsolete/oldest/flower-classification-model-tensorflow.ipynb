{
 "cells": [
  {
   "cell_type": "markdown",
   "metadata": {
    "_uuid": "7eb26a4698dc8954acb121b489b07b3130c40cd8"
   },
   "source": [
    " **This is an interesting dataset for building Deep Learning Neural Networks. here we use tensorflow keras API to form the model.**"
   ]
  },
  {
   "cell_type": "code",
   "execution_count": 2,
   "metadata": {
    "_cell_guid": "b1076dfc-b9ad-4769-8c92-a6c4dae69d19",
    "_kg_hide-output": false,
    "_uuid": "8f2839f25d086af736a60e9eeb907d3b93b6e0e5"
   },
   "outputs": [],
   "source": [
    "# Import the necessary libraries\n",
    "\n",
    "# TensorFlow and tf.keras\n",
    "import tensorflow as tf\n",
    "from tensorflow import keras\n",
    "\n",
    "# Helper libraries\n",
    "import matplotlib.pyplot as plt\n",
    "import numpy as np\n",
    "from os import listdir\n",
    "from os.path import join\n",
    "import cv2\n",
    "import pandas\n",
    "import os\n",
    "import random"
   ]
  },
  {
   "cell_type": "code",
   "execution_count": 3,
   "metadata": {
    "_cell_guid": "79c7e3d0-c299-4dcb-8224-4455121ee9b0",
    "_uuid": "d629ff2d2480ee46fbb7e2d37f6b5fab8052498a"
   },
   "outputs": [
    {
     "name": "stdout",
     "output_type": "stream",
     "text": [
      "['daisy', 'dandelion', 'rose', 'sunflower', 'tulip']\n"
     ]
    }
   ],
   "source": [
    "# Set the path of the input folder \n",
    "\n",
    "# data = \"../input/flowers/flowers/\"\n",
    "\n",
    "data = \"flowers/\"\n",
    "\n",
    "# List out the directories inside the main input folder\n",
    "\n",
    "folders = os.listdir(data)\n",
    "\n",
    "print(folders)"
   ]
  },
  {
   "cell_type": "code",
   "execution_count": 4,
   "metadata": {
    "_uuid": "18d55fd068cd1ca21ed14a4e566b215a75e9d45e"
   },
   "outputs": [],
   "source": [
    "# Import the images and resize them to a 128*128 size\n",
    "# Also generate the corresponding labels\n",
    "\n",
    "image_names = []\n",
    "train_labels = []\n",
    "train_images = []\n",
    "\n",
    "size = 64,64\n",
    "\n",
    "for folder in folders:\n",
    "    for file in os.listdir(os.path.join(data,folder)):\n",
    "        if file.endswith(\"jpg\"):\n",
    "            image_names.append(os.path.join(data,folder,file))\n",
    "            train_labels.append(folder)\n",
    "            img = cv2.imread(os.path.join(data,folder,file))\n",
    "            im = cv2.resize(img,size)\n",
    "            train_images.append(im)\n",
    "        else:\n",
    "            continue\n",
    "      "
   ]
  },
  {
   "cell_type": "code",
   "execution_count": 5,
   "metadata": {
    "_uuid": "8ea726765c318e3e855d37b262a7b9ac66bf3351"
   },
   "outputs": [
    {
     "data": {
      "text/plain": [
       "(4323, 64, 64, 3)"
      ]
     },
     "execution_count": 5,
     "metadata": {},
     "output_type": "execute_result"
    }
   ],
   "source": [
    "# Transform the image array to a numpy type\n",
    "\n",
    "train = np.array(train_images)\n",
    "\n",
    "train.shape"
   ]
  },
  {
   "cell_type": "code",
   "execution_count": 6,
   "metadata": {
    "_uuid": "7946f5528f1217ef93cd94df26320ed1b5722935"
   },
   "outputs": [],
   "source": [
    "# Reduce the RGB values between 0 and 1\n",
    "\n",
    "train = train.astype('float32') / 255.0"
   ]
  },
  {
   "cell_type": "code",
   "execution_count": 7,
   "metadata": {
    "_uuid": "5b0e814039e66a966e8cebe4662b502a788de87b"
   },
   "outputs": [],
   "source": [
    "# Extract the labels\n",
    "\n",
    "label_dummies = pandas.get_dummies(train_labels)\n",
    "\n",
    "labels =  label_dummies.values.argmax(1)"
   ]
  },
  {
   "cell_type": "code",
   "execution_count": 8,
   "metadata": {
    "_uuid": "111462613dba646ccad64e2221175ff86b84bc0b"
   },
   "outputs": [
    {
     "data": {
      "text/plain": [
       "array(['daisy', 'dandelion', 'rose', 'sunflower', 'tulip'], dtype=object)"
      ]
     },
     "execution_count": 8,
     "metadata": {},
     "output_type": "execute_result"
    }
   ],
   "source": [
    "pandas.unique(train_labels)"
   ]
  },
  {
   "cell_type": "code",
   "execution_count": 9,
   "metadata": {
    "_uuid": "3b2373c20c84544a16dd071395289e85f0222724"
   },
   "outputs": [
    {
     "data": {
      "text/plain": [
       "array([0, 1, 2, 3, 4], dtype=int64)"
      ]
     },
     "execution_count": 9,
     "metadata": {},
     "output_type": "execute_result"
    }
   ],
   "source": [
    "pandas.unique(labels)"
   ]
  },
  {
   "cell_type": "code",
   "execution_count": 10,
   "metadata": {
    "_uuid": "09860dbb816fa04eef09fc2d4fa260403c0af079"
   },
   "outputs": [],
   "source": [
    "# Shuffle the labels and images randomly for better results\n",
    "\n",
    "union_list = list(zip(train, labels))\n",
    "random.shuffle(union_list)\n",
    "train,labels = zip(*union_list)\n",
    "\n",
    "# Convert the shuffled list to numpy array type\n",
    "\n",
    "train = np.array(train)\n",
    "labels = np.array(labels)"
   ]
  },
  {
   "cell_type": "code",
   "execution_count": 11,
   "metadata": {
    "_uuid": "31958ba17cb150683936e02e3556833bd928bd71"
   },
   "outputs": [],
   "source": [
    "# Develop a sequential model using tensorflow keras\n",
    "\n",
    "model = keras.Sequential([\n",
    "    keras.layers.Flatten(input_shape=(64,64,3)),\n",
    "    keras.layers.Dense(128, activation=tf.nn.tanh),\n",
    "    keras.layers.Dense(5, activation=tf.nn.softmax)\n",
    "])"
   ]
  },
  {
   "cell_type": "code",
   "execution_count": 12,
   "metadata": {
    "_uuid": "644b9f7c5687e36e4f34a8cd49db344acf7c39e4"
   },
   "outputs": [],
   "source": [
    "# Compute the model parameters\n",
    "\n",
    "model.compile(optimizer=tf.train.AdamOptimizer(), \n",
    "              loss='sparse_categorical_crossentropy',\n",
    "              metrics=['accuracy'])"
   ]
  },
  {
   "cell_type": "code",
   "execution_count": 14,
   "metadata": {
    "_uuid": "f438f031c38fa58cd6c35c679560e3babacccc86"
   },
   "outputs": [
    {
     "name": "stdout",
     "output_type": "stream",
     "text": [
      "Epoch 1/50\n",
      "4323/4323 [==============================] - 2s 417us/step - loss: 1.3158 - acc: 0.4235\n",
      "Epoch 2/50\n",
      "4323/4323 [==============================] - 2s 399us/step - loss: 1.3261 - acc: 0.4118\n",
      "Epoch 3/50\n",
      "4323/4323 [==============================] - 2s 394us/step - loss: 1.3081 - acc: 0.4159\n",
      "Epoch 4/50\n",
      "4323/4323 [==============================] - 2s 409us/step - loss: 1.2785 - acc: 0.4363\n",
      "Epoch 5/50\n",
      "4323/4323 [==============================] - 2s 420us/step - loss: 1.2800 - acc: 0.4402\n",
      "Epoch 6/50\n",
      "4323/4323 [==============================] - 2s 438us/step - loss: 1.2787 - acc: 0.4446\n",
      "Epoch 7/50\n",
      "4323/4323 [==============================] - 2s 437us/step - loss: 1.2787 - acc: 0.4272\n",
      "Epoch 8/50\n",
      "4323/4323 [==============================] - 2s 416us/step - loss: 1.2815 - acc: 0.4286\n",
      "Epoch 9/50\n",
      "4323/4323 [==============================] - 2s 407us/step - loss: 1.2403 - acc: 0.4557\n",
      "Epoch 10/50\n",
      "4323/4323 [==============================] - 2s 410us/step - loss: 1.2434 - acc: 0.4441\n",
      "Epoch 11/50\n",
      "4323/4323 [==============================] - 2s 407us/step - loss: 1.2519 - acc: 0.4589\n",
      "Epoch 12/50\n",
      "4323/4323 [==============================] - 2s 437us/step - loss: 1.2320 - acc: 0.4464\n",
      "Epoch 13/50\n",
      "4323/4323 [==============================] - 2s 408us/step - loss: 1.2499 - acc: 0.4464\n",
      "Epoch 14/50\n",
      "4323/4323 [==============================] - 2s 425us/step - loss: 1.2682 - acc: 0.4342\n",
      "Epoch 15/50\n",
      "4323/4323 [==============================] - 2s 428us/step - loss: 1.2647 - acc: 0.4356\n",
      "Epoch 16/50\n",
      "4323/4323 [==============================] - 2s 420us/step - loss: 1.2630 - acc: 0.4365\n",
      "Epoch 17/50\n",
      "4323/4323 [==============================] - 2s 415us/step - loss: 1.2261 - acc: 0.4599\n",
      "Epoch 18/50\n",
      "4323/4323 [==============================] - 2s 433us/step - loss: 1.2432 - acc: 0.4527\n",
      "Epoch 19/50\n",
      "4323/4323 [==============================] - 2s 410us/step - loss: 1.2344 - acc: 0.4499\n",
      "Epoch 20/50\n",
      "4323/4323 [==============================] - 2s 412us/step - loss: 1.2377 - acc: 0.4638\n",
      "Epoch 21/50\n",
      "4323/4323 [==============================] - 2s 418us/step - loss: 1.2519 - acc: 0.4411\n",
      "Epoch 22/50\n",
      "4323/4323 [==============================] - 2s 414us/step - loss: 1.2411 - acc: 0.4515\n",
      "Epoch 23/50\n",
      "4323/4323 [==============================] - 2s 433us/step - loss: 1.2191 - acc: 0.4647\n",
      "Epoch 24/50\n",
      "4323/4323 [==============================] - 2s 449us/step - loss: 1.2517 - acc: 0.4497\n",
      "Epoch 25/50\n",
      "4323/4323 [==============================] - 2s 422us/step - loss: 1.2277 - acc: 0.4448\n",
      "Epoch 26/50\n",
      "4323/4323 [==============================] - 2s 413us/step - loss: 1.2112 - acc: 0.4626\n",
      "Epoch 27/50\n",
      "4323/4323 [==============================] - 2s 424us/step - loss: 1.2336 - acc: 0.4589\n",
      "Epoch 28/50\n",
      "4323/4323 [==============================] - 2s 421us/step - loss: 1.2176 - acc: 0.4626\n",
      "Epoch 29/50\n",
      "4323/4323 [==============================] - 2s 414us/step - loss: 1.2180 - acc: 0.4557\n",
      "Epoch 30/50\n",
      "4323/4323 [==============================] - 2s 421us/step - loss: 1.2075 - acc: 0.4802\n",
      "Epoch 31/50\n",
      "4323/4323 [==============================] - 2s 455us/step - loss: 1.2109 - acc: 0.4680\n",
      "Epoch 32/50\n",
      "4323/4323 [==============================] - 2s 438us/step - loss: 1.1676 - acc: 0.4788\n",
      "Epoch 33/50\n",
      "4323/4323 [==============================] - 2s 434us/step - loss: 1.1870 - acc: 0.4724\n",
      "Epoch 34/50\n",
      "4323/4323 [==============================] - 2s 468us/step - loss: 1.1658 - acc: 0.5034\n",
      "Epoch 35/50\n",
      "4323/4323 [==============================] - 2s 437us/step - loss: 1.1888 - acc: 0.4874\n",
      "Epoch 36/50\n",
      "4323/4323 [==============================] - 2s 415us/step - loss: 1.1840 - acc: 0.4936\n",
      "Epoch 37/50\n",
      "4323/4323 [==============================] - 2s 446us/step - loss: 1.2416 - acc: 0.4432\n",
      "Epoch 38/50\n",
      "4323/4323 [==============================] - 2s 484us/step - loss: 1.1737 - acc: 0.4693\n",
      "Epoch 39/50\n",
      "4323/4323 [==============================] - 2s 492us/step - loss: 1.1627 - acc: 0.4710\n",
      "Epoch 40/50\n",
      "4323/4323 [==============================] - 2s 439us/step - loss: 1.1747 - acc: 0.4703\n",
      "Epoch 41/50\n",
      "4323/4323 [==============================] - 2s 440us/step - loss: 1.1769 - acc: 0.4582\n",
      "Epoch 42/50\n",
      "4323/4323 [==============================] - 2s 434us/step - loss: 1.1714 - acc: 0.4846\n",
      "Epoch 43/50\n",
      "4323/4323 [==============================] - 2s 440us/step - loss: 1.1429 - acc: 0.5080\n",
      "Epoch 44/50\n",
      "4323/4323 [==============================] - 2s 475us/step - loss: 1.1282 - acc: 0.5115 1s - lo\n",
      "Epoch 45/50\n",
      "4323/4323 [==============================] - 2s 518us/step - loss: 1.1417 - acc: 0.4848\n",
      "Epoch 46/50\n",
      "4323/4323 [==============================] - 2s 484us/step - loss: 1.1288 - acc: 0.5089\n",
      "Epoch 47/50\n",
      "4323/4323 [==============================] - 2s 503us/step - loss: 1.1376 - acc: 0.5138\n",
      "Epoch 48/50\n",
      "4323/4323 [==============================] - 2s 441us/step - loss: 1.1103 - acc: 0.5126\n",
      "Epoch 49/50\n",
      "4323/4323 [==============================] - 2s 429us/step - loss: 1.1022 - acc: 0.4987\n",
      "Epoch 50/50\n",
      "4323/4323 [==============================] - 2s 394us/step - loss: 1.1266 - acc: 0.4973\n"
     ]
    },
    {
     "data": {
      "text/plain": [
       "<tensorflow.python.keras.callbacks.History at 0x20232d199e8>"
      ]
     },
     "execution_count": 14,
     "metadata": {},
     "output_type": "execute_result"
    }
   ],
   "source": [
    "# Train the model  with 5 epochs \n",
    "\n",
    "model.fit(train,labels, epochs=50)"
   ]
  },
  {
   "cell_type": "code",
   "execution_count": null,
   "metadata": {},
   "outputs": [],
   "source": []
  }
 ],
 "metadata": {
  "kernelspec": {
   "display_name": "Python 3",
   "language": "python",
   "name": "python3"
  },
  "language_info": {
   "codemirror_mode": {
    "name": "ipython",
    "version": 3
   },
   "file_extension": ".py",
   "mimetype": "text/x-python",
   "name": "python",
   "nbconvert_exporter": "python",
   "pygments_lexer": "ipython3",
   "version": "3.6.5"
  }
 },
 "nbformat": 4,
 "nbformat_minor": 1
}
