{
 "cells": [
  {
   "cell_type": "code",
   "execution_count": 1,
   "metadata": {},
   "outputs": [
    {
     "name": "stderr",
     "output_type": "stream",
     "text": [
      "C:\\Users\\Andromeda\\Anaconda3\\lib\\site-packages\\h5py\\__init__.py:36: FutureWarning: Conversion of the second argument of issubdtype from `float` to `np.floating` is deprecated. In future, it will be treated as `np.float64 == np.dtype(float).type`.\n",
      "  from ._conv import register_converters as _register_converters\n",
      "Using TensorFlow backend.\n"
     ]
    }
   ],
   "source": [
    "import os\n",
    "from os import listdir, makedirs\n",
    "from os.path import join, exists, expanduser\n",
    "from tqdm import tqdm\n",
    "\n",
    "import random\n",
    "import numpy as np\n",
    "import pandas as pd\n",
    "\n",
    "import datetime as dt\n",
    "import time\n",
    "\n",
    "import matplotlib.pyplot as plt\n",
    "import matplotlib.image as mpimg\n",
    "import seaborn as sns\n",
    "%matplotlib inline\n",
    "\n",
    "import cv2\n",
    "\n",
    "import keras\n",
    "\n",
    "from keras.callbacks import TensorBoard\n",
    "\n",
    "from keras.preprocessing import image\n",
    "from keras.preprocessing.image import ImageDataGenerator\n",
    "\n",
    "from mpl_toolkits.axes_grid1 import ImageGrid\n",
    "\n",
    "from keras.utils.np_utils import to_categorical\n",
    "\n",
    "from keras.models import Sequential\n",
    "from keras.models import Model\n",
    "\n",
    "\n",
    "from keras.layers import Dense, Dropout, Flatten, Conv2D, MaxPool2D\n",
    "from keras.layers import Dense, GlobalAveragePooling2D\n",
    "from keras import optimizers\n",
    "from keras.optimizers import RMSprop\n",
    "from keras.callbacks import ReduceLROnPlateau\n",
    "\n",
    "\n",
    "from keras import backend as K\n",
    "\n",
    "# from keras.applications import vgg16, resnet50, mobilenet\n",
    "# from keras.applications.vgg16 import VGG16\n",
    "# from keras.applications.resnet50 import ResNet50\n",
    "# from keras.applications import xception\n",
    "# from keras.applications import inception_v3\n",
    "\n",
    "from keras.applications.inception_v3 import InceptionV3\n",
    "\n",
    "from keras.applications.vgg16 import preprocess_input, decode_predictions\n",
    "\n",
    "from keras.optimizers import SGD\n",
    "\n",
    "\n",
    "\n",
    "\n",
    "np.random.seed(2)\n",
    "sns.set(style='white', context='notebook', palette='deep')"
   ]
  },
  {
   "cell_type": "code",
   "execution_count": 2,
   "metadata": {},
   "outputs": [],
   "source": [
    "def show_pred(preds, Y, val_breed, index, seq, ran):\n",
    "    leng = len(preds)\n",
    "    if seq:\n",
    "        for i in range(index):\n",
    "            if ran:\n",
    "                index = random.randint(0, leng) \n",
    "            _, imagenet_class_name, prob = decode_predictions(preds, top=1)[index][0]\n",
    "            plt.title(\"Original: \" + val_breed[Y[index]] + \"\\nPrediction: \" + imagenet_class_name)\n",
    "            plt.imshow(X_train[index])\n",
    "            plt.show()\n",
    "    else:\n",
    "            _, imagenet_class_name, prob = decode_predictions(preds, top=1)[index][0]\n",
    "            plt.title(\"Original: \" + val_breed[Y[index]] + \"\\nPrediction: \" + imagenet_class_name)\n",
    "            plt.imshow(X_train[index])\n",
    "            plt.show()\n",
    "        \n",
    "def accuracy_func(preds, Y, val_breed):\n",
    "    leng = len(preds)\n",
    "    count = 0;\n",
    "    for i in range(leng):\n",
    "        _, imagenet_class_name, prob = decode_predictions(preds, top=1)[i][0]\n",
    "        if val_breed[Y[i]] == imagenet_class_name:\n",
    "            count+=1\n",
    "    accuracy = (count/leng)*100\n",
    "    \n",
    "    print(\"Accuracy: \", accuracy)\n",
    "    return accuracy"
   ]
  },
  {
   "cell_type": "code",
   "execution_count": 3,
   "metadata": {},
   "outputs": [],
   "source": [
    "cache_dir = expanduser(join('~', '.keras'))\n",
    "if not exists(cache_dir):\n",
    "    makedirs(cache_dir)\n",
    "models_dir = join(cache_dir, 'models')\n",
    "if not exists(models_dir):\n",
    "    makedirs(models_dir)"
   ]
  },
  {
   "cell_type": "code",
   "execution_count": 4,
   "metadata": {},
   "outputs": [],
   "source": [
    "# #Load the VGG model\n",
    "# vgg_model = vgg16.VGG16(weights='imagenet')\n",
    " \n",
    "# #Load the Inception_V3 model\n",
    "# inception_model = inception_v3.InceptionV3(weights='imagenet')\n",
    " \n",
    "# #Load the ResNet50 model\n",
    "# resnet_model = resnet50.ResNet50(weights='imagenet')\n",
    " \n",
    "# #Load the MobileNet model\n",
    "# mobilenet_model = mobilenet.MobileNet(weights='imagenet')"
   ]
  },
  {
   "cell_type": "code",
   "execution_count": 5,
   "metadata": {},
   "outputs": [],
   "source": [
    "training_path = r'data/train'\n",
    "validation_path = r'data/validation'\n",
    "testing_path = r'data/test'\n",
    "batch_size = 32\n",
    "target_size=(224, 224)\n",
    "norm = 255.0\n",
    "class_mode='categorical'"
   ]
  },
  {
   "cell_type": "code",
   "execution_count": 6,
   "metadata": {},
   "outputs": [
    {
     "name": "stdout",
     "output_type": "stream",
     "text": [
      "Found 3031 images belonging to 5 classes.\n",
      "Found 866 images belonging to 5 classes.\n",
      "Found 426 images belonging to 5 classes.\n"
     ]
    }
   ],
   "source": [
    "train_datagen = ImageDataGenerator(\n",
    "        rescale=1./norm,\n",
    "        shear_range=0.2,\n",
    "        zoom_range=0.2,\n",
    "        horizontal_flip=True)\n",
    "\n",
    "validation_datagen = ImageDataGenerator(rescale=1./norm)\n",
    "test_datagen = ImageDataGenerator(rescale=1./norm)\n",
    "\n",
    "train_generator = train_datagen.flow_from_directory(\n",
    "        training_path,\n",
    "        target_size=target_size,\n",
    "        batch_size=batch_size,\n",
    "        class_mode=class_mode)\n",
    "\n",
    "validation_generator = validation_datagen.flow_from_directory(\n",
    "        validation_path,\n",
    "        target_size=target_size,\n",
    "        batch_size=batch_size,\n",
    "        class_mode=class_mode)\n",
    "\n",
    "test_generator = test_datagen.flow_from_directory(\n",
    "        testing_path,\n",
    "        target_size=target_size,\n",
    "        batch_size=batch_size,\n",
    "        class_mode=class_mode)"
   ]
  },
  {
   "cell_type": "code",
   "execution_count": 7,
   "metadata": {},
   "outputs": [],
   "source": [
    "# create the base pre-trained model\n",
    "base_model = InceptionV3(weights='imagenet', include_top=False)"
   ]
  },
  {
   "cell_type": "code",
   "execution_count": 8,
   "metadata": {},
   "outputs": [],
   "source": [
    "# add a global spatial average pooling layer\n",
    "x = base_model.output\n",
    "x = GlobalAveragePooling2D()(x)\n",
    "# let's add a fully-connected layer\n",
    "x = Dense(1024, activation='relu')(x)\n",
    "# and a logistic layer -- let's say we have 200 classes\n",
    "predictions = Dense(5, activation='softmax')(x)\n"
   ]
  },
  {
   "cell_type": "code",
   "execution_count": 9,
   "metadata": {},
   "outputs": [],
   "source": [
    "# this is the model we will train\n",
    "model = Model(inputs=base_model.input, outputs=predictions)\n",
    "\n",
    "# first: train only the top layers (which were randomly initialized)\n",
    "# i.e. freeze all convolutional InceptionV3 layers\n",
    "for layer in base_model.layers:\n",
    "    layer.trainable = False\n",
    "\n",
    "# compile the model (should be done *after* setting layers to non-trainable)\n",
    "model.compile(optimizer='rmsprop', loss='categorical_crossentropy')"
   ]
  },
  {
   "cell_type": "code",
   "execution_count": 10,
   "metadata": {},
   "outputs": [
    {
     "name": "stdout",
     "output_type": "stream",
     "text": [
      "0 input_1\n",
      "1 conv2d_1\n",
      "2 batch_normalization_1\n",
      "3 activation_1\n",
      "4 conv2d_2\n",
      "5 batch_normalization_2\n",
      "6 activation_2\n",
      "7 conv2d_3\n",
      "8 batch_normalization_3\n",
      "9 activation_3\n",
      "10 max_pooling2d_1\n",
      "11 conv2d_4\n",
      "12 batch_normalization_4\n",
      "13 activation_4\n",
      "14 conv2d_5\n",
      "15 batch_normalization_5\n",
      "16 activation_5\n",
      "17 max_pooling2d_2\n",
      "18 conv2d_9\n",
      "19 batch_normalization_9\n",
      "20 activation_9\n",
      "21 conv2d_7\n",
      "22 conv2d_10\n",
      "23 batch_normalization_7\n",
      "24 batch_normalization_10\n",
      "25 activation_7\n",
      "26 activation_10\n",
      "27 average_pooling2d_1\n",
      "28 conv2d_6\n",
      "29 conv2d_8\n",
      "30 conv2d_11\n",
      "31 conv2d_12\n",
      "32 batch_normalization_6\n",
      "33 batch_normalization_8\n",
      "34 batch_normalization_11\n",
      "35 batch_normalization_12\n",
      "36 activation_6\n",
      "37 activation_8\n",
      "38 activation_11\n",
      "39 activation_12\n",
      "40 mixed0\n",
      "41 conv2d_16\n",
      "42 batch_normalization_16\n",
      "43 activation_16\n",
      "44 conv2d_14\n",
      "45 conv2d_17\n",
      "46 batch_normalization_14\n",
      "47 batch_normalization_17\n",
      "48 activation_14\n",
      "49 activation_17\n",
      "50 average_pooling2d_2\n",
      "51 conv2d_13\n",
      "52 conv2d_15\n",
      "53 conv2d_18\n",
      "54 conv2d_19\n",
      "55 batch_normalization_13\n",
      "56 batch_normalization_15\n",
      "57 batch_normalization_18\n",
      "58 batch_normalization_19\n",
      "59 activation_13\n",
      "60 activation_15\n",
      "61 activation_18\n",
      "62 activation_19\n",
      "63 mixed1\n",
      "64 conv2d_23\n",
      "65 batch_normalization_23\n",
      "66 activation_23\n",
      "67 conv2d_21\n",
      "68 conv2d_24\n",
      "69 batch_normalization_21\n",
      "70 batch_normalization_24\n",
      "71 activation_21\n",
      "72 activation_24\n",
      "73 average_pooling2d_3\n",
      "74 conv2d_20\n",
      "75 conv2d_22\n",
      "76 conv2d_25\n",
      "77 conv2d_26\n",
      "78 batch_normalization_20\n",
      "79 batch_normalization_22\n",
      "80 batch_normalization_25\n",
      "81 batch_normalization_26\n",
      "82 activation_20\n",
      "83 activation_22\n",
      "84 activation_25\n",
      "85 activation_26\n",
      "86 mixed2\n",
      "87 conv2d_28\n",
      "88 batch_normalization_28\n",
      "89 activation_28\n",
      "90 conv2d_29\n",
      "91 batch_normalization_29\n",
      "92 activation_29\n",
      "93 conv2d_27\n",
      "94 conv2d_30\n",
      "95 batch_normalization_27\n",
      "96 batch_normalization_30\n",
      "97 activation_27\n",
      "98 activation_30\n",
      "99 max_pooling2d_3\n",
      "100 mixed3\n",
      "101 conv2d_35\n",
      "102 batch_normalization_35\n",
      "103 activation_35\n",
      "104 conv2d_36\n",
      "105 batch_normalization_36\n",
      "106 activation_36\n",
      "107 conv2d_32\n",
      "108 conv2d_37\n",
      "109 batch_normalization_32\n",
      "110 batch_normalization_37\n",
      "111 activation_32\n",
      "112 activation_37\n",
      "113 conv2d_33\n",
      "114 conv2d_38\n",
      "115 batch_normalization_33\n",
      "116 batch_normalization_38\n",
      "117 activation_33\n",
      "118 activation_38\n",
      "119 average_pooling2d_4\n",
      "120 conv2d_31\n",
      "121 conv2d_34\n",
      "122 conv2d_39\n",
      "123 conv2d_40\n",
      "124 batch_normalization_31\n",
      "125 batch_normalization_34\n",
      "126 batch_normalization_39\n",
      "127 batch_normalization_40\n",
      "128 activation_31\n",
      "129 activation_34\n",
      "130 activation_39\n",
      "131 activation_40\n",
      "132 mixed4\n",
      "133 conv2d_45\n",
      "134 batch_normalization_45\n",
      "135 activation_45\n",
      "136 conv2d_46\n",
      "137 batch_normalization_46\n",
      "138 activation_46\n",
      "139 conv2d_42\n",
      "140 conv2d_47\n",
      "141 batch_normalization_42\n",
      "142 batch_normalization_47\n",
      "143 activation_42\n",
      "144 activation_47\n",
      "145 conv2d_43\n",
      "146 conv2d_48\n",
      "147 batch_normalization_43\n",
      "148 batch_normalization_48\n",
      "149 activation_43\n",
      "150 activation_48\n",
      "151 average_pooling2d_5\n",
      "152 conv2d_41\n",
      "153 conv2d_44\n",
      "154 conv2d_49\n",
      "155 conv2d_50\n",
      "156 batch_normalization_41\n",
      "157 batch_normalization_44\n",
      "158 batch_normalization_49\n",
      "159 batch_normalization_50\n",
      "160 activation_41\n",
      "161 activation_44\n",
      "162 activation_49\n",
      "163 activation_50\n",
      "164 mixed5\n",
      "165 conv2d_55\n",
      "166 batch_normalization_55\n",
      "167 activation_55\n",
      "168 conv2d_56\n",
      "169 batch_normalization_56\n",
      "170 activation_56\n",
      "171 conv2d_52\n",
      "172 conv2d_57\n",
      "173 batch_normalization_52\n",
      "174 batch_normalization_57\n",
      "175 activation_52\n",
      "176 activation_57\n",
      "177 conv2d_53\n",
      "178 conv2d_58\n",
      "179 batch_normalization_53\n",
      "180 batch_normalization_58\n",
      "181 activation_53\n",
      "182 activation_58\n",
      "183 average_pooling2d_6\n",
      "184 conv2d_51\n",
      "185 conv2d_54\n",
      "186 conv2d_59\n",
      "187 conv2d_60\n",
      "188 batch_normalization_51\n",
      "189 batch_normalization_54\n",
      "190 batch_normalization_59\n",
      "191 batch_normalization_60\n",
      "192 activation_51\n",
      "193 activation_54\n",
      "194 activation_59\n",
      "195 activation_60\n",
      "196 mixed6\n",
      "197 conv2d_65\n",
      "198 batch_normalization_65\n",
      "199 activation_65\n",
      "200 conv2d_66\n",
      "201 batch_normalization_66\n",
      "202 activation_66\n",
      "203 conv2d_62\n",
      "204 conv2d_67\n",
      "205 batch_normalization_62\n",
      "206 batch_normalization_67\n",
      "207 activation_62\n",
      "208 activation_67\n",
      "209 conv2d_63\n",
      "210 conv2d_68\n",
      "211 batch_normalization_63\n",
      "212 batch_normalization_68\n",
      "213 activation_63\n",
      "214 activation_68\n",
      "215 average_pooling2d_7\n",
      "216 conv2d_61\n",
      "217 conv2d_64\n",
      "218 conv2d_69\n",
      "219 conv2d_70\n",
      "220 batch_normalization_61\n",
      "221 batch_normalization_64\n",
      "222 batch_normalization_69\n",
      "223 batch_normalization_70\n",
      "224 activation_61\n",
      "225 activation_64\n",
      "226 activation_69\n",
      "227 activation_70\n",
      "228 mixed7\n",
      "229 conv2d_73\n",
      "230 batch_normalization_73\n",
      "231 activation_73\n",
      "232 conv2d_74\n",
      "233 batch_normalization_74\n",
      "234 activation_74\n",
      "235 conv2d_71\n",
      "236 conv2d_75\n",
      "237 batch_normalization_71\n",
      "238 batch_normalization_75\n",
      "239 activation_71\n",
      "240 activation_75\n",
      "241 conv2d_72\n",
      "242 conv2d_76\n",
      "243 batch_normalization_72\n",
      "244 batch_normalization_76\n",
      "245 activation_72\n",
      "246 activation_76\n",
      "247 max_pooling2d_4\n",
      "248 mixed8\n",
      "249 conv2d_81\n",
      "250 batch_normalization_81\n",
      "251 activation_81\n",
      "252 conv2d_78\n",
      "253 conv2d_82\n",
      "254 batch_normalization_78\n",
      "255 batch_normalization_82\n",
      "256 activation_78\n",
      "257 activation_82\n",
      "258 conv2d_79\n",
      "259 conv2d_80\n",
      "260 conv2d_83\n",
      "261 conv2d_84\n",
      "262 average_pooling2d_8\n",
      "263 conv2d_77\n",
      "264 batch_normalization_79\n",
      "265 batch_normalization_80\n",
      "266 batch_normalization_83\n",
      "267 batch_normalization_84\n",
      "268 conv2d_85\n",
      "269 batch_normalization_77\n",
      "270 activation_79\n",
      "271 activation_80\n",
      "272 activation_83\n",
      "273 activation_84\n",
      "274 batch_normalization_85\n",
      "275 activation_77\n",
      "276 mixed9_0\n",
      "277 concatenate_1\n",
      "278 activation_85\n",
      "279 mixed9\n",
      "280 conv2d_90\n",
      "281 batch_normalization_90\n",
      "282 activation_90\n",
      "283 conv2d_87\n",
      "284 conv2d_91\n",
      "285 batch_normalization_87\n",
      "286 batch_normalization_91\n",
      "287 activation_87\n",
      "288 activation_91\n",
      "289 conv2d_88\n",
      "290 conv2d_89\n",
      "291 conv2d_92\n",
      "292 conv2d_93\n",
      "293 average_pooling2d_9\n",
      "294 conv2d_86\n",
      "295 batch_normalization_88\n",
      "296 batch_normalization_89\n",
      "297 batch_normalization_92\n",
      "298 batch_normalization_93\n",
      "299 conv2d_94\n",
      "300 batch_normalization_86\n",
      "301 activation_88\n",
      "302 activation_89\n",
      "303 activation_92\n",
      "304 activation_93\n",
      "305 batch_normalization_94\n",
      "306 activation_86\n",
      "307 mixed9_1\n",
      "308 concatenate_2\n",
      "309 activation_94\n",
      "310 mixed10\n"
     ]
    }
   ],
   "source": [
    "# at this point, the top layers are well trained and we can start fine-tuning\n",
    "# convolutional layers from inception V3. We will freeze the bottom N layers\n",
    "# and train the remaining top layers.\n",
    "\n",
    "# let's visualize layer names and layer indices to see how many layers\n",
    "# we should freeze:\n",
    "for i, layer in enumerate(base_model.layers):\n",
    "    print(i, layer.name)\n",
    "\n",
    "# we chose to train the top 2 inception blocks, i.e. we will freeze\n",
    "# the first 249 layers and unfreeze the rest:\n",
    "for layer in model.layers[:249]:\n",
    "    layer.trainable = False\n",
    "for layer in model.layers[249:]:\n",
    "    layer.trainable = True\n",
    "\n"
   ]
  },
  {
   "cell_type": "code",
   "execution_count": 11,
   "metadata": {},
   "outputs": [],
   "source": [
    "# we need to recompile the model for these modifications to take effect\n",
    "# we use SGD with a low learning rate\n",
    "\n",
    "\n",
    "\n",
    "sgd = optimizers.Adam()\n",
    "# sgd = optimizers.SGD()\n",
    "# sgd = optimizers.SGD(lr=0.01, decay=1e-6, momentum=0.9, nesterov=True)\n",
    "# sgd = optimizer=SGD(lr=0.0001, momentum=0.9)\n",
    "\n",
    "model.compile(sgd, loss='categorical_crossentropy', metrics=[\"accuracy\"])\n",
    "\n",
    "# model.compile(loss='mean_squared_error', optimizer='sgd')"
   ]
  },
  {
   "cell_type": "code",
   "execution_count": 12,
   "metadata": {},
   "outputs": [],
   "source": [
    "model_dir = 'output/models/'\n",
    "log_file = \"output/logs\"\n",
    "\n",
    "model_file = model_dir+\"weights-improvement-{epoch:02d}-{val_acc:.2f}.hdf5\""
   ]
  },
  {
   "cell_type": "code",
   "execution_count": 13,
   "metadata": {},
   "outputs": [],
   "source": [
    "checkpoint = keras.callbacks.ModelCheckpoint(model_file, monitor='val_acc', verbose=0, save_best_only=False, save_weights_only=False, mode='auto', period=1)"
   ]
  },
  {
   "cell_type": "code",
   "execution_count": 14,
   "metadata": {},
   "outputs": [],
   "source": [
    "tensorboard = keras.callbacks.TensorBoard(log_dir=log_file, histogram_freq=0, batch_size=32, write_graph=True, write_grads=False, write_images=False, embeddings_freq=0, embeddings_layer_names=None, embeddings_metadata=None, embeddings_data=None)\n",
    "tensorboard.set_model(model) "
   ]
  },
  {
   "cell_type": "code",
   "execution_count": 15,
   "metadata": {},
   "outputs": [],
   "source": [
    "# early_stopping = keras.callbacks.EarlyStopping(monitor='val_loss', min_delta=0, patience=0, verbose=0, mode='auto', baseline=None)"
   ]
  },
  {
   "cell_type": "code",
   "execution_count": 16,
   "metadata": {},
   "outputs": [],
   "source": [
    "# callbacks_list = [checkpoint, tensorboard, early_stopping]\n",
    "callbacks_list = [checkpoint, tensorboard]"
   ]
  },
  {
   "cell_type": "code",
   "execution_count": 17,
   "metadata": {},
   "outputs": [
    {
     "name": "stdout",
     "output_type": "stream",
     "text": [
      "Epoch 1/10\n",
      "95/95 [==============================] - ETA: 23:26 - loss: 1.6608 - acc: 0.15 - ETA: 19:26 - loss: 1.9395 - acc: 0.29 - ETA: 17:50 - loss: 1.7540 - acc: 0.37 - ETA: 17:03 - loss: 1.6369 - acc: 0.42 - ETA: 16:32 - loss: 1.6734 - acc: 0.43 - ETA: 16:03 - loss: 1.5389 - acc: 0.48 - ETA: 15:44 - loss: 1.5028 - acc: 0.51 - ETA: 15:24 - loss: 1.3954 - acc: 0.55 - ETA: 15:08 - loss: 1.3367 - acc: 0.56 - ETA: 14:54 - loss: 1.2790 - acc: 0.58 - ETA: 14:39 - loss: 1.2064 - acc: 0.60 - ETA: 14:25 - loss: 1.1653 - acc: 0.60 - ETA: 14:13 - loss: 1.1179 - acc: 0.61 - ETA: 14:00 - loss: 1.0788 - acc: 0.62 - ETA: 13:49 - loss: 1.0446 - acc: 0.63 - ETA: 13:37 - loss: 1.0068 - acc: 0.64 - ETA: 13:25 - loss: 0.9914 - acc: 0.65 - ETA: 13:14 - loss: 0.9612 - acc: 0.65 - ETA: 13:02 - loss: 0.9260 - acc: 0.67 - ETA: 12:50 - loss: 0.9418 - acc: 0.67 - ETA: 12:40 - loss: 0.9560 - acc: 0.68 - ETA: 12:28 - loss: 0.9392 - acc: 0.68 - ETA: 12:17 - loss: 0.9158 - acc: 0.69 - ETA: 12:06 - loss: 0.9098 - acc: 0.69 - ETA: 11:55 - loss: 0.9081 - acc: 0.70 - ETA: 11:45 - loss: 0.8931 - acc: 0.70 - ETA: 11:34 - loss: 0.8749 - acc: 0.70 - ETA: 11:24 - loss: 0.8692 - acc: 0.71 - ETA: 11:13 - loss: 0.8553 - acc: 0.71 - ETA: 11:02 - loss: 0.8388 - acc: 0.72 - ETA: 10:52 - loss: 0.8331 - acc: 0.72 - ETA: 10:42 - loss: 0.8254 - acc: 0.72 - ETA: 10:31 - loss: 0.8181 - acc: 0.72 - ETA: 10:21 - loss: 0.8068 - acc: 0.72 - ETA: 10:10 - loss: 0.8083 - acc: 0.73 - ETA: 9:59 - loss: 0.8027 - acc: 0.7318 - ETA: 9:49 - loss: 0.7980 - acc: 0.734 - ETA: 9:38 - loss: 0.7938 - acc: 0.735 - ETA: 9:28 - loss: 0.7845 - acc: 0.738 - ETA: 9:18 - loss: 0.7852 - acc: 0.738 - ETA: 9:07 - loss: 0.7776 - acc: 0.741 - ETA: 8:57 - loss: 0.7692 - acc: 0.745 - ETA: 8:46 - loss: 0.7600 - acc: 0.747 - ETA: 8:36 - loss: 0.7540 - acc: 0.750 - ETA: 8:26 - loss: 0.7539 - acc: 0.752 - ETA: 8:16 - loss: 0.7451 - acc: 0.754 - ETA: 8:06 - loss: 0.7393 - acc: 0.754 - ETA: 7:53 - loss: 0.7385 - acc: 0.756 - ETA: 7:43 - loss: 0.7315 - acc: 0.759 - ETA: 7:33 - loss: 0.7232 - acc: 0.761 - ETA: 7:22 - loss: 0.7173 - acc: 0.763 - ETA: 7:12 - loss: 0.7111 - acc: 0.764 - ETA: 7:02 - loss: 0.7105 - acc: 0.764 - ETA: 6:52 - loss: 0.7016 - acc: 0.767 - ETA: 6:42 - loss: 0.6991 - acc: 0.769 - ETA: 6:32 - loss: 0.6937 - acc: 0.769 - ETA: 6:22 - loss: 0.6839 - acc: 0.773 - ETA: 6:12 - loss: 0.6862 - acc: 0.771 - ETA: 6:02 - loss: 0.6802 - acc: 0.771 - ETA: 5:52 - loss: 0.6728 - acc: 0.774 - ETA: 5:41 - loss: 0.6714 - acc: 0.774 - ETA: 5:31 - loss: 0.6741 - acc: 0.774 - ETA: 5:21 - loss: 0.6684 - acc: 0.776 - ETA: 5:11 - loss: 0.6650 - acc: 0.777 - ETA: 5:01 - loss: 0.6608 - acc: 0.778 - ETA: 4:51 - loss: 0.6585 - acc: 0.779 - ETA: 4:41 - loss: 0.6569 - acc: 0.781 - ETA: 4:31 - loss: 0.6523 - acc: 0.783 - ETA: 4:21 - loss: 0.6470 - acc: 0.785 - ETA: 4:11 - loss: 0.6468 - acc: 0.785 - ETA: 4:01 - loss: 0.6445 - acc: 0.785 - ETA: 3:51 - loss: 0.6457 - acc: 0.786 - ETA: 3:41 - loss: 0.6437 - acc: 0.787 - ETA: 3:31 - loss: 0.6418 - acc: 0.788 - ETA: 3:21 - loss: 0.6358 - acc: 0.790 - ETA: 3:11 - loss: 0.6309 - acc: 0.791 - ETA: 3:01 - loss: 0.6277 - acc: 0.793 - ETA: 2:50 - loss: 0.6273 - acc: 0.793 - ETA: 2:40 - loss: 0.6256 - acc: 0.793 - ETA: 2:30 - loss: 0.6202 - acc: 0.795 - ETA: 2:20 - loss: 0.6196 - acc: 0.795 - ETA: 2:10 - loss: 0.6219 - acc: 0.794 - ETA: 2:00 - loss: 0.6185 - acc: 0.795 - ETA: 1:50 - loss: 0.6145 - acc: 0.795 - ETA: 1:40 - loss: 0.6174 - acc: 0.795 - ETA: 1:30 - loss: 0.6177 - acc: 0.794 - ETA: 1:20 - loss: 0.6191 - acc: 0.794 - ETA: 1:10 - loss: 0.6222 - acc: 0.794 - ETA: 1:00 - loss: 0.6198 - acc: 0.794 - ETA: 50s - loss: 0.6169 - acc: 0.795 - ETA: 40s - loss: 0.6176 - acc: 0.79 - ETA: 30s - loss: 0.6130 - acc: 0.79 - ETA: 20s - loss: 0.6101 - acc: 0.79 - ETA: 10s - loss: 0.6081 - acc: 0.79 - 1260s 13s/step - loss: 0.6065 - acc: 0.7988 - val_loss: 0.9517 - val_acc: 0.7517\n",
      "Epoch 2/10\n",
      "95/95 [==============================] - ETA: 15:56 - loss: 0.2424 - acc: 0.93 - ETA: 15:26 - loss: 0.2833 - acc: 0.92 - ETA: 15:21 - loss: 0.2914 - acc: 0.91 - ETA: 15:10 - loss: 0.3534 - acc: 0.90 - ETA: 15:00 - loss: 0.3557 - acc: 0.90 - ETA: 14:51 - loss: 0.3413 - acc: 0.90 - ETA: 14:39 - loss: 0.3452 - acc: 0.90 - ETA: 14:32 - loss: 0.3401 - acc: 0.89 - ETA: 14:23 - loss: 0.3237 - acc: 0.90 - ETA: 14:11 - loss: 0.3393 - acc: 0.89 - ETA: 14:02 - loss: 0.3319 - acc: 0.89 - ETA: 13:51 - loss: 0.3135 - acc: 0.90 - ETA: 13:41 - loss: 0.3172 - acc: 0.89 - ETA: 13:32 - loss: 0.3070 - acc: 0.90 - ETA: 13:20 - loss: 0.3132 - acc: 0.89 - ETA: 13:11 - loss: 0.3114 - acc: 0.89 - ETA: 13:01 - loss: 0.3042 - acc: 0.89 - ETA: 12:50 - loss: 0.3100 - acc: 0.89 - ETA: 12:40 - loss: 0.3043 - acc: 0.89 - ETA: 12:30 - loss: 0.3097 - acc: 0.89 - ETA: 12:20 - loss: 0.3143 - acc: 0.88 - ETA: 12:10 - loss: 0.3179 - acc: 0.89 - ETA: 12:00 - loss: 0.3147 - acc: 0.89 - ETA: 11:50 - loss: 0.3115 - acc: 0.89 - ETA: 11:41 - loss: 0.3097 - acc: 0.89 - ETA: 11:30 - loss: 0.3085 - acc: 0.89 - ETA: 11:20 - loss: 0.3034 - acc: 0.89 - ETA: 11:03 - loss: 0.3042 - acc: 0.89 - ETA: 10:54 - loss: 0.3044 - acc: 0.89 - ETA: 10:44 - loss: 0.2997 - acc: 0.89 - ETA: 10:34 - loss: 0.2949 - acc: 0.89 - ETA: 10:24 - loss: 0.2980 - acc: 0.89 - ETA: 10:14 - loss: 0.2970 - acc: 0.89 - ETA: 10:05 - loss: 0.3097 - acc: 0.89 - ETA: 9:55 - loss: 0.3102 - acc: 0.8900 - ETA: 9:45 - loss: 0.3124 - acc: 0.889 - ETA: 9:35 - loss: 0.3139 - acc: 0.887 - ETA: 9:26 - loss: 0.3137 - acc: 0.888 - ETA: 9:16 - loss: 0.3080 - acc: 0.890 - ETA: 9:06 - loss: 0.3063 - acc: 0.891 - ETA: 8:56 - loss: 0.3006 - acc: 0.893 - ETA: 8:46 - loss: 0.3013 - acc: 0.893 - ETA: 8:36 - loss: 0.3117 - acc: 0.891 - ETA: 8:26 - loss: 0.3137 - acc: 0.890 - ETA: 8:16 - loss: 0.3290 - acc: 0.886 - ETA: 8:07 - loss: 0.3344 - acc: 0.885 - ETA: 7:57 - loss: 0.3291 - acc: 0.887 - ETA: 7:47 - loss: 0.3240 - acc: 0.889 - ETA: 7:37 - loss: 0.3241 - acc: 0.889 - ETA: 7:27 - loss: 0.3251 - acc: 0.888 - ETA: 7:17 - loss: 0.3261 - acc: 0.886 - ETA: 7:07 - loss: 0.3286 - acc: 0.883 - ETA: 6:57 - loss: 0.3271 - acc: 0.884 - ETA: 6:47 - loss: 0.3255 - acc: 0.885 - ETA: 6:37 - loss: 0.3276 - acc: 0.885 - ETA: 6:28 - loss: 0.3312 - acc: 0.882 - ETA: 6:18 - loss: 0.3284 - acc: 0.883 - ETA: 6:08 - loss: 0.3271 - acc: 0.883 - ETA: 5:58 - loss: 0.3239 - acc: 0.885 - ETA: 5:48 - loss: 0.3201 - acc: 0.886 - ETA: 5:38 - loss: 0.3179 - acc: 0.887 - ETA: 5:28 - loss: 0.3165 - acc: 0.888 - ETA: 5:18 - loss: 0.3146 - acc: 0.889 - ETA: 5:08 - loss: 0.3152 - acc: 0.890 - ETA: 4:58 - loss: 0.3163 - acc: 0.889 - ETA: 4:48 - loss: 0.3141 - acc: 0.890 - ETA: 4:38 - loss: 0.3128 - acc: 0.891 - ETA: 4:28 - loss: 0.3147 - acc: 0.891 - ETA: 4:18 - loss: 0.3156 - acc: 0.891 - ETA: 4:09 - loss: 0.3156 - acc: 0.891 - ETA: 3:59 - loss: 0.3165 - acc: 0.891 - ETA: 3:49 - loss: 0.3178 - acc: 0.891 - ETA: 3:39 - loss: 0.3183 - acc: 0.891 - ETA: 3:29 - loss: 0.3150 - acc: 0.893 - ETA: 3:19 - loss: 0.3177 - acc: 0.892 - ETA: 3:09 - loss: 0.3169 - acc: 0.892 - ETA: 2:59 - loss: 0.3168 - acc: 0.892 - ETA: 2:49 - loss: 0.3141 - acc: 0.893 - ETA: 2:39 - loss: 0.3146 - acc: 0.893 - ETA: 2:29 - loss: 0.3137 - acc: 0.894 - ETA: 2:19 - loss: 0.3136 - acc: 0.893 - ETA: 2:09 - loss: 0.3117 - acc: 0.894 - ETA: 1:59 - loss: 0.3126 - acc: 0.893 - ETA: 1:49 - loss: 0.3153 - acc: 0.892 - ETA: 1:39 - loss: 0.3148 - acc: 0.892 - ETA: 1:29 - loss: 0.3133 - acc: 0.893 - ETA: 1:19 - loss: 0.3116 - acc: 0.894 - ETA: 1:09 - loss: 0.3098 - acc: 0.894 - ETA: 59s - loss: 0.3098 - acc: 0.895 - ETA: 49s - loss: 0.3104 - acc: 0.89 - ETA: 39s - loss: 0.3117 - acc: 0.89 - ETA: 29s - loss: 0.3115 - acc: 0.89 - ETA: 19s - loss: 0.3137 - acc: 0.89 - ETA: 9s - loss: 0.3166 - acc: 0.8912 - 1255s 13s/step - loss: 0.3155 - acc: 0.8914 - val_loss: 0.7664 - val_acc: 0.7945\n",
      "Epoch 3/10\n"
     ]
    },
    {
     "name": "stdout",
     "output_type": "stream",
     "text": [
      "95/95 [==============================] - ETA: 16:22 - loss: 0.2675 - acc: 0.90 - ETA: 15:59 - loss: 0.1634 - acc: 0.95 - ETA: 15:38 - loss: 0.1501 - acc: 0.95 - ETA: 15:26 - loss: 0.1508 - acc: 0.96 - ETA: 15:19 - loss: 0.1736 - acc: 0.94 - ETA: 15:06 - loss: 0.1756 - acc: 0.93 - ETA: 14:58 - loss: 0.1799 - acc: 0.93 - ETA: 14:47 - loss: 0.1885 - acc: 0.92 - ETA: 14:36 - loss: 0.1820 - acc: 0.93 - ETA: 14:27 - loss: 0.1710 - acc: 0.94 - ETA: 14:13 - loss: 0.1898 - acc: 0.93 - ETA: 14:03 - loss: 0.1861 - acc: 0.93 - ETA: 13:53 - loss: 0.2226 - acc: 0.93 - ETA: 13:41 - loss: 0.2346 - acc: 0.93 - ETA: 13:30 - loss: 0.2339 - acc: 0.92 - ETA: 13:20 - loss: 0.2334 - acc: 0.92 - ETA: 13:08 - loss: 0.2279 - acc: 0.92 - ETA: 12:58 - loss: 0.2248 - acc: 0.92 - ETA: 12:48 - loss: 0.2307 - acc: 0.92 - ETA: 12:39 - loss: 0.2433 - acc: 0.91 - ETA: 12:29 - loss: 0.2599 - acc: 0.91 - ETA: 12:19 - loss: 0.2567 - acc: 0.91 - ETA: 12:09 - loss: 0.2547 - acc: 0.91 - ETA: 11:59 - loss: 0.2502 - acc: 0.91 - ETA: 11:48 - loss: 0.2529 - acc: 0.91 - ETA: 11:38 - loss: 0.2480 - acc: 0.91 - ETA: 11:27 - loss: 0.2480 - acc: 0.91 - ETA: 11:17 - loss: 0.2435 - acc: 0.91 - ETA: 11:07 - loss: 0.2406 - acc: 0.91 - ETA: 10:56 - loss: 0.2451 - acc: 0.91 - ETA: 10:46 - loss: 0.2431 - acc: 0.91 - ETA: 10:36 - loss: 0.2456 - acc: 0.91 - ETA: 10:26 - loss: 0.2425 - acc: 0.91 - ETA: 10:17 - loss: 0.2401 - acc: 0.91 - ETA: 10:06 - loss: 0.2517 - acc: 0.90 - ETA: 9:56 - loss: 0.2601 - acc: 0.9097 - ETA: 9:46 - loss: 0.2583 - acc: 0.910 - ETA: 9:35 - loss: 0.2574 - acc: 0.911 - ETA: 9:25 - loss: 0.2584 - acc: 0.909 - ETA: 9:15 - loss: 0.2546 - acc: 0.910 - ETA: 9:05 - loss: 0.2535 - acc: 0.910 - ETA: 8:55 - loss: 0.2508 - acc: 0.912 - ETA: 8:45 - loss: 0.2498 - acc: 0.913 - ETA: 8:35 - loss: 0.2477 - acc: 0.914 - ETA: 8:25 - loss: 0.2502 - acc: 0.914 - ETA: 8:15 - loss: 0.2456 - acc: 0.916 - ETA: 8:08 - loss: 0.2426 - acc: 0.917 - ETA: 8:03 - loss: 0.2430 - acc: 0.917 - ETA: 7:59 - loss: 0.2413 - acc: 0.918 - ETA: 7:56 - loss: 0.2434 - acc: 0.918 - ETA: 7:51 - loss: 0.2435 - acc: 0.917 - ETA: 7:44 - loss: 0.2444 - acc: 0.917 - ETA: 7:37 - loss: 0.2463 - acc: 0.915 - ETA: 7:29 - loss: 0.2453 - acc: 0.914 - ETA: 7:20 - loss: 0.2422 - acc: 0.915 - ETA: 7:09 - loss: 0.2426 - acc: 0.915 - ETA: 6:59 - loss: 0.2429 - acc: 0.915 - ETA: 6:48 - loss: 0.2418 - acc: 0.916 - ETA: 6:38 - loss: 0.2404 - acc: 0.916 - ETA: 6:27 - loss: 0.2389 - acc: 0.917 - ETA: 6:15 - loss: 0.2369 - acc: 0.918 - ETA: 6:02 - loss: 0.2360 - acc: 0.918 - ETA: 5:51 - loss: 0.2343 - acc: 0.918 - ETA: 5:39 - loss: 0.2319 - acc: 0.919 - ETA: 5:28 - loss: 0.2349 - acc: 0.918 - ETA: 5:17 - loss: 0.2334 - acc: 0.918 - ETA: 5:06 - loss: 0.2326 - acc: 0.918 - ETA: 4:55 - loss: 0.2317 - acc: 0.918 - ETA: 4:43 - loss: 0.2342 - acc: 0.917 - ETA: 4:32 - loss: 0.2336 - acc: 0.918 - ETA: 4:21 - loss: 0.2315 - acc: 0.919 - ETA: 4:10 - loss: 0.2297 - acc: 0.919 - ETA: 3:59 - loss: 0.2275 - acc: 0.920 - ETA: 3:48 - loss: 0.2288 - acc: 0.920 - ETA: 3:37 - loss: 0.2345 - acc: 0.920 - ETA: 3:27 - loss: 0.2320 - acc: 0.921 - ETA: 3:16 - loss: 0.2372 - acc: 0.918 - ETA: 3:05 - loss: 0.2358 - acc: 0.919 - ETA: 2:54 - loss: 0.2366 - acc: 0.919 - ETA: 2:43 - loss: 0.2372 - acc: 0.918 - ETA: 2:32 - loss: 0.2349 - acc: 0.919 - ETA: 2:21 - loss: 0.2353 - acc: 0.919 - ETA: 2:10 - loss: 0.2361 - acc: 0.919 - ETA: 1:59 - loss: 0.2415 - acc: 0.919 - ETA: 1:48 - loss: 0.2416 - acc: 0.918 - ETA: 1:37 - loss: 0.2404 - acc: 0.919 - ETA: 1:26 - loss: 0.2406 - acc: 0.919 - ETA: 1:15 - loss: 0.2411 - acc: 0.918 - ETA: 1:04 - loss: 0.2389 - acc: 0.919 - ETA: 54s - loss: 0.2388 - acc: 0.919 - ETA: 43s - loss: 0.2389 - acc: 0.91 - ETA: 32s - loss: 0.2368 - acc: 0.91 - ETA: 21s - loss: 0.2382 - acc: 0.91 - ETA: 10s - loss: 0.2416 - acc: 0.91 - 1339s 14s/step - loss: 0.2412 - acc: 0.9185 - val_loss: 1.1083 - val_acc: 0.7794\n",
      "Epoch 4/10\n",
      "95/95 [==============================] - ETA: 16:09 - loss: 0.2861 - acc: 0.87 - ETA: 15:34 - loss: 0.2101 - acc: 0.92 - ETA: 15:26 - loss: 0.1926 - acc: 0.93 - ETA: 15:18 - loss: 0.1920 - acc: 0.93 - ETA: 15:03 - loss: 0.2107 - acc: 0.93 - ETA: 14:55 - loss: 0.2014 - acc: 0.93 - ETA: 14:45 - loss: 0.1951 - acc: 0.92 - ETA: 14:34 - loss: 0.2464 - acc: 0.92 - ETA: 14:25 - loss: 0.2579 - acc: 0.90 - ETA: 14:13 - loss: 0.2426 - acc: 0.91 - ETA: 14:03 - loss: 0.2283 - acc: 0.92 - ETA: 13:54 - loss: 0.2223 - acc: 0.92 - ETA: 13:42 - loss: 0.2216 - acc: 0.92 - ETA: 13:32 - loss: 0.2153 - acc: 0.92 - ETA: 13:22 - loss: 0.2398 - acc: 0.91 - ETA: 13:11 - loss: 0.2438 - acc: 0.90 - ETA: 13:02 - loss: 0.2430 - acc: 0.90 - ETA: 12:51 - loss: 0.2569 - acc: 0.90 - ETA: 12:42 - loss: 0.2515 - acc: 0.90 - ETA: 12:32 - loss: 0.2490 - acc: 0.90 - ETA: 12:21 - loss: 0.2440 - acc: 0.90 - ETA: 12:12 - loss: 0.2359 - acc: 0.91 - ETA: 12:01 - loss: 0.2396 - acc: 0.91 - ETA: 11:51 - loss: 0.2416 - acc: 0.90 - ETA: 11:41 - loss: 0.2358 - acc: 0.91 - ETA: 11:31 - loss: 0.2397 - acc: 0.91 - ETA: 11:21 - loss: 0.2392 - acc: 0.91 - ETA: 11:11 - loss: 0.2329 - acc: 0.91 - ETA: 11:01 - loss: 0.2289 - acc: 0.91 - ETA: 10:51 - loss: 0.2327 - acc: 0.91 - ETA: 10:34 - loss: 0.2355 - acc: 0.91 - ETA: 10:25 - loss: 0.2304 - acc: 0.91 - ETA: 10:15 - loss: 0.2299 - acc: 0.91 - ETA: 10:05 - loss: 0.2255 - acc: 0.91 - ETA: 9:55 - loss: 0.2215 - acc: 0.9220 - ETA: 9:45 - loss: 0.2321 - acc: 0.918 - ETA: 9:36 - loss: 0.2320 - acc: 0.918 - ETA: 9:26 - loss: 0.2307 - acc: 0.919 - ETA: 9:16 - loss: 0.2286 - acc: 0.920 - ETA: 9:06 - loss: 0.2299 - acc: 0.920 - ETA: 8:56 - loss: 0.2293 - acc: 0.919 - ETA: 8:46 - loss: 0.2273 - acc: 0.920 - ETA: 8:37 - loss: 0.2274 - acc: 0.920 - ETA: 8:27 - loss: 0.2286 - acc: 0.919 - ETA: 8:17 - loss: 0.2373 - acc: 0.917 - ETA: 8:07 - loss: 0.2363 - acc: 0.918 - ETA: 7:57 - loss: 0.2428 - acc: 0.919 - ETA: 7:47 - loss: 0.2401 - acc: 0.920 - ETA: 7:38 - loss: 0.2395 - acc: 0.920 - ETA: 7:27 - loss: 0.2364 - acc: 0.921 - ETA: 7:18 - loss: 0.2337 - acc: 0.921 - ETA: 7:08 - loss: 0.2395 - acc: 0.919 - ETA: 6:58 - loss: 0.2372 - acc: 0.921 - ETA: 6:48 - loss: 0.2392 - acc: 0.921 - ETA: 6:38 - loss: 0.2369 - acc: 0.921 - ETA: 6:28 - loss: 0.2432 - acc: 0.918 - ETA: 6:18 - loss: 0.2411 - acc: 0.918 - ETA: 6:08 - loss: 0.2419 - acc: 0.918 - ETA: 5:58 - loss: 0.2430 - acc: 0.917 - ETA: 5:48 - loss: 0.2397 - acc: 0.919 - ETA: 5:38 - loss: 0.2375 - acc: 0.919 - ETA: 5:28 - loss: 0.2347 - acc: 0.921 - ETA: 5:18 - loss: 0.2333 - acc: 0.921 - ETA: 5:08 - loss: 0.2314 - acc: 0.922 - ETA: 4:58 - loss: 0.2287 - acc: 0.923 - ETA: 4:48 - loss: 0.2278 - acc: 0.924 - ETA: 4:38 - loss: 0.2277 - acc: 0.925 - ETA: 4:29 - loss: 0.2251 - acc: 0.926 - ETA: 4:19 - loss: 0.2252 - acc: 0.926 - ETA: 4:09 - loss: 0.2232 - acc: 0.927 - ETA: 3:59 - loss: 0.2231 - acc: 0.927 - ETA: 3:49 - loss: 0.2216 - acc: 0.927 - ETA: 3:39 - loss: 0.2268 - acc: 0.927 - ETA: 3:29 - loss: 0.2255 - acc: 0.928 - ETA: 3:19 - loss: 0.2269 - acc: 0.928 - ETA: 3:09 - loss: 0.2245 - acc: 0.929 - ETA: 2:59 - loss: 0.2249 - acc: 0.928 - ETA: 2:49 - loss: 0.2254 - acc: 0.927 - ETA: 2:39 - loss: 0.2246 - acc: 0.927 - ETA: 2:29 - loss: 0.2265 - acc: 0.926 - ETA: 2:19 - loss: 0.2254 - acc: 0.926 - ETA: 2:09 - loss: 0.2251 - acc: 0.927 - ETA: 1:59 - loss: 0.2232 - acc: 0.928 - ETA: 1:49 - loss: 0.2217 - acc: 0.928 - ETA: 1:39 - loss: 0.2224 - acc: 0.928 - ETA: 1:29 - loss: 0.2205 - acc: 0.929 - ETA: 1:19 - loss: 0.2197 - acc: 0.929 - ETA: 1:09 - loss: 0.2212 - acc: 0.929 - ETA: 59s - loss: 0.2201 - acc: 0.929 - ETA: 49s - loss: 0.2201 - acc: 0.92 - ETA: 39s - loss: 0.2211 - acc: 0.92 - ETA: 29s - loss: 0.2204 - acc: 0.92 - ETA: 19s - loss: 0.2188 - acc: 0.93 - ETA: 9s - loss: 0.2178 - acc: 0.9307 - 1266s 13s/step - loss: 0.2228 - acc: 0.9295 - val_loss: 1.3796 - val_acc: 0.7679\n",
      "Epoch 5/10\n"
     ]
    },
    {
     "name": "stdout",
     "output_type": "stream",
     "text": [
      "95/95 [==============================] - ETA: 17:48 - loss: 0.4128 - acc: 0.90 - ETA: 17:24 - loss: 0.3116 - acc: 0.92 - ETA: 18:14 - loss: 0.2387 - acc: 0.93 - ETA: 18:23 - loss: 0.2209 - acc: 0.93 - ETA: 18:28 - loss: 0.2259 - acc: 0.93 - ETA: 18:24 - loss: 0.2119 - acc: 0.93 - ETA: 17:47 - loss: 0.1869 - acc: 0.94 - ETA: 17:14 - loss: 0.1766 - acc: 0.94 - ETA: 16:46 - loss: 0.1676 - acc: 0.95 - ETA: 16:22 - loss: 0.1640 - acc: 0.95 - ETA: 16:10 - loss: 0.1749 - acc: 0.94 - ETA: 15:58 - loss: 0.1653 - acc: 0.94 - ETA: 15:49 - loss: 0.1650 - acc: 0.94 - ETA: 15:37 - loss: 0.1645 - acc: 0.94 - ETA: 15:25 - loss: 0.1686 - acc: 0.95 - ETA: 15:08 - loss: 0.1614 - acc: 0.95 - ETA: 14:53 - loss: 0.1549 - acc: 0.95 - ETA: 14:39 - loss: 0.1512 - acc: 0.95 - ETA: 14:29 - loss: 0.1617 - acc: 0.95 - ETA: 14:19 - loss: 0.1622 - acc: 0.95 - ETA: 14:07 - loss: 0.1589 - acc: 0.95 - ETA: 13:56 - loss: 0.1623 - acc: 0.95 - ETA: 13:45 - loss: 0.1600 - acc: 0.95 - ETA: 13:30 - loss: 0.1546 - acc: 0.95 - ETA: 13:19 - loss: 0.1519 - acc: 0.95 - ETA: 13:11 - loss: 0.1491 - acc: 0.95 - ETA: 13:00 - loss: 0.1450 - acc: 0.95 - ETA: 12:49 - loss: 0.1406 - acc: 0.95 - ETA: 12:36 - loss: 0.1469 - acc: 0.95 - ETA: 12:23 - loss: 0.1456 - acc: 0.95 - ETA: 12:16 - loss: 0.1545 - acc: 0.95 - ETA: 12:05 - loss: 0.1524 - acc: 0.95 - ETA: 11:53 - loss: 0.1615 - acc: 0.95 - ETA: 11:43 - loss: 0.1578 - acc: 0.95 - ETA: 11:31 - loss: 0.1566 - acc: 0.95 - ETA: 11:21 - loss: 0.1581 - acc: 0.95 - ETA: 11:11 - loss: 0.1556 - acc: 0.95 - ETA: 10:58 - loss: 0.1548 - acc: 0.95 - ETA: 10:44 - loss: 0.1521 - acc: 0.95 - ETA: 10:31 - loss: 0.1519 - acc: 0.95 - ETA: 10:18 - loss: 0.1514 - acc: 0.95 - ETA: 10:05 - loss: 0.1489 - acc: 0.95 - ETA: 9:52 - loss: 0.1469 - acc: 0.9578 - ETA: 9:39 - loss: 0.1530 - acc: 0.958 - ETA: 9:26 - loss: 0.1504 - acc: 0.959 - ETA: 9:14 - loss: 0.1551 - acc: 0.956 - ETA: 9:01 - loss: 0.1589 - acc: 0.954 - ETA: 8:49 - loss: 0.1562 - acc: 0.955 - ETA: 8:37 - loss: 0.1560 - acc: 0.956 - ETA: 8:24 - loss: 0.1555 - acc: 0.955 - ETA: 8:12 - loss: 0.1533 - acc: 0.956 - ETA: 8:00 - loss: 0.1526 - acc: 0.956 - ETA: 7:48 - loss: 0.1552 - acc: 0.955 - ETA: 7:36 - loss: 0.1549 - acc: 0.954 - ETA: 7:24 - loss: 0.1550 - acc: 0.954 - ETA: 7:13 - loss: 0.1529 - acc: 0.955 - ETA: 7:01 - loss: 0.1540 - acc: 0.953 - ETA: 6:49 - loss: 0.1549 - acc: 0.952 - ETA: 6:38 - loss: 0.1535 - acc: 0.952 - ETA: 6:26 - loss: 0.1530 - acc: 0.952 - ETA: 6:15 - loss: 0.1517 - acc: 0.952 - ETA: 6:03 - loss: 0.1630 - acc: 0.950 - ETA: 5:52 - loss: 0.1619 - acc: 0.949 - ETA: 5:40 - loss: 0.1673 - acc: 0.946 - ETA: 5:29 - loss: 0.1672 - acc: 0.946 - ETA: 5:18 - loss: 0.1677 - acc: 0.945 - ETA: 5:06 - loss: 0.1663 - acc: 0.946 - ETA: 4:54 - loss: 0.1770 - acc: 0.945 - ETA: 4:43 - loss: 0.1763 - acc: 0.945 - ETA: 4:32 - loss: 0.1749 - acc: 0.945 - ETA: 4:21 - loss: 0.1727 - acc: 0.946 - ETA: 4:09 - loss: 0.1726 - acc: 0.946 - ETA: 3:58 - loss: 0.1726 - acc: 0.946 - ETA: 3:47 - loss: 0.1723 - acc: 0.946 - ETA: 3:36 - loss: 0.1727 - acc: 0.945 - ETA: 3:25 - loss: 0.1716 - acc: 0.946 - ETA: 3:14 - loss: 0.1725 - acc: 0.946 - ETA: 3:03 - loss: 0.1716 - acc: 0.946 - ETA: 2:52 - loss: 0.1717 - acc: 0.946 - ETA: 2:41 - loss: 0.1699 - acc: 0.946 - ETA: 2:31 - loss: 0.1685 - acc: 0.947 - ETA: 2:20 - loss: 0.1682 - acc: 0.947 - ETA: 2:09 - loss: 0.1679 - acc: 0.947 - ETA: 1:58 - loss: 0.1682 - acc: 0.947 - ETA: 1:47 - loss: 0.1677 - acc: 0.947 - ETA: 1:36 - loss: 0.1663 - acc: 0.948 - ETA: 1:25 - loss: 0.1664 - acc: 0.948 - ETA: 1:15 - loss: 0.1656 - acc: 0.948 - ETA: 1:04 - loss: 0.1658 - acc: 0.947 - ETA: 53s - loss: 0.1651 - acc: 0.947 - ETA: 42s - loss: 0.1646 - acc: 0.94 - ETA: 32s - loss: 0.1647 - acc: 0.94 - ETA: 21s - loss: 0.1639 - acc: 0.94 - ETA: 10s - loss: 0.1628 - acc: 0.94 - 1326s 14s/step - loss: 0.1620 - acc: 0.9486 - val_loss: 1.1086 - val_acc: 0.7933\n",
      "Epoch 6/10\n",
      "95/95 [==============================] - ETA: 16:49 - loss: 0.0914 - acc: 0.93 - ETA: 16:13 - loss: 0.0551 - acc: 0.96 - ETA: 15:53 - loss: 0.0658 - acc: 0.96 - ETA: 15:44 - loss: 0.1313 - acc: 0.95 - ETA: 15:28 - loss: 0.1238 - acc: 0.95 - ETA: 15:17 - loss: 0.1068 - acc: 0.95 - ETA: 15:07 - loss: 0.1201 - acc: 0.95 - ETA: 14:53 - loss: 0.1181 - acc: 0.95 - ETA: 14:43 - loss: 0.1151 - acc: 0.95 - ETA: 14:33 - loss: 0.1178 - acc: 0.95 - ETA: 14:20 - loss: 0.1133 - acc: 0.95 - ETA: 14:10 - loss: 0.1068 - acc: 0.95 - ETA: 14:00 - loss: 0.1039 - acc: 0.95 - ETA: 13:48 - loss: 0.1109 - acc: 0.95 - ETA: 13:39 - loss: 0.1087 - acc: 0.95 - ETA: 13:27 - loss: 0.1112 - acc: 0.95 - ETA: 13:17 - loss: 0.1072 - acc: 0.95 - ETA: 13:07 - loss: 0.1014 - acc: 0.96 - ETA: 12:56 - loss: 0.1006 - acc: 0.96 - ETA: 12:46 - loss: 0.1062 - acc: 0.96 - ETA: 12:36 - loss: 0.1130 - acc: 0.96 - ETA: 12:25 - loss: 0.1141 - acc: 0.95 - ETA: 12:15 - loss: 0.1148 - acc: 0.95 - ETA: 12:04 - loss: 0.1151 - acc: 0.95 - ETA: 11:54 - loss: 0.1158 - acc: 0.96 - ETA: 11:44 - loss: 0.1124 - acc: 0.96 - ETA: 11:33 - loss: 0.1093 - acc: 0.96 - ETA: 11:23 - loss: 0.1325 - acc: 0.95 - ETA: 11:13 - loss: 0.1342 - acc: 0.95 - ETA: 11:03 - loss: 0.1301 - acc: 0.96 - ETA: 10:53 - loss: 0.1280 - acc: 0.96 - ETA: 10:42 - loss: 0.1274 - acc: 0.96 - ETA: 10:32 - loss: 0.1296 - acc: 0.95 - ETA: 10:22 - loss: 0.1336 - acc: 0.95 - ETA: 10:12 - loss: 0.1350 - acc: 0.95 - ETA: 10:01 - loss: 0.1341 - acc: 0.95 - ETA: 9:51 - loss: 0.1350 - acc: 0.9578 - ETA: 9:41 - loss: 0.1361 - acc: 0.957 - ETA: 9:30 - loss: 0.1354 - acc: 0.956 - ETA: 9:20 - loss: 0.1377 - acc: 0.956 - ETA: 9:10 - loss: 0.1380 - acc: 0.956 - ETA: 9:00 - loss: 0.1377 - acc: 0.956 - ETA: 8:50 - loss: 0.1357 - acc: 0.957 - ETA: 8:40 - loss: 0.1338 - acc: 0.957 - ETA: 8:30 - loss: 0.1331 - acc: 0.957 - ETA: 8:20 - loss: 0.1332 - acc: 0.957 - ETA: 8:09 - loss: 0.1338 - acc: 0.956 - ETA: 7:59 - loss: 0.1358 - acc: 0.957 - ETA: 7:49 - loss: 0.1342 - acc: 0.957 - ETA: 7:39 - loss: 0.1321 - acc: 0.958 - ETA: 7:29 - loss: 0.1332 - acc: 0.958 - ETA: 7:18 - loss: 0.1313 - acc: 0.959 - ETA: 7:08 - loss: 0.1352 - acc: 0.958 - ETA: 6:56 - loss: 0.1405 - acc: 0.956 - ETA: 6:46 - loss: 0.1455 - acc: 0.954 - ETA: 6:36 - loss: 0.1434 - acc: 0.955 - ETA: 6:25 - loss: 0.1437 - acc: 0.954 - ETA: 6:15 - loss: 0.1456 - acc: 0.954 - ETA: 6:05 - loss: 0.1438 - acc: 0.955 - ETA: 5:55 - loss: 0.1449 - acc: 0.954 - ETA: 5:45 - loss: 0.1440 - acc: 0.955 - ETA: 5:35 - loss: 0.1420 - acc: 0.955 - ETA: 5:25 - loss: 0.1412 - acc: 0.956 - ETA: 5:15 - loss: 0.1434 - acc: 0.955 - ETA: 5:04 - loss: 0.1448 - acc: 0.955 - ETA: 4:54 - loss: 0.1437 - acc: 0.955 - ETA: 4:44 - loss: 0.1439 - acc: 0.955 - ETA: 4:34 - loss: 0.1426 - acc: 0.956 - ETA: 4:24 - loss: 0.1438 - acc: 0.956 - ETA: 4:14 - loss: 0.1436 - acc: 0.956 - ETA: 4:04 - loss: 0.1433 - acc: 0.956 - ETA: 3:54 - loss: 0.1455 - acc: 0.955 - ETA: 3:44 - loss: 0.1444 - acc: 0.956 - ETA: 3:33 - loss: 0.1443 - acc: 0.955 - ETA: 3:23 - loss: 0.1426 - acc: 0.956 - ETA: 3:13 - loss: 0.1421 - acc: 0.956 - ETA: 3:03 - loss: 0.1407 - acc: 0.956 - ETA: 2:53 - loss: 0.1409 - acc: 0.956 - ETA: 2:42 - loss: 0.1438 - acc: 0.955 - ETA: 2:32 - loss: 0.1448 - acc: 0.954 - ETA: 2:22 - loss: 0.1458 - acc: 0.955 - ETA: 2:12 - loss: 0.1448 - acc: 0.955 - ETA: 2:02 - loss: 0.1465 - acc: 0.954 - ETA: 1:52 - loss: 0.1450 - acc: 0.955 - ETA: 1:41 - loss: 0.1440 - acc: 0.955 - ETA: 1:31 - loss: 0.1443 - acc: 0.955 - ETA: 1:21 - loss: 0.1442 - acc: 0.955 - ETA: 1:11 - loss: 0.1435 - acc: 0.955 - ETA: 1:01 - loss: 0.1447 - acc: 0.955 - ETA: 50s - loss: 0.1436 - acc: 0.955 - ETA: 40s - loss: 0.1427 - acc: 0.95 - ETA: 30s - loss: 0.1420 - acc: 0.95 - ETA: 20s - loss: 0.1410 - acc: 0.95 - ETA: 10s - loss: 0.1408 - acc: 0.95 - 1277s 13s/step - loss: 0.1397 - acc: 0.9571 - val_loss: 0.5915 - val_acc: 0.8649\n",
      "Epoch 7/10\n"
     ]
    },
    {
     "name": "stdout",
     "output_type": "stream",
     "text": [
      "95/95 [==============================] - ETA: 16:21 - loss: 0.0551 - acc: 1.00 - ETA: 15:51 - loss: 0.1973 - acc: 0.93 - ETA: 15:42 - loss: 0.1383 - acc: 0.95 - ETA: 15:33 - loss: 0.1118 - acc: 0.96 - ETA: 15:18 - loss: 0.1009 - acc: 0.96 - ETA: 15:07 - loss: 0.1057 - acc: 0.96 - ETA: 14:18 - loss: 0.1472 - acc: 0.95 - ETA: 14:14 - loss: 0.1501 - acc: 0.94 - ETA: 14:08 - loss: 0.1349 - acc: 0.95 - ETA: 13:59 - loss: 0.1266 - acc: 0.95 - ETA: 13:52 - loss: 0.1555 - acc: 0.94 - ETA: 13:44 - loss: 0.1494 - acc: 0.95 - ETA: 13:35 - loss: 0.1395 - acc: 0.95 - ETA: 13:27 - loss: 0.1409 - acc: 0.95 - ETA: 13:18 - loss: 0.1338 - acc: 0.95 - ETA: 13:09 - loss: 0.1304 - acc: 0.95 - ETA: 13:01 - loss: 0.1272 - acc: 0.95 - ETA: 12:51 - loss: 0.1219 - acc: 0.95 - ETA: 12:42 - loss: 0.1324 - acc: 0.95 - ETA: 12:34 - loss: 0.1327 - acc: 0.95 - ETA: 12:24 - loss: 0.1339 - acc: 0.95 - ETA: 12:14 - loss: 0.1291 - acc: 0.95 - ETA: 12:05 - loss: 0.1255 - acc: 0.95 - ETA: 11:55 - loss: 0.1212 - acc: 0.95 - ETA: 11:45 - loss: 0.1211 - acc: 0.95 - ETA: 11:35 - loss: 0.1171 - acc: 0.95 - ETA: 11:25 - loss: 0.1162 - acc: 0.95 - ETA: 11:16 - loss: 0.1132 - acc: 0.96 - ETA: 11:06 - loss: 0.1102 - acc: 0.96 - ETA: 10:56 - loss: 0.1074 - acc: 0.96 - ETA: 10:46 - loss: 0.1151 - acc: 0.96 - ETA: 10:36 - loss: 0.1145 - acc: 0.96 - ETA: 10:26 - loss: 0.1176 - acc: 0.96 - ETA: 10:17 - loss: 0.1161 - acc: 0.96 - ETA: 10:07 - loss: 0.1156 - acc: 0.96 - ETA: 9:57 - loss: 0.1171 - acc: 0.9591 - ETA: 9:46 - loss: 0.1141 - acc: 0.960 - ETA: 9:36 - loss: 0.1146 - acc: 0.959 - ETA: 9:26 - loss: 0.1137 - acc: 0.959 - ETA: 9:16 - loss: 0.1133 - acc: 0.960 - ETA: 9:06 - loss: 0.1120 - acc: 0.960 - ETA: 8:56 - loss: 0.1146 - acc: 0.959 - ETA: 8:46 - loss: 0.1133 - acc: 0.959 - ETA: 8:36 - loss: 0.1115 - acc: 0.960 - ETA: 8:26 - loss: 0.1152 - acc: 0.958 - ETA: 8:16 - loss: 0.1155 - acc: 0.958 - ETA: 8:06 - loss: 0.1194 - acc: 0.958 - ETA: 7:56 - loss: 0.1183 - acc: 0.958 - ETA: 7:46 - loss: 0.1171 - acc: 0.959 - ETA: 7:36 - loss: 0.1176 - acc: 0.959 - ETA: 7:26 - loss: 0.1155 - acc: 0.960 - ETA: 7:16 - loss: 0.1171 - acc: 0.960 - ETA: 7:06 - loss: 0.1151 - acc: 0.961 - ETA: 6:55 - loss: 0.1149 - acc: 0.961 - ETA: 6:45 - loss: 0.1159 - acc: 0.961 - ETA: 6:35 - loss: 0.1147 - acc: 0.961 - ETA: 6:25 - loss: 0.1141 - acc: 0.961 - ETA: 6:15 - loss: 0.1128 - acc: 0.961 - ETA: 6:05 - loss: 0.1151 - acc: 0.961 - ETA: 5:55 - loss: 0.1142 - acc: 0.961 - ETA: 5:45 - loss: 0.1128 - acc: 0.962 - ETA: 5:34 - loss: 0.1139 - acc: 0.962 - ETA: 5:24 - loss: 0.1131 - acc: 0.962 - ETA: 5:14 - loss: 0.1124 - acc: 0.962 - ETA: 5:04 - loss: 0.1108 - acc: 0.963 - ETA: 4:54 - loss: 0.1107 - acc: 0.963 - ETA: 4:44 - loss: 0.1095 - acc: 0.964 - ETA: 4:34 - loss: 0.1095 - acc: 0.964 - ETA: 4:24 - loss: 0.1096 - acc: 0.963 - ETA: 4:13 - loss: 0.1084 - acc: 0.964 - ETA: 4:03 - loss: 0.1094 - acc: 0.963 - ETA: 3:53 - loss: 0.1095 - acc: 0.963 - ETA: 3:43 - loss: 0.1108 - acc: 0.963 - ETA: 3:33 - loss: 0.1098 - acc: 0.964 - ETA: 3:24 - loss: 0.1096 - acc: 0.964 - ETA: 3:14 - loss: 0.1094 - acc: 0.964 - ETA: 3:04 - loss: 0.1081 - acc: 0.964 - ETA: 2:54 - loss: 0.1068 - acc: 0.965 - ETA: 2:44 - loss: 0.1069 - acc: 0.964 - ETA: 2:34 - loss: 0.1072 - acc: 0.964 - ETA: 2:24 - loss: 0.1068 - acc: 0.964 - ETA: 2:14 - loss: 0.1071 - acc: 0.964 - ETA: 2:03 - loss: 0.1062 - acc: 0.964 - ETA: 1:53 - loss: 0.1053 - acc: 0.965 - ETA: 1:43 - loss: 0.1061 - acc: 0.965 - ETA: 1:32 - loss: 0.1066 - acc: 0.964 - ETA: 1:22 - loss: 0.1059 - acc: 0.964 - ETA: 1:12 - loss: 0.1065 - acc: 0.964 - ETA: 1:02 - loss: 0.1064 - acc: 0.964 - ETA: 51s - loss: 0.1075 - acc: 0.964 - ETA: 41s - loss: 0.1079 - acc: 0.96 - ETA: 31s - loss: 0.1068 - acc: 0.96 - ETA: 20s - loss: 0.1064 - acc: 0.96 - ETA: 10s - loss: 0.1066 - acc: 0.96 - 1343s 14s/step - loss: 0.1061 - acc: 0.9638 - val_loss: 0.7635 - val_acc: 0.8487\n",
      "Epoch 8/10\n",
      "95/95 [==============================] - ETA: 18:37 - loss: 0.0185 - acc: 1.00 - ETA: 17:47 - loss: 0.0418 - acc: 1.00 - ETA: 17:05 - loss: 0.0350 - acc: 1.00 - ETA: 17:03 - loss: 0.0345 - acc: 1.00 - ETA: 17:01 - loss: 0.0399 - acc: 0.99 - ETA: 16:56 - loss: 0.0376 - acc: 0.99 - ETA: 16:53 - loss: 0.0336 - acc: 0.99 - ETA: 16:57 - loss: 0.0321 - acc: 0.99 - ETA: 16:57 - loss: 0.0292 - acc: 0.99 - ETA: 16:47 - loss: 0.0285 - acc: 0.99 - ETA: 16:36 - loss: 0.0277 - acc: 0.99 - ETA: 16:21 - loss: 0.0276 - acc: 0.99 - ETA: 16:05 - loss: 0.0476 - acc: 0.99 - ETA: 15:48 - loss: 0.0626 - acc: 0.99 - ETA: 15:33 - loss: 0.0636 - acc: 0.98 - ETA: 15:18 - loss: 0.0700 - acc: 0.98 - ETA: 15:08 - loss: 0.0718 - acc: 0.98 - ETA: 14:55 - loss: 0.0683 - acc: 0.98 - ETA: 14:47 - loss: 0.0676 - acc: 0.98 - ETA: 14:40 - loss: 0.0710 - acc: 0.98 - ETA: 14:34 - loss: 0.0699 - acc: 0.98 - ETA: 14:25 - loss: 0.0738 - acc: 0.98 - ETA: 14:18 - loss: 0.0715 - acc: 0.98 - ETA: 14:08 - loss: 0.0696 - acc: 0.98 - ETA: 14:00 - loss: 0.0719 - acc: 0.98 - ETA: 13:50 - loss: 0.0697 - acc: 0.98 - ETA: 13:40 - loss: 0.0708 - acc: 0.98 - ETA: 13:29 - loss: 0.0697 - acc: 0.98 - ETA: 13:18 - loss: 0.0712 - acc: 0.97 - ETA: 13:06 - loss: 0.0713 - acc: 0.97 - ETA: 12:54 - loss: 0.0698 - acc: 0.97 - ETA: 12:43 - loss: 0.0736 - acc: 0.97 - ETA: 12:31 - loss: 0.0730 - acc: 0.97 - ETA: 12:19 - loss: 0.0746 - acc: 0.97 - ETA: 12:08 - loss: 0.0741 - acc: 0.97 - ETA: 11:57 - loss: 0.0725 - acc: 0.97 - ETA: 11:44 - loss: 0.0728 - acc: 0.97 - ETA: 11:31 - loss: 0.0719 - acc: 0.97 - ETA: 11:17 - loss: 0.0703 - acc: 0.97 - ETA: 11:05 - loss: 0.0728 - acc: 0.97 - ETA: 10:53 - loss: 0.0727 - acc: 0.97 - ETA: 10:41 - loss: 0.0720 - acc: 0.97 - ETA: 10:29 - loss: 0.0725 - acc: 0.97 - ETA: 10:15 - loss: 0.0747 - acc: 0.97 - ETA: 10:00 - loss: 0.0773 - acc: 0.97 - ETA: 9:47 - loss: 0.0786 - acc: 0.9755 - ETA: 9:35 - loss: 0.0773 - acc: 0.976 - ETA: 9:24 - loss: 0.0770 - acc: 0.975 - ETA: 9:23 - loss: 0.0760 - acc: 0.975 - ETA: 9:16 - loss: 0.0757 - acc: 0.976 - ETA: 9:09 - loss: 0.0748 - acc: 0.976 - ETA: 9:01 - loss: 0.0766 - acc: 0.976 - ETA: 8:52 - loss: 0.0771 - acc: 0.976 - ETA: 8:44 - loss: 0.0761 - acc: 0.976 - ETA: 8:35 - loss: 0.0765 - acc: 0.976 - ETA: 8:25 - loss: 0.0758 - acc: 0.976 - ETA: 8:16 - loss: 0.0756 - acc: 0.977 - ETA: 8:06 - loss: 0.0779 - acc: 0.975 - ETA: 7:56 - loss: 0.0770 - acc: 0.975 - ETA: 7:45 - loss: 0.0758 - acc: 0.976 - ETA: 7:35 - loss: 0.0785 - acc: 0.974 - ETA: 7:24 - loss: 0.0776 - acc: 0.975 - ETA: 7:13 - loss: 0.0808 - acc: 0.975 - ETA: 7:01 - loss: 0.0839 - acc: 0.974 - ETA: 6:50 - loss: 0.0828 - acc: 0.975 - ETA: 6:38 - loss: 0.0828 - acc: 0.974 - ETA: 6:26 - loss: 0.0821 - acc: 0.975 - ETA: 6:14 - loss: 0.0828 - acc: 0.975 - ETA: 6:02 - loss: 0.0845 - acc: 0.975 - ETA: 5:49 - loss: 0.0853 - acc: 0.975 - ETA: 5:37 - loss: 0.0846 - acc: 0.974 - ETA: 5:24 - loss: 0.0849 - acc: 0.974 - ETA: 5:11 - loss: 0.0867 - acc: 0.974 - ETA: 4:58 - loss: 0.0866 - acc: 0.974 - ETA: 4:45 - loss: 0.0856 - acc: 0.974 - ETA: 4:31 - loss: 0.0855 - acc: 0.974 - ETA: 4:18 - loss: 0.0856 - acc: 0.974 - ETA: 4:04 - loss: 0.0848 - acc: 0.974 - ETA: 3:50 - loss: 0.0873 - acc: 0.974 - ETA: 3:37 - loss: 0.0895 - acc: 0.973 - ETA: 3:23 - loss: 0.0885 - acc: 0.973 - ETA: 3:09 - loss: 0.0887 - acc: 0.973 - ETA: 2:55 - loss: 0.0879 - acc: 0.974 - ETA: 2:41 - loss: 0.0881 - acc: 0.973 - ETA: 2:27 - loss: 0.0890 - acc: 0.973 - ETA: 2:12 - loss: 0.0889 - acc: 0.973 - ETA: 1:58 - loss: 0.0906 - acc: 0.972 - ETA: 1:43 - loss: 0.0918 - acc: 0.972 - ETA: 1:29 - loss: 0.0912 - acc: 0.972 - ETA: 1:14 - loss: 0.0906 - acc: 0.972 - ETA: 59s - loss: 0.0904 - acc: 0.972 - ETA: 44s - loss: 0.0905 - acc: 0.97 - ETA: 30s - loss: 0.0900 - acc: 0.97 - ETA: 15s - loss: 0.0905 - acc: 0.97 - 2048s 22s/step - loss: 0.0930 - acc: 0.9719 - val_loss: 0.8649 - val_acc: 0.8349\n",
      "Epoch 9/10\n"
     ]
    },
    {
     "name": "stdout",
     "output_type": "stream",
     "text": [
      "95/95 [==============================] - ETA: 30:03 - loss: 0.0781 - acc: 0.96 - ETA: 29:50 - loss: 0.0497 - acc: 0.98 - ETA: 29:36 - loss: 0.0376 - acc: 0.98 - ETA: 29:14 - loss: 0.0504 - acc: 0.98 - ETA: 28:53 - loss: 0.0516 - acc: 0.98 - ETA: 28:29 - loss: 0.0489 - acc: 0.98 - ETA: 28:12 - loss: 0.0581 - acc: 0.98 - ETA: 27:55 - loss: 0.0604 - acc: 0.98 - ETA: 27:35 - loss: 0.0655 - acc: 0.98 - ETA: 27:15 - loss: 0.0598 - acc: 0.98 - ETA: 26:55 - loss: 0.0571 - acc: 0.98 - ETA: 26:36 - loss: 0.0540 - acc: 0.98 - ETA: 26:18 - loss: 0.0520 - acc: 0.98 - ETA: 25:58 - loss: 0.0569 - acc: 0.98 - ETA: 25:38 - loss: 0.0581 - acc: 0.98 - ETA: 25:19 - loss: 0.0641 - acc: 0.98 - ETA: 25:00 - loss: 0.0617 - acc: 0.98 - ETA: 24:41 - loss: 0.0584 - acc: 0.98 - ETA: 24:22 - loss: 0.0661 - acc: 0.98 - ETA: 24:02 - loss: 0.0741 - acc: 0.97 - ETA: 23:42 - loss: 0.0771 - acc: 0.97 - ETA: 23:23 - loss: 0.0760 - acc: 0.97 - ETA: 23:04 - loss: 0.0848 - acc: 0.97 - ETA: 22:45 - loss: 0.0831 - acc: 0.97 - ETA: 22:25 - loss: 0.1007 - acc: 0.97 - ETA: 22:06 - loss: 0.0974 - acc: 0.97 - ETA: 21:47 - loss: 0.0983 - acc: 0.97 - ETA: 21:29 - loss: 0.0965 - acc: 0.97 - ETA: 21:09 - loss: 0.0997 - acc: 0.97 - ETA: 20:50 - loss: 0.1039 - acc: 0.96 - ETA: 20:30 - loss: 0.1019 - acc: 0.96 - ETA: 20:11 - loss: 0.1010 - acc: 0.96 - ETA: 19:52 - loss: 0.0999 - acc: 0.96 - ETA: 19:33 - loss: 0.1014 - acc: 0.96 - ETA: 19:13 - loss: 0.1003 - acc: 0.96 - ETA: 18:54 - loss: 0.0982 - acc: 0.96 - ETA: 18:35 - loss: 0.0976 - acc: 0.96 - ETA: 18:15 - loss: 0.1051 - acc: 0.96 - ETA: 17:56 - loss: 0.1042 - acc: 0.96 - ETA: 17:37 - loss: 0.1053 - acc: 0.96 - ETA: 17:17 - loss: 0.1039 - acc: 0.96 - ETA: 16:58 - loss: 0.1022 - acc: 0.96 - ETA: 16:32 - loss: 0.1017 - acc: 0.96 - ETA: 16:14 - loss: 0.1002 - acc: 0.96 - ETA: 15:55 - loss: 0.1027 - acc: 0.96 - ETA: 15:36 - loss: 0.1029 - acc: 0.96 - ETA: 15:16 - loss: 0.1045 - acc: 0.96 - ETA: 14:57 - loss: 0.1035 - acc: 0.96 - ETA: 14:38 - loss: 0.1030 - acc: 0.96 - ETA: 14:19 - loss: 0.1021 - acc: 0.96 - ETA: 14:00 - loss: 0.1038 - acc: 0.96 - ETA: 13:41 - loss: 0.1056 - acc: 0.96 - ETA: 13:22 - loss: 0.1044 - acc: 0.96 - ETA: 13:03 - loss: 0.1030 - acc: 0.96 - ETA: 12:44 - loss: 0.1050 - acc: 0.96 - ETA: 12:22 - loss: 0.1039 - acc: 0.96 - ETA: 11:57 - loss: 0.1033 - acc: 0.96 - ETA: 11:32 - loss: 0.1021 - acc: 0.96 - ETA: 11:08 - loss: 0.1021 - acc: 0.96 - ETA: 10:45 - loss: 0.1037 - acc: 0.96 - ETA: 10:22 - loss: 0.1024 - acc: 0.96 - ETA: 10:00 - loss: 0.1044 - acc: 0.96 - ETA: 9:37 - loss: 0.1029 - acc: 0.9671 - ETA: 9:16 - loss: 0.1030 - acc: 0.967 - ETA: 8:54 - loss: 0.1054 - acc: 0.966 - ETA: 8:33 - loss: 0.1043 - acc: 0.967 - ETA: 8:12 - loss: 0.1032 - acc: 0.967 - ETA: 7:51 - loss: 0.1021 - acc: 0.968 - ETA: 7:31 - loss: 0.1016 - acc: 0.968 - ETA: 7:11 - loss: 0.1009 - acc: 0.968 - ETA: 6:51 - loss: 0.1005 - acc: 0.968 - ETA: 6:32 - loss: 0.0993 - acc: 0.969 - ETA: 6:13 - loss: 0.0991 - acc: 0.968 - ETA: 5:54 - loss: 0.0982 - acc: 0.969 - ETA: 5:35 - loss: 0.0980 - acc: 0.969 - ETA: 5:17 - loss: 0.0987 - acc: 0.968 - ETA: 4:58 - loss: 0.0981 - acc: 0.968 - ETA: 4:40 - loss: 0.0970 - acc: 0.969 - ETA: 4:22 - loss: 0.0987 - acc: 0.968 - ETA: 4:05 - loss: 0.0984 - acc: 0.968 - ETA: 3:47 - loss: 0.0980 - acc: 0.968 - ETA: 3:30 - loss: 0.0975 - acc: 0.968 - ETA: 3:13 - loss: 0.0974 - acc: 0.968 - ETA: 2:56 - loss: 0.0971 - acc: 0.968 - ETA: 2:39 - loss: 0.0978 - acc: 0.968 - ETA: 2:23 - loss: 0.0972 - acc: 0.969 - ETA: 2:06 - loss: 0.0964 - acc: 0.969 - ETA: 1:50 - loss: 0.0961 - acc: 0.969 - ETA: 1:34 - loss: 0.0964 - acc: 0.969 - ETA: 1:18 - loss: 0.0962 - acc: 0.968 - ETA: 1:02 - loss: 0.0954 - acc: 0.969 - ETA: 47s - loss: 0.0975 - acc: 0.969 - ETA: 31s - loss: 0.0974 - acc: 0.96 - ETA: 15s - loss: 0.0966 - acc: 0.96 - 1816s 19s/step - loss: 0.0958 - acc: 0.9696 - val_loss: 2.1134 - val_acc: 0.7021\n",
      "Epoch 10/10\n",
      "95/95 [==============================] - ETA: 15:40 - loss: 0.0043 - acc: 1.00 - ETA: 15:38 - loss: 0.0163 - acc: 1.00 - ETA: 15:29 - loss: 0.0831 - acc: 0.97 - ETA: 15:12 - loss: 0.0776 - acc: 0.97 - ETA: 15:05 - loss: 0.0630 - acc: 0.98 - ETA: 14:52 - loss: 0.0634 - acc: 0.97 - ETA: 14:44 - loss: 0.0664 - acc: 0.97 - ETA: 14:34 - loss: 0.0591 - acc: 0.98 - ETA: 14:21 - loss: 0.0593 - acc: 0.97 - ETA: 14:14 - loss: 0.0549 - acc: 0.98 - ETA: 14:28 - loss: 0.0508 - acc: 0.98 - ETA: 14:15 - loss: 0.0595 - acc: 0.97 - ETA: 14:06 - loss: 0.0602 - acc: 0.97 - ETA: 13:59 - loss: 0.0609 - acc: 0.97 - ETA: 13:51 - loss: 0.0909 - acc: 0.97 - ETA: 13:46 - loss: 0.0857 - acc: 0.97 - ETA: 13:38 - loss: 0.0831 - acc: 0.97 - ETA: 13:35 - loss: 0.0799 - acc: 0.97 - ETA: 13:23 - loss: 0.0761 - acc: 0.97 - ETA: 13:13 - loss: 0.0742 - acc: 0.97 - ETA: 13:02 - loss: 0.0749 - acc: 0.97 - ETA: 12:51 - loss: 0.0721 - acc: 0.97 - ETA: 12:41 - loss: 0.0701 - acc: 0.97 - ETA: 12:30 - loss: 0.0721 - acc: 0.97 - ETA: 12:19 - loss: 0.0700 - acc: 0.97 - ETA: 12:08 - loss: 0.0698 - acc: 0.97 - ETA: 11:58 - loss: 0.0675 - acc: 0.97 - ETA: 11:47 - loss: 0.0677 - acc: 0.97 - ETA: 11:36 - loss: 0.0715 - acc: 0.97 - ETA: 11:25 - loss: 0.0728 - acc: 0.97 - ETA: 11:14 - loss: 0.0721 - acc: 0.97 - ETA: 11:03 - loss: 0.0738 - acc: 0.97 - ETA: 10:53 - loss: 0.0720 - acc: 0.97 - ETA: 10:44 - loss: 0.0708 - acc: 0.97 - ETA: 10:35 - loss: 0.0821 - acc: 0.97 - ETA: 10:24 - loss: 0.0817 - acc: 0.97 - ETA: 10:13 - loss: 0.0803 - acc: 0.97 - ETA: 10:03 - loss: 0.0807 - acc: 0.97 - ETA: 9:52 - loss: 0.0813 - acc: 0.9760 - ETA: 9:43 - loss: 0.0824 - acc: 0.975 - ETA: 9:33 - loss: 0.0845 - acc: 0.974 - ETA: 9:24 - loss: 0.0860 - acc: 0.974 - ETA: 9:15 - loss: 0.0848 - acc: 0.973 - ETA: 9:04 - loss: 0.0876 - acc: 0.973 - ETA: 8:55 - loss: 0.0861 - acc: 0.973 - ETA: 8:44 - loss: 0.0847 - acc: 0.974 - ETA: 8:33 - loss: 0.0836 - acc: 0.974 - ETA: 8:23 - loss: 0.0835 - acc: 0.974 - ETA: 8:21 - loss: 0.0819 - acc: 0.974 - ETA: 8:17 - loss: 0.0861 - acc: 0.973 - ETA: 8:05 - loss: 0.0894 - acc: 0.973 - ETA: 7:53 - loss: 0.0899 - acc: 0.972 - ETA: 7:43 - loss: 0.0890 - acc: 0.972 - ETA: 7:33 - loss: 0.0874 - acc: 0.972 - ETA: 7:21 - loss: 0.0867 - acc: 0.973 - ETA: 7:11 - loss: 0.0853 - acc: 0.973 - ETA: 7:01 - loss: 0.0859 - acc: 0.973 - ETA: 6:51 - loss: 0.0849 - acc: 0.974 - ETA: 6:40 - loss: 0.0845 - acc: 0.974 - ETA: 6:30 - loss: 0.0849 - acc: 0.974 - ETA: 6:21 - loss: 0.0850 - acc: 0.973 - ETA: 6:11 - loss: 0.0846 - acc: 0.973 - ETA: 5:59 - loss: 0.0848 - acc: 0.973 - ETA: 5:48 - loss: 0.0893 - acc: 0.973 - ETA: 5:36 - loss: 0.0906 - acc: 0.972 - ETA: 5:25 - loss: 0.0895 - acc: 0.973 - ETA: 5:14 - loss: 0.0883 - acc: 0.973 - ETA: 5:02 - loss: 0.0872 - acc: 0.973 - ETA: 4:51 - loss: 0.0860 - acc: 0.974 - ETA: 4:40 - loss: 0.0887 - acc: 0.973 - ETA: 4:28 - loss: 0.0883 - acc: 0.973 - ETA: 4:17 - loss: 0.0900 - acc: 0.973 - ETA: 4:06 - loss: 0.0913 - acc: 0.972 - ETA: 3:54 - loss: 0.0930 - acc: 0.972 - ETA: 3:43 - loss: 0.0920 - acc: 0.972 - ETA: 3:31 - loss: 0.0911 - acc: 0.972 - ETA: 3:20 - loss: 0.0928 - acc: 0.972 - ETA: 3:08 - loss: 0.0922 - acc: 0.972 - ETA: 2:57 - loss: 0.0953 - acc: 0.971 - ETA: 2:46 - loss: 0.0968 - acc: 0.970 - ETA: 2:34 - loss: 0.0963 - acc: 0.970 - ETA: 2:23 - loss: 0.0964 - acc: 0.969 - ETA: 2:12 - loss: 0.0955 - acc: 0.970 - ETA: 2:01 - loss: 0.0953 - acc: 0.970 - ETA: 1:50 - loss: 0.0948 - acc: 0.970 - ETA: 1:39 - loss: 0.0937 - acc: 0.970 - ETA: 1:27 - loss: 0.0927 - acc: 0.971 - ETA: 1:16 - loss: 0.0922 - acc: 0.971 - ETA: 1:05 - loss: 0.0913 - acc: 0.971 - ETA: 54s - loss: 0.0910 - acc: 0.971 - ETA: 43s - loss: 0.0928 - acc: 0.97 - ETA: 32s - loss: 0.0919 - acc: 0.97 - ETA: 22s - loss: 0.0981 - acc: 0.96 - ETA: 11s - loss: 0.0972 - acc: 0.97 - 1361s 14s/step - loss: 0.0975 - acc: 0.9697 - val_loss: 0.6542 - val_acc: 0.8580\n"
     ]
    }
   ],
   "source": [
    "# we train our model again (this time fine-tuning the top 2 inception blocks\n",
    "# alongside the top Dense layers\n",
    "history = model.fit_generator(\n",
    "    train_generator,\n",
    "    epochs=10,\n",
    "    validation_data=validation_generator,\n",
    "    verbose=1,\n",
    "    callbacks=callbacks_list)"
   ]
  },
  {
   "cell_type": "code",
   "execution_count": 18,
   "metadata": {},
   "outputs": [
    {
     "data": {
      "image/png": "[encoded data removed]",
      "text/plain": [
       "<Figure size 432x288 with 1 Axes>"
      ]
     },
     "metadata": {},
     "output_type": "display_data"
    },
    {
     "data": {
      "image/png": "[encoded data removed]",
      "text/plain": [
       "<Figure size 432x288 with 1 Axes>"
      ]
     },
     "metadata": {},
     "output_type": "display_data"
    }
   ],
   "source": [
    "# Plot training & validation accuracy values\n",
    "plt.plot(history.history['acc'])\n",
    "plt.plot(history.history['val_acc'])\n",
    "plt.title('Model accuracy')\n",
    "plt.ylabel('Accuracy')\n",
    "plt.xlabel('Epoch')\n",
    "plt.legend(['Train', 'Test'], loc='upper left')\n",
    "plt.show()\n",
    "\n",
    "# Plot training & validation loss values\n",
    "plt.plot(history.history['loss'])\n",
    "plt.plot(history.history['val_loss'])\n",
    "plt.title('Model loss')\n",
    "plt.ylabel('Loss')\n",
    "plt.xlabel('Epoch')\n",
    "plt.legend(['Train', 'Test'], loc='upper left')\n",
    "plt.show()"
   ]
  },
  {
   "cell_type": "code",
   "execution_count": 23,
   "metadata": {},
   "outputs": [],
   "source": [
    "filepath = 'output/models/weights-improvement-10-0.86.hdf5'\n",
    "model = keras.models.load_model(filepath)"
   ]
  },
  {
   "cell_type": "code",
   "execution_count": 24,
   "metadata": {},
   "outputs": [
    {
     "name": "stdout",
     "output_type": "stream",
     "text": [
      "14/14 [==============================] - ETA: 3: - ETA: 2: - ETA: 2: - ETA: 2: - ETA: 1: - ETA: 1: - ETA: 1: - ETA: 1: - ETA: 59s - ETA: 47 - ETA: 35 - ETA: 23 - ETA: 11 - 159s 11s/step\n"
     ]
    }
   ],
   "source": [
    "# preds = model.predict_generator(test_generator, verbose=1)"
   ]
  },
  {
   "cell_type": "code",
   "execution_count": 28,
   "metadata": {},
   "outputs": [],
   "source": [
    "# categorical_accuracy = keras.metrics.categorical_accuracy(test_generator.classes, preds)"
   ]
  },
  {
   "cell_type": "code",
   "execution_count": 45,
   "metadata": {},
   "outputs": [
    {
     "name": "stdout",
     "output_type": "stream",
     "text": [
      "14/14 [==============================] - ETA: 2: - ETA: 2: - ETA: 2: - ETA: 2: - ETA: 1: - ETA: 1: - ETA: 1: - ETA: 1: - ETA: 1: - ETA: 50s - ETA: 38 - ETA: 25 - ETA: 12 - 171s 12s/step\n",
      "Accuracy:  0.8967136147436402\n"
     ]
    }
   ],
   "source": [
    "result = model.evaluate_generator(generator=test_generator, verbose=1)"
   ]
  },
  {
   "cell_type": "code",
   "execution_count": 52,
   "metadata": {},
   "outputs": [
    {
     "name": "stdout",
     "output_type": "stream",
     "text": [
      "Accuracy: 89.67%\n",
      "Loss: 0.45\n"
     ]
    }
   ],
   "source": [
    "print(\"%s%.2f%s\"% (\"Accuracy: \", result[1]*100, \"%\"))\n",
    "print(\"%s%.2f\"% (\"Loss: \", result[0]))"
   ]
  },
  {
   "cell_type": "code",
   "execution_count": 44,
   "metadata": {},
   "outputs": [],
   "source": [
    "# testing_path_new = \"data\\\\pre\\\\test\"\n",
    "# for i in range(len(preds)):\n",
    "#     label = get_label(cls, find_closest(preds[i].argmax(), vals))\n",
    "#     file_path = os.path.join(testing_path_new, test_generator.filenames[i])\n",
    "#     img = cv2.imread(file_path, 3)\n",
    "#     plt.imshow(img)\n",
    "#     plt.title(file_path+\" --- \"+ label)\n",
    "#     plt.show()"
   ]
  },
  {
   "cell_type": "code",
   "execution_count": null,
   "metadata": {},
   "outputs": [],
   "source": []
  }
 ],
 "metadata": {
  "kernelspec": {
   "display_name": "Python 3",
   "language": "python",
   "name": "python3"
  },
  "language_info": {
   "codemirror_mode": {
    "name": "ipython",
    "version": 3
   },
   "file_extension": ".py",
   "mimetype": "text/x-python",
   "name": "python",
   "nbconvert_exporter": "python",
   "pygments_lexer": "ipython3",
   "version": "3.6.5"
  }
 },
 "nbformat": 4,
 "nbformat_minor": 2
}
