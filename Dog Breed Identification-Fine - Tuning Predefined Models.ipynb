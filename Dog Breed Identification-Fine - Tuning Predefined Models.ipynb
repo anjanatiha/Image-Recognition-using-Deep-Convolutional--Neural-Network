{
 "cells": [
  {
   "cell_type": "code",
   "execution_count": 17,
   "metadata": {},
   "outputs": [],
   "source": [
    "import os\n",
    "from os import listdir, makedirs\n",
    "from os.path import join, exists, expanduser\n",
    "from tqdm import tqdm\n",
    "\n",
    "import random\n",
    "import numpy as np\n",
    "import pandas as pd\n",
    "\n",
    "import pickle\n",
    "import datetime as dt\n",
    "import time\n",
    "\n",
    "import itertools\n",
    "import matplotlib.pyplot as plt\n",
    "import matplotlib.image as mpimg\n",
    "import seaborn as sns\n",
    "%matplotlib inline\n",
    "\n",
    "import cv2\n",
    "\n",
    "import keras\n",
    "\n",
    "from keras.callbacks import TensorBoard\n",
    "\n",
    "from keras.preprocessing import image\n",
    "from keras.preprocessing.image import ImageDataGenerator\n",
    "\n",
    "from mpl_toolkits.axes_grid1 import ImageGrid\n",
    "\n",
    "from keras.utils.np_utils import to_categorical # convert to one-hot-encoding\n",
    "\n",
    "from keras.models import Sequential\n",
    "from keras.models import Model\n",
    "\n",
    "\n",
    "from keras.layers import Dense, Dropout, Flatten, Conv2D, MaxPool2D\n",
    "from keras.layers import Dense, GlobalAveragePooling2D\n",
    "from keras import optimizers\n",
    "from keras.optimizers import RMSprop\n",
    "from keras.callbacks import ReduceLROnPlateau\n",
    "\n",
    "\n",
    "from keras import backend as K\n",
    "\n",
    "from keras.applications import vgg16, resnet50, mobilenet\n",
    "from keras.applications.vgg16 import VGG16\n",
    "from keras.applications.resnet50 import ResNet50\n",
    "from keras.applications import xception\n",
    "from keras.applications import inception_v3\n",
    "\n",
    "from keras.applications.inception_v3 import InceptionV3\n",
    "\n",
    "from keras.applications.vgg16 import preprocess_input, decode_predictions\n",
    "\n",
    "from keras.optimizers import SGD\n",
    "\n",
    "\n",
    "\n",
    "\n",
    "np.random.seed(2)\n",
    "sns.set(style='white', context='notebook', palette='deep')"
   ]
  },
  {
   "cell_type": "code",
   "execution_count": 18,
   "metadata": {},
   "outputs": [],
   "source": [
    "def show_pred(preds, Y, val_breed, index, seq, ran):\n",
    "    leng = len(preds)\n",
    "    if seq:\n",
    "        for i in range(index):\n",
    "            if ran:\n",
    "                index = random.randint(0, leng) \n",
    "            _, imagenet_class_name, prob = decode_predictions(preds, top=1)[index][0]\n",
    "            plt.title(\"Original: \" + val_breed[Y[index]] + \"\\nPrediction: \" + imagenet_class_name)\n",
    "            plt.imshow(X_train[index])\n",
    "            plt.show()\n",
    "    else:\n",
    "            _, imagenet_class_name, prob = decode_predictions(preds, top=1)[index][0]\n",
    "            plt.title(\"Original: \" + val_breed[Y[index]] + \"\\nPrediction: \" + imagenet_class_name)\n",
    "            plt.imshow(X_train[index])\n",
    "            plt.show()\n",
    "        \n",
    "def accuracy_func(preds, Y, val_breed):\n",
    "    leng = len(preds)\n",
    "    count = 0;\n",
    "    for i in range(leng):\n",
    "        _, imagenet_class_name, prob = decode_predictions(preds, top=1)[i][0]\n",
    "        if val_breed[Y[i]] == imagenet_class_name:\n",
    "            count+=1\n",
    "    accuracy = (count/leng)*100\n",
    "    \n",
    "    print(\"Accuracy: \", accuracy)\n",
    "    return accuracy"
   ]
  },
  {
   "cell_type": "code",
   "execution_count": 19,
   "metadata": {},
   "outputs": [],
   "source": [
    "cache_dir = expanduser(join('~', '.keras'))\n",
    "if not exists(cache_dir):\n",
    "    makedirs(cache_dir)\n",
    "models_dir = join(cache_dir, 'models')\n",
    "if not exists(models_dir):\n",
    "    makedirs(models_dir)"
   ]
  },
  {
   "cell_type": "code",
   "execution_count": 20,
   "metadata": {},
   "outputs": [],
   "source": [
    "#Load the VGG model\n",
    "vgg_model = vgg16.VGG16(weights='imagenet')\n",
    " \n",
    "#Load the Inception_V3 model\n",
    "inception_model = inception_v3.InceptionV3(weights='imagenet')\n",
    " \n",
    "#Load the ResNet50 model\n",
    "resnet_model = resnet50.ResNet50(weights='imagenet')\n",
    " \n",
    "#Load the MobileNet model\n",
    "mobilenet_model = mobilenet.MobileNet(weights='imagenet')"
   ]
  },
  {
   "cell_type": "code",
   "execution_count": 21,
   "metadata": {},
   "outputs": [],
   "source": [
    "training_path = 'data/pre/train'\n",
    "validation_path = 'data/pre/validation'\n",
    "testing_path = 'data/pre/test'\n",
    "batch_size = 32\n",
    "target_size=(224, 224)\n",
    "norm = 255.0\n",
    "class_mode='categorical'"
   ]
  },
  {
   "cell_type": "code",
   "execution_count": 22,
   "metadata": {},
   "outputs": [
    {
     "name": "stdout",
     "output_type": "stream",
     "text": [
      "Found 2657 images belonging to 120 classes.\n",
      "Found 825 images belonging to 120 classes.\n",
      "Found 874 images belonging to 120 classes.\n"
     ]
    }
   ],
   "source": [
    "train_datagen = ImageDataGenerator(\n",
    "        rescale=1./norm,\n",
    "        shear_range=0.2,\n",
    "        zoom_range=0.2,\n",
    "        horizontal_flip=True)\n",
    "\n",
    "validation_datagen = ImageDataGenerator(rescale=1./norm)\n",
    "test_datagen = ImageDataGenerator(rescale=1./norm)\n",
    "\n",
    "train_generator = train_datagen.flow_from_directory(\n",
    "        training_path,\n",
    "        target_size=target_size,\n",
    "        batch_size=batch_size,\n",
    "        class_mode=class_mode)\n",
    "\n",
    "validation_generator = validation_datagen.flow_from_directory(\n",
    "        validation_path,\n",
    "        target_size=target_size,\n",
    "        batch_size=batch_size,\n",
    "        class_mode=class_mode)\n",
    "\n",
    "test_generator = test_datagen.flow_from_directory(\n",
    "        testing_path,\n",
    "        target_size=target_size,\n",
    "        batch_size=batch_size,\n",
    "        class_mode=class_mode)"
   ]
  },
  {
   "cell_type": "code",
   "execution_count": 23,
   "metadata": {},
   "outputs": [],
   "source": [
    "# create the base pre-trained model\n",
    "base_model = InceptionV3(weights='imagenet', include_top=False)"
   ]
  },
  {
   "cell_type": "code",
   "execution_count": 24,
   "metadata": {},
   "outputs": [],
   "source": [
    "# add a global spatial average pooling layer\n",
    "x = base_model.output\n",
    "x = GlobalAveragePooling2D()(x)\n",
    "# let's add a fully-connected layer\n",
    "x = Dense(1024, activation='relu')(x)\n",
    "# and a logistic layer -- let's say we have 200 classes\n",
    "predictions = Dense(120, activation='softmax')(x)\n"
   ]
  },
  {
   "cell_type": "code",
   "execution_count": 25,
   "metadata": {},
   "outputs": [],
   "source": [
    "# this is the model we will train\n",
    "model = Model(inputs=base_model.input, outputs=predictions)\n",
    "\n",
    "# first: train only the top layers (which were randomly initialized)\n",
    "# i.e. freeze all convolutional InceptionV3 layers\n",
    "for layer in base_model.layers:\n",
    "    layer.trainable = False\n",
    "\n",
    "# compile the model (should be done *after* setting layers to non-trainable)\n",
    "model.compile(optimizer='rmsprop', loss='categorical_crossentropy')"
   ]
  },
  {
   "cell_type": "code",
   "execution_count": 26,
   "metadata": {},
   "outputs": [
    {
     "name": "stdout",
     "output_type": "stream",
     "text": [
      "0 input_10\n",
      "1 conv2d_283\n",
      "2 batch_normalization_283\n",
      "3 activation_381\n",
      "4 conv2d_284\n",
      "5 batch_normalization_284\n",
      "6 activation_382\n",
      "7 conv2d_285\n",
      "8 batch_normalization_285\n",
      "9 activation_383\n",
      "10 max_pooling2d_15\n",
      "11 conv2d_286\n",
      "12 batch_normalization_286\n",
      "13 activation_384\n",
      "14 conv2d_287\n",
      "15 batch_normalization_287\n",
      "16 activation_385\n",
      "17 max_pooling2d_16\n",
      "18 conv2d_291\n",
      "19 batch_normalization_291\n",
      "20 activation_389\n",
      "21 conv2d_289\n",
      "22 conv2d_292\n",
      "23 batch_normalization_289\n",
      "24 batch_normalization_292\n",
      "25 activation_387\n",
      "26 activation_390\n",
      "27 average_pooling2d_28\n",
      "28 conv2d_288\n",
      "29 conv2d_290\n",
      "30 conv2d_293\n",
      "31 conv2d_294\n",
      "32 batch_normalization_288\n",
      "33 batch_normalization_290\n",
      "34 batch_normalization_293\n",
      "35 batch_normalization_294\n",
      "36 activation_386\n",
      "37 activation_388\n",
      "38 activation_391\n",
      "39 activation_392\n",
      "40 mixed0\n",
      "41 conv2d_298\n",
      "42 batch_normalization_298\n",
      "43 activation_396\n",
      "44 conv2d_296\n",
      "45 conv2d_299\n",
      "46 batch_normalization_296\n",
      "47 batch_normalization_299\n",
      "48 activation_394\n",
      "49 activation_397\n",
      "50 average_pooling2d_29\n",
      "51 conv2d_295\n",
      "52 conv2d_297\n",
      "53 conv2d_300\n",
      "54 conv2d_301\n",
      "55 batch_normalization_295\n",
      "56 batch_normalization_297\n",
      "57 batch_normalization_300\n",
      "58 batch_normalization_301\n",
      "59 activation_393\n",
      "60 activation_395\n",
      "61 activation_398\n",
      "62 activation_399\n",
      "63 mixed1\n",
      "64 conv2d_305\n",
      "65 batch_normalization_305\n",
      "66 activation_403\n",
      "67 conv2d_303\n",
      "68 conv2d_306\n",
      "69 batch_normalization_303\n",
      "70 batch_normalization_306\n",
      "71 activation_401\n",
      "72 activation_404\n",
      "73 average_pooling2d_30\n",
      "74 conv2d_302\n",
      "75 conv2d_304\n",
      "76 conv2d_307\n",
      "77 conv2d_308\n",
      "78 batch_normalization_302\n",
      "79 batch_normalization_304\n",
      "80 batch_normalization_307\n",
      "81 batch_normalization_308\n",
      "82 activation_400\n",
      "83 activation_402\n",
      "84 activation_405\n",
      "85 activation_406\n",
      "86 mixed2\n",
      "87 conv2d_310\n",
      "88 batch_normalization_310\n",
      "89 activation_408\n",
      "90 conv2d_311\n",
      "91 batch_normalization_311\n",
      "92 activation_409\n",
      "93 conv2d_309\n",
      "94 conv2d_312\n",
      "95 batch_normalization_309\n",
      "96 batch_normalization_312\n",
      "97 activation_407\n",
      "98 activation_410\n",
      "99 max_pooling2d_17\n",
      "100 mixed3\n",
      "101 conv2d_317\n",
      "102 batch_normalization_317\n",
      "103 activation_415\n",
      "104 conv2d_318\n",
      "105 batch_normalization_318\n",
      "106 activation_416\n",
      "107 conv2d_314\n",
      "108 conv2d_319\n",
      "109 batch_normalization_314\n",
      "110 batch_normalization_319\n",
      "111 activation_412\n",
      "112 activation_417\n",
      "113 conv2d_315\n",
      "114 conv2d_320\n",
      "115 batch_normalization_315\n",
      "116 batch_normalization_320\n",
      "117 activation_413\n",
      "118 activation_418\n",
      "119 average_pooling2d_31\n",
      "120 conv2d_313\n",
      "121 conv2d_316\n",
      "122 conv2d_321\n",
      "123 conv2d_322\n",
      "124 batch_normalization_313\n",
      "125 batch_normalization_316\n",
      "126 batch_normalization_321\n",
      "127 batch_normalization_322\n",
      "128 activation_411\n",
      "129 activation_414\n",
      "130 activation_419\n",
      "131 activation_420\n",
      "132 mixed4\n",
      "133 conv2d_327\n",
      "134 batch_normalization_327\n",
      "135 activation_425\n",
      "136 conv2d_328\n",
      "137 batch_normalization_328\n",
      "138 activation_426\n",
      "139 conv2d_324\n",
      "140 conv2d_329\n",
      "141 batch_normalization_324\n",
      "142 batch_normalization_329\n",
      "143 activation_422\n",
      "144 activation_427\n",
      "145 conv2d_325\n",
      "146 conv2d_330\n",
      "147 batch_normalization_325\n",
      "148 batch_normalization_330\n",
      "149 activation_423\n",
      "150 activation_428\n",
      "151 average_pooling2d_32\n",
      "152 conv2d_323\n",
      "153 conv2d_326\n",
      "154 conv2d_331\n",
      "155 conv2d_332\n",
      "156 batch_normalization_323\n",
      "157 batch_normalization_326\n",
      "158 batch_normalization_331\n",
      "159 batch_normalization_332\n",
      "160 activation_421\n",
      "161 activation_424\n",
      "162 activation_429\n",
      "163 activation_430\n",
      "164 mixed5\n",
      "165 conv2d_337\n",
      "166 batch_normalization_337\n",
      "167 activation_435\n",
      "168 conv2d_338\n",
      "169 batch_normalization_338\n",
      "170 activation_436\n",
      "171 conv2d_334\n",
      "172 conv2d_339\n",
      "173 batch_normalization_334\n",
      "174 batch_normalization_339\n",
      "175 activation_432\n",
      "176 activation_437\n",
      "177 conv2d_335\n",
      "178 conv2d_340\n",
      "179 batch_normalization_335\n",
      "180 batch_normalization_340\n",
      "181 activation_433\n",
      "182 activation_438\n",
      "183 average_pooling2d_33\n",
      "184 conv2d_333\n",
      "185 conv2d_336\n",
      "186 conv2d_341\n",
      "187 conv2d_342\n",
      "188 batch_normalization_333\n",
      "189 batch_normalization_336\n",
      "190 batch_normalization_341\n",
      "191 batch_normalization_342\n",
      "192 activation_431\n",
      "193 activation_434\n",
      "194 activation_439\n",
      "195 activation_440\n",
      "196 mixed6\n",
      "197 conv2d_347\n",
      "198 batch_normalization_347\n",
      "199 activation_445\n",
      "200 conv2d_348\n",
      "201 batch_normalization_348\n",
      "202 activation_446\n",
      "203 conv2d_344\n",
      "204 conv2d_349\n",
      "205 batch_normalization_344\n",
      "206 batch_normalization_349\n",
      "207 activation_442\n",
      "208 activation_447\n",
      "209 conv2d_345\n",
      "210 conv2d_350\n",
      "211 batch_normalization_345\n",
      "212 batch_normalization_350\n",
      "213 activation_443\n",
      "214 activation_448\n",
      "215 average_pooling2d_34\n",
      "216 conv2d_343\n",
      "217 conv2d_346\n",
      "218 conv2d_351\n",
      "219 conv2d_352\n",
      "220 batch_normalization_343\n",
      "221 batch_normalization_346\n",
      "222 batch_normalization_351\n",
      "223 batch_normalization_352\n",
      "224 activation_441\n",
      "225 activation_444\n",
      "226 activation_449\n",
      "227 activation_450\n",
      "228 mixed7\n",
      "229 conv2d_355\n",
      "230 batch_normalization_355\n",
      "231 activation_453\n",
      "232 conv2d_356\n",
      "233 batch_normalization_356\n",
      "234 activation_454\n",
      "235 conv2d_353\n",
      "236 conv2d_357\n",
      "237 batch_normalization_353\n",
      "238 batch_normalization_357\n",
      "239 activation_451\n",
      "240 activation_455\n",
      "241 conv2d_354\n",
      "242 conv2d_358\n",
      "243 batch_normalization_354\n",
      "244 batch_normalization_358\n",
      "245 activation_452\n",
      "246 activation_456\n",
      "247 max_pooling2d_18\n",
      "248 mixed8\n",
      "249 conv2d_363\n",
      "250 batch_normalization_363\n",
      "251 activation_461\n",
      "252 conv2d_360\n",
      "253 conv2d_364\n",
      "254 batch_normalization_360\n",
      "255 batch_normalization_364\n",
      "256 activation_458\n",
      "257 activation_462\n",
      "258 conv2d_361\n",
      "259 conv2d_362\n",
      "260 conv2d_365\n",
      "261 conv2d_366\n",
      "262 average_pooling2d_35\n",
      "263 conv2d_359\n",
      "264 batch_normalization_361\n",
      "265 batch_normalization_362\n",
      "266 batch_normalization_365\n",
      "267 batch_normalization_366\n",
      "268 conv2d_367\n",
      "269 batch_normalization_359\n",
      "270 activation_459\n",
      "271 activation_460\n",
      "272 activation_463\n",
      "273 activation_464\n",
      "274 batch_normalization_367\n",
      "275 activation_457\n",
      "276 mixed9_0\n",
      "277 concatenate_7\n",
      "278 activation_465\n",
      "279 mixed9\n",
      "280 conv2d_372\n",
      "281 batch_normalization_372\n",
      "282 activation_470\n",
      "283 conv2d_369\n",
      "284 conv2d_373\n",
      "285 batch_normalization_369\n",
      "286 batch_normalization_373\n",
      "287 activation_467\n",
      "288 activation_471\n",
      "289 conv2d_370\n",
      "290 conv2d_371\n",
      "291 conv2d_374\n",
      "292 conv2d_375\n",
      "293 average_pooling2d_36\n",
      "294 conv2d_368\n",
      "295 batch_normalization_370\n",
      "296 batch_normalization_371\n",
      "297 batch_normalization_374\n",
      "298 batch_normalization_375\n",
      "299 conv2d_376\n",
      "300 batch_normalization_368\n",
      "301 activation_468\n",
      "302 activation_469\n",
      "303 activation_472\n",
      "304 activation_473\n",
      "305 batch_normalization_376\n",
      "306 activation_466\n",
      "307 mixed9_1\n",
      "308 concatenate_8\n",
      "309 activation_474\n",
      "310 mixed10\n"
     ]
    }
   ],
   "source": [
    "# at this point, the top layers are well trained and we can start fine-tuning\n",
    "# convolutional layers from inception V3. We will freeze the bottom N layers\n",
    "# and train the remaining top layers.\n",
    "\n",
    "# let's visualize layer names and layer indices to see how many layers\n",
    "# we should freeze:\n",
    "for i, layer in enumerate(base_model.layers):\n",
    "    print(i, layer.name)\n",
    "\n",
    "# we chose to train the top 2 inception blocks, i.e. we will freeze\n",
    "# the first 249 layers and unfreeze the rest:\n",
    "for layer in model.layers[:249]:\n",
    "    layer.trainable = False\n",
    "for layer in model.layers[249:]:\n",
    "    layer.trainable = True\n",
    "\n"
   ]
  },
  {
   "cell_type": "code",
   "execution_count": 27,
   "metadata": {},
   "outputs": [],
   "source": [
    "# we need to recompile the model for these modifications to take effect\n",
    "# we use SGD with a low learning rate\n",
    "\n",
    "model.compile(optimizer=SGD(lr=0.0001, momentum=0.9), loss='categorical_crossentropy', metrics=[\"accuracy\"])"
   ]
  },
  {
   "cell_type": "code",
   "execution_count": 28,
   "metadata": {},
   "outputs": [],
   "source": [
    "model_dir = 'output/models/'\n",
    "log_file = \"output/logs\"\n",
    "\n",
    "model_file = model_dir+\"weights-improvement-{epoch:02d}-{val_acc:.2f}.hdf5\""
   ]
  },
  {
   "cell_type": "code",
   "execution_count": 29,
   "metadata": {},
   "outputs": [],
   "source": [
    "checkpoint = keras.callbacks.ModelCheckpoint(model_file, monitor='val_acc', verbose=0, save_best_only=False, save_weights_only=False, mode='auto', period=1)"
   ]
  },
  {
   "cell_type": "code",
   "execution_count": 30,
   "metadata": {},
   "outputs": [],
   "source": [
    "tensorboard = keras.callbacks.TensorBoard(log_dir=log_file, histogram_freq=0, batch_size=32, write_graph=True, write_grads=False, write_images=False, embeddings_freq=0, embeddings_layer_names=None, embeddings_metadata=None, embeddings_data=None)\n",
    "tensorboard.set_model(model) "
   ]
  },
  {
   "cell_type": "code",
   "execution_count": 31,
   "metadata": {},
   "outputs": [],
   "source": [
    "callbacks_list = [checkpoint, tensorboard]"
   ]
  },
  {
   "cell_type": "code",
   "execution_count": 32,
   "metadata": {},
   "outputs": [
    {
     "name": "stdout",
     "output_type": "stream",
     "text": [
      "Epoch 1/200\n",
      "83/83 [==============================] - ETA: 21:12 - loss: 4.9532 - acc: 0.0000e+ - ETA: 17:36 - loss: 4.9285 - acc: 0.0000e+ - ETA: 16:18 - loss: 4.9502 - acc: 0.0000e+ - ETA: 15:28 - loss: 4.9326 - acc: 0.0000e+ - ETA: 14:58 - loss: 4.9423 - acc: 0.0000e+ - ETA: 14:36 - loss: 4.9333 - acc: 0.0000e+ - ETA: 14:17 - loss: 4.9302 - acc: 0.0045   - ETA: 14:00 - loss: 4.9209 - acc: 0.00 - ETA: 13:44 - loss: 4.9196 - acc: 0.00 - ETA: 13:29 - loss: 4.9162 - acc: 0.00 - ETA: 13:15 - loss: 4.9130 - acc: 0.00 - ETA: 13:02 - loss: 4.9086 - acc: 0.00 - ETA: 12:48 - loss: 4.9139 - acc: 0.00 - ETA: 12:34 - loss: 4.9100 - acc: 0.01 - ETA: 12:22 - loss: 4.8997 - acc: 0.01 - ETA: 12:09 - loss: 4.8948 - acc: 0.01 - ETA: 11:57 - loss: 4.8912 - acc: 0.01 - ETA: 11:46 - loss: 4.8976 - acc: 0.01 - ETA: 11:33 - loss: 4.8941 - acc: 0.01 - ETA: 11:21 - loss: 4.8920 - acc: 0.01 - ETA: 11:10 - loss: 4.8965 - acc: 0.01 - ETA: 10:58 - loss: 4.8928 - acc: 0.01 - ETA: 10:47 - loss: 4.8936 - acc: 0.01 - ETA: 10:36 - loss: 4.8882 - acc: 0.01 - ETA: 10:24 - loss: 4.8898 - acc: 0.01 - ETA: 10:12 - loss: 4.8903 - acc: 0.01 - ETA: 10:01 - loss: 4.8870 - acc: 0.01 - ETA: 9:49 - loss: 4.8843 - acc: 0.0100 - ETA: 9:38 - loss: 4.8895 - acc: 0.009 - ETA: 9:27 - loss: 4.8897 - acc: 0.009 - ETA: 9:16 - loss: 4.8881 - acc: 0.009 - ETA: 9:05 - loss: 4.8865 - acc: 0.008 - ETA: 8:54 - loss: 4.8831 - acc: 0.008 - ETA: 8:43 - loss: 4.8837 - acc: 0.008 - ETA: 8:32 - loss: 4.8827 - acc: 0.008 - ETA: 8:21 - loss: 4.8870 - acc: 0.007 - ETA: 8:10 - loss: 4.8864 - acc: 0.007 - ETA: 7:59 - loss: 4.8841 - acc: 0.009 - ETA: 7:49 - loss: 4.8848 - acc: 0.008 - ETA: 7:38 - loss: 4.8890 - acc: 0.008 - ETA: 7:28 - loss: 4.8925 - acc: 0.008 - ETA: 7:17 - loss: 4.8908 - acc: 0.008 - ETA: 7:06 - loss: 4.8900 - acc: 0.008 - ETA: 6:55 - loss: 4.8874 - acc: 0.007 - ETA: 6:44 - loss: 4.8874 - acc: 0.007 - ETA: 6:33 - loss: 4.8884 - acc: 0.007 - ETA: 6:23 - loss: 4.8886 - acc: 0.007 - ETA: 6:12 - loss: 4.8900 - acc: 0.007 - ETA: 6:01 - loss: 4.8900 - acc: 0.007 - ETA: 5:51 - loss: 4.8887 - acc: 0.007 - ETA: 5:40 - loss: 4.8883 - acc: 0.007 - ETA: 5:29 - loss: 4.8854 - acc: 0.007 - ETA: 5:19 - loss: 4.8857 - acc: 0.007 - ETA: 5:08 - loss: 4.8857 - acc: 0.007 - ETA: 4:57 - loss: 4.8849 - acc: 0.008 - ETA: 4:46 - loss: 4.8865 - acc: 0.007 - ETA: 4:36 - loss: 4.8860 - acc: 0.007 - ETA: 4:25 - loss: 4.8839 - acc: 0.007 - ETA: 4:14 - loss: 4.8828 - acc: 0.007 - ETA: 4:04 - loss: 4.8833 - acc: 0.007 - ETA: 3:53 - loss: 4.8815 - acc: 0.007 - ETA: 3:42 - loss: 4.8800 - acc: 0.008 - ETA: 3:32 - loss: 4.8799 - acc: 0.007 - ETA: 3:21 - loss: 4.8809 - acc: 0.007 - ETA: 3:11 - loss: 4.8786 - acc: 0.008 - ETA: 3:00 - loss: 4.8796 - acc: 0.008 - ETA: 2:50 - loss: 4.8802 - acc: 0.008 - ETA: 2:39 - loss: 4.8812 - acc: 0.008 - ETA: 2:29 - loss: 4.8790 - acc: 0.008 - ETA: 2:18 - loss: 4.8772 - acc: 0.008 - ETA: 2:08 - loss: 4.8764 - acc: 0.008 - ETA: 1:57 - loss: 4.8766 - acc: 0.008 - ETA: 1:46 - loss: 4.8773 - acc: 0.008 - ETA: 1:36 - loss: 4.8779 - acc: 0.008 - ETA: 1:25 - loss: 4.8769 - acc: 0.007 - ETA: 1:14 - loss: 4.8780 - acc: 0.007 - ETA: 1:03 - loss: 4.8788 - acc: 0.007 - ETA: 53s - loss: 4.8767 - acc: 0.008 - ETA: 42s - loss: 4.8764 - acc: 0.00 - ETA: 31s - loss: 4.8769 - acc: 0.00 - ETA: 21s - loss: 4.8827 - acc: 0.00 - ETA: 10s - loss: 4.8816 - acc: 0.00 - 1172s 14s/step - loss: 4.8803 - acc: 0.0083 - val_loss: 4.8858 - val_acc: 0.0145\n",
      "Epoch 2/200\n",
      "83/83 [==============================] - ETA: 15:40 - loss: 4.6868 - acc: 0.0000e+ - ETA: 14:41 - loss: 4.7543 - acc: 0.0000e+ - ETA: 14:05 - loss: 4.7475 - acc: 0.0000e+ - ETA: 13:51 - loss: 4.7856 - acc: 0.0000e+ - ETA: 13:38 - loss: 4.7803 - acc: 0.0063   - ETA: 13:20 - loss: 4.7843 - acc: 0.00 - ETA: 13:09 - loss: 4.8073 - acc: 0.00 - ETA: 12:56 - loss: 4.8172 - acc: 0.00 - ETA: 12:42 - loss: 4.8190 - acc: 0.00 - ETA: 12:33 - loss: 4.8287 - acc: 0.00 - ETA: 12:20 - loss: 4.8279 - acc: 0.00 - ETA: 12:10 - loss: 4.8316 - acc: 0.00 - ETA: 12:00 - loss: 4.8321 - acc: 0.00 - ETA: 11:48 - loss: 4.8366 - acc: 0.00 - ETA: 11:37 - loss: 4.8294 - acc: 0.00 - ETA: 11:28 - loss: 4.8291 - acc: 0.00 - ETA: 11:16 - loss: 4.8246 - acc: 0.01 - ETA: 11:06 - loss: 4.8277 - acc: 0.01 - ETA: 10:55 - loss: 4.8270 - acc: 0.01 - ETA: 10:44 - loss: 4.8213 - acc: 0.01 - ETA: 10:34 - loss: 4.8164 - acc: 0.01 - ETA: 10:23 - loss: 4.8090 - acc: 0.01 - ETA: 10:13 - loss: 4.8102 - acc: 0.01 - ETA: 10:03 - loss: 4.8116 - acc: 0.01 - ETA: 9:52 - loss: 4.8112 - acc: 0.0138 - ETA: 9:42 - loss: 4.8155 - acc: 0.013 - ETA: 9:32 - loss: 4.8146 - acc: 0.012 - ETA: 9:21 - loss: 4.8123 - acc: 0.012 - ETA: 9:11 - loss: 4.8097 - acc: 0.012 - ETA: 9:01 - loss: 4.8068 - acc: 0.014 - ETA: 8:50 - loss: 4.8100 - acc: 0.015 - ETA: 8:40 - loss: 4.8131 - acc: 0.014 - ETA: 8:30 - loss: 4.8103 - acc: 0.015 - ETA: 8:20 - loss: 4.8114 - acc: 0.015 - ETA: 8:10 - loss: 4.8116 - acc: 0.015 - ETA: 7:59 - loss: 4.8120 - acc: 0.014 - ETA: 7:49 - loss: 4.8124 - acc: 0.015 - ETA: 7:39 - loss: 4.8109 - acc: 0.014 - ETA: 7:28 - loss: 4.8095 - acc: 0.015 - ETA: 7:18 - loss: 4.8071 - acc: 0.014 - ETA: 6:58 - loss: 4.8032 - acc: 0.014 - ETA: 6:48 - loss: 4.8051 - acc: 0.014 - ETA: 6:38 - loss: 4.8040 - acc: 0.014 - ETA: 6:29 - loss: 4.8065 - acc: 0.014 - ETA: 6:19 - loss: 4.8070 - acc: 0.014 - ETA: 6:09 - loss: 4.8061 - acc: 0.014 - ETA: 5:59 - loss: 4.8076 - acc: 0.014 - ETA: 5:49 - loss: 4.8049 - acc: 0.015 - ETA: 5:39 - loss: 4.8053 - acc: 0.015 - ETA: 5:30 - loss: 4.8069 - acc: 0.015 - ETA: 5:20 - loss: 4.8084 - acc: 0.014 - ETA: 5:10 - loss: 4.8091 - acc: 0.015 - ETA: 5:00 - loss: 4.8091 - acc: 0.016 - ETA: 4:50 - loss: 4.8082 - acc: 0.016 - ETA: 4:40 - loss: 4.8056 - acc: 0.017 - ETA: 4:30 - loss: 4.8030 - acc: 0.017 - ETA: 4:20 - loss: 4.8042 - acc: 0.017 - ETA: 4:10 - loss: 4.8044 - acc: 0.017 - ETA: 4:01 - loss: 4.8029 - acc: 0.017 - ETA: 3:51 - loss: 4.8026 - acc: 0.017 - ETA: 3:41 - loss: 4.8018 - acc: 0.017 - ETA: 3:31 - loss: 4.8005 - acc: 0.017 - ETA: 3:22 - loss: 4.8003 - acc: 0.017 - ETA: 3:12 - loss: 4.7992 - acc: 0.018 - ETA: 3:02 - loss: 4.7999 - acc: 0.018 - ETA: 2:52 - loss: 4.8010 - acc: 0.018 - ETA: 2:42 - loss: 4.8009 - acc: 0.017 - ETA: 2:32 - loss: 4.7986 - acc: 0.017 - ETA: 2:22 - loss: 4.7972 - acc: 0.017 - ETA: 2:13 - loss: 4.7953 - acc: 0.017 - ETA: 2:03 - loss: 4.7948 - acc: 0.017 - ETA: 1:53 - loss: 4.7937 - acc: 0.017 - ETA: 1:42 - loss: 4.7940 - acc: 0.017 - ETA: 1:32 - loss: 4.7946 - acc: 0.017 - ETA: 1:22 - loss: 4.7925 - acc: 0.018 - ETA: 1:12 - loss: 4.7908 - acc: 0.018 - ETA: 1:02 - loss: 4.7908 - acc: 0.018 - ETA: 51s - loss: 4.7906 - acc: 0.019 - ETA: 41s - loss: 4.7899 - acc: 0.01 - ETA: 31s - loss: 4.7903 - acc: 0.01 - ETA: 20s - loss: 4.7901 - acc: 0.01 - ETA: 10s - loss: 4.7890 - acc: 0.01 - 1201s 14s/step - loss: 4.7879 - acc: 0.0200 - val_loss: 4.7576 - val_acc: 0.0255\n",
      "Epoch 3/200\n"
     ]
    },
    {
     "name": "stdout",
     "output_type": "stream",
     "text": [
      "83/83 [==============================] - ETA: 16:14 - loss: 4.8090 - acc: 0.0000e+ - ETA: 16:43 - loss: 4.7280 - acc: 0.0156   - ETA: 16:13 - loss: 4.7689 - acc: 0.02 - ETA: 15:46 - loss: 4.7586 - acc: 0.02 - ETA: 15:17 - loss: 4.7697 - acc: 0.02 - ETA: 15:02 - loss: 4.7431 - acc: 0.02 - ETA: 14:43 - loss: 4.7319 - acc: 0.01 - ETA: 14:25 - loss: 4.7296 - acc: 0.01 - ETA: 14:13 - loss: 4.7284 - acc: 0.02 - ETA: 13:59 - loss: 4.7237 - acc: 0.02 - ETA: 13:49 - loss: 4.7190 - acc: 0.02 - ETA: 13:37 - loss: 4.7134 - acc: 0.02 - ETA: 13:26 - loss: 4.7170 - acc: 0.02 - ETA: 13:14 - loss: 4.7197 - acc: 0.02 - ETA: 13:01 - loss: 4.7208 - acc: 0.02 - ETA: 12:48 - loss: 4.7188 - acc: 0.02 - ETA: 12:39 - loss: 4.7210 - acc: 0.02 - ETA: 12:28 - loss: 4.7243 - acc: 0.02 - ETA: 12:17 - loss: 4.7226 - acc: 0.02 - ETA: 12:06 - loss: 4.7283 - acc: 0.02 - ETA: 11:54 - loss: 4.7324 - acc: 0.01 - ETA: 11:42 - loss: 4.7330 - acc: 0.02 - ETA: 11:30 - loss: 4.7381 - acc: 0.02 - ETA: 11:18 - loss: 4.7419 - acc: 0.02 - ETA: 11:06 - loss: 4.7461 - acc: 0.02 - ETA: 10:56 - loss: 4.7456 - acc: 0.01 - ETA: 10:44 - loss: 4.7433 - acc: 0.01 - ETA: 10:34 - loss: 4.7394 - acc: 0.01 - ETA: 10:21 - loss: 4.7396 - acc: 0.01 - ETA: 10:11 - loss: 4.7430 - acc: 0.02 - ETA: 9:59 - loss: 4.7412 - acc: 0.0212 - ETA: 9:49 - loss: 4.7389 - acc: 0.020 - ETA: 9:37 - loss: 4.7383 - acc: 0.020 - ETA: 9:24 - loss: 4.7352 - acc: 0.022 - ETA: 9:13 - loss: 4.7336 - acc: 0.022 - ETA: 9:01 - loss: 4.7351 - acc: 0.022 - ETA: 8:49 - loss: 4.7359 - acc: 0.022 - ETA: 8:37 - loss: 4.7327 - acc: 0.023 - ETA: 8:25 - loss: 4.7354 - acc: 0.023 - ETA: 8:13 - loss: 4.7358 - acc: 0.022 - ETA: 8:02 - loss: 4.7325 - acc: 0.022 - ETA: 7:50 - loss: 4.7322 - acc: 0.021 - ETA: 7:39 - loss: 4.7317 - acc: 0.022 - ETA: 7:28 - loss: 4.7297 - acc: 0.024 - ETA: 7:16 - loss: 4.7230 - acc: 0.025 - ETA: 7:04 - loss: 4.7223 - acc: 0.025 - ETA: 6:52 - loss: 4.7224 - acc: 0.025 - ETA: 6:41 - loss: 4.7230 - acc: 0.025 - ETA: 6:29 - loss: 4.7213 - acc: 0.026 - ETA: 6:17 - loss: 4.7195 - acc: 0.026 - ETA: 6:05 - loss: 4.7202 - acc: 0.026 - ETA: 5:48 - loss: 4.7342 - acc: 0.025 - ETA: 5:36 - loss: 4.7353 - acc: 0.025 - ETA: 5:25 - loss: 4.7345 - acc: 0.026 - ETA: 5:13 - loss: 4.7323 - acc: 0.027 - ETA: 5:02 - loss: 4.7337 - acc: 0.027 - ETA: 4:51 - loss: 4.7344 - acc: 0.027 - ETA: 4:39 - loss: 4.7324 - acc: 0.027 - ETA: 4:28 - loss: 4.7328 - acc: 0.027 - ETA: 4:17 - loss: 4.7314 - acc: 0.027 - ETA: 4:06 - loss: 4.7298 - acc: 0.027 - ETA: 3:54 - loss: 4.7303 - acc: 0.026 - ETA: 3:43 - loss: 4.7301 - acc: 0.026 - ETA: 3:32 - loss: 4.7287 - acc: 0.026 - ETA: 3:21 - loss: 4.7279 - acc: 0.026 - ETA: 3:09 - loss: 4.7275 - acc: 0.026 - ETA: 2:58 - loss: 4.7247 - acc: 0.027 - ETA: 2:47 - loss: 4.7255 - acc: 0.026 - ETA: 2:36 - loss: 4.7262 - acc: 0.026 - ETA: 2:24 - loss: 4.7246 - acc: 0.027 - ETA: 2:13 - loss: 4.7246 - acc: 0.027 - ETA: 2:02 - loss: 4.7241 - acc: 0.028 - ETA: 1:51 - loss: 4.7238 - acc: 0.028 - ETA: 1:40 - loss: 4.7240 - acc: 0.027 - ETA: 1:29 - loss: 4.7228 - acc: 0.028 - ETA: 1:17 - loss: 4.7226 - acc: 0.028 - ETA: 1:06 - loss: 4.7219 - acc: 0.028 - ETA: 55s - loss: 4.7227 - acc: 0.028 - ETA: 44s - loss: 4.7222 - acc: 0.02 - ETA: 33s - loss: 4.7225 - acc: 0.02 - ETA: 22s - loss: 4.7211 - acc: 0.02 - ETA: 11s - loss: 4.7194 - acc: 0.02 - 1242s 15s/step - loss: 4.7200 - acc: 0.0297 - val_loss: 4.6341 - val_acc: 0.0436\n",
      "Epoch 4/200\n",
      "83/83 [==============================] - ETA: 15:29 - loss: 4.6875 - acc: 0.03 - ETA: 14:35 - loss: 4.6554 - acc: 0.03 - ETA: 14:55 - loss: 4.6510 - acc: 0.03 - ETA: 14:40 - loss: 4.6877 - acc: 0.02 - ETA: 14:24 - loss: 4.6877 - acc: 0.01 - ETA: 14:06 - loss: 4.6871 - acc: 0.02 - ETA: 13:51 - loss: 4.6686 - acc: 0.03 - ETA: 13:40 - loss: 4.6612 - acc: 0.03 - ETA: 13:21 - loss: 4.6509 - acc: 0.04 - ETA: 13:14 - loss: 4.6537 - acc: 0.03 - ETA: 13:03 - loss: 4.6568 - acc: 0.03 - ETA: 12:51 - loss: 4.6557 - acc: 0.03 - ETA: 12:44 - loss: 4.6538 - acc: 0.03 - ETA: 12:34 - loss: 4.6579 - acc: 0.03 - ETA: 12:23 - loss: 4.6592 - acc: 0.03 - ETA: 12:13 - loss: 4.6641 - acc: 0.04 - ETA: 12:02 - loss: 4.6652 - acc: 0.04 - ETA: 11:50 - loss: 4.6583 - acc: 0.04 - ETA: 11:39 - loss: 4.6518 - acc: 0.04 - ETA: 11:30 - loss: 4.6460 - acc: 0.04 - ETA: 11:20 - loss: 4.6440 - acc: 0.04 - ETA: 11:08 - loss: 4.6415 - acc: 0.04 - ETA: 10:56 - loss: 4.6418 - acc: 0.04 - ETA: 10:45 - loss: 4.6444 - acc: 0.04 - ETA: 10:33 - loss: 4.6476 - acc: 0.04 - ETA: 10:22 - loss: 4.6464 - acc: 0.04 - ETA: 10:11 - loss: 4.6460 - acc: 0.04 - ETA: 10:00 - loss: 4.6463 - acc: 0.04 - ETA: 9:50 - loss: 4.6468 - acc: 0.0409 - ETA: 9:40 - loss: 4.6454 - acc: 0.040 - ETA: 9:28 - loss: 4.6453 - acc: 0.040 - ETA: 9:18 - loss: 4.6431 - acc: 0.042 - ETA: 9:08 - loss: 4.6460 - acc: 0.042 - ETA: 8:57 - loss: 4.6460 - acc: 0.042 - ETA: 8:46 - loss: 4.6461 - acc: 0.043 - ETA: 8:35 - loss: 4.6507 - acc: 0.042 - ETA: 8:24 - loss: 4.6525 - acc: 0.041 - ETA: 8:13 - loss: 4.6486 - acc: 0.041 - ETA: 8:02 - loss: 4.6495 - acc: 0.040 - ETA: 7:51 - loss: 4.6468 - acc: 0.039 - ETA: 7:39 - loss: 4.6479 - acc: 0.040 - ETA: 7:29 - loss: 4.6450 - acc: 0.040 - ETA: 7:18 - loss: 4.6418 - acc: 0.040 - ETA: 7:06 - loss: 4.6434 - acc: 0.040 - ETA: 6:55 - loss: 4.6430 - acc: 0.041 - ETA: 6:44 - loss: 4.6445 - acc: 0.040 - ETA: 6:33 - loss: 4.6444 - acc: 0.040 - ETA: 6:22 - loss: 4.6452 - acc: 0.041 - ETA: 6:10 - loss: 4.6471 - acc: 0.041 - ETA: 5:59 - loss: 4.6464 - acc: 0.041 - ETA: 5:48 - loss: 4.6461 - acc: 0.042 - ETA: 5:38 - loss: 4.6474 - acc: 0.042 - ETA: 5:27 - loss: 4.6447 - acc: 0.042 - ETA: 5:16 - loss: 4.6437 - acc: 0.042 - ETA: 5:05 - loss: 4.6424 - acc: 0.043 - ETA: 4:54 - loss: 4.6429 - acc: 0.043 - ETA: 4:43 - loss: 4.6409 - acc: 0.043 - ETA: 4:32 - loss: 4.6401 - acc: 0.043 - ETA: 4:21 - loss: 4.6398 - acc: 0.043 - ETA: 4:10 - loss: 4.6401 - acc: 0.042 - ETA: 3:59 - loss: 4.6394 - acc: 0.042 - ETA: 3:48 - loss: 4.6393 - acc: 0.042 - ETA: 3:37 - loss: 4.6389 - acc: 0.041 - ETA: 3:26 - loss: 4.6384 - acc: 0.041 - ETA: 3:16 - loss: 4.6356 - acc: 0.041 - ETA: 3:02 - loss: 4.6405 - acc: 0.040 - ETA: 2:51 - loss: 4.6403 - acc: 0.040 - ETA: 2:41 - loss: 4.6392 - acc: 0.040 - ETA: 2:30 - loss: 4.6393 - acc: 0.041 - ETA: 2:19 - loss: 4.6386 - acc: 0.042 - ETA: 2:08 - loss: 4.6373 - acc: 0.041 - ETA: 1:58 - loss: 4.6366 - acc: 0.041 - ETA: 1:47 - loss: 4.6346 - acc: 0.042 - ETA: 1:36 - loss: 4.6356 - acc: 0.041 - ETA: 1:25 - loss: 4.6369 - acc: 0.041 - ETA: 1:15 - loss: 4.6370 - acc: 0.041 - ETA: 1:04 - loss: 4.6347 - acc: 0.043 - ETA: 53s - loss: 4.6334 - acc: 0.042 - ETA: 42s - loss: 4.6325 - acc: 0.04 - ETA: 32s - loss: 4.6332 - acc: 0.04 - ETA: 21s - loss: 4.6336 - acc: 0.04 - ETA: 10s - loss: 4.6336 - acc: 0.04 - 1204s 15s/step - loss: 4.6326 - acc: 0.0441 - val_loss: 4.5128 - val_acc: 0.0667\n",
      "Epoch 5/200\n"
     ]
    },
    {
     "name": "stdout",
     "output_type": "stream",
     "text": [
      "83/83 [==============================] - ETA: 14:50 - loss: 4.6587 - acc: 0.06 - ETA: 14:41 - loss: 4.6010 - acc: 0.04 - ETA: 14:23 - loss: 4.6119 - acc: 0.04 - ETA: 14:42 - loss: 4.6162 - acc: 0.04 - ETA: 14:24 - loss: 4.6183 - acc: 0.04 - ETA: 14:13 - loss: 4.6053 - acc: 0.04 - ETA: 14:08 - loss: 4.6171 - acc: 0.05 - ETA: 13:57 - loss: 4.5974 - acc: 0.05 - ETA: 13:43 - loss: 4.5973 - acc: 0.05 - ETA: 13:31 - loss: 4.6041 - acc: 0.04 - ETA: 13:20 - loss: 4.5947 - acc: 0.04 - ETA: 13:08 - loss: 4.5964 - acc: 0.04 - ETA: 12:55 - loss: 4.5921 - acc: 0.05 - ETA: 12:43 - loss: 4.5926 - acc: 0.05 - ETA: 12:31 - loss: 4.5824 - acc: 0.05 - ETA: 12:18 - loss: 4.5852 - acc: 0.06 - ETA: 12:06 - loss: 4.5839 - acc: 0.06 - ETA: 11:53 - loss: 4.5853 - acc: 0.06 - ETA: 11:41 - loss: 4.5887 - acc: 0.06 - ETA: 11:28 - loss: 4.5894 - acc: 0.05 - ETA: 11:16 - loss: 4.5835 - acc: 0.06 - ETA: 11:04 - loss: 4.5857 - acc: 0.06 - ETA: 10:53 - loss: 4.5892 - acc: 0.05 - ETA: 10:42 - loss: 4.5884 - acc: 0.05 - ETA: 10:31 - loss: 4.5890 - acc: 0.06 - ETA: 10:19 - loss: 4.5828 - acc: 0.06 - ETA: 10:09 - loss: 4.5803 - acc: 0.06 - ETA: 9:58 - loss: 4.5832 - acc: 0.0614 - ETA: 9:47 - loss: 4.5841 - acc: 0.060 - ETA: 9:36 - loss: 4.5844 - acc: 0.058 - ETA: 9:26 - loss: 4.5868 - acc: 0.057 - ETA: 8:59 - loss: 4.5960 - acc: 0.055 - ETA: 8:49 - loss: 4.5939 - acc: 0.055 - ETA: 8:39 - loss: 4.5918 - acc: 0.057 - ETA: 8:29 - loss: 4.5910 - acc: 0.058 - ETA: 8:20 - loss: 4.5905 - acc: 0.058 - ETA: 8:09 - loss: 4.5885 - acc: 0.058 - ETA: 7:59 - loss: 4.5867 - acc: 0.058 - ETA: 7:49 - loss: 4.5882 - acc: 0.056 - ETA: 7:38 - loss: 4.5885 - acc: 0.057 - ETA: 7:28 - loss: 4.5906 - acc: 0.056 - ETA: 7:18 - loss: 4.5879 - acc: 0.057 - ETA: 7:07 - loss: 4.5879 - acc: 0.056 - ETA: 6:57 - loss: 4.5885 - acc: 0.055 - ETA: 6:47 - loss: 4.5865 - acc: 0.057 - ETA: 6:36 - loss: 4.5840 - acc: 0.059 - ETA: 6:26 - loss: 4.5823 - acc: 0.059 - ETA: 6:15 - loss: 4.5797 - acc: 0.060 - ETA: 6:04 - loss: 4.5812 - acc: 0.059 - ETA: 5:54 - loss: 4.5827 - acc: 0.058 - ETA: 5:43 - loss: 4.5821 - acc: 0.059 - ETA: 5:32 - loss: 4.5798 - acc: 0.060 - ETA: 5:22 - loss: 4.5775 - acc: 0.061 - ETA: 5:11 - loss: 4.5777 - acc: 0.060 - ETA: 5:00 - loss: 4.5770 - acc: 0.061 - ETA: 4:50 - loss: 4.5737 - acc: 0.061 - ETA: 4:39 - loss: 4.5715 - acc: 0.062 - ETA: 4:29 - loss: 4.5722 - acc: 0.062 - ETA: 4:18 - loss: 4.5715 - acc: 0.060 - ETA: 4:07 - loss: 4.5704 - acc: 0.061 - ETA: 3:56 - loss: 4.5705 - acc: 0.061 - ETA: 3:46 - loss: 4.5703 - acc: 0.061 - ETA: 3:35 - loss: 4.5692 - acc: 0.061 - ETA: 3:24 - loss: 4.5695 - acc: 0.062 - ETA: 3:13 - loss: 4.5695 - acc: 0.062 - ETA: 3:02 - loss: 4.5694 - acc: 0.062 - ETA: 2:52 - loss: 4.5691 - acc: 0.061 - ETA: 2:41 - loss: 4.5688 - acc: 0.061 - ETA: 2:30 - loss: 4.5679 - acc: 0.062 - ETA: 2:19 - loss: 4.5662 - acc: 0.062 - ETA: 2:08 - loss: 4.5676 - acc: 0.061 - ETA: 1:57 - loss: 4.5657 - acc: 0.061 - ETA: 1:46 - loss: 4.5644 - acc: 0.061 - ETA: 1:36 - loss: 4.5659 - acc: 0.060 - ETA: 1:25 - loss: 4.5646 - acc: 0.061 - ETA: 1:14 - loss: 4.5653 - acc: 0.061 - ETA: 1:04 - loss: 4.5648 - acc: 0.061 - ETA: 53s - loss: 4.5653 - acc: 0.061 - ETA: 42s - loss: 4.5643 - acc: 0.06 - ETA: 32s - loss: 4.5644 - acc: 0.06 - ETA: 21s - loss: 4.5635 - acc: 0.06 - ETA: 10s - loss: 4.5623 - acc: 0.06 - 1191s 14s/step - loss: 4.5622 - acc: 0.0633 - val_loss: 4.3901 - val_acc: 0.1152\n",
      "Epoch 6/200\n",
      "83/83 [==============================] - ETA: 14:00 - loss: 4.4675 - acc: 0.0000e+ - ETA: 13:33 - loss: 4.5310 - acc: 0.0156   - ETA: 13:27 - loss: 4.5566 - acc: 0.04 - ETA: 13:20 - loss: 4.5309 - acc: 0.06 - ETA: 13:55 - loss: 4.5521 - acc: 0.06 - ETA: 13:40 - loss: 4.5416 - acc: 0.06 - ETA: 13:27 - loss: 4.5284 - acc: 0.06 - ETA: 13:08 - loss: 4.5220 - acc: 0.06 - ETA: 12:58 - loss: 4.5022 - acc: 0.07 - ETA: 12:50 - loss: 4.5044 - acc: 0.07 - ETA: 12:46 - loss: 4.5168 - acc: 0.07 - ETA: 12:40 - loss: 4.5151 - acc: 0.07 - ETA: 12:31 - loss: 4.4936 - acc: 0.08 - ETA: 12:18 - loss: 4.4927 - acc: 0.08 - ETA: 12:08 - loss: 4.4851 - acc: 0.09 - ETA: 11:58 - loss: 4.4850 - acc: 0.09 - ETA: 11:45 - loss: 4.4826 - acc: 0.09 - ETA: 11:32 - loss: 4.4823 - acc: 0.09 - ETA: 11:20 - loss: 4.4841 - acc: 0.09 - ETA: 11:07 - loss: 4.4866 - acc: 0.09 - ETA: 10:55 - loss: 4.4878 - acc: 0.09 - ETA: 10:44 - loss: 4.4844 - acc: 0.09 - ETA: 10:32 - loss: 4.4834 - acc: 0.09 - ETA: 10:21 - loss: 4.4832 - acc: 0.09 - ETA: 10:10 - loss: 4.4820 - acc: 0.09 - ETA: 9:59 - loss: 4.4795 - acc: 0.0986 - ETA: 9:49 - loss: 4.4814 - acc: 0.098 - ETA: 9:38 - loss: 4.4833 - acc: 0.094 - ETA: 9:09 - loss: 4.4991 - acc: 0.091 - ETA: 9:00 - loss: 4.5012 - acc: 0.090 - ETA: 8:50 - loss: 4.5068 - acc: 0.089 - ETA: 8:40 - loss: 4.5032 - acc: 0.089 - ETA: 8:30 - loss: 4.5018 - acc: 0.091 - ETA: 8:20 - loss: 4.5016 - acc: 0.090 - ETA: 8:09 - loss: 4.4997 - acc: 0.092 - ETA: 7:59 - loss: 4.4974 - acc: 0.092 - ETA: 7:49 - loss: 4.4971 - acc: 0.091 - ETA: 7:38 - loss: 4.4961 - acc: 0.090 - ETA: 7:28 - loss: 4.4973 - acc: 0.088 - ETA: 7:18 - loss: 4.4968 - acc: 0.087 - ETA: 7:08 - loss: 4.4951 - acc: 0.086 - ETA: 6:58 - loss: 4.4971 - acc: 0.087 - ETA: 6:48 - loss: 4.4974 - acc: 0.085 - ETA: 6:37 - loss: 4.4968 - acc: 0.085 - ETA: 6:27 - loss: 4.4965 - acc: 0.085 - ETA: 6:17 - loss: 4.4974 - acc: 0.087 - ETA: 6:07 - loss: 4.4960 - acc: 0.086 - ETA: 5:57 - loss: 4.4974 - acc: 0.085 - ETA: 5:46 - loss: 4.4967 - acc: 0.086 - ETA: 5:36 - loss: 4.4979 - acc: 0.085 - ETA: 5:26 - loss: 4.4963 - acc: 0.085 - ETA: 5:15 - loss: 4.4978 - acc: 0.084 - ETA: 5:05 - loss: 4.4971 - acc: 0.083 - ETA: 4:55 - loss: 4.4955 - acc: 0.085 - ETA: 4:45 - loss: 4.4960 - acc: 0.083 - ETA: 4:35 - loss: 4.4956 - acc: 0.083 - ETA: 4:25 - loss: 4.4976 - acc: 0.083 - ETA: 4:14 - loss: 4.4973 - acc: 0.083 - ETA: 4:04 - loss: 4.4957 - acc: 0.082 - ETA: 3:54 - loss: 4.4972 - acc: 0.081 - ETA: 3:44 - loss: 4.4983 - acc: 0.080 - ETA: 3:34 - loss: 4.4979 - acc: 0.080 - ETA: 3:23 - loss: 4.4970 - acc: 0.080 - ETA: 3:13 - loss: 4.4962 - acc: 0.081 - ETA: 3:03 - loss: 4.4955 - acc: 0.081 - ETA: 2:53 - loss: 4.4942 - acc: 0.083 - ETA: 2:42 - loss: 4.4942 - acc: 0.084 - ETA: 2:32 - loss: 4.4942 - acc: 0.085 - ETA: 2:22 - loss: 4.4946 - acc: 0.085 - ETA: 2:12 - loss: 4.4930 - acc: 0.085 - ETA: 2:02 - loss: 4.4904 - acc: 0.086 - ETA: 1:51 - loss: 4.4887 - acc: 0.088 - ETA: 1:41 - loss: 4.4885 - acc: 0.088 - ETA: 1:31 - loss: 4.4873 - acc: 0.088 - ETA: 1:21 - loss: 4.4855 - acc: 0.088 - ETA: 1:11 - loss: 4.4856 - acc: 0.089 - ETA: 1:01 - loss: 4.4841 - acc: 0.089 - ETA: 50s - loss: 4.4846 - acc: 0.088 - ETA: 40s - loss: 4.4828 - acc: 0.09 - ETA: 30s - loss: 4.4831 - acc: 0.09 - ETA: 20s - loss: 4.4817 - acc: 0.09 - ETA: 10s - loss: 4.4816 - acc: 0.09 - 1138s 14s/step - loss: 4.4807 - acc: 0.0915 - val_loss: 4.2647 - val_acc: 0.1442\n",
      "Epoch 7/200\n"
     ]
    },
    {
     "name": "stdout",
     "output_type": "stream",
     "text": [
      "83/83 [==============================] - ETA: 13:59 - loss: 4.3666 - acc: 0.12 - ETA: 13:32 - loss: 4.3997 - acc: 0.18 - ETA: 13:19 - loss: 4.4210 - acc: 0.15 - ETA: 13:11 - loss: 4.4042 - acc: 0.15 - ETA: 12:57 - loss: 4.4043 - acc: 0.15 - ETA: 13:03 - loss: 4.4121 - acc: 0.13 - ETA: 12:51 - loss: 4.4035 - acc: 0.14 - ETA: 12:38 - loss: 4.4106 - acc: 0.14 - ETA: 12:28 - loss: 4.4115 - acc: 0.14 - ETA: 12:17 - loss: 4.4200 - acc: 0.14 - ETA: 12:05 - loss: 4.4159 - acc: 0.14 - ETA: 11:55 - loss: 4.4101 - acc: 0.14 - ETA: 11:44 - loss: 4.4124 - acc: 0.13 - ETA: 11:34 - loss: 4.4085 - acc: 0.14 - ETA: 11:24 - loss: 4.4116 - acc: 0.13 - ETA: 11:13 - loss: 4.4068 - acc: 0.14 - ETA: 11:03 - loss: 4.4128 - acc: 0.14 - ETA: 10:19 - loss: 4.4507 - acc: 0.13 - ETA: 10:12 - loss: 4.4539 - acc: 0.13 - ETA: 10:03 - loss: 4.4505 - acc: 0.13 - ETA: 9:55 - loss: 4.4479 - acc: 0.1339 - ETA: 9:47 - loss: 4.4498 - acc: 0.132 - ETA: 9:38 - loss: 4.4536 - acc: 0.130 - ETA: 9:30 - loss: 4.4513 - acc: 0.131 - ETA: 9:21 - loss: 4.4496 - acc: 0.133 - ETA: 9:12 - loss: 4.4436 - acc: 0.133 - ETA: 9:03 - loss: 4.4431 - acc: 0.135 - ETA: 8:54 - loss: 4.4461 - acc: 0.136 - ETA: 8:45 - loss: 4.4497 - acc: 0.132 - ETA: 8:35 - loss: 4.4461 - acc: 0.132 - ETA: 8:26 - loss: 4.4454 - acc: 0.134 - ETA: 8:17 - loss: 4.4485 - acc: 0.132 - ETA: 8:08 - loss: 4.4492 - acc: 0.130 - ETA: 7:58 - loss: 4.4473 - acc: 0.128 - ETA: 7:49 - loss: 4.4460 - acc: 0.128 - ETA: 7:39 - loss: 4.4442 - acc: 0.130 - ETA: 7:30 - loss: 4.4457 - acc: 0.130 - ETA: 7:20 - loss: 4.4437 - acc: 0.129 - ETA: 7:11 - loss: 4.4430 - acc: 0.131 - ETA: 7:01 - loss: 4.4404 - acc: 0.131 - ETA: 6:52 - loss: 4.4404 - acc: 0.131 - ETA: 6:42 - loss: 4.4395 - acc: 0.131 - ETA: 6:32 - loss: 4.4374 - acc: 0.132 - ETA: 6:23 - loss: 4.4367 - acc: 0.133 - ETA: 6:13 - loss: 4.4348 - acc: 0.134 - ETA: 6:03 - loss: 4.4335 - acc: 0.137 - ETA: 5:54 - loss: 4.4345 - acc: 0.136 - ETA: 5:44 - loss: 4.4349 - acc: 0.134 - ETA: 5:34 - loss: 4.4342 - acc: 0.134 - ETA: 5:24 - loss: 4.4337 - acc: 0.133 - ETA: 5:15 - loss: 4.4351 - acc: 0.133 - ETA: 5:05 - loss: 4.4349 - acc: 0.135 - ETA: 4:55 - loss: 4.4313 - acc: 0.136 - ETA: 4:46 - loss: 4.4292 - acc: 0.138 - ETA: 4:36 - loss: 4.4262 - acc: 0.141 - ETA: 4:26 - loss: 4.4267 - acc: 0.142 - ETA: 4:16 - loss: 4.4257 - acc: 0.140 - ETA: 4:06 - loss: 4.4252 - acc: 0.140 - ETA: 3:57 - loss: 4.4232 - acc: 0.140 - ETA: 3:47 - loss: 4.4212 - acc: 0.140 - ETA: 3:37 - loss: 4.4192 - acc: 0.142 - ETA: 3:27 - loss: 4.4185 - acc: 0.143 - ETA: 3:17 - loss: 4.4189 - acc: 0.144 - ETA: 3:07 - loss: 4.4180 - acc: 0.144 - ETA: 2:57 - loss: 4.4164 - acc: 0.144 - ETA: 2:48 - loss: 4.4153 - acc: 0.143 - ETA: 2:38 - loss: 4.4146 - acc: 0.143 - ETA: 2:28 - loss: 4.4137 - acc: 0.142 - ETA: 2:18 - loss: 4.4106 - acc: 0.143 - ETA: 2:08 - loss: 4.4112 - acc: 0.142 - ETA: 1:58 - loss: 4.4093 - acc: 0.143 - ETA: 1:48 - loss: 4.4087 - acc: 0.145 - ETA: 1:39 - loss: 4.4074 - acc: 0.146 - ETA: 1:29 - loss: 4.4050 - acc: 0.147 - ETA: 1:19 - loss: 4.4053 - acc: 0.147 - ETA: 1:09 - loss: 4.4037 - acc: 0.147 - ETA: 59s - loss: 4.4051 - acc: 0.146 - ETA: 49s - loss: 4.4038 - acc: 0.14 - ETA: 39s - loss: 4.4031 - acc: 0.14 - ETA: 29s - loss: 4.4029 - acc: 0.14 - ETA: 19s - loss: 4.4020 - acc: 0.14 - ETA: 9s - loss: 4.4017 - acc: 0.1502 - 1117s 13s/step - loss: 4.4004 - acc: 0.1506 - val_loss: 4.1344 - val_acc: 0.1903\n",
      "Epoch 8/200\n",
      "83/83 [==============================] - ETA: 13:46 - loss: 4.2424 - acc: 0.28 - ETA: 13:20 - loss: 4.2668 - acc: 0.23 - ETA: 13:19 - loss: 4.3175 - acc: 0.19 - ETA: 13:15 - loss: 4.3313 - acc: 0.18 - ETA: 13:02 - loss: 4.3280 - acc: 0.16 - ETA: 13:00 - loss: 4.3469 - acc: 0.15 - ETA: 13:15 - loss: 4.3344 - acc: 0.15 - ETA: 13:06 - loss: 4.3152 - acc: 0.16 - ETA: 13:00 - loss: 4.3316 - acc: 0.16 - ETA: 12:51 - loss: 4.3283 - acc: 0.16 - ETA: 12:40 - loss: 4.3331 - acc: 0.15 - ETA: 11:31 - loss: 4.4099 - acc: 0.14 - ETA: 11:25 - loss: 4.4079 - acc: 0.13 - ETA: 11:19 - loss: 4.4009 - acc: 0.14 - ETA: 11:09 - loss: 4.3934 - acc: 0.13 - ETA: 11:00 - loss: 4.3878 - acc: 0.14 - ETA: 10:51 - loss: 4.3846 - acc: 0.14 - ETA: 10:41 - loss: 4.3794 - acc: 0.14 - ETA: 10:32 - loss: 4.3747 - acc: 0.15 - ETA: 10:22 - loss: 4.3671 - acc: 0.15 - ETA: 10:14 - loss: 4.3665 - acc: 0.15 - ETA: 10:06 - loss: 4.3690 - acc: 0.15 - ETA: 9:57 - loss: 4.3656 - acc: 0.1549 - ETA: 9:50 - loss: 4.3623 - acc: 0.156 - ETA: 9:42 - loss: 4.3635 - acc: 0.153 - ETA: 9:32 - loss: 4.3608 - acc: 0.152 - ETA: 9:23 - loss: 4.3640 - acc: 0.150 - ETA: 9:13 - loss: 4.3587 - acc: 0.150 - ETA: 9:04 - loss: 4.3630 - acc: 0.149 - ETA: 8:55 - loss: 4.3614 - acc: 0.150 - ETA: 8:45 - loss: 4.3580 - acc: 0.153 - ETA: 8:35 - loss: 4.3549 - acc: 0.156 - ETA: 8:25 - loss: 4.3518 - acc: 0.155 - ETA: 8:18 - loss: 4.3551 - acc: 0.152 - ETA: 8:09 - loss: 4.3556 - acc: 0.153 - ETA: 8:00 - loss: 4.3621 - acc: 0.149 - ETA: 7:50 - loss: 4.3599 - acc: 0.153 - ETA: 7:39 - loss: 4.3532 - acc: 0.156 - ETA: 7:30 - loss: 4.3526 - acc: 0.155 - ETA: 7:21 - loss: 4.3533 - acc: 0.153 - ETA: 7:11 - loss: 4.3519 - acc: 0.154 - ETA: 7:01 - loss: 4.3517 - acc: 0.152 - ETA: 6:52 - loss: 4.3490 - acc: 0.151 - ETA: 6:42 - loss: 4.3479 - acc: 0.151 - ETA: 6:33 - loss: 4.3461 - acc: 0.151 - ETA: 6:23 - loss: 4.3455 - acc: 0.152 - ETA: 6:13 - loss: 4.3443 - acc: 0.154 - ETA: 6:03 - loss: 4.3408 - acc: 0.157 - ETA: 5:53 - loss: 4.3394 - acc: 0.158 - ETA: 5:42 - loss: 4.3384 - acc: 0.158 - ETA: 5:32 - loss: 4.3394 - acc: 0.157 - ETA: 5:22 - loss: 4.3394 - acc: 0.157 - ETA: 5:12 - loss: 4.3377 - acc: 0.159 - ETA: 5:02 - loss: 4.3380 - acc: 0.158 - ETA: 4:52 - loss: 4.3376 - acc: 0.159 - ETA: 4:41 - loss: 4.3357 - acc: 0.159 - ETA: 4:31 - loss: 4.3336 - acc: 0.160 - ETA: 4:21 - loss: 4.3303 - acc: 0.163 - ETA: 4:10 - loss: 4.3276 - acc: 0.167 - ETA: 4:00 - loss: 4.3267 - acc: 0.168 - ETA: 3:50 - loss: 4.3260 - acc: 0.168 - ETA: 3:39 - loss: 4.3268 - acc: 0.168 - ETA: 3:29 - loss: 4.3264 - acc: 0.169 - ETA: 3:18 - loss: 4.3268 - acc: 0.170 - ETA: 3:08 - loss: 4.3274 - acc: 0.170 - ETA: 2:57 - loss: 4.3263 - acc: 0.171 - ETA: 2:47 - loss: 4.3242 - acc: 0.172 - ETA: 2:37 - loss: 4.3258 - acc: 0.171 - ETA: 2:26 - loss: 4.3243 - acc: 0.172 - ETA: 2:16 - loss: 4.3240 - acc: 0.174 - ETA: 2:05 - loss: 4.3230 - acc: 0.174 - ETA: 1:55 - loss: 4.3221 - acc: 0.175 - ETA: 1:44 - loss: 4.3210 - acc: 0.176 - ETA: 1:34 - loss: 4.3204 - acc: 0.176 - ETA: 1:23 - loss: 4.3195 - acc: 0.176 - ETA: 1:13 - loss: 4.3190 - acc: 0.176 - ETA: 1:02 - loss: 4.3217 - acc: 0.176 - ETA: 52s - loss: 4.3216 - acc: 0.175 - ETA: 41s - loss: 4.3209 - acc: 0.17 - ETA: 31s - loss: 4.3194 - acc: 0.17 - ETA: 20s - loss: 4.3172 - acc: 0.17 - ETA: 10s - loss: 4.3149 - acc: 0.17 - 1165s 14s/step - loss: 4.3155 - acc: 0.1781 - val_loss: 3.9959 - val_acc: 0.2376\n",
      "Epoch 9/200\n"
     ]
    },
    {
     "name": "stdout",
     "output_type": "stream",
     "text": [
      "83/83 [==============================] - ETA: 13:58 - loss: 4.1933 - acc: 0.21 - ETA: 13:33 - loss: 4.3019 - acc: 0.12 - ETA: 13:28 - loss: 4.2898 - acc: 0.14 - ETA: 13:12 - loss: 4.2980 - acc: 0.13 - ETA: 13:04 - loss: 4.2782 - acc: 0.15 - ETA: 12:57 - loss: 4.2627 - acc: 0.15 - ETA: 12:44 - loss: 4.2609 - acc: 0.16 - ETA: 12:47 - loss: 4.2612 - acc: 0.16 - ETA: 12:38 - loss: 4.2605 - acc: 0.16 - ETA: 12:25 - loss: 4.2634 - acc: 0.16 - ETA: 12:16 - loss: 4.2542 - acc: 0.17 - ETA: 12:06 - loss: 4.2541 - acc: 0.17 - ETA: 11:55 - loss: 4.2507 - acc: 0.18 - ETA: 11:45 - loss: 4.2466 - acc: 0.18 - ETA: 11:34 - loss: 4.2360 - acc: 0.19 - ETA: 11:24 - loss: 4.2417 - acc: 0.19 - ETA: 11:14 - loss: 4.2452 - acc: 0.19 - ETA: 11:03 - loss: 4.2442 - acc: 0.19 - ETA: 10:53 - loss: 4.2350 - acc: 0.19 - ETA: 10:43 - loss: 4.2443 - acc: 0.19 - ETA: 10:32 - loss: 4.2401 - acc: 0.19 - ETA: 10:22 - loss: 4.2379 - acc: 0.19 - ETA: 10:12 - loss: 4.2394 - acc: 0.19 - ETA: 10:01 - loss: 4.2364 - acc: 0.19 - ETA: 9:51 - loss: 4.2381 - acc: 0.1950 - ETA: 9:41 - loss: 4.2372 - acc: 0.198 - ETA: 9:31 - loss: 4.2370 - acc: 0.197 - ETA: 9:21 - loss: 4.2418 - acc: 0.193 - ETA: 9:10 - loss: 4.2444 - acc: 0.194 - ETA: 9:00 - loss: 4.2427 - acc: 0.195 - ETA: 8:50 - loss: 4.2439 - acc: 0.192 - ETA: 8:40 - loss: 4.2446 - acc: 0.192 - ETA: 8:30 - loss: 4.2433 - acc: 0.194 - ETA: 8:20 - loss: 4.2427 - acc: 0.193 - ETA: 8:09 - loss: 4.2437 - acc: 0.194 - ETA: 7:59 - loss: 4.2461 - acc: 0.192 - ETA: 7:48 - loss: 4.2453 - acc: 0.191 - ETA: 7:38 - loss: 4.2450 - acc: 0.192 - ETA: 7:28 - loss: 4.2457 - acc: 0.189 - ETA: 7:18 - loss: 4.2430 - acc: 0.189 - ETA: 7:08 - loss: 4.2417 - acc: 0.191 - ETA: 6:58 - loss: 4.2393 - acc: 0.192 - ETA: 6:47 - loss: 4.2342 - acc: 0.194 - ETA: 6:37 - loss: 4.2317 - acc: 0.196 - ETA: 6:27 - loss: 4.2287 - acc: 0.200 - ETA: 6:16 - loss: 4.2254 - acc: 0.203 - ETA: 6:06 - loss: 4.2231 - acc: 0.204 - ETA: 5:58 - loss: 4.2201 - acc: 0.206 - ETA: 5:48 - loss: 4.2208 - acc: 0.206 - ETA: 5:38 - loss: 4.2192 - acc: 0.208 - ETA: 5:28 - loss: 4.2172 - acc: 0.208 - ETA: 5:18 - loss: 4.2175 - acc: 0.208 - ETA: 5:08 - loss: 4.2163 - acc: 0.209 - ETA: 4:53 - loss: 4.2267 - acc: 0.205 - ETA: 4:43 - loss: 4.2252 - acc: 0.206 - ETA: 4:32 - loss: 4.2262 - acc: 0.207 - ETA: 4:22 - loss: 4.2269 - acc: 0.206 - ETA: 4:12 - loss: 4.2270 - acc: 0.206 - ETA: 4:02 - loss: 4.2274 - acc: 0.206 - ETA: 3:52 - loss: 4.2239 - acc: 0.209 - ETA: 3:42 - loss: 4.2263 - acc: 0.207 - ETA: 3:32 - loss: 4.2256 - acc: 0.206 - ETA: 3:22 - loss: 4.2251 - acc: 0.207 - ETA: 3:12 - loss: 4.2273 - acc: 0.206 - ETA: 3:02 - loss: 4.2311 - acc: 0.204 - ETA: 2:51 - loss: 4.2276 - acc: 0.206 - ETA: 2:41 - loss: 4.2273 - acc: 0.207 - ETA: 2:31 - loss: 4.2281 - acc: 0.208 - ETA: 2:21 - loss: 4.2263 - acc: 0.208 - ETA: 2:11 - loss: 4.2239 - acc: 0.209 - ETA: 2:01 - loss: 4.2225 - acc: 0.210 - ETA: 1:51 - loss: 4.2207 - acc: 0.211 - ETA: 1:41 - loss: 4.2187 - acc: 0.212 - ETA: 1:31 - loss: 4.2163 - acc: 0.213 - ETA: 1:20 - loss: 4.2173 - acc: 0.212 - ETA: 1:10 - loss: 4.2158 - acc: 0.213 - ETA: 1:00 - loss: 4.2161 - acc: 0.213 - ETA: 50s - loss: 4.2169 - acc: 0.213 - ETA: 40s - loss: 4.2158 - acc: 0.21 - ETA: 30s - loss: 4.2163 - acc: 0.21 - ETA: 20s - loss: 4.2166 - acc: 0.21 - ETA: 10s - loss: 4.2159 - acc: 0.21 - 1137s 14s/step - loss: 4.2154 - acc: 0.2135 - val_loss: 3.8496 - val_acc: 0.2764\n",
      "Epoch 10/200\n",
      "83/83 [==============================] - ETA: 14:11 - loss: 4.2579 - acc: 0.18 - ETA: 13:37 - loss: 4.2400 - acc: 0.18 - ETA: 13:28 - loss: 4.1993 - acc: 0.18 - ETA: 13:20 - loss: 4.2518 - acc: 0.16 - ETA: 13:05 - loss: 4.2531 - acc: 0.16 - ETA: 12:58 - loss: 4.2161 - acc: 0.18 - ETA: 12:46 - loss: 4.2155 - acc: 0.18 - ETA: 12:35 - loss: 4.2338 - acc: 0.16 - ETA: 12:37 - loss: 4.2252 - acc: 0.16 - ETA: 12:26 - loss: 4.2314 - acc: 0.15 - ETA: 12:16 - loss: 4.2163 - acc: 0.18 - ETA: 12:06 - loss: 4.2163 - acc: 0.17 - ETA: 11:55 - loss: 4.2020 - acc: 0.18 - ETA: 11:45 - loss: 4.2028 - acc: 0.19 - ETA: 11:35 - loss: 4.2018 - acc: 0.19 - ETA: 11:24 - loss: 4.2039 - acc: 0.19 - ETA: 11:13 - loss: 4.1964 - acc: 0.20 - ETA: 11:03 - loss: 4.1979 - acc: 0.20 - ETA: 10:53 - loss: 4.2041 - acc: 0.20 - ETA: 10:42 - loss: 4.1901 - acc: 0.21 - ETA: 10:30 - loss: 4.1753 - acc: 0.22 - ETA: 10:20 - loss: 4.1761 - acc: 0.22 - ETA: 10:11 - loss: 4.1699 - acc: 0.22 - ETA: 10:00 - loss: 4.1696 - acc: 0.22 - ETA: 9:50 - loss: 4.1761 - acc: 0.2263 - ETA: 9:40 - loss: 4.1679 - acc: 0.228 - ETA: 9:29 - loss: 4.1693 - acc: 0.225 - ETA: 9:19 - loss: 4.1680 - acc: 0.227 - ETA: 9:09 - loss: 4.1684 - acc: 0.229 - ETA: 9:00 - loss: 4.1630 - acc: 0.233 - ETA: 8:49 - loss: 4.1596 - acc: 0.236 - ETA: 8:39 - loss: 4.1605 - acc: 0.238 - ETA: 8:28 - loss: 4.1587 - acc: 0.240 - ETA: 8:18 - loss: 4.1537 - acc: 0.244 - ETA: 8:08 - loss: 4.1533 - acc: 0.245 - ETA: 7:58 - loss: 4.1539 - acc: 0.246 - ETA: 7:48 - loss: 4.1521 - acc: 0.248 - ETA: 7:37 - loss: 4.1491 - acc: 0.250 - ETA: 7:16 - loss: 4.1658 - acc: 0.243 - ETA: 7:06 - loss: 4.1712 - acc: 0.239 - ETA: 6:56 - loss: 4.1733 - acc: 0.239 - ETA: 6:47 - loss: 4.1720 - acc: 0.240 - ETA: 6:37 - loss: 4.1708 - acc: 0.239 - ETA: 6:27 - loss: 4.1703 - acc: 0.237 - ETA: 6:18 - loss: 4.1716 - acc: 0.236 - ETA: 6:08 - loss: 4.1708 - acc: 0.235 - ETA: 5:58 - loss: 4.1698 - acc: 0.236 - ETA: 5:48 - loss: 4.1688 - acc: 0.235 - ETA: 5:38 - loss: 4.1686 - acc: 0.237 - ETA: 5:28 - loss: 4.1686 - acc: 0.235 - ETA: 5:19 - loss: 4.1677 - acc: 0.236 - ETA: 5:09 - loss: 4.1670 - acc: 0.237 - ETA: 4:59 - loss: 4.1663 - acc: 0.238 - ETA: 4:49 - loss: 4.1643 - acc: 0.239 - ETA: 4:39 - loss: 4.1625 - acc: 0.239 - ETA: 4:29 - loss: 4.1594 - acc: 0.241 - ETA: 4:20 - loss: 4.1603 - acc: 0.240 - ETA: 4:10 - loss: 4.1601 - acc: 0.240 - ETA: 4:00 - loss: 4.1596 - acc: 0.241 - ETA: 3:50 - loss: 4.1596 - acc: 0.243 - ETA: 3:40 - loss: 4.1562 - acc: 0.244 - ETA: 3:30 - loss: 4.1563 - acc: 0.245 - ETA: 3:20 - loss: 4.1548 - acc: 0.246 - ETA: 3:10 - loss: 4.1536 - acc: 0.247 - ETA: 3:00 - loss: 4.1536 - acc: 0.247 - ETA: 2:50 - loss: 4.1533 - acc: 0.247 - ETA: 2:40 - loss: 4.1533 - acc: 0.248 - ETA: 2:30 - loss: 4.1519 - acc: 0.248 - ETA: 2:20 - loss: 4.1521 - acc: 0.247 - ETA: 2:10 - loss: 4.1541 - acc: 0.245 - ETA: 2:00 - loss: 4.1555 - acc: 0.244 - ETA: 1:50 - loss: 4.1526 - acc: 0.246 - ETA: 1:40 - loss: 4.1528 - acc: 0.246 - ETA: 1:30 - loss: 4.1517 - acc: 0.247 - ETA: 1:20 - loss: 4.1494 - acc: 0.249 - ETA: 1:10 - loss: 4.1492 - acc: 0.249 - ETA: 1:00 - loss: 4.1482 - acc: 0.250 - ETA: 50s - loss: 4.1470 - acc: 0.251 - ETA: 40s - loss: 4.1499 - acc: 0.24 - ETA: 30s - loss: 4.1510 - acc: 0.24 - ETA: 20s - loss: 4.1491 - acc: 0.24 - ETA: 10s - loss: 4.1477 - acc: 0.24 - 1137s 14s/step - loss: 4.1468 - acc: 0.2493 - val_loss: 3.6968 - val_acc: 0.3103\n",
      "Epoch 11/200\n"
     ]
    },
    {
     "name": "stdout",
     "output_type": "stream",
     "text": [
      "83/83 [==============================] - ETA: 14:16 - loss: 3.9216 - acc: 0.31 - ETA: 13:48 - loss: 4.0472 - acc: 0.28 - ETA: 13:38 - loss: 4.0933 - acc: 0.25 - ETA: 13:27 - loss: 4.1349 - acc: 0.23 - ETA: 13:10 - loss: 4.1497 - acc: 0.24 - ETA: 13:01 - loss: 4.1441 - acc: 0.23 - ETA: 12:51 - loss: 4.1377 - acc: 0.25 - ETA: 12:38 - loss: 4.1338 - acc: 0.25 - ETA: 12:29 - loss: 4.1308 - acc: 0.26 - ETA: 12:40 - loss: 4.1140 - acc: 0.26 - ETA: 12:32 - loss: 4.1239 - acc: 0.26 - ETA: 12:21 - loss: 4.1302 - acc: 0.26 - ETA: 12:10 - loss: 4.1181 - acc: 0.26 - ETA: 11:57 - loss: 4.1246 - acc: 0.26 - ETA: 11:47 - loss: 4.1158 - acc: 0.26 - ETA: 11:36 - loss: 4.1208 - acc: 0.26 - ETA: 11:24 - loss: 4.1105 - acc: 0.27 - ETA: 11:14 - loss: 4.1115 - acc: 0.26 - ETA: 11:02 - loss: 4.1158 - acc: 0.26 - ETA: 10:51 - loss: 4.1050 - acc: 0.27 - ETA: 10:41 - loss: 4.1046 - acc: 0.27 - ETA: 10:29 - loss: 4.1040 - acc: 0.27 - ETA: 10:19 - loss: 4.0988 - acc: 0.27 - ETA: 10:08 - loss: 4.0945 - acc: 0.27 - ETA: 9:58 - loss: 4.0936 - acc: 0.2825 - ETA: 9:47 - loss: 4.0938 - acc: 0.280 - ETA: 9:37 - loss: 4.0851 - acc: 0.283 - ETA: 9:26 - loss: 4.0857 - acc: 0.283 - ETA: 9:16 - loss: 4.0875 - acc: 0.282 - ETA: 9:05 - loss: 4.0892 - acc: 0.280 - ETA: 8:55 - loss: 4.0857 - acc: 0.278 - ETA: 8:45 - loss: 4.0812 - acc: 0.278 - ETA: 8:34 - loss: 4.0822 - acc: 0.274 - ETA: 8:24 - loss: 4.0799 - acc: 0.275 - ETA: 8:14 - loss: 4.0739 - acc: 0.282 - ETA: 8:03 - loss: 4.0684 - acc: 0.284 - ETA: 7:54 - loss: 4.0673 - acc: 0.284 - ETA: 7:44 - loss: 4.0682 - acc: 0.281 - ETA: 7:35 - loss: 4.0643 - acc: 0.282 - ETA: 7:25 - loss: 4.0655 - acc: 0.282 - ETA: 7:15 - loss: 4.0638 - acc: 0.282 - ETA: 7:06 - loss: 4.0642 - acc: 0.282 - ETA: 6:56 - loss: 4.0639 - acc: 0.280 - ETA: 6:46 - loss: 4.0603 - acc: 0.283 - ETA: 6:37 - loss: 4.0601 - acc: 0.282 - ETA: 6:27 - loss: 4.0583 - acc: 0.283 - ETA: 6:16 - loss: 4.0563 - acc: 0.282 - ETA: 6:06 - loss: 4.0558 - acc: 0.281 - ETA: 5:55 - loss: 4.0535 - acc: 0.282 - ETA: 5:45 - loss: 4.0501 - acc: 0.285 - ETA: 5:34 - loss: 4.0520 - acc: 0.283 - ETA: 5:23 - loss: 4.0516 - acc: 0.285 - ETA: 5:13 - loss: 4.0473 - acc: 0.286 - ETA: 5:02 - loss: 4.0474 - acc: 0.285 - ETA: 4:52 - loss: 4.0482 - acc: 0.284 - ETA: 4:42 - loss: 4.0459 - acc: 0.285 - ETA: 4:31 - loss: 4.0494 - acc: 0.284 - ETA: 4:21 - loss: 4.0486 - acc: 0.283 - ETA: 4:11 - loss: 4.0484 - acc: 0.283 - ETA: 4:00 - loss: 4.0450 - acc: 0.285 - ETA: 3:50 - loss: 4.0441 - acc: 0.286 - ETA: 3:40 - loss: 4.0435 - acc: 0.286 - ETA: 3:30 - loss: 4.0439 - acc: 0.285 - ETA: 3:20 - loss: 4.0456 - acc: 0.285 - ETA: 3:09 - loss: 4.0423 - acc: 0.287 - ETA: 2:59 - loss: 4.0428 - acc: 0.286 - ETA: 2:48 - loss: 4.0433 - acc: 0.285 - ETA: 2:37 - loss: 4.0404 - acc: 0.287 - ETA: 2:27 - loss: 4.0405 - acc: 0.287 - ETA: 2:17 - loss: 4.0415 - acc: 0.287 - ETA: 2:06 - loss: 4.0418 - acc: 0.285 - ETA: 1:56 - loss: 4.0420 - acc: 0.285 - ETA: 1:46 - loss: 4.0423 - acc: 0.285 - ETA: 1:35 - loss: 4.0414 - acc: 0.285 - ETA: 1:25 - loss: 4.0393 - acc: 0.285 - ETA: 1:14 - loss: 4.0408 - acc: 0.283 - ETA: 1:04 - loss: 4.0394 - acc: 0.283 - ETA: 52s - loss: 4.0452 - acc: 0.279 - ETA: 42s - loss: 4.0445 - acc: 0.27 - ETA: 31s - loss: 4.0442 - acc: 0.28 - ETA: 21s - loss: 4.0444 - acc: 0.28 - ETA: 10s - loss: 4.0455 - acc: 0.28 - 1168s 14s/step - loss: 4.0454 - acc: 0.2813 - val_loss: 3.5387 - val_acc: 0.3479\n",
      "Epoch 12/200\n",
      "83/83 [==============================] - ETA: 13:36 - loss: 4.0472 - acc: 0.28 - ETA: 13:17 - loss: 4.0267 - acc: 0.25 - ETA: 13:10 - loss: 3.9737 - acc: 0.30 - ETA: 13:03 - loss: 4.0214 - acc: 0.27 - ETA: 12:49 - loss: 4.0188 - acc: 0.27 - ETA: 12:41 - loss: 3.9966 - acc: 0.27 - ETA: 12:30 - loss: 4.0012 - acc: 0.27 - ETA: 12:19 - loss: 4.0015 - acc: 0.26 - ETA: 12:11 - loss: 3.9959 - acc: 0.26 - ETA: 12:00 - loss: 4.0090 - acc: 0.26 - ETA: 12:00 - loss: 4.0135 - acc: 0.26 - ETA: 11:50 - loss: 4.0022 - acc: 0.27 - ETA: 11:39 - loss: 3.9950 - acc: 0.28 - ETA: 11:29 - loss: 3.9932 - acc: 0.27 - ETA: 11:20 - loss: 3.9818 - acc: 0.28 - ETA: 11:09 - loss: 3.9785 - acc: 0.28 - ETA: 11:00 - loss: 3.9756 - acc: 0.28 - ETA: 10:49 - loss: 3.9759 - acc: 0.28 - ETA: 10:39 - loss: 3.9750 - acc: 0.28 - ETA: 10:30 - loss: 3.9837 - acc: 0.28 - ETA: 10:19 - loss: 3.9808 - acc: 0.28 - ETA: 10:09 - loss: 3.9705 - acc: 0.28 - ETA: 10:00 - loss: 3.9741 - acc: 0.28 - ETA: 9:49 - loss: 3.9741 - acc: 0.2878 - ETA: 9:39 - loss: 3.9701 - acc: 0.291 - ETA: 9:29 - loss: 3.9721 - acc: 0.288 - ETA: 9:19 - loss: 3.9719 - acc: 0.290 - ETA: 9:10 - loss: 3.9658 - acc: 0.295 - ETA: 9:00 - loss: 3.9652 - acc: 0.296 - ETA: 8:50 - loss: 3.9685 - acc: 0.295 - ETA: 8:40 - loss: 3.9652 - acc: 0.298 - ETA: 8:29 - loss: 3.9659 - acc: 0.295 - ETA: 8:20 - loss: 3.9651 - acc: 0.296 - ETA: 8:09 - loss: 3.9647 - acc: 0.297 - ETA: 7:59 - loss: 3.9643 - acc: 0.298 - ETA: 7:50 - loss: 3.9662 - acc: 0.299 - ETA: 7:39 - loss: 3.9685 - acc: 0.296 - ETA: 7:30 - loss: 3.9725 - acc: 0.294 - ETA: 7:09 - loss: 3.9915 - acc: 0.286 - ETA: 7:00 - loss: 3.9903 - acc: 0.284 - ETA: 6:50 - loss: 3.9880 - acc: 0.284 - ETA: 6:41 - loss: 3.9893 - acc: 0.281 - ETA: 6:31 - loss: 3.9883 - acc: 0.280 - ETA: 6:21 - loss: 3.9882 - acc: 0.280 - ETA: 6:12 - loss: 3.9868 - acc: 0.280 - ETA: 6:02 - loss: 3.9886 - acc: 0.279 - ETA: 5:52 - loss: 3.9872 - acc: 0.278 - ETA: 5:43 - loss: 3.9855 - acc: 0.279 - ETA: 5:33 - loss: 3.9834 - acc: 0.278 - ETA: 5:23 - loss: 3.9813 - acc: 0.280 - ETA: 5:14 - loss: 3.9773 - acc: 0.284 - ETA: 5:04 - loss: 3.9791 - acc: 0.284 - ETA: 4:54 - loss: 3.9802 - acc: 0.281 - ETA: 4:44 - loss: 3.9803 - acc: 0.283 - ETA: 4:35 - loss: 3.9795 - acc: 0.283 - ETA: 4:25 - loss: 3.9744 - acc: 0.286 - ETA: 4:15 - loss: 3.9735 - acc: 0.288 - ETA: 4:06 - loss: 3.9733 - acc: 0.288 - ETA: 3:56 - loss: 3.9744 - acc: 0.289 - ETA: 3:46 - loss: 3.9732 - acc: 0.289 - ETA: 3:36 - loss: 3.9706 - acc: 0.291 - ETA: 3:26 - loss: 3.9726 - acc: 0.289 - ETA: 3:17 - loss: 3.9727 - acc: 0.288 - ETA: 3:07 - loss: 3.9706 - acc: 0.289 - ETA: 2:57 - loss: 3.9706 - acc: 0.289 - ETA: 2:47 - loss: 3.9669 - acc: 0.290 - ETA: 2:38 - loss: 3.9662 - acc: 0.289 - ETA: 2:28 - loss: 3.9661 - acc: 0.290 - ETA: 2:18 - loss: 3.9673 - acc: 0.289 - ETA: 2:08 - loss: 3.9659 - acc: 0.290 - ETA: 1:58 - loss: 3.9626 - acc: 0.292 - ETA: 1:48 - loss: 3.9630 - acc: 0.293 - ETA: 1:39 - loss: 3.9639 - acc: 0.292 - ETA: 1:29 - loss: 3.9660 - acc: 0.292 - ETA: 1:19 - loss: 3.9665 - acc: 0.292 - ETA: 1:09 - loss: 3.9666 - acc: 0.292 - ETA: 59s - loss: 3.9615 - acc: 0.294 - ETA: 49s - loss: 3.9618 - acc: 0.29 - ETA: 39s - loss: 3.9596 - acc: 0.29 - ETA: 29s - loss: 3.9595 - acc: 0.29 - ETA: 19s - loss: 3.9588 - acc: 0.29 - ETA: 9s - loss: 3.9557 - acc: 0.2973 - 1129s 14s/step - loss: 3.9547 - acc: 0.2960 - val_loss: 3.3811 - val_acc: 0.3842\n",
      "Epoch 13/200\n"
     ]
    },
    {
     "name": "stdout",
     "output_type": "stream",
     "text": [
      "83/83 [==============================] - ETA: 14:10 - loss: 3.9563 - acc: 0.34 - ETA: 14:06 - loss: 3.8016 - acc: 0.37 - ETA: 14:07 - loss: 3.8364 - acc: 0.40 - ETA: 13:52 - loss: 3.8132 - acc: 0.39 - ETA: 13:44 - loss: 3.8688 - acc: 0.37 - ETA: 13:30 - loss: 3.8782 - acc: 0.36 - ETA: 13:13 - loss: 3.9020 - acc: 0.34 - ETA: 13:03 - loss: 3.8928 - acc: 0.33 - ETA: 12:59 - loss: 3.8859 - acc: 0.34 - ETA: 12:44 - loss: 3.8858 - acc: 0.34 - ETA: 12:33 - loss: 3.8891 - acc: 0.33 - ETA: 12:33 - loss: 3.8713 - acc: 0.34 - ETA: 12:26 - loss: 3.8681 - acc: 0.34 - ETA: 12:32 - loss: 3.8736 - acc: 0.34 - ETA: 12:23 - loss: 3.8843 - acc: 0.33 - ETA: 12:13 - loss: 3.8763 - acc: 0.34 - ETA: 12:05 - loss: 3.8757 - acc: 0.33 - ETA: 11:55 - loss: 3.8662 - acc: 0.34 - ETA: 11:46 - loss: 3.8710 - acc: 0.34 - ETA: 11:37 - loss: 3.8643 - acc: 0.34 - ETA: 11:27 - loss: 3.8715 - acc: 0.34 - ETA: 11:15 - loss: 3.8697 - acc: 0.34 - ETA: 11:03 - loss: 3.8768 - acc: 0.34 - ETA: 10:52 - loss: 3.8812 - acc: 0.33 - ETA: 10:41 - loss: 3.8813 - acc: 0.33 - ETA: 10:30 - loss: 3.8874 - acc: 0.33 - ETA: 10:20 - loss: 3.8869 - acc: 0.32 - ETA: 10:09 - loss: 3.8822 - acc: 0.33 - ETA: 9:38 - loss: 3.9108 - acc: 0.3211 - ETA: 9:29 - loss: 3.9120 - acc: 0.324 - ETA: 9:21 - loss: 3.9038 - acc: 0.325 - ETA: 9:13 - loss: 3.9053 - acc: 0.323 - ETA: 9:01 - loss: 3.9058 - acc: 0.322 - ETA: 8:50 - loss: 3.9079 - acc: 0.318 - ETA: 8:42 - loss: 3.9060 - acc: 0.317 - ETA: 8:31 - loss: 3.9023 - acc: 0.321 - ETA: 8:22 - loss: 3.8977 - acc: 0.323 - ETA: 8:11 - loss: 3.8917 - acc: 0.326 - ETA: 8:00 - loss: 3.8910 - acc: 0.329 - ETA: 7:49 - loss: 3.8956 - acc: 0.325 - ETA: 7:39 - loss: 3.8968 - acc: 0.327 - ETA: 7:28 - loss: 3.8992 - acc: 0.325 - ETA: 7:17 - loss: 3.8917 - acc: 0.332 - ETA: 7:06 - loss: 3.8886 - acc: 0.333 - ETA: 6:56 - loss: 3.8885 - acc: 0.336 - ETA: 6:44 - loss: 3.8844 - acc: 0.334 - ETA: 6:33 - loss: 3.8825 - acc: 0.335 - ETA: 6:22 - loss: 3.8855 - acc: 0.334 - ETA: 6:10 - loss: 3.8841 - acc: 0.336 - ETA: 6:00 - loss: 3.8854 - acc: 0.333 - ETA: 5:50 - loss: 3.8857 - acc: 0.332 - ETA: 5:39 - loss: 3.8824 - acc: 0.331 - ETA: 5:28 - loss: 3.8799 - acc: 0.332 - ETA: 5:18 - loss: 3.8776 - acc: 0.332 - ETA: 5:07 - loss: 3.8756 - acc: 0.335 - ETA: 4:56 - loss: 3.8757 - acc: 0.335 - ETA: 4:45 - loss: 3.8741 - acc: 0.337 - ETA: 4:34 - loss: 3.8755 - acc: 0.337 - ETA: 4:23 - loss: 3.8778 - acc: 0.337 - ETA: 4:12 - loss: 3.8753 - acc: 0.337 - ETA: 4:01 - loss: 3.8768 - acc: 0.334 - ETA: 3:50 - loss: 3.8757 - acc: 0.336 - ETA: 3:39 - loss: 3.8771 - acc: 0.333 - ETA: 3:28 - loss: 3.8719 - acc: 0.336 - ETA: 3:17 - loss: 3.8702 - acc: 0.336 - ETA: 3:06 - loss: 3.8675 - acc: 0.337 - ETA: 2:55 - loss: 3.8706 - acc: 0.335 - ETA: 2:44 - loss: 3.8694 - acc: 0.335 - ETA: 2:33 - loss: 3.8669 - acc: 0.335 - ETA: 2:23 - loss: 3.8643 - acc: 0.335 - ETA: 2:12 - loss: 3.8668 - acc: 0.334 - ETA: 2:01 - loss: 3.8682 - acc: 0.332 - ETA: 1:50 - loss: 3.8676 - acc: 0.333 - ETA: 1:39 - loss: 3.8668 - acc: 0.334 - ETA: 1:28 - loss: 3.8651 - acc: 0.335 - ETA: 1:17 - loss: 3.8645 - acc: 0.334 - ETA: 1:06 - loss: 3.8637 - acc: 0.334 - ETA: 55s - loss: 3.8631 - acc: 0.334 - ETA: 44s - loss: 3.8605 - acc: 0.33 - ETA: 33s - loss: 3.8590 - acc: 0.33 - ETA: 22s - loss: 3.8589 - acc: 0.33 - ETA: 11s - loss: 3.8603 - acc: 0.33 - 1265s 15s/step - loss: 3.8597 - acc: 0.3366 - val_loss: 3.2206 - val_acc: 0.4048\n",
      "Epoch 14/200\n",
      "83/83 [==============================] - ETA: 15:55 - loss: 3.6601 - acc: 0.56 - ETA: 15:29 - loss: 3.8164 - acc: 0.45 - ETA: 15:18 - loss: 3.8068 - acc: 0.41 - ETA: 15:08 - loss: 3.8105 - acc: 0.40 - ETA: 14:54 - loss: 3.8219 - acc: 0.38 - ETA: 14:39 - loss: 3.8028 - acc: 0.38 - ETA: 14:28 - loss: 3.7972 - acc: 0.38 - ETA: 14:16 - loss: 3.8078 - acc: 0.37 - ETA: 14:03 - loss: 3.8012 - acc: 0.37 - ETA: 13:52 - loss: 3.7933 - acc: 0.37 - ETA: 13:41 - loss: 3.7920 - acc: 0.37 - ETA: 13:29 - loss: 3.7791 - acc: 0.37 - ETA: 13:24 - loss: 3.7751 - acc: 0.37 - ETA: 13:15 - loss: 3.7730 - acc: 0.37 - ETA: 13:08 - loss: 3.7858 - acc: 0.37 - ETA: 12:55 - loss: 3.7816 - acc: 0.37 - ETA: 12:40 - loss: 3.7808 - acc: 0.37 - ETA: 12:29 - loss: 3.7950 - acc: 0.36 - ETA: 12:17 - loss: 3.7929 - acc: 0.37 - ETA: 12:03 - loss: 3.7883 - acc: 0.36 - ETA: 11:52 - loss: 3.7874 - acc: 0.36 - ETA: 11:38 - loss: 3.7859 - acc: 0.36 - ETA: 11:26 - loss: 3.7860 - acc: 0.36 - ETA: 11:14 - loss: 3.7841 - acc: 0.35 - ETA: 11:03 - loss: 3.7774 - acc: 0.35 - ETA: 10:52 - loss: 3.7812 - acc: 0.36 - ETA: 10:42 - loss: 3.7789 - acc: 0.36 - ETA: 10:31 - loss: 3.7758 - acc: 0.36 - ETA: 10:21 - loss: 3.7759 - acc: 0.36 - ETA: 10:10 - loss: 3.7764 - acc: 0.36 - ETA: 9:40 - loss: 3.8147 - acc: 0.3498 - ETA: 9:29 - loss: 3.8203 - acc: 0.346 - ETA: 9:18 - loss: 3.8198 - acc: 0.345 - ETA: 9:08 - loss: 3.8127 - acc: 0.349 - ETA: 8:58 - loss: 3.8097 - acc: 0.350 - ETA: 8:46 - loss: 3.8073 - acc: 0.350 - ETA: 8:35 - loss: 3.8086 - acc: 0.349 - ETA: 8:24 - loss: 3.8072 - acc: 0.348 - ETA: 8:12 - loss: 3.8058 - acc: 0.350 - ETA: 8:01 - loss: 3.8023 - acc: 0.351 - ETA: 7:50 - loss: 3.8062 - acc: 0.349 - ETA: 7:39 - loss: 3.8024 - acc: 0.350 - ETA: 7:28 - loss: 3.7930 - acc: 0.354 - ETA: 7:17 - loss: 3.7876 - acc: 0.357 - ETA: 7:07 - loss: 3.7888 - acc: 0.355 - ETA: 6:57 - loss: 3.7911 - acc: 0.354 - ETA: 6:46 - loss: 3.7861 - acc: 0.357 - ETA: 6:35 - loss: 3.7835 - acc: 0.359 - ETA: 6:25 - loss: 3.7802 - acc: 0.358 - ETA: 6:14 - loss: 3.7796 - acc: 0.358 - ETA: 6:03 - loss: 3.7788 - acc: 0.358 - ETA: 5:53 - loss: 3.7795 - acc: 0.357 - ETA: 5:42 - loss: 3.7799 - acc: 0.359 - ETA: 5:31 - loss: 3.7783 - acc: 0.360 - ETA: 5:20 - loss: 3.7760 - acc: 0.361 - ETA: 5:08 - loss: 3.7774 - acc: 0.362 - ETA: 4:56 - loss: 3.7761 - acc: 0.363 - ETA: 4:44 - loss: 3.7767 - acc: 0.362 - ETA: 4:32 - loss: 3.7764 - acc: 0.363 - ETA: 4:21 - loss: 3.7771 - acc: 0.363 - ETA: 4:09 - loss: 3.7768 - acc: 0.363 - ETA: 3:57 - loss: 3.7758 - acc: 0.362 - ETA: 3:45 - loss: 3.7755 - acc: 0.361 - ETA: 3:34 - loss: 3.7739 - acc: 0.362 - ETA: 3:22 - loss: 3.7740 - acc: 0.363 - ETA: 3:10 - loss: 3.7726 - acc: 0.363 - ETA: 2:59 - loss: 3.7707 - acc: 0.362 - ETA: 2:47 - loss: 3.7703 - acc: 0.362 - ETA: 2:36 - loss: 3.7690 - acc: 0.362 - ETA: 2:25 - loss: 3.7655 - acc: 0.363 - ETA: 2:13 - loss: 3.7665 - acc: 0.361 - ETA: 2:02 - loss: 3.7672 - acc: 0.360 - ETA: 1:51 - loss: 3.7670 - acc: 0.360 - ETA: 1:39 - loss: 3.7662 - acc: 0.359 - ETA: 1:28 - loss: 3.7683 - acc: 0.359 - ETA: 1:17 - loss: 3.7680 - acc: 0.359 - ETA: 1:06 - loss: 3.7643 - acc: 0.362 - ETA: 55s - loss: 3.7634 - acc: 0.362 - ETA: 44s - loss: 3.7657 - acc: 0.36 - ETA: 33s - loss: 3.7658 - acc: 0.36 - ETA: 22s - loss: 3.7640 - acc: 0.36 - ETA: 10s - loss: 3.7645 - acc: 0.35 - 1209s 15s/step - loss: 3.7608 - acc: 0.3619 - val_loss: 3.0616 - val_acc: 0.4303\n",
      "Epoch 15/200\n"
     ]
    },
    {
     "name": "stdout",
     "output_type": "stream",
     "text": [
      "83/83 [==============================] - ETA: 13:35 - loss: 3.6575 - acc: 0.34 - ETA: 13:41 - loss: 3.7077 - acc: 0.35 - ETA: 13:35 - loss: 3.7511 - acc: 0.33 - ETA: 13:26 - loss: 3.7400 - acc: 0.35 - ETA: 13:28 - loss: 3.7192 - acc: 0.37 - ETA: 13:23 - loss: 3.6909 - acc: 0.39 - ETA: 13:11 - loss: 3.6957 - acc: 0.41 - ETA: 12:58 - loss: 3.6913 - acc: 0.41 - ETA: 12:42 - loss: 3.7187 - acc: 0.39 - ETA: 12:29 - loss: 3.7135 - acc: 0.40 - ETA: 12:18 - loss: 3.6931 - acc: 0.41 - ETA: 12:04 - loss: 3.6993 - acc: 0.40 - ETA: 11:52 - loss: 3.6934 - acc: 0.40 - ETA: 11:48 - loss: 3.6818 - acc: 0.41 - ETA: 11:35 - loss: 3.6785 - acc: 0.41 - ETA: 11:24 - loss: 3.6740 - acc: 0.41 - ETA: 11:12 - loss: 3.6800 - acc: 0.41 - ETA: 11:02 - loss: 3.6937 - acc: 0.40 - ETA: 10:51 - loss: 3.6895 - acc: 0.40 - ETA: 10:40 - loss: 3.6756 - acc: 0.41 - ETA: 10:30 - loss: 3.6656 - acc: 0.41 - ETA: 10:19 - loss: 3.6687 - acc: 0.40 - ETA: 10:08 - loss: 3.6685 - acc: 0.40 - ETA: 9:58 - loss: 3.6766 - acc: 0.4049 - ETA: 9:47 - loss: 3.6790 - acc: 0.405 - ETA: 9:37 - loss: 3.6870 - acc: 0.399 - ETA: 9:27 - loss: 3.6869 - acc: 0.395 - ETA: 9:16 - loss: 3.6798 - acc: 0.401 - ETA: 9:06 - loss: 3.6869 - acc: 0.397 - ETA: 8:55 - loss: 3.6887 - acc: 0.396 - ETA: 8:45 - loss: 3.6881 - acc: 0.397 - ETA: 8:35 - loss: 3.6911 - acc: 0.392 - ETA: 8:24 - loss: 3.6898 - acc: 0.391 - ETA: 8:14 - loss: 3.6870 - acc: 0.388 - ETA: 8:04 - loss: 3.6881 - acc: 0.384 - ETA: 7:54 - loss: 3.6875 - acc: 0.385 - ETA: 7:43 - loss: 3.6872 - acc: 0.383 - ETA: 7:33 - loss: 3.6804 - acc: 0.387 - ETA: 7:23 - loss: 3.6849 - acc: 0.384 - ETA: 7:13 - loss: 3.6872 - acc: 0.384 - ETA: 7:02 - loss: 3.6887 - acc: 0.384 - ETA: 6:52 - loss: 3.6872 - acc: 0.384 - ETA: 6:42 - loss: 3.6813 - acc: 0.386 - ETA: 6:32 - loss: 3.6835 - acc: 0.384 - ETA: 6:22 - loss: 3.6876 - acc: 0.381 - ETA: 6:12 - loss: 3.6850 - acc: 0.383 - ETA: 6:02 - loss: 3.6831 - acc: 0.386 - ETA: 5:52 - loss: 3.6853 - acc: 0.386 - ETA: 5:41 - loss: 3.6810 - acc: 0.388 - ETA: 5:31 - loss: 3.6807 - acc: 0.390 - ETA: 5:21 - loss: 3.6766 - acc: 0.392 - ETA: 5:05 - loss: 3.6979 - acc: 0.384 - ETA: 4:56 - loss: 3.6966 - acc: 0.385 - ETA: 4:46 - loss: 3.6935 - acc: 0.386 - ETA: 4:36 - loss: 3.6891 - acc: 0.388 - ETA: 4:26 - loss: 3.6833 - acc: 0.390 - ETA: 4:16 - loss: 3.6858 - acc: 0.388 - ETA: 4:06 - loss: 3.6858 - acc: 0.387 - ETA: 3:57 - loss: 3.6827 - acc: 0.388 - ETA: 3:47 - loss: 3.6791 - acc: 0.389 - ETA: 3:37 - loss: 3.6802 - acc: 0.386 - ETA: 3:27 - loss: 3.6767 - acc: 0.386 - ETA: 3:17 - loss: 3.6734 - acc: 0.387 - ETA: 3:07 - loss: 3.6690 - acc: 0.388 - ETA: 2:58 - loss: 3.6678 - acc: 0.388 - ETA: 2:48 - loss: 3.6632 - acc: 0.390 - ETA: 2:38 - loss: 3.6614 - acc: 0.391 - ETA: 2:28 - loss: 3.6584 - acc: 0.392 - ETA: 2:18 - loss: 3.6604 - acc: 0.390 - ETA: 2:08 - loss: 3.6612 - acc: 0.390 - ETA: 1:59 - loss: 3.6590 - acc: 0.392 - ETA: 1:49 - loss: 3.6575 - acc: 0.393 - ETA: 1:39 - loss: 3.6572 - acc: 0.392 - ETA: 1:29 - loss: 3.6571 - acc: 0.392 - ETA: 1:19 - loss: 3.6548 - acc: 0.392 - ETA: 1:09 - loss: 3.6544 - acc: 0.393 - ETA: 59s - loss: 3.6514 - acc: 0.394 - ETA: 49s - loss: 3.6510 - acc: 0.39 - ETA: 39s - loss: 3.6475 - acc: 0.39 - ETA: 29s - loss: 3.6485 - acc: 0.39 - ETA: 19s - loss: 3.6452 - acc: 0.39 - ETA: 9s - loss: 3.6440 - acc: 0.3975 - 1118s 13s/step - loss: 3.6424 - acc: 0.3984 - val_loss: 2.9036 - val_acc: 0.4509\n",
      "Epoch 16/200\n",
      "83/83 [==============================] - ETA: 13:26 - loss: 3.6601 - acc: 0.37 - ETA: 13:35 - loss: 3.7464 - acc: 0.31 - ETA: 13:16 - loss: 3.7606 - acc: 0.29 - ETA: 13:08 - loss: 3.7108 - acc: 0.33 - ETA: 13:00 - loss: 3.7122 - acc: 0.33 - ETA: 12:47 - loss: 3.6874 - acc: 0.33 - ETA: 12:37 - loss: 3.6958 - acc: 0.34 - ETA: 12:23 - loss: 3.6795 - acc: 0.34 - ETA: 12:14 - loss: 3.7023 - acc: 0.33 - ETA: 12:05 - loss: 3.6753 - acc: 0.35 - ETA: 11:53 - loss: 3.6656 - acc: 0.35 - ETA: 11:44 - loss: 3.6695 - acc: 0.35 - ETA: 11:34 - loss: 3.6612 - acc: 0.36 - ETA: 11:23 - loss: 3.6626 - acc: 0.36 - ETA: 11:19 - loss: 3.6624 - acc: 0.36 - ETA: 11:08 - loss: 3.6518 - acc: 0.37 - ETA: 10:59 - loss: 3.6497 - acc: 0.37 - ETA: 10:50 - loss: 3.6423 - acc: 0.37 - ETA: 10:39 - loss: 3.6398 - acc: 0.37 - ETA: 10:29 - loss: 3.6436 - acc: 0.37 - ETA: 10:20 - loss: 3.6350 - acc: 0.37 - ETA: 10:09 - loss: 3.6349 - acc: 0.37 - ETA: 9:59 - loss: 3.6360 - acc: 0.3804 - ETA: 9:49 - loss: 3.6349 - acc: 0.380 - ETA: 9:39 - loss: 3.6276 - acc: 0.382 - ETA: 9:29 - loss: 3.6245 - acc: 0.383 - ETA: 9:19 - loss: 3.6339 - acc: 0.381 - ETA: 9:09 - loss: 3.6232 - acc: 0.387 - ETA: 8:59 - loss: 3.6217 - acc: 0.386 - ETA: 8:49 - loss: 3.6196 - acc: 0.389 - ETA: 8:39 - loss: 3.6133 - acc: 0.397 - ETA: 8:29 - loss: 3.6165 - acc: 0.396 - ETA: 8:19 - loss: 3.6133 - acc: 0.397 - ETA: 8:09 - loss: 3.6116 - acc: 0.400 - ETA: 7:59 - loss: 3.6201 - acc: 0.396 - ETA: 7:49 - loss: 3.6208 - acc: 0.395 - ETA: 7:40 - loss: 3.6152 - acc: 0.397 - ETA: 7:29 - loss: 3.6161 - acc: 0.398 - ETA: 7:20 - loss: 3.6107 - acc: 0.401 - ETA: 7:09 - loss: 3.6139 - acc: 0.400 - ETA: 6:59 - loss: 3.6124 - acc: 0.401 - ETA: 6:50 - loss: 3.6088 - acc: 0.404 - ETA: 6:39 - loss: 3.6018 - acc: 0.407 - ETA: 6:29 - loss: 3.6037 - acc: 0.404 - ETA: 6:20 - loss: 3.6012 - acc: 0.404 - ETA: 6:09 - loss: 3.6033 - acc: 0.402 - ETA: 6:00 - loss: 3.5976 - acc: 0.406 - ETA: 5:49 - loss: 3.5914 - acc: 0.412 - ETA: 5:39 - loss: 3.5910 - acc: 0.412 - ETA: 5:30 - loss: 3.5910 - acc: 0.411 - ETA: 5:19 - loss: 3.5917 - acc: 0.411 - ETA: 5:09 - loss: 3.5927 - acc: 0.410 - ETA: 4:59 - loss: 3.5895 - acc: 0.411 - ETA: 4:49 - loss: 3.5874 - acc: 0.412 - ETA: 4:40 - loss: 3.5806 - acc: 0.415 - ETA: 4:29 - loss: 3.5812 - acc: 0.414 - ETA: 4:19 - loss: 3.5833 - acc: 0.413 - ETA: 4:10 - loss: 3.5785 - acc: 0.416 - ETA: 3:59 - loss: 3.5748 - acc: 0.416 - ETA: 3:50 - loss: 3.5760 - acc: 0.415 - ETA: 3:40 - loss: 3.5726 - acc: 0.418 - ETA: 3:29 - loss: 3.5730 - acc: 0.416 - ETA: 3:20 - loss: 3.5713 - acc: 0.417 - ETA: 3:10 - loss: 3.5720 - acc: 0.416 - ETA: 3:00 - loss: 3.5691 - acc: 0.417 - ETA: 2:50 - loss: 3.5683 - acc: 0.416 - ETA: 2:40 - loss: 3.5652 - acc: 0.416 - ETA: 2:30 - loss: 3.5664 - acc: 0.416 - ETA: 2:20 - loss: 3.5642 - acc: 0.417 - ETA: 2:10 - loss: 3.5633 - acc: 0.418 - ETA: 2:00 - loss: 3.5654 - acc: 0.418 - ETA: 1:50 - loss: 3.5665 - acc: 0.417 - ETA: 1:38 - loss: 3.5835 - acc: 0.411 - ETA: 1:28 - loss: 3.5834 - acc: 0.411 - ETA: 1:19 - loss: 3.5809 - acc: 0.413 - ETA: 1:09 - loss: 3.5803 - acc: 0.413 - ETA: 59s - loss: 3.5802 - acc: 0.412 - ETA: 49s - loss: 3.5793 - acc: 0.41 - ETA: 39s - loss: 3.5785 - acc: 0.41 - ETA: 29s - loss: 3.5790 - acc: 0.41 - ETA: 19s - loss: 3.5770 - acc: 0.41 - ETA: 9s - loss: 3.5743 - acc: 0.4150 - 1119s 13s/step - loss: 3.5745 - acc: 0.4138 - val_loss: 2.7501 - val_acc: 0.4642\n",
      "Epoch 17/200\n"
     ]
    },
    {
     "name": "stdout",
     "output_type": "stream",
     "text": [
      "83/83 [==============================] - ETA: 13:48 - loss: 3.3882 - acc: 0.37 - ETA: 13:35 - loss: 3.4311 - acc: 0.37 - ETA: 13:18 - loss: 3.4081 - acc: 0.42 - ETA: 13:09 - loss: 3.4611 - acc: 0.41 - ETA: 13:02 - loss: 3.4344 - acc: 0.42 - ETA: 12:46 - loss: 3.4295 - acc: 0.44 - ETA: 12:36 - loss: 3.4092 - acc: 0.43 - ETA: 12:23 - loss: 3.4241 - acc: 0.42 - ETA: 12:14 - loss: 3.4308 - acc: 0.41 - ETA: 12:05 - loss: 3.4407 - acc: 0.40 - ETA: 11:53 - loss: 3.4714 - acc: 0.39 - ETA: 11:43 - loss: 3.4759 - acc: 0.39 - ETA: 11:33 - loss: 3.4881 - acc: 0.39 - ETA: 11:23 - loss: 3.4908 - acc: 0.39 - ETA: 11:14 - loss: 3.4931 - acc: 0.39 - ETA: 11:08 - loss: 3.4955 - acc: 0.39 - ETA: 10:58 - loss: 3.4904 - acc: 0.39 - ETA: 10:49 - loss: 3.4981 - acc: 0.39 - ETA: 10:39 - loss: 3.5033 - acc: 0.39 - ETA: 10:29 - loss: 3.4995 - acc: 0.40 - ETA: 9:51 - loss: 3.5600 - acc: 0.3869 - ETA: 9:44 - loss: 3.5418 - acc: 0.394 - ETA: 9:34 - loss: 3.5401 - acc: 0.396 - ETA: 9:26 - loss: 3.5404 - acc: 0.395 - ETA: 9:17 - loss: 3.5404 - acc: 0.392 - ETA: 9:08 - loss: 3.5367 - acc: 0.395 - ETA: 9:00 - loss: 3.5341 - acc: 0.390 - ETA: 8:50 - loss: 3.5288 - acc: 0.395 - ETA: 8:42 - loss: 3.5282 - acc: 0.397 - ETA: 8:33 - loss: 3.5269 - acc: 0.395 - ETA: 8:23 - loss: 3.5306 - acc: 0.395 - ETA: 8:14 - loss: 3.5275 - acc: 0.397 - ETA: 8:05 - loss: 3.5201 - acc: 0.402 - ETA: 7:55 - loss: 3.5120 - acc: 0.404 - ETA: 7:46 - loss: 3.5105 - acc: 0.407 - ETA: 7:37 - loss: 3.5115 - acc: 0.405 - ETA: 7:27 - loss: 3.5063 - acc: 0.408 - ETA: 7:18 - loss: 3.4998 - acc: 0.410 - ETA: 7:08 - loss: 3.4999 - acc: 0.407 - ETA: 6:59 - loss: 3.4987 - acc: 0.411 - ETA: 6:49 - loss: 3.4970 - acc: 0.410 - ETA: 6:40 - loss: 3.4925 - acc: 0.413 - ETA: 6:30 - loss: 3.4914 - acc: 0.413 - ETA: 6:21 - loss: 3.4851 - acc: 0.413 - ETA: 6:11 - loss: 3.4833 - acc: 0.414 - ETA: 6:02 - loss: 3.4846 - acc: 0.415 - ETA: 5:52 - loss: 3.4856 - acc: 0.414 - ETA: 5:42 - loss: 3.4883 - acc: 0.412 - ETA: 5:33 - loss: 3.4893 - acc: 0.412 - ETA: 5:23 - loss: 3.4841 - acc: 0.414 - ETA: 5:14 - loss: 3.4815 - acc: 0.414 - ETA: 5:04 - loss: 3.4821 - acc: 0.412 - ETA: 4:54 - loss: 3.4830 - acc: 0.409 - ETA: 4:44 - loss: 3.4862 - acc: 0.407 - ETA: 4:35 - loss: 3.4847 - acc: 0.408 - ETA: 4:25 - loss: 3.4881 - acc: 0.405 - ETA: 4:15 - loss: 3.4876 - acc: 0.403 - ETA: 4:05 - loss: 3.4845 - acc: 0.406 - ETA: 3:56 - loss: 3.4821 - acc: 0.407 - ETA: 3:46 - loss: 3.4774 - acc: 0.409 - ETA: 3:36 - loss: 3.4744 - acc: 0.410 - ETA: 3:26 - loss: 3.4770 - acc: 0.410 - ETA: 3:16 - loss: 3.4769 - acc: 0.411 - ETA: 3:07 - loss: 3.4758 - acc: 0.412 - ETA: 2:57 - loss: 3.4767 - acc: 0.411 - ETA: 2:47 - loss: 3.4751 - acc: 0.412 - ETA: 2:37 - loss: 3.4733 - acc: 0.412 - ETA: 2:27 - loss: 3.4745 - acc: 0.411 - ETA: 2:18 - loss: 3.4705 - acc: 0.411 - ETA: 2:08 - loss: 3.4700 - acc: 0.411 - ETA: 1:58 - loss: 3.4700 - acc: 0.413 - ETA: 1:48 - loss: 3.4689 - acc: 0.412 - ETA: 1:38 - loss: 3.4693 - acc: 0.411 - ETA: 1:29 - loss: 3.4699 - acc: 0.410 - ETA: 1:19 - loss: 3.4729 - acc: 0.409 - ETA: 1:09 - loss: 3.4706 - acc: 0.411 - ETA: 59s - loss: 3.4707 - acc: 0.412 - ETA: 49s - loss: 3.4705 - acc: 0.41 - ETA: 39s - loss: 3.4693 - acc: 0.41 - ETA: 29s - loss: 3.4670 - acc: 0.41 - ETA: 19s - loss: 3.4666 - acc: 0.41 - ETA: 9s - loss: 3.4677 - acc: 0.4135 - 1150s 14s/step - loss: 3.4647 - acc: 0.4138 - val_loss: 2.6041 - val_acc: 0.4812\n",
      "Epoch 18/200\n",
      "83/83 [==============================] - ETA: 15:23 - loss: 3.2128 - acc: 0.56 - ETA: 15:08 - loss: 3.3334 - acc: 0.46 - ETA: 14:53 - loss: 3.2461 - acc: 0.52 - ETA: 14:38 - loss: 3.2675 - acc: 0.50 - ETA: 14:27 - loss: 3.2782 - acc: 0.50 - ETA: 14:17 - loss: 3.3240 - acc: 0.47 - ETA: 14:02 - loss: 3.3282 - acc: 0.47 - ETA: 13:51 - loss: 3.3232 - acc: 0.48 - ETA: 13:40 - loss: 3.3505 - acc: 0.46 - ETA: 13:26 - loss: 3.3563 - acc: 0.46 - ETA: 13:15 - loss: 3.3744 - acc: 0.44 - ETA: 13:04 - loss: 3.3637 - acc: 0.45 - ETA: 12:51 - loss: 3.3521 - acc: 0.45 - ETA: 12:40 - loss: 3.3561 - acc: 0.46 - ETA: 12:29 - loss: 3.3530 - acc: 0.46 - ETA: 12:17 - loss: 3.3699 - acc: 0.45 - ETA: 12:12 - loss: 3.3623 - acc: 0.45 - ETA: 12:01 - loss: 3.3638 - acc: 0.45 - ETA: 11:50 - loss: 3.3700 - acc: 0.45 - ETA: 11:38 - loss: 3.3735 - acc: 0.45 - ETA: 11:27 - loss: 3.3628 - acc: 0.45 - ETA: 11:17 - loss: 3.3631 - acc: 0.45 - ETA: 11:05 - loss: 3.3662 - acc: 0.45 - ETA: 10:54 - loss: 3.3674 - acc: 0.45 - ETA: 10:44 - loss: 3.3639 - acc: 0.44 - ETA: 10:32 - loss: 3.3473 - acc: 0.45 - ETA: 10:21 - loss: 3.3359 - acc: 0.46 - ETA: 10:10 - loss: 3.3439 - acc: 0.46 - ETA: 9:59 - loss: 3.3459 - acc: 0.4591 - ETA: 9:48 - loss: 3.3531 - acc: 0.458 - ETA: 9:37 - loss: 3.3541 - acc: 0.458 - ETA: 9:26 - loss: 3.3520 - acc: 0.460 - ETA: 9:14 - loss: 3.3487 - acc: 0.461 - ETA: 9:03 - loss: 3.3453 - acc: 0.464 - ETA: 8:52 - loss: 3.3463 - acc: 0.463 - ETA: 8:41 - loss: 3.3505 - acc: 0.460 - ETA: 8:30 - loss: 3.3495 - acc: 0.462 - ETA: 8:19 - loss: 3.3439 - acc: 0.463 - ETA: 8:08 - loss: 3.3425 - acc: 0.464 - ETA: 7:56 - loss: 3.3446 - acc: 0.460 - ETA: 7:46 - loss: 3.3438 - acc: 0.458 - ETA: 7:34 - loss: 3.3444 - acc: 0.458 - ETA: 7:23 - loss: 3.3420 - acc: 0.459 - ETA: 7:12 - loss: 3.3430 - acc: 0.458 - ETA: 7:01 - loss: 3.3382 - acc: 0.459 - ETA: 6:50 - loss: 3.3369 - acc: 0.460 - ETA: 6:39 - loss: 3.3371 - acc: 0.460 - ETA: 6:28 - loss: 3.3362 - acc: 0.458 - ETA: 6:17 - loss: 3.3331 - acc: 0.458 - ETA: 6:06 - loss: 3.3331 - acc: 0.458 - ETA: 5:55 - loss: 3.3405 - acc: 0.454 - ETA: 5:43 - loss: 3.3385 - acc: 0.454 - ETA: 5:32 - loss: 3.3386 - acc: 0.454 - ETA: 5:21 - loss: 3.3393 - acc: 0.453 - ETA: 5:10 - loss: 3.3390 - acc: 0.452 - ETA: 4:59 - loss: 3.3390 - acc: 0.453 - ETA: 4:48 - loss: 3.3372 - acc: 0.457 - ETA: 4:37 - loss: 3.3354 - acc: 0.457 - ETA: 4:26 - loss: 3.3320 - acc: 0.459 - ETA: 4:14 - loss: 3.3323 - acc: 0.459 - ETA: 4:03 - loss: 3.3335 - acc: 0.459 - ETA: 3:52 - loss: 3.3350 - acc: 0.459 - ETA: 3:41 - loss: 3.3342 - acc: 0.459 - ETA: 3:30 - loss: 3.3308 - acc: 0.460 - ETA: 3:19 - loss: 3.3306 - acc: 0.460 - ETA: 3:08 - loss: 3.3339 - acc: 0.458 - ETA: 2:57 - loss: 3.3331 - acc: 0.458 - ETA: 2:44 - loss: 3.3556 - acc: 0.451 - ETA: 2:33 - loss: 3.3546 - acc: 0.451 - ETA: 2:22 - loss: 3.3562 - acc: 0.449 - ETA: 2:11 - loss: 3.3554 - acc: 0.449 - ETA: 2:00 - loss: 3.3546 - acc: 0.449 - ETA: 1:49 - loss: 3.3488 - acc: 0.451 - ETA: 1:38 - loss: 3.3462 - acc: 0.452 - ETA: 1:27 - loss: 3.3429 - acc: 0.453 - ETA: 1:16 - loss: 3.3427 - acc: 0.451 - ETA: 1:05 - loss: 3.3415 - acc: 0.453 - ETA: 54s - loss: 3.3415 - acc: 0.452 - ETA: 43s - loss: 3.3434 - acc: 0.45 - ETA: 32s - loss: 3.3430 - acc: 0.45 - ETA: 21s - loss: 3.3423 - acc: 0.45 - ETA: 10s - loss: 3.3440 - acc: 0.45 - 1234s 15s/step - loss: 3.3422 - acc: 0.4511 - val_loss: 2.4612 - val_acc: 0.5006\n",
      "Epoch 19/200\n"
     ]
    },
    {
     "name": "stdout",
     "output_type": "stream",
     "text": [
      "83/83 [==============================] - ETA: 14:49 - loss: 3.4883 - acc: 0.46 - ETA: 14:47 - loss: 3.3662 - acc: 0.45 - ETA: 14:41 - loss: 3.3722 - acc: 0.44 - ETA: 14:26 - loss: 3.3273 - acc: 0.47 - ETA: 14:17 - loss: 3.3252 - acc: 0.45 - ETA: 14:09 - loss: 3.3101 - acc: 0.45 - ETA: 13:56 - loss: 3.3007 - acc: 0.46 - ETA: 13:45 - loss: 3.2722 - acc: 0.48 - ETA: 13:34 - loss: 3.2975 - acc: 0.46 - ETA: 13:21 - loss: 3.2857 - acc: 0.46 - ETA: 13:09 - loss: 3.3005 - acc: 0.45 - ETA: 12:58 - loss: 3.3004 - acc: 0.45 - ETA: 12:47 - loss: 3.3194 - acc: 0.43 - ETA: 12:41 - loss: 3.3077 - acc: 0.44 - ETA: 12:40 - loss: 3.3223 - acc: 0.43 - ETA: 12:29 - loss: 3.3205 - acc: 0.44 - ETA: 12:16 - loss: 3.3176 - acc: 0.44 - ETA: 12:09 - loss: 3.3170 - acc: 0.44 - ETA: 11:58 - loss: 3.3179 - acc: 0.44 - ETA: 11:47 - loss: 3.3196 - acc: 0.43 - ETA: 11:35 - loss: 3.3206 - acc: 0.43 - ETA: 11:23 - loss: 3.3104 - acc: 0.43 - ETA: 11:12 - loss: 3.3137 - acc: 0.43 - ETA: 11:00 - loss: 3.3119 - acc: 0.43 - ETA: 10:48 - loss: 3.3183 - acc: 0.43 - ETA: 10:37 - loss: 3.3234 - acc: 0.43 - ETA: 10:26 - loss: 3.3335 - acc: 0.43 - ETA: 10:14 - loss: 3.3448 - acc: 0.42 - ETA: 10:03 - loss: 3.3432 - acc: 0.43 - ETA: 9:51 - loss: 3.3485 - acc: 0.4260 - ETA: 9:40 - loss: 3.3465 - acc: 0.426 - ETA: 9:28 - loss: 3.3350 - acc: 0.433 - ETA: 9:17 - loss: 3.3286 - acc: 0.432 - ETA: 9:06 - loss: 3.3292 - acc: 0.432 - ETA: 8:54 - loss: 3.3216 - acc: 0.435 - ETA: 8:43 - loss: 3.3101 - acc: 0.441 - ETA: 8:32 - loss: 3.3064 - acc: 0.444 - ETA: 8:20 - loss: 3.3070 - acc: 0.444 - ETA: 8:09 - loss: 3.3013 - acc: 0.446 - ETA: 7:59 - loss: 3.2998 - acc: 0.446 - ETA: 7:48 - loss: 3.2952 - acc: 0.448 - ETA: 7:37 - loss: 3.2895 - acc: 0.451 - ETA: 7:25 - loss: 3.2860 - acc: 0.453 - ETA: 7:14 - loss: 3.2863 - acc: 0.455 - ETA: 7:03 - loss: 3.2836 - acc: 0.458 - ETA: 6:52 - loss: 3.2833 - acc: 0.456 - ETA: 6:40 - loss: 3.2792 - acc: 0.454 - ETA: 6:29 - loss: 3.2785 - acc: 0.455 - ETA: 6:18 - loss: 3.2763 - acc: 0.456 - ETA: 6:07 - loss: 3.2768 - acc: 0.455 - ETA: 5:56 - loss: 3.2782 - acc: 0.454 - ETA: 5:45 - loss: 3.2832 - acc: 0.449 - ETA: 5:34 - loss: 3.2825 - acc: 0.449 - ETA: 5:23 - loss: 3.2813 - acc: 0.448 - ETA: 5:12 - loss: 3.2824 - acc: 0.446 - ETA: 5:01 - loss: 3.2817 - acc: 0.445 - ETA: 4:49 - loss: 3.2818 - acc: 0.443 - ETA: 4:38 - loss: 3.2833 - acc: 0.442 - ETA: 4:27 - loss: 3.2858 - acc: 0.441 - ETA: 4:16 - loss: 3.2834 - acc: 0.443 - ETA: 4:05 - loss: 3.2831 - acc: 0.443 - ETA: 3:54 - loss: 3.2772 - acc: 0.446 - ETA: 3:43 - loss: 3.2733 - acc: 0.447 - ETA: 3:31 - loss: 3.2752 - acc: 0.447 - ETA: 3:20 - loss: 3.2731 - acc: 0.449 - ETA: 3:09 - loss: 3.2715 - acc: 0.449 - ETA: 2:58 - loss: 3.2670 - acc: 0.450 - ETA: 2:47 - loss: 3.2643 - acc: 0.451 - ETA: 2:36 - loss: 3.2644 - acc: 0.450 - ETA: 2:24 - loss: 3.2610 - acc: 0.452 - ETA: 2:13 - loss: 3.2600 - acc: 0.452 - ETA: 2:02 - loss: 3.2578 - acc: 0.451 - ETA: 1:51 - loss: 3.2577 - acc: 0.452 - ETA: 1:40 - loss: 3.2570 - acc: 0.453 - ETA: 1:28 - loss: 3.2781 - acc: 0.447 - ETA: 1:17 - loss: 3.2749 - acc: 0.450 - ETA: 1:06 - loss: 3.2743 - acc: 0.450 - ETA: 55s - loss: 3.2729 - acc: 0.450 - ETA: 44s - loss: 3.2745 - acc: 0.44 - ETA: 33s - loss: 3.2703 - acc: 0.45 - ETA: 22s - loss: 3.2690 - acc: 0.45 - ETA: 11s - loss: 3.2707 - acc: 0.45 - 1238s 15s/step - loss: 3.2658 - acc: 0.4519 - val_loss: 2.3330 - val_acc: 0.5164\n",
      "Epoch 20/200\n",
      "83/83 [==============================] - ETA: 15:16 - loss: 3.2834 - acc: 0.46 - ETA: 14:54 - loss: 3.2702 - acc: 0.45 - ETA: 14:45 - loss: 3.2394 - acc: 0.46 - ETA: 14:36 - loss: 3.1954 - acc: 0.46 - ETA: 14:25 - loss: 3.2002 - acc: 0.49 - ETA: 14:11 - loss: 3.2086 - acc: 0.48 - ETA: 14:01 - loss: 3.2049 - acc: 0.49 - ETA: 13:50 - loss: 3.1893 - acc: 0.49 - ETA: 13:35 - loss: 3.1646 - acc: 0.49 - ETA: 13:25 - loss: 3.1545 - acc: 0.49 - ETA: 13:15 - loss: 3.1591 - acc: 0.48 - ETA: 13:02 - loss: 3.1750 - acc: 0.47 - ETA: 12:50 - loss: 3.1781 - acc: 0.47 - ETA: 12:40 - loss: 3.1850 - acc: 0.47 - ETA: 12:27 - loss: 3.1842 - acc: 0.47 - ETA: 12:16 - loss: 3.1711 - acc: 0.47 - ETA: 12:05 - loss: 3.1733 - acc: 0.48 - ETA: 11:53 - loss: 3.1740 - acc: 0.48 - ETA: 11:47 - loss: 3.1692 - acc: 0.48 - ETA: 11:36 - loss: 3.1518 - acc: 0.49 - ETA: 11:25 - loss: 3.1496 - acc: 0.48 - ETA: 11:13 - loss: 3.1497 - acc: 0.48 - ETA: 11:03 - loss: 3.1446 - acc: 0.48 - ETA: 10:52 - loss: 3.1470 - acc: 0.48 - ETA: 10:40 - loss: 3.1499 - acc: 0.48 - ETA: 10:30 - loss: 3.1560 - acc: 0.48 - ETA: 10:19 - loss: 3.1618 - acc: 0.48 - ETA: 10:07 - loss: 3.1672 - acc: 0.48 - ETA: 9:56 - loss: 3.1638 - acc: 0.4828 - ETA: 9:46 - loss: 3.1599 - acc: 0.483 - ETA: 9:34 - loss: 3.1576 - acc: 0.480 - ETA: 9:23 - loss: 3.1534 - acc: 0.484 - ETA: 9:12 - loss: 3.1539 - acc: 0.481 - ETA: 9:01 - loss: 3.1519 - acc: 0.480 - ETA: 8:50 - loss: 3.1494 - acc: 0.479 - ETA: 8:39 - loss: 3.1481 - acc: 0.480 - ETA: 8:28 - loss: 3.1563 - acc: 0.478 - ETA: 8:17 - loss: 3.1540 - acc: 0.478 - ETA: 8:06 - loss: 3.1524 - acc: 0.480 - ETA: 7:55 - loss: 3.1540 - acc: 0.478 - ETA: 7:43 - loss: 3.1482 - acc: 0.480 - ETA: 7:32 - loss: 3.1531 - acc: 0.477 - ETA: 7:21 - loss: 3.1491 - acc: 0.478 - ETA: 7:01 - loss: 3.1856 - acc: 0.467 - ETA: 6:50 - loss: 3.1873 - acc: 0.466 - ETA: 6:40 - loss: 3.1877 - acc: 0.468 - ETA: 6:29 - loss: 3.1903 - acc: 0.467 - ETA: 6:19 - loss: 3.1878 - acc: 0.468 - ETA: 6:08 - loss: 3.1874 - acc: 0.468 - ETA: 5:57 - loss: 3.1901 - acc: 0.466 - ETA: 5:47 - loss: 3.1859 - acc: 0.467 - ETA: 5:36 - loss: 3.1837 - acc: 0.468 - ETA: 5:25 - loss: 3.1851 - acc: 0.469 - ETA: 5:14 - loss: 3.1828 - acc: 0.469 - ETA: 5:03 - loss: 3.1846 - acc: 0.467 - ETA: 4:53 - loss: 3.1801 - acc: 0.468 - ETA: 4:42 - loss: 3.1777 - acc: 0.468 - ETA: 4:31 - loss: 3.1804 - acc: 0.468 - ETA: 4:20 - loss: 3.1781 - acc: 0.468 - ETA: 4:10 - loss: 3.1787 - acc: 0.467 - ETA: 3:59 - loss: 3.1747 - acc: 0.467 - ETA: 3:49 - loss: 3.1715 - acc: 0.466 - ETA: 3:38 - loss: 3.1692 - acc: 0.467 - ETA: 3:27 - loss: 3.1699 - acc: 0.466 - ETA: 3:16 - loss: 3.1695 - acc: 0.466 - ETA: 3:05 - loss: 3.1685 - acc: 0.468 - ETA: 2:54 - loss: 3.1737 - acc: 0.465 - ETA: 2:43 - loss: 3.1708 - acc: 0.466 - ETA: 2:32 - loss: 3.1698 - acc: 0.466 - ETA: 2:21 - loss: 3.1723 - acc: 0.464 - ETA: 2:10 - loss: 3.1731 - acc: 0.465 - ETA: 1:59 - loss: 3.1700 - acc: 0.466 - ETA: 1:48 - loss: 3.1644 - acc: 0.468 - ETA: 1:37 - loss: 3.1668 - acc: 0.468 - ETA: 1:26 - loss: 3.1669 - acc: 0.468 - ETA: 1:15 - loss: 3.1652 - acc: 0.470 - ETA: 1:04 - loss: 3.1642 - acc: 0.470 - ETA: 54s - loss: 3.1616 - acc: 0.472 - ETA: 43s - loss: 3.1589 - acc: 0.47 - ETA: 32s - loss: 3.1620 - acc: 0.47 - ETA: 21s - loss: 3.1592 - acc: 0.47 - ETA: 10s - loss: 3.1565 - acc: 0.47 - 1228s 15s/step - loss: 3.1553 - acc: 0.4730 - val_loss: 2.2113 - val_acc: 0.5430\n",
      "Epoch 21/200\n"
     ]
    },
    {
     "name": "stdout",
     "output_type": "stream",
     "text": [
      "83/83 [==============================] - ETA: 13:51 - loss: 3.0798 - acc: 0.56 - ETA: 13:40 - loss: 3.0337 - acc: 0.56 - ETA: 13:35 - loss: 3.0108 - acc: 0.57 - ETA: 13:21 - loss: 3.0443 - acc: 0.54 - ETA: 13:13 - loss: 3.0155 - acc: 0.55 - ETA: 13:05 - loss: 3.0225 - acc: 0.54 - ETA: 12:53 - loss: 3.0762 - acc: 0.51 - ETA: 12:46 - loss: 3.0867 - acc: 0.51 - ETA: 12:36 - loss: 3.1058 - acc: 0.50 - ETA: 12:23 - loss: 3.1123 - acc: 0.50 - ETA: 12:12 - loss: 3.1075 - acc: 0.50 - ETA: 12:01 - loss: 3.1175 - acc: 0.50 - ETA: 11:50 - loss: 3.1267 - acc: 0.49 - ETA: 11:41 - loss: 3.1407 - acc: 0.48 - ETA: 11:29 - loss: 3.1330 - acc: 0.48 - ETA: 11:19 - loss: 3.1217 - acc: 0.48 - ETA: 11:08 - loss: 3.1307 - acc: 0.48 - ETA: 10:57 - loss: 3.1312 - acc: 0.48 - ETA: 10:47 - loss: 3.1225 - acc: 0.48 - ETA: 10:41 - loss: 3.1162 - acc: 0.49 - ETA: 10:30 - loss: 3.1162 - acc: 0.49 - ETA: 10:20 - loss: 3.0973 - acc: 0.50 - ETA: 10:10 - loss: 3.0966 - acc: 0.50 - ETA: 10:00 - loss: 3.0970 - acc: 0.50 - ETA: 9:50 - loss: 3.0964 - acc: 0.4988 - ETA: 9:39 - loss: 3.0935 - acc: 0.498 - ETA: 9:29 - loss: 3.0863 - acc: 0.504 - ETA: 9:19 - loss: 3.0843 - acc: 0.508 - ETA: 9:09 - loss: 3.0834 - acc: 0.507 - ETA: 8:59 - loss: 3.0794 - acc: 0.510 - ETA: 8:49 - loss: 3.0833 - acc: 0.507 - ETA: 8:38 - loss: 3.0869 - acc: 0.504 - ETA: 8:28 - loss: 3.0779 - acc: 0.507 - ETA: 8:18 - loss: 3.0709 - acc: 0.512 - ETA: 8:07 - loss: 3.0717 - acc: 0.512 - ETA: 7:58 - loss: 3.0722 - acc: 0.509 - ETA: 7:47 - loss: 3.0681 - acc: 0.510 - ETA: 7:37 - loss: 3.0675 - acc: 0.513 - ETA: 7:27 - loss: 3.0628 - acc: 0.513 - ETA: 7:17 - loss: 3.0634 - acc: 0.513 - ETA: 7:06 - loss: 3.0656 - acc: 0.511 - ETA: 6:56 - loss: 3.0660 - acc: 0.509 - ETA: 6:46 - loss: 3.0597 - acc: 0.510 - ETA: 6:36 - loss: 3.0622 - acc: 0.509 - ETA: 6:26 - loss: 3.0591 - acc: 0.509 - ETA: 6:16 - loss: 3.0598 - acc: 0.508 - ETA: 6:06 - loss: 3.0583 - acc: 0.508 - ETA: 5:55 - loss: 3.0634 - acc: 0.506 - ETA: 5:45 - loss: 3.0600 - acc: 0.506 - ETA: 5:35 - loss: 3.0577 - acc: 0.508 - ETA: 5:25 - loss: 3.0630 - acc: 0.504 - ETA: 5:15 - loss: 3.0648 - acc: 0.503 - ETA: 5:04 - loss: 3.0617 - acc: 0.503 - ETA: 4:54 - loss: 3.0608 - acc: 0.502 - ETA: 4:44 - loss: 3.0610 - acc: 0.502 - ETA: 4:34 - loss: 3.0594 - acc: 0.504 - ETA: 4:24 - loss: 3.0613 - acc: 0.502 - ETA: 4:14 - loss: 3.0611 - acc: 0.501 - ETA: 4:03 - loss: 3.0562 - acc: 0.502 - ETA: 3:53 - loss: 3.0584 - acc: 0.501 - ETA: 3:43 - loss: 3.0609 - acc: 0.500 - ETA: 3:33 - loss: 3.0629 - acc: 0.500 - ETA: 3:23 - loss: 3.0641 - acc: 0.499 - ETA: 3:13 - loss: 3.0632 - acc: 0.500 - ETA: 3:02 - loss: 3.0641 - acc: 0.499 - ETA: 2:52 - loss: 3.0625 - acc: 0.500 - ETA: 2:42 - loss: 3.0650 - acc: 0.497 - ETA: 2:32 - loss: 3.0644 - acc: 0.499 - ETA: 2:22 - loss: 3.0641 - acc: 0.498 - ETA: 2:12 - loss: 3.0618 - acc: 0.499 - ETA: 2:02 - loss: 3.0639 - acc: 0.499 - ETA: 1:52 - loss: 3.0643 - acc: 0.497 - ETA: 1:42 - loss: 3.0661 - acc: 0.495 - ETA: 1:32 - loss: 3.0640 - acc: 0.494 - ETA: 1:21 - loss: 3.0618 - acc: 0.495 - ETA: 1:10 - loss: 3.0840 - acc: 0.489 - ETA: 1:00 - loss: 3.0861 - acc: 0.488 - ETA: 50s - loss: 3.0860 - acc: 0.487 - ETA: 40s - loss: 3.0845 - acc: 0.48 - ETA: 30s - loss: 3.0817 - acc: 0.48 - ETA: 20s - loss: 3.0805 - acc: 0.48 - ETA: 10s - loss: 3.0832 - acc: 0.48 - 1166s 14s/step - loss: 3.0792 - acc: 0.4861 - val_loss: 2.1024 - val_acc: 0.5515\n",
      "Epoch 22/200\n",
      "83/83 [==============================] - ETA: 14:42 - loss: 2.9867 - acc: 0.59 - ETA: 14:14 - loss: 2.9744 - acc: 0.54 - ETA: 14:09 - loss: 3.0649 - acc: 0.45 - ETA: 14:05 - loss: 3.0085 - acc: 0.50 - ETA: 14:12 - loss: 3.0451 - acc: 0.49 - ETA: 13:58 - loss: 3.0063 - acc: 0.51 - ETA: 13:52 - loss: 2.9831 - acc: 0.51 - ETA: 13:34 - loss: 3.0009 - acc: 0.49 - ETA: 13:20 - loss: 2.9887 - acc: 0.50 - ETA: 13:07 - loss: 3.0151 - acc: 0.49 - ETA: 12:54 - loss: 2.9992 - acc: 0.49 - ETA: 12:42 - loss: 2.9955 - acc: 0.49 - ETA: 12:30 - loss: 3.0046 - acc: 0.50 - ETA: 12:17 - loss: 3.0012 - acc: 0.50 - ETA: 12:06 - loss: 2.9902 - acc: 0.50 - ETA: 11:54 - loss: 2.9937 - acc: 0.50 - ETA: 11:43 - loss: 3.0001 - acc: 0.49 - ETA: 11:31 - loss: 3.0000 - acc: 0.49 - ETA: 11:19 - loss: 2.9937 - acc: 0.50 - ETA: 11:08 - loss: 2.9891 - acc: 0.50 - ETA: 11:00 - loss: 2.9658 - acc: 0.50 - ETA: 10:48 - loss: 2.9763 - acc: 0.50 - ETA: 10:37 - loss: 2.9679 - acc: 0.50 - ETA: 10:26 - loss: 2.9733 - acc: 0.50 - ETA: 10:14 - loss: 2.9715 - acc: 0.51 - ETA: 10:03 - loss: 2.9741 - acc: 0.51 - ETA: 9:52 - loss: 2.9752 - acc: 0.5104 - ETA: 9:41 - loss: 2.9822 - acc: 0.503 - ETA: 9:30 - loss: 2.9859 - acc: 0.502 - ETA: 9:19 - loss: 2.9931 - acc: 0.495 - ETA: 9:08 - loss: 2.9907 - acc: 0.497 - ETA: 8:57 - loss: 2.9901 - acc: 0.496 - ETA: 8:46 - loss: 2.9916 - acc: 0.493 - ETA: 8:35 - loss: 2.9881 - acc: 0.494 - ETA: 8:25 - loss: 2.9900 - acc: 0.492 - ETA: 8:14 - loss: 2.9904 - acc: 0.490 - ETA: 8:03 - loss: 2.9929 - acc: 0.489 - ETA: 7:52 - loss: 2.9951 - acc: 0.486 - ETA: 7:42 - loss: 2.9982 - acc: 0.485 - ETA: 7:32 - loss: 2.9967 - acc: 0.485 - ETA: 7:22 - loss: 2.9961 - acc: 0.486 - ETA: 7:11 - loss: 2.9908 - acc: 0.488 - ETA: 6:52 - loss: 3.0291 - acc: 0.477 - ETA: 6:41 - loss: 3.0324 - acc: 0.476 - ETA: 6:32 - loss: 3.0270 - acc: 0.479 - ETA: 6:22 - loss: 3.0300 - acc: 0.478 - ETA: 6:12 - loss: 3.0324 - acc: 0.478 - ETA: 6:02 - loss: 3.0268 - acc: 0.480 - ETA: 5:51 - loss: 3.0252 - acc: 0.481 - ETA: 5:41 - loss: 3.0232 - acc: 0.481 - ETA: 5:33 - loss: 3.0160 - acc: 0.485 - ETA: 5:24 - loss: 3.0147 - acc: 0.486 - ETA: 5:13 - loss: 3.0166 - acc: 0.485 - ETA: 5:03 - loss: 3.0154 - acc: 0.487 - ETA: 4:53 - loss: 3.0110 - acc: 0.486 - ETA: 4:43 - loss: 3.0078 - acc: 0.487 - ETA: 4:33 - loss: 3.0082 - acc: 0.487 - ETA: 4:23 - loss: 3.0055 - acc: 0.490 - ETA: 4:13 - loss: 3.0044 - acc: 0.491 - ETA: 4:02 - loss: 2.9993 - acc: 0.494 - ETA: 3:52 - loss: 2.9944 - acc: 0.496 - ETA: 3:42 - loss: 2.9955 - acc: 0.496 - ETA: 3:31 - loss: 2.9960 - acc: 0.495 - ETA: 3:21 - loss: 2.9982 - acc: 0.496 - ETA: 3:10 - loss: 2.9944 - acc: 0.498 - ETA: 3:00 - loss: 2.9925 - acc: 0.498 - ETA: 2:49 - loss: 2.9921 - acc: 0.498 - ETA: 2:39 - loss: 2.9885 - acc: 0.499 - ETA: 2:28 - loss: 2.9884 - acc: 0.499 - ETA: 2:18 - loss: 2.9878 - acc: 0.498 - ETA: 2:07 - loss: 2.9872 - acc: 0.496 - ETA: 1:57 - loss: 2.9878 - acc: 0.497 - ETA: 1:47 - loss: 2.9850 - acc: 0.498 - ETA: 1:36 - loss: 2.9809 - acc: 0.500 - ETA: 1:26 - loss: 2.9845 - acc: 0.499 - ETA: 1:15 - loss: 2.9848 - acc: 0.498 - ETA: 1:04 - loss: 2.9810 - acc: 0.501 - ETA: 53s - loss: 2.9795 - acc: 0.503 - ETA: 43s - loss: 2.9819 - acc: 0.50 - ETA: 32s - loss: 2.9798 - acc: 0.50 - ETA: 21s - loss: 2.9786 - acc: 0.50 - ETA: 10s - loss: 2.9766 - acc: 0.50 - 1203s 14s/step - loss: 2.9720 - acc: 0.5046 - val_loss: 2.0014 - val_acc: 0.5612\n",
      "Epoch 23/200\n"
     ]
    },
    {
     "name": "stdout",
     "output_type": "stream",
     "text": [
      "83/83 [==============================] - ETA: 16:38 - loss: 2.9257 - acc: 0.46 - ETA: 14:51 - loss: 3.0113 - acc: 0.46 - ETA: 15:16 - loss: 2.9382 - acc: 0.53 - ETA: 15:13 - loss: 2.9322 - acc: 0.52 - ETA: 14:48 - loss: 2.9720 - acc: 0.52 - ETA: 14:18 - loss: 2.9379 - acc: 0.52 - ETA: 13:56 - loss: 2.9098 - acc: 0.53 - ETA: 13:37 - loss: 2.9178 - acc: 0.54 - ETA: 13:19 - loss: 2.9193 - acc: 0.54 - ETA: 13:05 - loss: 2.8923 - acc: 0.55 - ETA: 12:50 - loss: 2.8793 - acc: 0.54 - ETA: 12:36 - loss: 2.8683 - acc: 0.55 - ETA: 12:22 - loss: 2.8604 - acc: 0.55 - ETA: 12:08 - loss: 2.8649 - acc: 0.55 - ETA: 11:55 - loss: 2.8725 - acc: 0.55 - ETA: 11:43 - loss: 2.8798 - acc: 0.54 - ETA: 11:29 - loss: 2.8715 - acc: 0.55 - ETA: 11:18 - loss: 2.8679 - acc: 0.55 - ETA: 11:05 - loss: 2.8708 - acc: 0.54 - ETA: 10:54 - loss: 2.8674 - acc: 0.53 - ETA: 10:43 - loss: 2.8564 - acc: 0.54 - ETA: 10:34 - loss: 2.8615 - acc: 0.53 - ETA: 10:23 - loss: 2.8719 - acc: 0.53 - ETA: 10:13 - loss: 2.8745 - acc: 0.53 - ETA: 10:01 - loss: 2.8774 - acc: 0.53 - ETA: 9:50 - loss: 2.8777 - acc: 0.5312 - ETA: 9:39 - loss: 2.8737 - acc: 0.534 - ETA: 9:28 - loss: 2.8775 - acc: 0.534 - ETA: 9:17 - loss: 2.8761 - acc: 0.536 - ETA: 9:06 - loss: 2.8832 - acc: 0.532 - ETA: 8:55 - loss: 2.8842 - acc: 0.530 - ETA: 8:45 - loss: 2.8838 - acc: 0.530 - ETA: 8:34 - loss: 2.8895 - acc: 0.528 - ETA: 8:24 - loss: 2.8936 - acc: 0.525 - ETA: 8:15 - loss: 2.8918 - acc: 0.524 - ETA: 8:06 - loss: 2.8917 - acc: 0.526 - ETA: 7:58 - loss: 2.8920 - acc: 0.527 - ETA: 7:47 - loss: 2.8922 - acc: 0.528 - ETA: 7:36 - loss: 2.8937 - acc: 0.527 - ETA: 7:26 - loss: 2.8992 - acc: 0.522 - ETA: 7:16 - loss: 2.8961 - acc: 0.523 - ETA: 7:07 - loss: 2.8942 - acc: 0.524 - ETA: 7:00 - loss: 2.8860 - acc: 0.529 - ETA: 6:52 - loss: 2.8932 - acc: 0.525 - ETA: 6:42 - loss: 2.8956 - acc: 0.527 - ETA: 6:32 - loss: 2.8916 - acc: 0.527 - ETA: 6:22 - loss: 2.8859 - acc: 0.528 - ETA: 6:12 - loss: 2.8858 - acc: 0.528 - ETA: 6:02 - loss: 2.8879 - acc: 0.525 - ETA: 5:52 - loss: 2.8824 - acc: 0.527 - ETA: 5:42 - loss: 2.8799 - acc: 0.527 - ETA: 5:32 - loss: 2.8793 - acc: 0.526 - ETA: 5:22 - loss: 2.8702 - acc: 0.530 - ETA: 5:11 - loss: 2.8707 - acc: 0.528 - ETA: 5:01 - loss: 2.8643 - acc: 0.532 - ETA: 4:50 - loss: 2.8636 - acc: 0.532 - ETA: 4:40 - loss: 2.8610 - acc: 0.533 - ETA: 4:29 - loss: 2.8617 - acc: 0.534 - ETA: 4:20 - loss: 2.8600 - acc: 0.537 - ETA: 4:09 - loss: 2.8592 - acc: 0.535 - ETA: 3:58 - loss: 2.8576 - acc: 0.537 - ETA: 3:48 - loss: 2.8627 - acc: 0.534 - ETA: 3:37 - loss: 2.8627 - acc: 0.535 - ETA: 3:27 - loss: 2.8632 - acc: 0.534 - ETA: 3:16 - loss: 2.8678 - acc: 0.531 - ETA: 3:06 - loss: 2.8676 - acc: 0.531 - ETA: 2:55 - loss: 2.8663 - acc: 0.532 - ETA: 2:44 - loss: 2.8597 - acc: 0.534 - ETA: 2:33 - loss: 2.8594 - acc: 0.534 - ETA: 2:22 - loss: 2.8602 - acc: 0.534 - ETA: 2:11 - loss: 2.8576 - acc: 0.534 - ETA: 2:01 - loss: 2.8560 - acc: 0.536 - ETA: 1:50 - loss: 2.8590 - acc: 0.536 - ETA: 1:39 - loss: 2.8558 - acc: 0.537 - ETA: 1:28 - loss: 2.8527 - acc: 0.538 - ETA: 1:17 - loss: 2.8495 - acc: 0.538 - ETA: 1:06 - loss: 2.8476 - acc: 0.537 - ETA: 55s - loss: 2.8469 - acc: 0.538 - ETA: 44s - loss: 2.8449 - acc: 0.54 - ETA: 33s - loss: 2.8445 - acc: 0.54 - ETA: 22s - loss: 2.8464 - acc: 0.53 - ETA: 11s - loss: 2.8456 - acc: 0.53 - 1247s 15s/step - loss: 2.8465 - acc: 0.5395 - val_loss: 1.9104 - val_acc: 0.5745\n",
      "Epoch 24/200\n",
      "83/83 [==============================] - ETA: 15:19 - loss: 2.9697 - acc: 0.56 - ETA: 15:18 - loss: 2.8715 - acc: 0.57 - ETA: 15:18 - loss: 2.8824 - acc: 0.56 - ETA: 15:03 - loss: 2.8342 - acc: 0.56 - ETA: 14:48 - loss: 2.8364 - acc: 0.55 - ETA: 14:34 - loss: 2.8606 - acc: 0.53 - ETA: 14:21 - loss: 2.8639 - acc: 0.53 - ETA: 14:08 - loss: 2.8502 - acc: 0.54 - ETA: 14:03 - loss: 2.8475 - acc: 0.53 - ETA: 13:56 - loss: 2.8353 - acc: 0.53 - ETA: 13:47 - loss: 2.8204 - acc: 0.54 - ETA: 13:38 - loss: 2.8135 - acc: 0.54 - ETA: 13:22 - loss: 2.8368 - acc: 0.54 - ETA: 13:11 - loss: 2.8347 - acc: 0.54 - ETA: 13:01 - loss: 2.8300 - acc: 0.54 - ETA: 12:47 - loss: 2.8419 - acc: 0.53 - ETA: 12:32 - loss: 2.8469 - acc: 0.53 - ETA: 12:19 - loss: 2.8548 - acc: 0.52 - ETA: 12:06 - loss: 2.8500 - acc: 0.52 - ETA: 11:54 - loss: 2.8463 - acc: 0.53 - ETA: 11:12 - loss: 2.9263 - acc: 0.50 - ETA: 11:05 - loss: 2.9131 - acc: 0.50 - ETA: 11:00 - loss: 2.9110 - acc: 0.50 - ETA: 10:51 - loss: 2.9098 - acc: 0.50 - ETA: 10:40 - loss: 2.9077 - acc: 0.50 - ETA: 10:32 - loss: 2.8943 - acc: 0.51 - ETA: 10:23 - loss: 2.8914 - acc: 0.51 - ETA: 10:13 - loss: 2.8837 - acc: 0.51 - ETA: 10:00 - loss: 2.8783 - acc: 0.52 - ETA: 9:49 - loss: 2.8828 - acc: 0.5167 - ETA: 9:38 - loss: 2.8724 - acc: 0.518 - ETA: 9:27 - loss: 2.8721 - acc: 0.518 - ETA: 9:17 - loss: 2.8726 - acc: 0.520 - ETA: 9:10 - loss: 2.8651 - acc: 0.523 - ETA: 8:58 - loss: 2.8734 - acc: 0.522 - ETA: 8:46 - loss: 2.8705 - acc: 0.520 - ETA: 8:35 - loss: 2.8647 - acc: 0.522 - ETA: 8:24 - loss: 2.8624 - acc: 0.520 - ETA: 8:13 - loss: 2.8609 - acc: 0.521 - ETA: 8:03 - loss: 2.8597 - acc: 0.520 - ETA: 7:52 - loss: 2.8551 - acc: 0.522 - ETA: 7:41 - loss: 2.8544 - acc: 0.526 - ETA: 7:30 - loss: 2.8531 - acc: 0.524 - ETA: 7:19 - loss: 2.8487 - acc: 0.526 - ETA: 7:08 - loss: 2.8464 - acc: 0.526 - ETA: 6:58 - loss: 2.8441 - acc: 0.525 - ETA: 6:48 - loss: 2.8443 - acc: 0.525 - ETA: 6:38 - loss: 2.8431 - acc: 0.526 - ETA: 6:27 - loss: 2.8368 - acc: 0.529 - ETA: 6:16 - loss: 2.8356 - acc: 0.528 - ETA: 6:04 - loss: 2.8339 - acc: 0.529 - ETA: 5:53 - loss: 2.8319 - acc: 0.531 - ETA: 5:42 - loss: 2.8312 - acc: 0.529 - ETA: 5:31 - loss: 2.8308 - acc: 0.530 - ETA: 5:19 - loss: 2.8287 - acc: 0.531 - ETA: 5:07 - loss: 2.8242 - acc: 0.533 - ETA: 4:56 - loss: 2.8258 - acc: 0.532 - ETA: 4:44 - loss: 2.8258 - acc: 0.530 - ETA: 4:33 - loss: 2.8262 - acc: 0.529 - ETA: 4:22 - loss: 2.8263 - acc: 0.528 - ETA: 4:10 - loss: 2.8266 - acc: 0.526 - ETA: 3:59 - loss: 2.8289 - acc: 0.524 - ETA: 3:47 - loss: 2.8276 - acc: 0.525 - ETA: 3:36 - loss: 2.8249 - acc: 0.525 - ETA: 3:24 - loss: 2.8254 - acc: 0.526 - ETA: 3:13 - loss: 2.8206 - acc: 0.527 - ETA: 3:02 - loss: 2.8200 - acc: 0.527 - ETA: 2:51 - loss: 2.8210 - acc: 0.527 - ETA: 2:39 - loss: 2.8195 - acc: 0.526 - ETA: 2:28 - loss: 2.8165 - acc: 0.528 - ETA: 2:16 - loss: 2.8144 - acc: 0.529 - ETA: 2:05 - loss: 2.8181 - acc: 0.528 - ETA: 1:54 - loss: 2.8214 - acc: 0.526 - ETA: 1:42 - loss: 2.8191 - acc: 0.527 - ETA: 1:31 - loss: 2.8186 - acc: 0.528 - ETA: 1:19 - loss: 2.8166 - acc: 0.528 - ETA: 1:08 - loss: 2.8172 - acc: 0.528 - ETA: 57s - loss: 2.8160 - acc: 0.528 - ETA: 45s - loss: 2.8128 - acc: 0.52 - ETA: 34s - loss: 2.8122 - acc: 0.52 - ETA: 22s - loss: 2.8116 - acc: 0.52 - ETA: 11s - loss: 2.8096 - acc: 0.52 - 1284s 15s/step - loss: 2.8078 - acc: 0.5291 - val_loss: 1.8238 - val_acc: 0.5818\n",
      "Epoch 25/200\n"
     ]
    },
    {
     "name": "stdout",
     "output_type": "stream",
     "text": [
      "83/83 [==============================] - ETA: 15:35 - loss: 2.9409 - acc: 0.43 - ETA: 15:20 - loss: 2.9242 - acc: 0.46 - ETA: 14:53 - loss: 2.8897 - acc: 0.51 - ETA: 11:13 - loss: 3.3249 - acc: 0.38 - ETA: 12:26 - loss: 3.2171 - acc: 0.41 - ETA: 12:48 - loss: 3.1537 - acc: 0.42 - ETA: 12:45 - loss: 3.0518 - acc: 0.46 - ETA: 12:46 - loss: 2.9871 - acc: 0.48 - ETA: 12:47 - loss: 2.9679 - acc: 0.49 - ETA: 12:45 - loss: 2.9381 - acc: 0.50 - ETA: 12:39 - loss: 2.9098 - acc: 0.50 - ETA: 12:29 - loss: 2.8835 - acc: 0.50 - ETA: 12:22 - loss: 2.8655 - acc: 0.51 - ETA: 12:14 - loss: 2.8617 - acc: 0.52 - ETA: 12:03 - loss: 2.8661 - acc: 0.52 - ETA: 11:55 - loss: 2.8679 - acc: 0.51 - ETA: 11:45 - loss: 2.8550 - acc: 0.52 - ETA: 11:35 - loss: 2.8401 - acc: 0.52 - ETA: 11:26 - loss: 2.8365 - acc: 0.53 - ETA: 11:16 - loss: 2.8261 - acc: 0.53 - ETA: 11:05 - loss: 2.8248 - acc: 0.53 - ETA: 10:54 - loss: 2.8008 - acc: 0.53 - ETA: 10:42 - loss: 2.8037 - acc: 0.53 - ETA: 10:35 - loss: 2.7961 - acc: 0.53 - ETA: 10:26 - loss: 2.7925 - acc: 0.53 - ETA: 10:17 - loss: 2.7879 - acc: 0.53 - ETA: 10:06 - loss: 2.7773 - acc: 0.54 - ETA: 9:57 - loss: 2.7682 - acc: 0.5469 - ETA: 9:48 - loss: 2.7593 - acc: 0.551 - ETA: 9:42 - loss: 2.7536 - acc: 0.551 - ETA: 9:33 - loss: 2.7560 - acc: 0.549 - ETA: 9:22 - loss: 2.7628 - acc: 0.543 - ETA: 9:13 - loss: 2.7605 - acc: 0.542 - ETA: 9:03 - loss: 2.7591 - acc: 0.543 - ETA: 8:55 - loss: 2.7546 - acc: 0.545 - ETA: 8:46 - loss: 2.7557 - acc: 0.544 - ETA: 8:36 - loss: 2.7509 - acc: 0.546 - ETA: 8:27 - loss: 2.7507 - acc: 0.545 - ETA: 8:17 - loss: 2.7528 - acc: 0.541 - ETA: 8:06 - loss: 2.7481 - acc: 0.545 - ETA: 7:54 - loss: 2.7440 - acc: 0.546 - ETA: 7:42 - loss: 2.7429 - acc: 0.546 - ETA: 7:32 - loss: 2.7403 - acc: 0.548 - ETA: 7:20 - loss: 2.7398 - acc: 0.550 - ETA: 7:08 - loss: 2.7376 - acc: 0.551 - ETA: 6:56 - loss: 2.7331 - acc: 0.554 - ETA: 6:45 - loss: 2.7327 - acc: 0.553 - ETA: 6:33 - loss: 2.7317 - acc: 0.552 - ETA: 6:22 - loss: 2.7262 - acc: 0.554 - ETA: 6:12 - loss: 2.7277 - acc: 0.553 - ETA: 6:02 - loss: 2.7240 - acc: 0.555 - ETA: 5:51 - loss: 2.7246 - acc: 0.557 - ETA: 5:39 - loss: 2.7207 - acc: 0.557 - ETA: 5:28 - loss: 2.7158 - acc: 0.557 - ETA: 5:16 - loss: 2.7194 - acc: 0.554 - ETA: 5:05 - loss: 2.7218 - acc: 0.553 - ETA: 4:53 - loss: 2.7189 - acc: 0.553 - ETA: 4:42 - loss: 2.7187 - acc: 0.553 - ETA: 4:31 - loss: 2.7221 - acc: 0.551 - ETA: 4:19 - loss: 2.7167 - acc: 0.553 - ETA: 4:08 - loss: 2.7227 - acc: 0.549 - ETA: 3:57 - loss: 2.7191 - acc: 0.550 - ETA: 3:45 - loss: 2.7171 - acc: 0.551 - ETA: 3:34 - loss: 2.7163 - acc: 0.553 - ETA: 3:23 - loss: 2.7131 - acc: 0.555 - ETA: 3:11 - loss: 2.7180 - acc: 0.554 - ETA: 3:00 - loss: 2.7140 - acc: 0.554 - ETA: 2:49 - loss: 2.7117 - acc: 0.554 - ETA: 2:38 - loss: 2.7077 - acc: 0.555 - ETA: 2:26 - loss: 2.7088 - acc: 0.555 - ETA: 2:15 - loss: 2.7108 - acc: 0.555 - ETA: 2:04 - loss: 2.7139 - acc: 0.553 - ETA: 1:52 - loss: 2.7145 - acc: 0.554 - ETA: 1:41 - loss: 2.7112 - acc: 0.554 - ETA: 1:30 - loss: 2.7154 - acc: 0.552 - ETA: 1:18 - loss: 2.7165 - acc: 0.551 - ETA: 1:07 - loss: 2.7174 - acc: 0.548 - ETA: 56s - loss: 2.7159 - acc: 0.547 - ETA: 45s - loss: 2.7105 - acc: 0.55 - ETA: 33s - loss: 2.7095 - acc: 0.54 - ETA: 22s - loss: 2.7079 - acc: 0.54 - ETA: 11s - loss: 2.7084 - acc: 0.54 - 1344s 16s/step - loss: 2.7093 - acc: 0.5486 - val_loss: 1.7438 - val_acc: 0.5952\n",
      "Epoch 26/200\n",
      "83/83 [==============================] - ETA: 15:31 - loss: 2.4788 - acc: 0.56 - ETA: 15:35 - loss: 2.4842 - acc: 0.64 - ETA: 15:12 - loss: 2.5097 - acc: 0.62 - ETA: 15:02 - loss: 2.5670 - acc: 0.60 - ETA: 14:48 - loss: 2.5699 - acc: 0.58 - ETA: 14:39 - loss: 2.5711 - acc: 0.60 - ETA: 14:23 - loss: 2.5918 - acc: 0.59 - ETA: 14:11 - loss: 2.5941 - acc: 0.58 - ETA: 13:57 - loss: 2.5840 - acc: 0.60 - ETA: 13:43 - loss: 2.5937 - acc: 0.59 - ETA: 13:36 - loss: 2.5865 - acc: 0.60 - ETA: 13:25 - loss: 2.5794 - acc: 0.60 - ETA: 13:15 - loss: 2.5916 - acc: 0.59 - ETA: 13:02 - loss: 2.5968 - acc: 0.60 - ETA: 12:49 - loss: 2.6150 - acc: 0.59 - ETA: 12:41 - loss: 2.6168 - acc: 0.58 - ETA: 12:31 - loss: 2.6222 - acc: 0.58 - ETA: 12:19 - loss: 2.6217 - acc: 0.59 - ETA: 12:09 - loss: 2.6103 - acc: 0.59 - ETA: 11:58 - loss: 2.6093 - acc: 0.59 - ETA: 11:47 - loss: 2.6200 - acc: 0.58 - ETA: 11:37 - loss: 2.6271 - acc: 0.57 - ETA: 10:57 - loss: 2.7179 - acc: 0.55 - ETA: 10:46 - loss: 2.7238 - acc: 0.54 - ETA: 10:38 - loss: 2.7270 - acc: 0.54 - ETA: 10:31 - loss: 2.7224 - acc: 0.54 - ETA: 10:23 - loss: 2.7229 - acc: 0.54 - ETA: 10:12 - loss: 2.7189 - acc: 0.55 - ETA: 10:01 - loss: 2.7207 - acc: 0.54 - ETA: 9:51 - loss: 2.7098 - acc: 0.5510 - ETA: 9:41 - loss: 2.7082 - acc: 0.551 - ETA: 9:31 - loss: 2.7064 - acc: 0.552 - ETA: 9:20 - loss: 2.7111 - acc: 0.551 - ETA: 9:08 - loss: 2.7143 - acc: 0.549 - ETA: 8:58 - loss: 2.7196 - acc: 0.547 - ETA: 8:47 - loss: 2.7068 - acc: 0.550 - ETA: 8:36 - loss: 2.7123 - acc: 0.549 - ETA: 8:24 - loss: 2.7084 - acc: 0.551 - ETA: 8:12 - loss: 2.7100 - acc: 0.549 - ETA: 8:00 - loss: 2.7092 - acc: 0.549 - ETA: 7:48 - loss: 2.6980 - acc: 0.550 - ETA: 7:37 - loss: 2.6913 - acc: 0.551 - ETA: 7:25 - loss: 2.6856 - acc: 0.553 - ETA: 7:16 - loss: 2.6850 - acc: 0.553 - ETA: 7:05 - loss: 2.6862 - acc: 0.554 - ETA: 6:55 - loss: 2.6765 - acc: 0.558 - ETA: 6:44 - loss: 2.6802 - acc: 0.557 - ETA: 6:33 - loss: 2.6815 - acc: 0.556 - ETA: 6:22 - loss: 2.6803 - acc: 0.559 - ETA: 6:10 - loss: 2.6803 - acc: 0.559 - ETA: 5:59 - loss: 2.6771 - acc: 0.560 - ETA: 5:48 - loss: 2.6771 - acc: 0.557 - ETA: 5:37 - loss: 2.6749 - acc: 0.558 - ETA: 5:25 - loss: 2.6737 - acc: 0.558 - ETA: 5:14 - loss: 2.6696 - acc: 0.560 - ETA: 4:58 - loss: 2.7099 - acc: 0.550 - ETA: 4:47 - loss: 2.7031 - acc: 0.552 - ETA: 4:36 - loss: 2.6960 - acc: 0.554 - ETA: 4:25 - loss: 2.6901 - acc: 0.557 - ETA: 4:14 - loss: 2.6938 - acc: 0.556 - ETA: 4:03 - loss: 2.6921 - acc: 0.556 - ETA: 3:52 - loss: 2.6900 - acc: 0.558 - ETA: 3:41 - loss: 2.6910 - acc: 0.557 - ETA: 3:30 - loss: 2.6902 - acc: 0.557 - ETA: 3:19 - loss: 2.6852 - acc: 0.559 - ETA: 3:08 - loss: 2.6844 - acc: 0.558 - ETA: 2:57 - loss: 2.6846 - acc: 0.558 - ETA: 2:46 - loss: 2.6803 - acc: 0.559 - ETA: 2:35 - loss: 2.6792 - acc: 0.559 - ETA: 2:23 - loss: 2.6816 - acc: 0.557 - ETA: 2:12 - loss: 2.6810 - acc: 0.555 - ETA: 2:01 - loss: 2.6796 - acc: 0.554 - ETA: 1:50 - loss: 2.6791 - acc: 0.554 - ETA: 1:39 - loss: 2.6788 - acc: 0.554 - ETA: 1:28 - loss: 2.6786 - acc: 0.555 - ETA: 1:17 - loss: 2.6809 - acc: 0.554 - ETA: 1:06 - loss: 2.6774 - acc: 0.556 - ETA: 55s - loss: 2.6750 - acc: 0.556 - ETA: 44s - loss: 2.6748 - acc: 0.55 - ETA: 33s - loss: 2.6732 - acc: 0.55 - ETA: 22s - loss: 2.6699 - acc: 0.55 - ETA: 11s - loss: 2.6690 - acc: 0.55 - 1239s 15s/step - loss: 2.6668 - acc: 0.5559 - val_loss: 1.6806 - val_acc: 0.6073\n",
      "Epoch 27/200\n"
     ]
    },
    {
     "name": "stdout",
     "output_type": "stream",
     "text": [
      "83/83 [==============================] - ETA: 14:07 - loss: 2.3099 - acc: 0.59 - ETA: 15:24 - loss: 2.4087 - acc: 0.57 - ETA: 15:47 - loss: 2.5038 - acc: 0.57 - ETA: 15:10 - loss: 2.5301 - acc: 0.55 - ETA: 14:42 - loss: 2.5474 - acc: 0.55 - ETA: 14:22 - loss: 2.5414 - acc: 0.56 - ETA: 14:04 - loss: 2.5379 - acc: 0.55 - ETA: 13:47 - loss: 2.5317 - acc: 0.57 - ETA: 13:32 - loss: 2.5445 - acc: 0.56 - ETA: 13:18 - loss: 2.5533 - acc: 0.55 - ETA: 13:03 - loss: 2.5640 - acc: 0.55 - ETA: 12:48 - loss: 2.5589 - acc: 0.56 - ETA: 12:35 - loss: 2.5803 - acc: 0.55 - ETA: 12:22 - loss: 2.5735 - acc: 0.55 - ETA: 12:09 - loss: 2.5852 - acc: 0.55 - ETA: 11:58 - loss: 2.5845 - acc: 0.55 - ETA: 11:44 - loss: 2.5850 - acc: 0.55 - ETA: 11:32 - loss: 2.5912 - acc: 0.54 - ETA: 11:20 - loss: 2.5875 - acc: 0.55 - ETA: 11:07 - loss: 2.5915 - acc: 0.55 - ETA: 10:59 - loss: 2.5825 - acc: 0.55 - ETA: 10:51 - loss: 2.5703 - acc: 0.56 - ETA: 10:43 - loss: 2.5606 - acc: 0.56 - ETA: 10:31 - loss: 2.5568 - acc: 0.56 - ETA: 10:20 - loss: 2.5561 - acc: 0.56 - ETA: 10:13 - loss: 2.5525 - acc: 0.57 - ETA: 10:03 - loss: 2.5328 - acc: 0.57 - ETA: 9:53 - loss: 2.5298 - acc: 0.5770 - ETA: 9:43 - loss: 2.5394 - acc: 0.570 - ETA: 9:35 - loss: 2.5436 - acc: 0.569 - ETA: 9:26 - loss: 2.5441 - acc: 0.569 - ETA: 9:16 - loss: 2.5443 - acc: 0.568 - ETA: 9:05 - loss: 2.5415 - acc: 0.567 - ETA: 8:55 - loss: 2.5396 - acc: 0.568 - ETA: 8:44 - loss: 2.5310 - acc: 0.572 - ETA: 8:34 - loss: 2.5263 - acc: 0.575 - ETA: 8:23 - loss: 2.5279 - acc: 0.574 - ETA: 8:13 - loss: 2.5244 - acc: 0.573 - ETA: 8:02 - loss: 2.5234 - acc: 0.573 - ETA: 7:51 - loss: 2.5220 - acc: 0.575 - ETA: 7:41 - loss: 2.5239 - acc: 0.574 - ETA: 7:30 - loss: 2.5230 - acc: 0.574 - ETA: 7:20 - loss: 2.5223 - acc: 0.574 - ETA: 7:09 - loss: 2.5168 - acc: 0.577 - ETA: 7:00 - loss: 2.5227 - acc: 0.575 - ETA: 6:49 - loss: 2.5269 - acc: 0.574 - ETA: 6:38 - loss: 2.5245 - acc: 0.575 - ETA: 6:26 - loss: 2.5277 - acc: 0.575 - ETA: 6:15 - loss: 2.5263 - acc: 0.574 - ETA: 6:03 - loss: 2.5194 - acc: 0.578 - ETA: 5:52 - loss: 2.5180 - acc: 0.579 - ETA: 5:41 - loss: 2.5168 - acc: 0.579 - ETA: 5:30 - loss: 2.5188 - acc: 0.577 - ETA: 5:19 - loss: 2.5160 - acc: 0.579 - ETA: 5:08 - loss: 2.5174 - acc: 0.579 - ETA: 4:56 - loss: 2.5159 - acc: 0.579 - ETA: 4:45 - loss: 2.5147 - acc: 0.579 - ETA: 4:34 - loss: 2.5123 - acc: 0.583 - ETA: 4:22 - loss: 2.5117 - acc: 0.583 - ETA: 4:11 - loss: 2.5100 - acc: 0.585 - ETA: 4:00 - loss: 2.5062 - acc: 0.587 - ETA: 3:49 - loss: 2.5078 - acc: 0.585 - ETA: 3:38 - loss: 2.5096 - acc: 0.585 - ETA: 3:27 - loss: 2.5140 - acc: 0.584 - ETA: 3:16 - loss: 2.5162 - acc: 0.582 - ETA: 3:05 - loss: 2.5167 - acc: 0.582 - ETA: 2:52 - loss: 2.5502 - acc: 0.574 - ETA: 2:41 - loss: 2.5515 - acc: 0.573 - ETA: 2:30 - loss: 2.5527 - acc: 0.572 - ETA: 2:19 - loss: 2.5516 - acc: 0.573 - ETA: 2:09 - loss: 2.5489 - acc: 0.574 - ETA: 1:58 - loss: 2.5486 - acc: 0.574 - ETA: 1:47 - loss: 2.5463 - acc: 0.575 - ETA: 1:36 - loss: 2.5507 - acc: 0.572 - ETA: 1:25 - loss: 2.5491 - acc: 0.573 - ETA: 1:15 - loss: 2.5494 - acc: 0.572 - ETA: 1:04 - loss: 2.5472 - acc: 0.573 - ETA: 53s - loss: 2.5472 - acc: 0.572 - ETA: 42s - loss: 2.5465 - acc: 0.57 - ETA: 32s - loss: 2.5460 - acc: 0.57 - ETA: 21s - loss: 2.5410 - acc: 0.57 - ETA: 10s - loss: 2.5421 - acc: 0.57 - 1216s 15s/step - loss: 2.5432 - acc: 0.5754 - val_loss: 1.6219 - val_acc: 0.6158\n",
      "Epoch 28/200\n",
      "83/83 [==============================] - ETA: 15:18 - loss: 2.6440 - acc: 0.43 - ETA: 15:04 - loss: 2.4900 - acc: 0.53 - ETA: 14:53 - loss: 2.5551 - acc: 0.56 - ETA: 14:41 - loss: 2.5054 - acc: 0.57 - ETA: 14:29 - loss: 2.4854 - acc: 0.58 - ETA: 14:22 - loss: 2.4837 - acc: 0.58 - ETA: 14:11 - loss: 2.5523 - acc: 0.58 - ETA: 14:03 - loss: 2.5444 - acc: 0.59 - ETA: 13:53 - loss: 2.5331 - acc: 0.60 - ETA: 13:44 - loss: 2.5395 - acc: 0.60 - ETA: 13:44 - loss: 2.5355 - acc: 0.60 - ETA: 13:29 - loss: 2.5408 - acc: 0.60 - ETA: 13:15 - loss: 2.5443 - acc: 0.60 - ETA: 13:06 - loss: 2.5545 - acc: 0.59 - ETA: 12:53 - loss: 2.5452 - acc: 0.59 - ETA: 12:37 - loss: 2.5611 - acc: 0.58 - ETA: 12:25 - loss: 2.5669 - acc: 0.59 - ETA: 12:10 - loss: 2.5651 - acc: 0.59 - ETA: 11:55 - loss: 2.5673 - acc: 0.59 - ETA: 11:41 - loss: 2.5630 - acc: 0.58 - ETA: 11:27 - loss: 2.5589 - acc: 0.58 - ETA: 11:13 - loss: 2.5516 - acc: 0.58 - ETA: 11:00 - loss: 2.5504 - acc: 0.58 - ETA: 10:46 - loss: 2.5504 - acc: 0.57 - ETA: 10:34 - loss: 2.5497 - acc: 0.57 - ETA: 10:22 - loss: 2.5463 - acc: 0.57 - ETA: 10:11 - loss: 2.5406 - acc: 0.57 - ETA: 9:59 - loss: 2.5396 - acc: 0.5759 - ETA: 9:48 - loss: 2.5333 - acc: 0.580 - ETA: 9:35 - loss: 2.5233 - acc: 0.584 - ETA: 9:23 - loss: 2.5197 - acc: 0.584 - ETA: 9:12 - loss: 2.5209 - acc: 0.585 - ETA: 9:00 - loss: 2.5193 - acc: 0.586 - ETA: 8:49 - loss: 2.5191 - acc: 0.583 - ETA: 8:38 - loss: 2.5151 - acc: 0.582 - ETA: 8:26 - loss: 2.5123 - acc: 0.583 - ETA: 8:15 - loss: 2.5079 - acc: 0.584 - ETA: 8:03 - loss: 2.5109 - acc: 0.581 - ETA: 7:52 - loss: 2.5155 - acc: 0.580 - ETA: 7:41 - loss: 2.5158 - acc: 0.579 - ETA: 7:30 - loss: 2.5095 - acc: 0.582 - ETA: 7:19 - loss: 2.5005 - acc: 0.585 - ETA: 7:08 - loss: 2.5002 - acc: 0.582 - ETA: 6:57 - loss: 2.5030 - acc: 0.581 - ETA: 6:46 - loss: 2.5085 - acc: 0.579 - ETA: 6:35 - loss: 2.5009 - acc: 0.582 - ETA: 6:24 - loss: 2.5001 - acc: 0.581 - ETA: 6:13 - loss: 2.4947 - acc: 0.582 - ETA: 6:02 - loss: 2.4952 - acc: 0.581 - ETA: 5:51 - loss: 2.4943 - acc: 0.582 - ETA: 5:40 - loss: 2.4894 - acc: 0.585 - ETA: 5:29 - loss: 2.4895 - acc: 0.585 - ETA: 5:19 - loss: 2.4930 - acc: 0.584 - ETA: 5:08 - loss: 2.4892 - acc: 0.585 - ETA: 4:57 - loss: 2.4862 - acc: 0.586 - ETA: 4:46 - loss: 2.4835 - acc: 0.586 - ETA: 4:35 - loss: 2.4850 - acc: 0.586 - ETA: 4:25 - loss: 2.4821 - acc: 0.588 - ETA: 4:14 - loss: 2.4802 - acc: 0.587 - ETA: 4:03 - loss: 2.4774 - acc: 0.588 - ETA: 3:52 - loss: 2.4781 - acc: 0.588 - ETA: 3:42 - loss: 2.4761 - acc: 0.589 - ETA: 3:31 - loss: 2.4725 - acc: 0.591 - ETA: 3:21 - loss: 2.4682 - acc: 0.592 - ETA: 3:10 - loss: 2.4664 - acc: 0.594 - ETA: 2:59 - loss: 2.4667 - acc: 0.594 - ETA: 2:49 - loss: 2.4651 - acc: 0.594 - ETA: 2:38 - loss: 2.4640 - acc: 0.595 - ETA: 2:27 - loss: 2.4656 - acc: 0.594 - ETA: 2:17 - loss: 2.4639 - acc: 0.595 - ETA: 2:06 - loss: 2.4622 - acc: 0.595 - ETA: 1:56 - loss: 2.4618 - acc: 0.593 - ETA: 1:45 - loss: 2.4634 - acc: 0.593 - ETA: 1:34 - loss: 2.4581 - acc: 0.595 - ETA: 1:23 - loss: 2.4894 - acc: 0.587 - ETA: 1:12 - loss: 2.4878 - acc: 0.588 - ETA: 1:02 - loss: 2.4876 - acc: 0.588 - ETA: 52s - loss: 2.4874 - acc: 0.588 - ETA: 41s - loss: 2.4903 - acc: 0.58 - ETA: 31s - loss: 2.4896 - acc: 0.58 - ETA: 20s - loss: 2.4909 - acc: 0.58 - ETA: 10s - loss: 2.4898 - acc: 0.58 - 1166s 14s/step - loss: 2.4888 - acc: 0.5825 - val_loss: 1.5617 - val_acc: 0.6182\n",
      "Epoch 29/200\n"
     ]
    },
    {
     "name": "stdout",
     "output_type": "stream",
     "text": [
      "83/83 [==============================] - ETA: 15:06 - loss: 2.3500 - acc: 0.59 - ETA: 14:27 - loss: 2.3317 - acc: 0.62 - ETA: 14:10 - loss: 2.2998 - acc: 0.63 - ETA: 13:52 - loss: 2.3273 - acc: 0.63 - ETA: 13:56 - loss: 2.2539 - acc: 0.63 - ETA: 13:59 - loss: 2.2473 - acc: 0.64 - ETA: 14:01 - loss: 2.2564 - acc: 0.64 - ETA: 13:53 - loss: 2.2556 - acc: 0.64 - ETA: 13:43 - loss: 2.2618 - acc: 0.63 - ETA: 13:36 - loss: 2.3072 - acc: 0.61 - ETA: 13:36 - loss: 2.3365 - acc: 0.61 - ETA: 13:34 - loss: 2.3458 - acc: 0.60 - ETA: 13:22 - loss: 2.3326 - acc: 0.61 - ETA: 13:09 - loss: 2.3388 - acc: 0.61 - ETA: 12:53 - loss: 2.3447 - acc: 0.61 - ETA: 12:37 - loss: 2.3420 - acc: 0.61 - ETA: 12:23 - loss: 2.3669 - acc: 0.60 - ETA: 12:08 - loss: 2.3624 - acc: 0.60 - ETA: 11:53 - loss: 2.3895 - acc: 0.59 - ETA: 11:39 - loss: 2.3925 - acc: 0.59 - ETA: 11:25 - loss: 2.4023 - acc: 0.58 - ETA: 11:11 - loss: 2.3931 - acc: 0.59 - ETA: 10:59 - loss: 2.3842 - acc: 0.60 - ETA: 10:45 - loss: 2.3772 - acc: 0.59 - ETA: 10:32 - loss: 2.3773 - acc: 0.60 - ETA: 10:20 - loss: 2.3748 - acc: 0.59 - ETA: 10:08 - loss: 2.3872 - acc: 0.59 - ETA: 9:58 - loss: 2.3856 - acc: 0.5971 - ETA: 9:46 - loss: 2.3848 - acc: 0.597 - ETA: 9:34 - loss: 2.3858 - acc: 0.594 - ETA: 9:23 - loss: 2.3857 - acc: 0.594 - ETA: 9:11 - loss: 2.3802 - acc: 0.596 - ETA: 8:59 - loss: 2.3850 - acc: 0.594 - ETA: 8:48 - loss: 2.3901 - acc: 0.590 - ETA: 8:36 - loss: 2.3856 - acc: 0.592 - ETA: 8:25 - loss: 2.3870 - acc: 0.591 - ETA: 8:14 - loss: 2.3826 - acc: 0.592 - ETA: 8:02 - loss: 2.3802 - acc: 0.592 - ETA: 7:54 - loss: 2.3690 - acc: 0.596 - ETA: 7:47 - loss: 2.3727 - acc: 0.596 - ETA: 7:37 - loss: 2.3812 - acc: 0.594 - ETA: 7:26 - loss: 2.3787 - acc: 0.597 - ETA: 7:15 - loss: 2.3707 - acc: 0.600 - ETA: 7:05 - loss: 2.3678 - acc: 0.600 - ETA: 6:45 - loss: 2.4187 - acc: 0.586 - ETA: 6:35 - loss: 2.4138 - acc: 0.586 - ETA: 6:24 - loss: 2.4121 - acc: 0.587 - ETA: 6:14 - loss: 2.4124 - acc: 0.586 - ETA: 6:04 - loss: 2.4145 - acc: 0.588 - ETA: 5:53 - loss: 2.4108 - acc: 0.590 - ETA: 5:43 - loss: 2.4058 - acc: 0.591 - ETA: 5:32 - loss: 2.4074 - acc: 0.588 - ETA: 5:21 - loss: 2.4035 - acc: 0.590 - ETA: 5:11 - loss: 2.4008 - acc: 0.589 - ETA: 5:00 - loss: 2.3973 - acc: 0.591 - ETA: 4:50 - loss: 2.3932 - acc: 0.592 - ETA: 4:39 - loss: 2.3934 - acc: 0.591 - ETA: 4:30 - loss: 2.3933 - acc: 0.590 - ETA: 4:19 - loss: 2.3881 - acc: 0.590 - ETA: 4:08 - loss: 2.3928 - acc: 0.590 - ETA: 3:58 - loss: 2.3932 - acc: 0.590 - ETA: 3:47 - loss: 2.3964 - acc: 0.590 - ETA: 3:36 - loss: 2.4000 - acc: 0.588 - ETA: 3:25 - loss: 2.3965 - acc: 0.591 - ETA: 3:15 - loss: 2.3981 - acc: 0.592 - ETA: 3:04 - loss: 2.4000 - acc: 0.592 - ETA: 2:53 - loss: 2.4036 - acc: 0.591 - ETA: 2:42 - loss: 2.4020 - acc: 0.592 - ETA: 2:32 - loss: 2.3989 - acc: 0.592 - ETA: 2:21 - loss: 2.3956 - acc: 0.596 - ETA: 2:10 - loss: 2.3941 - acc: 0.597 - ETA: 1:59 - loss: 2.3899 - acc: 0.597 - ETA: 1:48 - loss: 2.3922 - acc: 0.596 - ETA: 1:37 - loss: 2.3946 - acc: 0.595 - ETA: 1:27 - loss: 2.3965 - acc: 0.593 - ETA: 1:16 - loss: 2.3991 - acc: 0.592 - ETA: 1:05 - loss: 2.3967 - acc: 0.593 - ETA: 54s - loss: 2.3939 - acc: 0.593 - ETA: 43s - loss: 2.3931 - acc: 0.59 - ETA: 32s - loss: 2.3955 - acc: 0.59 - ETA: 21s - loss: 2.3954 - acc: 0.59 - ETA: 10s - loss: 2.3929 - acc: 0.59 - 1309s 16s/step - loss: 2.3931 - acc: 0.5953 - val_loss: 1.5177 - val_acc: 0.6279\n",
      "Epoch 30/200\n",
      "83/83 [==============================] - ETA: 19:26 - loss: 2.5860 - acc: 0.43 - ETA: 18:38 - loss: 2.5948 - acc: 0.48 - ETA: 17:41 - loss: 2.4283 - acc: 0.54 - ETA: 17:08 - loss: 2.4625 - acc: 0.53 - ETA: 16:41 - loss: 2.4280 - acc: 0.55 - ETA: 16:23 - loss: 2.4648 - acc: 0.52 - ETA: 16:16 - loss: 2.4244 - acc: 0.53 - ETA: 16:14 - loss: 2.4007 - acc: 0.56 - ETA: 16:03 - loss: 2.3904 - acc: 0.56 - ETA: 15:48 - loss: 2.3947 - acc: 0.56 - ETA: 15:28 - loss: 2.4193 - acc: 0.56 - ETA: 15:07 - loss: 2.4453 - acc: 0.54 - ETA: 14:54 - loss: 2.4256 - acc: 0.55 - ETA: 14:42 - loss: 2.4077 - acc: 0.56 - ETA: 14:36 - loss: 2.3866 - acc: 0.57 - ETA: 14:26 - loss: 2.3980 - acc: 0.57 - ETA: 14:14 - loss: 2.3892 - acc: 0.57 - ETA: 14:05 - loss: 2.3785 - acc: 0.58 - ETA: 13:51 - loss: 2.3683 - acc: 0.58 - ETA: 13:35 - loss: 2.3683 - acc: 0.58 - ETA: 13:18 - loss: 2.3650 - acc: 0.58 - ETA: 13:01 - loss: 2.3605 - acc: 0.59 - ETA: 12:43 - loss: 2.3631 - acc: 0.59 - ETA: 12:24 - loss: 2.3540 - acc: 0.60 - ETA: 12:05 - loss: 2.3504 - acc: 0.60 - ETA: 11:48 - loss: 2.3390 - acc: 0.60 - ETA: 11:31 - loss: 2.3393 - acc: 0.61 - ETA: 11:14 - loss: 2.3392 - acc: 0.61 - ETA: 11:02 - loss: 2.3381 - acc: 0.61 - ETA: 10:47 - loss: 2.3406 - acc: 0.61 - ETA: 10:35 - loss: 2.3370 - acc: 0.61 - ETA: 10:21 - loss: 2.3350 - acc: 0.61 - ETA: 10:08 - loss: 2.3285 - acc: 0.62 - ETA: 9:56 - loss: 2.3235 - acc: 0.6204 - ETA: 9:42 - loss: 2.3172 - acc: 0.621 - ETA: 9:28 - loss: 2.3133 - acc: 0.622 - ETA: 9:14 - loss: 2.3114 - acc: 0.623 - ETA: 9:00 - loss: 2.3075 - acc: 0.624 - ETA: 8:46 - loss: 2.3055 - acc: 0.620 - ETA: 8:33 - loss: 2.3042 - acc: 0.620 - ETA: 8:19 - loss: 2.3073 - acc: 0.622 - ETA: 8:06 - loss: 2.3035 - acc: 0.624 - ETA: 7:53 - loss: 2.3024 - acc: 0.626 - ETA: 7:39 - loss: 2.3001 - acc: 0.628 - ETA: 7:26 - loss: 2.3040 - acc: 0.627 - ETA: 7:13 - loss: 2.3037 - acc: 0.628 - ETA: 7:01 - loss: 2.3052 - acc: 0.627 - ETA: 6:48 - loss: 2.3040 - acc: 0.630 - ETA: 6:35 - loss: 2.2983 - acc: 0.632 - ETA: 6:23 - loss: 2.3005 - acc: 0.632 - ETA: 6:11 - loss: 2.3005 - acc: 0.633 - ETA: 5:58 - loss: 2.3016 - acc: 0.634 - ETA: 5:46 - loss: 2.2953 - acc: 0.638 - ETA: 5:34 - loss: 2.2894 - acc: 0.640 - ETA: 5:22 - loss: 2.2930 - acc: 0.639 - ETA: 5:10 - loss: 2.2941 - acc: 0.637 - ETA: 4:53 - loss: 2.3344 - acc: 0.626 - ETA: 4:42 - loss: 2.3359 - acc: 0.627 - ETA: 4:30 - loss: 2.3370 - acc: 0.629 - ETA: 4:18 - loss: 2.3393 - acc: 0.627 - ETA: 4:07 - loss: 2.3417 - acc: 0.625 - ETA: 3:55 - loss: 2.3406 - acc: 0.625 - ETA: 3:44 - loss: 2.3405 - acc: 0.627 - ETA: 3:32 - loss: 2.3374 - acc: 0.627 - ETA: 3:21 - loss: 2.3426 - acc: 0.626 - ETA: 3:09 - loss: 2.3460 - acc: 0.622 - ETA: 2:58 - loss: 2.3393 - acc: 0.625 - ETA: 2:47 - loss: 2.3394 - acc: 0.624 - ETA: 2:35 - loss: 2.3363 - acc: 0.625 - ETA: 2:24 - loss: 2.3349 - acc: 0.626 - ETA: 2:13 - loss: 2.3363 - acc: 0.626 - ETA: 2:02 - loss: 2.3376 - acc: 0.625 - ETA: 1:50 - loss: 2.3380 - acc: 0.625 - ETA: 1:39 - loss: 2.3375 - acc: 0.626 - ETA: 1:28 - loss: 2.3370 - acc: 0.627 - ETA: 1:17 - loss: 2.3377 - acc: 0.626 - ETA: 1:06 - loss: 2.3378 - acc: 0.625 - ETA: 55s - loss: 2.3373 - acc: 0.625 - ETA: 44s - loss: 2.3351 - acc: 0.62 - ETA: 33s - loss: 2.3343 - acc: 0.62 - ETA: 22s - loss: 2.3349 - acc: 0.62 - ETA: 11s - loss: 2.3379 - acc: 0.62 - 1216s 15s/step - loss: 2.3385 - acc: 0.6243 - val_loss: 1.4728 - val_acc: 0.6291\n",
      "Epoch 31/200\n"
     ]
    },
    {
     "name": "stdout",
     "output_type": "stream",
     "text": [
      "83/83 [==============================] - ETA: 14:02 - loss: 2.3243 - acc: 0.53 - ETA: 13:46 - loss: 2.2877 - acc: 0.56 - ETA: 13:41 - loss: 2.2933 - acc: 0.56 - ETA: 13:27 - loss: 2.2430 - acc: 0.60 - ETA: 13:18 - loss: 2.2678 - acc: 0.57 - ETA: 13:08 - loss: 2.3091 - acc: 0.56 - ETA: 12:55 - loss: 2.2832 - acc: 0.58 - ETA: 12:45 - loss: 2.3022 - acc: 0.57 - ETA: 12:36 - loss: 2.3119 - acc: 0.57 - ETA: 12:24 - loss: 2.2995 - acc: 0.58 - ETA: 12:14 - loss: 2.2911 - acc: 0.59 - ETA: 12:04 - loss: 2.2892 - acc: 0.59 - ETA: 11:58 - loss: 2.3052 - acc: 0.59 - ETA: 11:54 - loss: 2.3012 - acc: 0.59 - ETA: 11:48 - loss: 2.2873 - acc: 0.60 - ETA: 11:40 - loss: 2.2851 - acc: 0.59 - ETA: 11:32 - loss: 2.2716 - acc: 0.60 - ETA: 11:26 - loss: 2.2600 - acc: 0.61 - ETA: 11:16 - loss: 2.2485 - acc: 0.61 - ETA: 11:04 - loss: 2.2511 - acc: 0.61 - ETA: 10:54 - loss: 2.2561 - acc: 0.61 - ETA: 10:43 - loss: 2.2630 - acc: 0.61 - ETA: 10:35 - loss: 2.2755 - acc: 0.60 - ETA: 10:23 - loss: 2.2756 - acc: 0.60 - ETA: 10:12 - loss: 2.2620 - acc: 0.61 - ETA: 10:03 - loss: 2.2544 - acc: 0.61 - ETA: 9:55 - loss: 2.2556 - acc: 0.6146 - ETA: 9:44 - loss: 2.2643 - acc: 0.610 - ETA: 9:33 - loss: 2.2597 - acc: 0.613 - ETA: 9:26 - loss: 2.2735 - acc: 0.609 - ETA: 9:15 - loss: 2.2687 - acc: 0.612 - ETA: 9:05 - loss: 2.2740 - acc: 0.609 - ETA: 8:54 - loss: 2.2712 - acc: 0.609 - ETA: 8:43 - loss: 2.2684 - acc: 0.614 - ETA: 8:33 - loss: 2.2674 - acc: 0.614 - ETA: 8:23 - loss: 2.2639 - acc: 0.616 - ETA: 8:12 - loss: 2.2626 - acc: 0.617 - ETA: 8:01 - loss: 2.2598 - acc: 0.618 - ETA: 7:52 - loss: 2.2567 - acc: 0.621 - ETA: 7:42 - loss: 2.2607 - acc: 0.618 - ETA: 7:33 - loss: 2.2559 - acc: 0.618 - ETA: 7:22 - loss: 2.2575 - acc: 0.618 - ETA: 7:12 - loss: 2.2532 - acc: 0.619 - ETA: 7:02 - loss: 2.2552 - acc: 0.618 - ETA: 6:51 - loss: 2.2495 - acc: 0.622 - ETA: 6:41 - loss: 2.2562 - acc: 0.618 - ETA: 6:29 - loss: 2.2546 - acc: 0.617 - ETA: 6:18 - loss: 2.2541 - acc: 0.615 - ETA: 6:09 - loss: 2.2540 - acc: 0.616 - ETA: 5:58 - loss: 2.2551 - acc: 0.616 - ETA: 5:47 - loss: 2.2543 - acc: 0.618 - ETA: 5:36 - loss: 2.2558 - acc: 0.618 - ETA: 5:25 - loss: 2.2580 - acc: 0.619 - ETA: 5:15 - loss: 2.2569 - acc: 0.618 - ETA: 5:04 - loss: 2.2556 - acc: 0.619 - ETA: 4:52 - loss: 2.2534 - acc: 0.618 - ETA: 4:41 - loss: 2.2493 - acc: 0.618 - ETA: 4:30 - loss: 2.2501 - acc: 0.618 - ETA: 4:19 - loss: 2.2475 - acc: 0.619 - ETA: 4:08 - loss: 2.2490 - acc: 0.617 - ETA: 3:57 - loss: 2.2487 - acc: 0.617 - ETA: 3:46 - loss: 2.2477 - acc: 0.618 - ETA: 3:35 - loss: 2.2465 - acc: 0.618 - ETA: 3:24 - loss: 2.2471 - acc: 0.617 - ETA: 3:13 - loss: 2.2483 - acc: 0.616 - ETA: 3:02 - loss: 2.2467 - acc: 0.617 - ETA: 2:49 - loss: 2.2872 - acc: 0.607 - ETA: 2:38 - loss: 2.2919 - acc: 0.606 - ETA: 2:28 - loss: 2.2936 - acc: 0.606 - ETA: 2:17 - loss: 2.2908 - acc: 0.606 - ETA: 2:06 - loss: 2.2865 - acc: 0.608 - ETA: 1:56 - loss: 2.2841 - acc: 0.608 - ETA: 1:45 - loss: 2.2849 - acc: 0.609 - ETA: 1:34 - loss: 2.2829 - acc: 0.608 - ETA: 1:24 - loss: 2.2824 - acc: 0.609 - ETA: 1:13 - loss: 2.2807 - acc: 0.610 - ETA: 1:03 - loss: 2.2780 - acc: 0.611 - ETA: 52s - loss: 2.2769 - acc: 0.612 - ETA: 42s - loss: 2.2741 - acc: 0.61 - ETA: 31s - loss: 2.2707 - acc: 0.61 - ETA: 21s - loss: 2.2721 - acc: 0.61 - ETA: 10s - loss: 2.2739 - acc: 0.61 - 1227s 15s/step - loss: 2.2749 - acc: 0.6123 - val_loss: 1.4300 - val_acc: 0.6376\n",
      "Epoch 32/200\n",
      "83/83 [==============================] - ETA: 15:19 - loss: 2.2963 - acc: 0.59 - ETA: 15:47 - loss: 2.2732 - acc: 0.62 - ETA: 16:01 - loss: 2.1982 - acc: 0.65 - ETA: 15:28 - loss: 2.1671 - acc: 0.67 - ETA: 15:04 - loss: 2.1650 - acc: 0.66 - ETA: 14:47 - loss: 2.2058 - acc: 0.64 - ETA: 14:35 - loss: 2.1929 - acc: 0.65 - ETA: 14:14 - loss: 2.2130 - acc: 0.65 - ETA: 13:59 - loss: 2.2384 - acc: 0.64 - ETA: 13:49 - loss: 2.2220 - acc: 0.63 - ETA: 13:39 - loss: 2.2185 - acc: 0.62 - ETA: 13:26 - loss: 2.2143 - acc: 0.62 - ETA: 13:10 - loss: 2.2224 - acc: 0.62 - ETA: 12:54 - loss: 2.2392 - acc: 0.61 - ETA: 12:40 - loss: 2.2155 - acc: 0.62 - ETA: 12:26 - loss: 2.1942 - acc: 0.63 - ETA: 12:12 - loss: 2.2166 - acc: 0.62 - ETA: 11:58 - loss: 2.2214 - acc: 0.62 - ETA: 11:45 - loss: 2.2146 - acc: 0.62 - ETA: 11:32 - loss: 2.2162 - acc: 0.63 - ETA: 11:19 - loss: 2.2015 - acc: 0.63 - ETA: 11:07 - loss: 2.1969 - acc: 0.63 - ETA: 10:54 - loss: 2.1925 - acc: 0.63 - ETA: 10:42 - loss: 2.1978 - acc: 0.63 - ETA: 10:30 - loss: 2.1954 - acc: 0.64 - ETA: 10:18 - loss: 2.1871 - acc: 0.64 - ETA: 10:06 - loss: 2.1912 - acc: 0.64 - ETA: 9:55 - loss: 2.1946 - acc: 0.6429 - ETA: 9:43 - loss: 2.1931 - acc: 0.643 - ETA: 9:31 - loss: 2.2001 - acc: 0.637 - ETA: 9:22 - loss: 2.2051 - acc: 0.635 - ETA: 9:10 - loss: 2.2053 - acc: 0.638 - ETA: 8:44 - loss: 2.2797 - acc: 0.619 - ETA: 8:33 - loss: 2.2706 - acc: 0.618 - ETA: 8:26 - loss: 2.2642 - acc: 0.620 - ETA: 8:18 - loss: 2.2544 - acc: 0.625 - ETA: 8:10 - loss: 2.2555 - acc: 0.625 - ETA: 8:00 - loss: 2.2535 - acc: 0.624 - ETA: 7:51 - loss: 2.2417 - acc: 0.629 - ETA: 7:41 - loss: 2.2395 - acc: 0.626 - ETA: 7:33 - loss: 2.2414 - acc: 0.623 - ETA: 7:22 - loss: 2.2352 - acc: 0.625 - ETA: 7:12 - loss: 2.2402 - acc: 0.627 - ETA: 7:01 - loss: 2.2380 - acc: 0.627 - ETA: 6:50 - loss: 2.2381 - acc: 0.627 - ETA: 6:40 - loss: 2.2370 - acc: 0.630 - ETA: 6:29 - loss: 2.2342 - acc: 0.633 - ETA: 6:19 - loss: 2.2358 - acc: 0.630 - ETA: 6:08 - loss: 2.2393 - acc: 0.628 - ETA: 5:57 - loss: 2.2376 - acc: 0.628 - ETA: 5:47 - loss: 2.2364 - acc: 0.626 - ETA: 5:36 - loss: 2.2375 - acc: 0.626 - ETA: 5:25 - loss: 2.2378 - acc: 0.625 - ETA: 5:15 - loss: 2.2348 - acc: 0.625 - ETA: 5:04 - loss: 2.2311 - acc: 0.625 - ETA: 4:53 - loss: 2.2294 - acc: 0.625 - ETA: 4:43 - loss: 2.2257 - acc: 0.626 - ETA: 4:32 - loss: 2.2283 - acc: 0.626 - ETA: 4:22 - loss: 2.2217 - acc: 0.627 - ETA: 4:12 - loss: 2.2266 - acc: 0.624 - ETA: 4:02 - loss: 2.2256 - acc: 0.626 - ETA: 3:51 - loss: 2.2261 - acc: 0.625 - ETA: 3:40 - loss: 2.2277 - acc: 0.624 - ETA: 3:29 - loss: 2.2286 - acc: 0.624 - ETA: 3:18 - loss: 2.2294 - acc: 0.623 - ETA: 3:07 - loss: 2.2292 - acc: 0.623 - ETA: 2:56 - loss: 2.2297 - acc: 0.622 - ETA: 2:45 - loss: 2.2283 - acc: 0.623 - ETA: 2:34 - loss: 2.2250 - acc: 0.624 - ETA: 2:23 - loss: 2.2264 - acc: 0.625 - ETA: 2:12 - loss: 2.2248 - acc: 0.626 - ETA: 2:01 - loss: 2.2235 - acc: 0.626 - ETA: 1:50 - loss: 2.2194 - acc: 0.628 - ETA: 1:39 - loss: 2.2153 - acc: 0.630 - ETA: 1:28 - loss: 2.2148 - acc: 0.630 - ETA: 1:17 - loss: 2.2110 - acc: 0.631 - ETA: 1:06 - loss: 2.2085 - acc: 0.631 - ETA: 55s - loss: 2.2057 - acc: 0.633 - ETA: 44s - loss: 2.2075 - acc: 0.63 - ETA: 33s - loss: 2.2062 - acc: 0.63 - ETA: 22s - loss: 2.2046 - acc: 0.63 - ETA: 11s - loss: 2.2033 - acc: 0.63 - 1272s 15s/step - loss: 2.2026 - acc: 0.6326 - val_loss: 1.3920 - val_acc: 0.6364\n",
      "Epoch 33/200\n"
     ]
    },
    {
     "name": "stdout",
     "output_type": "stream",
     "text": [
      "83/83 [==============================] - ETA: 15:26 - loss: 2.0967 - acc: 0.65 - ETA: 15:17 - loss: 1.9911 - acc: 0.67 - ETA: 14:59 - loss: 2.1528 - acc: 0.62 - ETA: 15:03 - loss: 2.1655 - acc: 0.62 - ETA: 14:49 - loss: 2.1454 - acc: 0.65 - ETA: 14:35 - loss: 2.1614 - acc: 0.65 - ETA: 14:21 - loss: 2.1674 - acc: 0.65 - ETA: 14:09 - loss: 2.1932 - acc: 0.63 - ETA: 13:56 - loss: 2.2259 - acc: 0.62 - ETA: 13:41 - loss: 2.2477 - acc: 0.62 - ETA: 13:29 - loss: 2.2391 - acc: 0.61 - ETA: 13:18 - loss: 2.2356 - acc: 0.61 - ETA: 13:05 - loss: 2.2471 - acc: 0.60 - ETA: 12:54 - loss: 2.2451 - acc: 0.61 - ETA: 12:42 - loss: 2.2235 - acc: 0.62 - ETA: 12:31 - loss: 2.2281 - acc: 0.62 - ETA: 12:19 - loss: 2.2173 - acc: 0.62 - ETA: 12:08 - loss: 2.2021 - acc: 0.63 - ETA: 11:57 - loss: 2.1937 - acc: 0.64 - ETA: 11:45 - loss: 2.2020 - acc: 0.63 - ETA: 11:34 - loss: 2.2003 - acc: 0.63 - ETA: 11:23 - loss: 2.2054 - acc: 0.63 - ETA: 11:13 - loss: 2.2070 - acc: 0.63 - ETA: 11:02 - loss: 2.1992 - acc: 0.63 - ETA: 10:52 - loss: 2.2129 - acc: 0.62 - ETA: 10:40 - loss: 2.2129 - acc: 0.62 - ETA: 10:29 - loss: 2.2110 - acc: 0.62 - ETA: 10:17 - loss: 2.1995 - acc: 0.62 - ETA: 10:06 - loss: 2.1965 - acc: 0.62 - ETA: 9:54 - loss: 2.1921 - acc: 0.6250 - ETA: 9:43 - loss: 2.1858 - acc: 0.626 - ETA: 9:34 - loss: 2.1867 - acc: 0.629 - ETA: 9:22 - loss: 2.1822 - acc: 0.632 - ETA: 9:11 - loss: 2.1897 - acc: 0.629 - ETA: 8:45 - loss: 2.2574 - acc: 0.611 - ETA: 8:34 - loss: 2.2573 - acc: 0.612 - ETA: 8:24 - loss: 2.2474 - acc: 0.617 - ETA: 8:13 - loss: 2.2418 - acc: 0.619 - ETA: 8:02 - loss: 2.2315 - acc: 0.622 - ETA: 7:51 - loss: 2.2225 - acc: 0.621 - ETA: 7:40 - loss: 2.2211 - acc: 0.622 - ETA: 7:29 - loss: 2.2192 - acc: 0.623 - ETA: 7:19 - loss: 2.2173 - acc: 0.624 - ETA: 7:08 - loss: 2.2200 - acc: 0.622 - ETA: 6:57 - loss: 2.2213 - acc: 0.622 - ETA: 6:47 - loss: 2.2205 - acc: 0.623 - ETA: 6:36 - loss: 2.2187 - acc: 0.621 - ETA: 6:25 - loss: 2.2155 - acc: 0.623 - ETA: 6:14 - loss: 2.2197 - acc: 0.622 - ETA: 6:03 - loss: 2.2170 - acc: 0.622 - ETA: 5:52 - loss: 2.2163 - acc: 0.621 - ETA: 5:41 - loss: 2.2140 - acc: 0.622 - ETA: 5:30 - loss: 2.2112 - acc: 0.623 - ETA: 5:19 - loss: 2.2085 - acc: 0.622 - ETA: 5:08 - loss: 2.2072 - acc: 0.624 - ETA: 4:57 - loss: 2.2076 - acc: 0.622 - ETA: 4:46 - loss: 2.2056 - acc: 0.623 - ETA: 4:35 - loss: 2.2089 - acc: 0.625 - ETA: 4:24 - loss: 2.2032 - acc: 0.627 - ETA: 4:13 - loss: 2.2028 - acc: 0.627 - ETA: 4:02 - loss: 2.2005 - acc: 0.629 - ETA: 3:51 - loss: 2.2016 - acc: 0.629 - ETA: 3:40 - loss: 2.1987 - acc: 0.631 - ETA: 3:29 - loss: 2.1983 - acc: 0.632 - ETA: 3:18 - loss: 2.2033 - acc: 0.629 - ETA: 3:07 - loss: 2.2033 - acc: 0.629 - ETA: 2:56 - loss: 2.2012 - acc: 0.630 - ETA: 2:45 - loss: 2.2017 - acc: 0.628 - ETA: 2:34 - loss: 2.2023 - acc: 0.629 - ETA: 2:23 - loss: 2.2044 - acc: 0.628 - ETA: 2:12 - loss: 2.2035 - acc: 0.628 - ETA: 2:01 - loss: 2.2011 - acc: 0.628 - ETA: 1:50 - loss: 2.2020 - acc: 0.628 - ETA: 1:39 - loss: 2.1992 - acc: 0.628 - ETA: 1:28 - loss: 2.1990 - acc: 0.628 - ETA: 1:17 - loss: 2.1949 - acc: 0.629 - ETA: 1:06 - loss: 2.1949 - acc: 0.629 - ETA: 55s - loss: 2.1955 - acc: 0.628 - ETA: 44s - loss: 2.1961 - acc: 0.62 - ETA: 33s - loss: 2.1949 - acc: 0.62 - ETA: 22s - loss: 2.1910 - acc: 0.62 - ETA: 11s - loss: 2.1866 - acc: 0.63 - 1238s 15s/step - loss: 2.1881 - acc: 0.6292 - val_loss: 1.3626 - val_acc: 0.6436\n",
      "Epoch 34/200\n",
      "83/83 [==============================] - ETA: 13:52 - loss: 1.9891 - acc: 0.75 - ETA: 13:57 - loss: 2.0142 - acc: 0.73 - ETA: 13:53 - loss: 2.0147 - acc: 0.73 - ETA: 13:36 - loss: 2.0167 - acc: 0.73 - ETA: 13:26 - loss: 2.0392 - acc: 0.69 - ETA: 13:18 - loss: 2.0528 - acc: 0.67 - ETA: 13:06 - loss: 2.0501 - acc: 0.68 - ETA: 12:57 - loss: 2.0354 - acc: 0.67 - ETA: 12:45 - loss: 2.0394 - acc: 0.68 - ETA: 12:34 - loss: 2.0514 - acc: 0.67 - ETA: 12:25 - loss: 2.0528 - acc: 0.67 - ETA: 12:16 - loss: 2.0574 - acc: 0.66 - ETA: 12:11 - loss: 2.0725 - acc: 0.65 - ETA: 12:07 - loss: 2.0576 - acc: 0.66 - ETA: 11:59 - loss: 2.0557 - acc: 0.66 - ETA: 11:47 - loss: 2.0412 - acc: 0.67 - ETA: 11:35 - loss: 2.0452 - acc: 0.67 - ETA: 11:23 - loss: 2.0463 - acc: 0.67 - ETA: 11:12 - loss: 2.0510 - acc: 0.66 - ETA: 11:01 - loss: 2.0355 - acc: 0.67 - ETA: 10:50 - loss: 2.0341 - acc: 0.67 - ETA: 10:39 - loss: 2.0322 - acc: 0.67 - ETA: 10:29 - loss: 2.0272 - acc: 0.67 - ETA: 10:20 - loss: 2.0313 - acc: 0.67 - ETA: 10:09 - loss: 2.0295 - acc: 0.67 - ETA: 10:01 - loss: 2.0263 - acc: 0.66 - ETA: 9:51 - loss: 2.0234 - acc: 0.6736 - ETA: 9:41 - loss: 2.0261 - acc: 0.671 - ETA: 9:30 - loss: 2.0304 - acc: 0.667 - ETA: 9:19 - loss: 2.0426 - acc: 0.661 - ETA: 9:10 - loss: 2.0465 - acc: 0.658 - ETA: 9:01 - loss: 2.0551 - acc: 0.655 - ETA: 8:52 - loss: 2.0524 - acc: 0.657 - ETA: 8:41 - loss: 2.0531 - acc: 0.656 - ETA: 8:30 - loss: 2.0562 - acc: 0.657 - ETA: 8:21 - loss: 2.0496 - acc: 0.658 - ETA: 8:10 - loss: 2.0476 - acc: 0.659 - ETA: 8:00 - loss: 2.0480 - acc: 0.659 - ETA: 7:50 - loss: 2.0497 - acc: 0.659 - ETA: 7:40 - loss: 2.0549 - acc: 0.659 - ETA: 7:30 - loss: 2.0571 - acc: 0.659 - ETA: 7:20 - loss: 2.0519 - acc: 0.661 - ETA: 7:09 - loss: 2.0471 - acc: 0.663 - ETA: 6:59 - loss: 2.0559 - acc: 0.659 - ETA: 6:49 - loss: 2.0575 - acc: 0.660 - ETA: 6:39 - loss: 2.0554 - acc: 0.660 - ETA: 6:28 - loss: 2.0571 - acc: 0.660 - ETA: 6:18 - loss: 2.0552 - acc: 0.658 - ETA: 6:08 - loss: 2.0510 - acc: 0.659 - ETA: 5:58 - loss: 2.0487 - acc: 0.660 - ETA: 5:47 - loss: 2.0529 - acc: 0.658 - ETA: 5:37 - loss: 2.0568 - acc: 0.656 - ETA: 5:27 - loss: 2.0587 - acc: 0.654 - ETA: 5:16 - loss: 2.0632 - acc: 0.652 - ETA: 5:06 - loss: 2.0666 - acc: 0.654 - ETA: 4:55 - loss: 2.0679 - acc: 0.654 - ETA: 4:44 - loss: 2.0663 - acc: 0.653 - ETA: 4:33 - loss: 2.0643 - acc: 0.655 - ETA: 4:22 - loss: 2.0614 - acc: 0.657 - ETA: 4:12 - loss: 2.0612 - acc: 0.657 - ETA: 4:01 - loss: 2.0669 - acc: 0.655 - ETA: 3:50 - loss: 2.0617 - acc: 0.657 - ETA: 3:39 - loss: 2.0663 - acc: 0.654 - ETA: 3:29 - loss: 2.0670 - acc: 0.655 - ETA: 3:18 - loss: 2.0679 - acc: 0.654 - ETA: 3:07 - loss: 2.0661 - acc: 0.655 - ETA: 2:55 - loss: 2.0653 - acc: 0.658 - ETA: 2:44 - loss: 2.0643 - acc: 0.658 - ETA: 2:33 - loss: 2.0643 - acc: 0.658 - ETA: 2:22 - loss: 2.0626 - acc: 0.659 - ETA: 2:11 - loss: 2.0657 - acc: 0.658 - ETA: 2:00 - loss: 2.0658 - acc: 0.658 - ETA: 1:49 - loss: 2.0595 - acc: 0.661 - ETA: 1:38 - loss: 2.0557 - acc: 0.663 - ETA: 1:27 - loss: 2.0545 - acc: 0.665 - ETA: 1:15 - loss: 2.0930 - acc: 0.657 - ETA: 1:04 - loss: 2.0940 - acc: 0.655 - ETA: 53s - loss: 2.0920 - acc: 0.655 - ETA: 43s - loss: 2.0900 - acc: 0.65 - ETA: 32s - loss: 2.0872 - acc: 0.65 - ETA: 21s - loss: 2.0808 - acc: 0.65 - ETA: 10s - loss: 2.0804 - acc: 0.65 - 1196s 14s/step - loss: 2.0806 - acc: 0.6582 - val_loss: 1.3263 - val_acc: 0.6570\n",
      "Epoch 35/200\n"
     ]
    },
    {
     "name": "stdout",
     "output_type": "stream",
     "text": [
      "83/83 [==============================] - ETA: 14:21 - loss: 1.9838 - acc: 0.65 - ETA: 14:12 - loss: 1.9511 - acc: 0.65 - ETA: 13:51 - loss: 1.9133 - acc: 0.66 - ETA: 13:41 - loss: 1.8726 - acc: 0.69 - ETA: 13:32 - loss: 1.8472 - acc: 0.70 - ETA: 13:18 - loss: 1.8465 - acc: 0.70 - ETA: 13:07 - loss: 1.8712 - acc: 0.70 - ETA: 12:57 - loss: 1.9436 - acc: 0.65 - ETA: 12:44 - loss: 1.9333 - acc: 0.66 - ETA: 12:34 - loss: 1.9601 - acc: 0.65 - ETA: 12:25 - loss: 1.9858 - acc: 0.65 - ETA: 12:13 - loss: 1.9953 - acc: 0.64 - ETA: 12:03 - loss: 1.9911 - acc: 0.64 - ETA: 11:54 - loss: 1.9925 - acc: 0.64 - ETA: 11:43 - loss: 2.0095 - acc: 0.64 - ETA: 11:33 - loss: 2.0027 - acc: 0.64 - ETA: 11:21 - loss: 1.9915 - acc: 0.65 - ETA: 11:11 - loss: 2.0011 - acc: 0.65 - ETA: 11:01 - loss: 1.9907 - acc: 0.65 - ETA: 10:50 - loss: 1.9968 - acc: 0.64 - ETA: 10:40 - loss: 2.0059 - acc: 0.64 - ETA: 10:30 - loss: 2.0009 - acc: 0.65 - ETA: 10:20 - loss: 2.0097 - acc: 0.65 - ETA: 10:11 - loss: 2.0036 - acc: 0.65 - ETA: 10:02 - loss: 2.0086 - acc: 0.65 - ETA: 9:53 - loss: 2.0162 - acc: 0.6514 - ETA: 9:44 - loss: 2.0162 - acc: 0.652 - ETA: 9:35 - loss: 2.0207 - acc: 0.651 - ETA: 9:25 - loss: 2.0282 - acc: 0.647 - ETA: 9:15 - loss: 2.0319 - acc: 0.649 - ETA: 9:07 - loss: 2.0364 - acc: 0.650 - ETA: 8:58 - loss: 2.0400 - acc: 0.650 - ETA: 8:47 - loss: 2.0490 - acc: 0.646 - ETA: 8:39 - loss: 2.0453 - acc: 0.647 - ETA: 8:29 - loss: 2.0414 - acc: 0.649 - ETA: 8:19 - loss: 2.0407 - acc: 0.649 - ETA: 7:56 - loss: 2.1225 - acc: 0.631 - ETA: 7:46 - loss: 2.1244 - acc: 0.629 - ETA: 7:37 - loss: 2.1176 - acc: 0.630 - ETA: 7:28 - loss: 2.1157 - acc: 0.631 - ETA: 7:18 - loss: 2.1217 - acc: 0.628 - ETA: 7:08 - loss: 2.1184 - acc: 0.628 - ETA: 7:00 - loss: 2.1209 - acc: 0.627 - ETA: 6:50 - loss: 2.1166 - acc: 0.629 - ETA: 6:40 - loss: 2.1137 - acc: 0.629 - ETA: 6:30 - loss: 2.1135 - acc: 0.628 - ETA: 6:19 - loss: 2.1145 - acc: 0.626 - ETA: 6:08 - loss: 2.1070 - acc: 0.628 - ETA: 5:58 - loss: 2.1157 - acc: 0.626 - ETA: 5:48 - loss: 2.1103 - acc: 0.628 - ETA: 5:38 - loss: 2.1035 - acc: 0.631 - ETA: 5:29 - loss: 2.1029 - acc: 0.632 - ETA: 5:19 - loss: 2.1041 - acc: 0.631 - ETA: 5:09 - loss: 2.1043 - acc: 0.631 - ETA: 4:59 - loss: 2.1019 - acc: 0.633 - ETA: 4:48 - loss: 2.1008 - acc: 0.632 - ETA: 4:37 - loss: 2.0949 - acc: 0.636 - ETA: 4:26 - loss: 2.0875 - acc: 0.639 - ETA: 4:16 - loss: 2.0830 - acc: 0.641 - ETA: 4:05 - loss: 2.0805 - acc: 0.642 - ETA: 3:54 - loss: 2.0799 - acc: 0.641 - ETA: 3:44 - loss: 2.0819 - acc: 0.642 - ETA: 3:33 - loss: 2.0747 - acc: 0.645 - ETA: 3:22 - loss: 2.0752 - acc: 0.645 - ETA: 3:12 - loss: 2.0723 - acc: 0.646 - ETA: 3:01 - loss: 2.0715 - acc: 0.647 - ETA: 2:51 - loss: 2.0722 - acc: 0.648 - ETA: 2:40 - loss: 2.0703 - acc: 0.649 - ETA: 2:30 - loss: 2.0667 - acc: 0.651 - ETA: 2:19 - loss: 2.0649 - acc: 0.652 - ETA: 2:08 - loss: 2.0605 - acc: 0.654 - ETA: 1:58 - loss: 2.0589 - acc: 0.654 - ETA: 1:47 - loss: 2.0552 - acc: 0.656 - ETA: 1:36 - loss: 2.0600 - acc: 0.657 - ETA: 1:25 - loss: 2.0571 - acc: 0.657 - ETA: 1:15 - loss: 2.0545 - acc: 0.658 - ETA: 1:04 - loss: 2.0552 - acc: 0.658 - ETA: 53s - loss: 2.0569 - acc: 0.657 - ETA: 42s - loss: 2.0537 - acc: 0.65 - ETA: 32s - loss: 2.0530 - acc: 0.65 - ETA: 21s - loss: 2.0479 - acc: 0.65 - ETA: 10s - loss: 2.0499 - acc: 0.65 - 1207s 15s/step - loss: 2.0479 - acc: 0.6575 - val_loss: 1.3077 - val_acc: 0.6521\n",
      "Epoch 36/200\n",
      "83/83 [==============================] - ETA: 13:56 - loss: 2.0043 - acc: 0.62 - ETA: 13:30 - loss: 1.9645 - acc: 0.64 - ETA: 13:23 - loss: 1.9209 - acc: 0.66 - ETA: 13:12 - loss: 2.0286 - acc: 0.63 - ETA: 13:02 - loss: 2.0379 - acc: 0.63 - ETA: 12:54 - loss: 2.0193 - acc: 0.63 - ETA: 12:41 - loss: 1.9982 - acc: 0.63 - ETA: 12:31 - loss: 2.0224 - acc: 0.62 - ETA: 12:23 - loss: 2.0423 - acc: 0.61 - ETA: 12:11 - loss: 2.0510 - acc: 0.61 - ETA: 12:02 - loss: 2.0519 - acc: 0.62 - ETA: 11:52 - loss: 2.0657 - acc: 0.61 - ETA: 11:42 - loss: 2.0657 - acc: 0.61 - ETA: 11:34 - loss: 2.0386 - acc: 0.61 - ETA: 11:23 - loss: 2.0503 - acc: 0.61 - ETA: 11:13 - loss: 2.0475 - acc: 0.62 - ETA: 11:03 - loss: 2.0388 - acc: 0.62 - ETA: 10:52 - loss: 2.0334 - acc: 0.63 - ETA: 10:42 - loss: 2.0355 - acc: 0.63 - ETA: 10:32 - loss: 2.0272 - acc: 0.64 - ETA: 10:23 - loss: 2.0202 - acc: 0.64 - ETA: 10:15 - loss: 2.0105 - acc: 0.64 - ETA: 10:04 - loss: 2.0125 - acc: 0.64 - ETA: 9:54 - loss: 2.0019 - acc: 0.6484 - ETA: 9:44 - loss: 2.0065 - acc: 0.645 - ETA: 9:33 - loss: 1.9977 - acc: 0.652 - ETA: 9:23 - loss: 1.9977 - acc: 0.653 - ETA: 9:13 - loss: 1.9908 - acc: 0.655 - ETA: 9:02 - loss: 1.9894 - acc: 0.654 - ETA: 8:52 - loss: 1.9857 - acc: 0.655 - ETA: 8:42 - loss: 1.9835 - acc: 0.658 - ETA: 8:31 - loss: 1.9818 - acc: 0.658 - ETA: 8:21 - loss: 1.9818 - acc: 0.657 - ETA: 8:11 - loss: 1.9747 - acc: 0.660 - ETA: 8:02 - loss: 1.9714 - acc: 0.664 - ETA: 7:52 - loss: 1.9719 - acc: 0.664 - ETA: 7:42 - loss: 1.9751 - acc: 0.662 - ETA: 7:32 - loss: 1.9746 - acc: 0.660 - ETA: 7:22 - loss: 1.9731 - acc: 0.661 - ETA: 7:12 - loss: 1.9732 - acc: 0.660 - ETA: 7:02 - loss: 1.9682 - acc: 0.662 - ETA: 6:52 - loss: 1.9653 - acc: 0.663 - ETA: 6:41 - loss: 1.9672 - acc: 0.662 - ETA: 6:32 - loss: 1.9639 - acc: 0.664 - ETA: 6:21 - loss: 1.9671 - acc: 0.661 - ETA: 6:11 - loss: 1.9697 - acc: 0.662 - ETA: 6:01 - loss: 1.9694 - acc: 0.662 - ETA: 5:51 - loss: 1.9721 - acc: 0.659 - ETA: 5:41 - loss: 1.9708 - acc: 0.660 - ETA: 5:31 - loss: 1.9706 - acc: 0.659 - ETA: 5:21 - loss: 1.9714 - acc: 0.659 - ETA: 5:11 - loss: 1.9724 - acc: 0.658 - ETA: 5:01 - loss: 1.9702 - acc: 0.658 - ETA: 4:51 - loss: 1.9715 - acc: 0.657 - ETA: 4:41 - loss: 1.9740 - acc: 0.656 - ETA: 4:31 - loss: 1.9710 - acc: 0.658 - ETA: 4:21 - loss: 1.9665 - acc: 0.660 - ETA: 4:11 - loss: 1.9651 - acc: 0.660 - ETA: 4:01 - loss: 1.9652 - acc: 0.661 - ETA: 3:51 - loss: 1.9623 - acc: 0.664 - ETA: 3:40 - loss: 1.9642 - acc: 0.664 - ETA: 3:30 - loss: 1.9624 - acc: 0.665 - ETA: 3:20 - loss: 1.9636 - acc: 0.666 - ETA: 3:10 - loss: 1.9624 - acc: 0.667 - ETA: 3:00 - loss: 1.9635 - acc: 0.667 - ETA: 2:50 - loss: 1.9614 - acc: 0.668 - ETA: 2:40 - loss: 1.9586 - acc: 0.668 - ETA: 2:30 - loss: 1.9580 - acc: 0.668 - ETA: 2:20 - loss: 1.9595 - acc: 0.668 - ETA: 2:10 - loss: 1.9555 - acc: 0.669 - ETA: 2:00 - loss: 1.9567 - acc: 0.670 - ETA: 1:50 - loss: 1.9537 - acc: 0.672 - ETA: 1:40 - loss: 1.9531 - acc: 0.673 - ETA: 1:30 - loss: 1.9560 - acc: 0.672 - ETA: 1:20 - loss: 1.9543 - acc: 0.673 - ETA: 1:10 - loss: 1.9533 - acc: 0.673 - ETA: 1:00 - loss: 1.9532 - acc: 0.673 - ETA: 50s - loss: 1.9546 - acc: 0.673 - ETA: 40s - loss: 1.9522 - acc: 0.67 - ETA: 30s - loss: 1.9532 - acc: 0.67 - ETA: 20s - loss: 1.9544 - acc: 0.67 - ETA: 10s - loss: 1.9542 - acc: 0.66 - 1150s 14s/step - loss: 1.9553 - acc: 0.6691 - val_loss: 1.2786 - val_acc: 0.6558\n",
      "Epoch 37/200\n"
     ]
    },
    {
     "name": "stdout",
     "output_type": "stream",
     "text": [
      "83/83 [==============================] - ETA: 14:20 - loss: 2.2482 - acc: 0.68 - ETA: 13:49 - loss: 2.0931 - acc: 0.68 - ETA: 13:41 - loss: 2.0094 - acc: 0.69 - ETA: 13:26 - loss: 2.0095 - acc: 0.70 - ETA: 13:13 - loss: 1.9775 - acc: 0.71 - ETA: 13:04 - loss: 1.9372 - acc: 0.72 - ETA: 12:50 - loss: 1.9029 - acc: 0.73 - ETA: 12:41 - loss: 1.9239 - acc: 0.73 - ETA: 12:31 - loss: 1.9034 - acc: 0.73 - ETA: 12:18 - loss: 1.9183 - acc: 0.72 - ETA: 12:09 - loss: 1.9463 - acc: 0.71 - ETA: 11:59 - loss: 1.9657 - acc: 0.70 - ETA: 11:48 - loss: 1.9506 - acc: 0.70 - ETA: 11:39 - loss: 1.9639 - acc: 0.69 - ETA: 11:27 - loss: 1.9585 - acc: 0.69 - ETA: 11:17 - loss: 1.9540 - acc: 0.69 - ETA: 11:08 - loss: 1.9488 - acc: 0.69 - ETA: 10:57 - loss: 1.9567 - acc: 0.69 - ETA: 10:47 - loss: 1.9604 - acc: 0.68 - ETA: 10:38 - loss: 1.9682 - acc: 0.67 - ETA: 10:27 - loss: 1.9773 - acc: 0.67 - ETA: 10:17 - loss: 1.9778 - acc: 0.67 - ETA: 10:06 - loss: 1.9674 - acc: 0.67 - ETA: 9:56 - loss: 1.9646 - acc: 0.6758 - ETA: 9:47 - loss: 1.9630 - acc: 0.672 - ETA: 9:36 - loss: 1.9691 - acc: 0.669 - ETA: 9:26 - loss: 1.9753 - acc: 0.666 - ETA: 9:16 - loss: 1.9828 - acc: 0.657 - ETA: 9:05 - loss: 1.9768 - acc: 0.657 - ETA: 8:55 - loss: 1.9773 - acc: 0.659 - ETA: 8:44 - loss: 1.9752 - acc: 0.657 - ETA: 8:34 - loss: 1.9733 - acc: 0.659 - ETA: 8:24 - loss: 1.9707 - acc: 0.663 - ETA: 8:00 - loss: 2.0401 - acc: 0.644 - ETA: 7:50 - loss: 2.0294 - acc: 0.648 - ETA: 7:42 - loss: 2.0230 - acc: 0.649 - ETA: 7:33 - loss: 2.0201 - acc: 0.651 - ETA: 7:23 - loss: 2.0186 - acc: 0.648 - ETA: 7:14 - loss: 2.0132 - acc: 0.650 - ETA: 7:05 - loss: 2.0168 - acc: 0.646 - ETA: 6:55 - loss: 2.0111 - acc: 0.650 - ETA: 6:45 - loss: 2.0017 - acc: 0.653 - ETA: 6:35 - loss: 1.9967 - acc: 0.656 - ETA: 6:26 - loss: 1.9986 - acc: 0.652 - ETA: 6:16 - loss: 1.9941 - acc: 0.653 - ETA: 6:06 - loss: 1.9931 - acc: 0.654 - ETA: 5:56 - loss: 1.9916 - acc: 0.656 - ETA: 5:47 - loss: 1.9856 - acc: 0.658 - ETA: 5:37 - loss: 1.9823 - acc: 0.661 - ETA: 5:27 - loss: 1.9828 - acc: 0.660 - ETA: 5:17 - loss: 1.9826 - acc: 0.660 - ETA: 5:07 - loss: 1.9817 - acc: 0.658 - ETA: 4:58 - loss: 1.9830 - acc: 0.658 - ETA: 4:48 - loss: 1.9821 - acc: 0.659 - ETA: 4:38 - loss: 1.9784 - acc: 0.660 - ETA: 4:28 - loss: 1.9737 - acc: 0.662 - ETA: 4:18 - loss: 1.9717 - acc: 0.663 - ETA: 4:08 - loss: 1.9640 - acc: 0.665 - ETA: 3:58 - loss: 1.9626 - acc: 0.666 - ETA: 3:48 - loss: 1.9589 - acc: 0.667 - ETA: 3:39 - loss: 1.9553 - acc: 0.668 - ETA: 3:29 - loss: 1.9536 - acc: 0.668 - ETA: 3:19 - loss: 1.9549 - acc: 0.668 - ETA: 3:09 - loss: 1.9549 - acc: 0.667 - ETA: 2:59 - loss: 1.9598 - acc: 0.666 - ETA: 2:49 - loss: 1.9609 - acc: 0.665 - ETA: 2:39 - loss: 1.9613 - acc: 0.666 - ETA: 2:29 - loss: 1.9635 - acc: 0.663 - ETA: 2:19 - loss: 1.9612 - acc: 0.664 - ETA: 2:09 - loss: 1.9627 - acc: 0.662 - ETA: 1:59 - loss: 1.9623 - acc: 0.662 - ETA: 1:48 - loss: 1.9990 - acc: 0.652 - ETA: 1:38 - loss: 1.9998 - acc: 0.652 - ETA: 1:28 - loss: 1.9997 - acc: 0.650 - ETA: 1:18 - loss: 1.9985 - acc: 0.650 - ETA: 1:08 - loss: 1.9919 - acc: 0.653 - ETA: 59s - loss: 1.9923 - acc: 0.653 - ETA: 49s - loss: 1.9896 - acc: 0.65 - ETA: 39s - loss: 1.9892 - acc: 0.65 - ETA: 29s - loss: 1.9889 - acc: 0.65 - ETA: 19s - loss: 1.9832 - acc: 0.65 - ETA: 9s - loss: 1.9812 - acc: 0.6585 - 1116s 13s/step - loss: 1.9785 - acc: 0.6598 - val_loss: 1.2532 - val_acc: 0.6582\n",
      "Epoch 38/200\n",
      "83/83 [==============================] - ETA: 13:29 - loss: 1.8886 - acc: 0.78 - ETA: 13:32 - loss: 1.8464 - acc: 0.75 - ETA: 13:27 - loss: 1.8039 - acc: 0.78 - ETA: 13:13 - loss: 1.8025 - acc: 0.78 - ETA: 13:05 - loss: 1.8313 - acc: 0.78 - ETA: 12:55 - loss: 1.8306 - acc: 0.78 - ETA: 12:44 - loss: 1.8375 - acc: 0.76 - ETA: 12:37 - loss: 1.8517 - acc: 0.74 - ETA: 12:24 - loss: 1.8391 - acc: 0.73 - ETA: 12:16 - loss: 1.8383 - acc: 0.73 - ETA: 12:07 - loss: 1.8642 - acc: 0.71 - ETA: 11:56 - loss: 1.8686 - acc: 0.71 - ETA: 11:46 - loss: 1.8784 - acc: 0.71 - ETA: 11:37 - loss: 1.8763 - acc: 0.71 - ETA: 11:26 - loss: 1.9118 - acc: 0.70 - ETA: 11:16 - loss: 1.9206 - acc: 0.69 - ETA: 11:05 - loss: 1.9140 - acc: 0.70 - ETA: 10:55 - loss: 1.9137 - acc: 0.69 - ETA: 10:46 - loss: 1.8946 - acc: 0.70 - ETA: 10:35 - loss: 1.8947 - acc: 0.70 - ETA: 10:25 - loss: 1.8800 - acc: 0.70 - ETA: 10:16 - loss: 1.8780 - acc: 0.70 - ETA: 10:05 - loss: 1.8680 - acc: 0.70 - ETA: 9:55 - loss: 1.8685 - acc: 0.7070 - ETA: 9:45 - loss: 1.8764 - acc: 0.703 - ETA: 9:35 - loss: 1.8781 - acc: 0.703 - ETA: 9:25 - loss: 1.8872 - acc: 0.699 - ETA: 9:15 - loss: 1.8874 - acc: 0.699 - ETA: 9:05 - loss: 1.8943 - acc: 0.695 - ETA: 8:55 - loss: 1.8903 - acc: 0.696 - ETA: 8:44 - loss: 1.8864 - acc: 0.699 - ETA: 8:34 - loss: 1.8819 - acc: 0.703 - ETA: 8:24 - loss: 1.8809 - acc: 0.702 - ETA: 8:14 - loss: 1.8803 - acc: 0.702 - ETA: 8:04 - loss: 1.8769 - acc: 0.702 - ETA: 7:53 - loss: 1.8758 - acc: 0.703 - ETA: 7:45 - loss: 1.8763 - acc: 0.702 - ETA: 7:35 - loss: 1.8771 - acc: 0.703 - ETA: 7:25 - loss: 1.8766 - acc: 0.702 - ETA: 7:15 - loss: 1.8719 - acc: 0.703 - ETA: 7:05 - loss: 1.8708 - acc: 0.704 - ETA: 6:54 - loss: 1.8745 - acc: 0.701 - ETA: 6:44 - loss: 1.8805 - acc: 0.700 - ETA: 6:34 - loss: 1.8734 - acc: 0.702 - ETA: 6:24 - loss: 1.8713 - acc: 0.701 - ETA: 6:14 - loss: 1.8721 - acc: 0.700 - ETA: 6:04 - loss: 1.8722 - acc: 0.701 - ETA: 5:53 - loss: 1.8684 - acc: 0.701 - ETA: 5:43 - loss: 1.8650 - acc: 0.702 - ETA: 5:33 - loss: 1.8673 - acc: 0.701 - ETA: 5:23 - loss: 1.8606 - acc: 0.702 - ETA: 5:13 - loss: 1.8593 - acc: 0.701 - ETA: 5:03 - loss: 1.8598 - acc: 0.699 - ETA: 4:53 - loss: 1.8615 - acc: 0.697 - ETA: 4:43 - loss: 1.8565 - acc: 0.700 - ETA: 4:33 - loss: 1.8541 - acc: 0.701 - ETA: 4:23 - loss: 1.8519 - acc: 0.701 - ETA: 4:12 - loss: 1.8479 - acc: 0.703 - ETA: 4:02 - loss: 1.8496 - acc: 0.701 - ETA: 3:52 - loss: 1.8541 - acc: 0.699 - ETA: 3:42 - loss: 1.8520 - acc: 0.701 - ETA: 3:32 - loss: 1.8501 - acc: 0.702 - ETA: 3:22 - loss: 1.8497 - acc: 0.700 - ETA: 3:11 - loss: 1.8450 - acc: 0.701 - ETA: 3:01 - loss: 1.8534 - acc: 0.696 - ETA: 2:51 - loss: 1.8535 - acc: 0.696 - ETA: 2:41 - loss: 1.8521 - acc: 0.697 - ETA: 2:31 - loss: 1.8532 - acc: 0.697 - ETA: 2:21 - loss: 1.8581 - acc: 0.696 - ETA: 2:11 - loss: 1.8603 - acc: 0.695 - ETA: 2:01 - loss: 1.8602 - acc: 0.694 - ETA: 1:51 - loss: 1.8578 - acc: 0.694 - ETA: 1:40 - loss: 1.8612 - acc: 0.693 - ETA: 1:30 - loss: 1.8636 - acc: 0.693 - ETA: 1:20 - loss: 1.8604 - acc: 0.695 - ETA: 1:10 - loss: 1.8590 - acc: 0.696 - ETA: 1:00 - loss: 1.8615 - acc: 0.695 - ETA: 50s - loss: 1.8600 - acc: 0.695 - ETA: 40s - loss: 1.8606 - acc: 0.69 - ETA: 30s - loss: 1.8636 - acc: 0.69 - ETA: 20s - loss: 1.8682 - acc: 0.69 - ETA: 10s - loss: 1.8655 - acc: 0.69 - 1132s 14s/step - loss: 1.8630 - acc: 0.6939 - val_loss: 1.2369 - val_acc: 0.6642\n",
      "Epoch 39/200\n"
     ]
    },
    {
     "name": "stdout",
     "output_type": "stream",
     "text": [
      "83/83 [==============================] - ETA: 13:27 - loss: 1.8025 - acc: 0.84 - ETA: 13:35 - loss: 1.6899 - acc: 0.81 - ETA: 13:32 - loss: 1.7519 - acc: 0.78 - ETA: 13:30 - loss: 1.7955 - acc: 0.76 - ETA: 13:18 - loss: 1.8315 - acc: 0.73 - ETA: 13:04 - loss: 1.8094 - acc: 0.73 - ETA: 12:53 - loss: 1.7852 - acc: 0.74 - ETA: 12:45 - loss: 1.7977 - acc: 0.72 - ETA: 12:33 - loss: 1.7952 - acc: 0.72 - ETA: 12:30 - loss: 1.8160 - acc: 0.71 - ETA: 12:22 - loss: 1.8296 - acc: 0.71 - ETA: 12:10 - loss: 1.8221 - acc: 0.71 - ETA: 11:59 - loss: 1.8108 - acc: 0.71 - ETA: 11:47 - loss: 1.7970 - acc: 0.72 - ETA: 11:35 - loss: 1.8108 - acc: 0.72 - ETA: 11:25 - loss: 1.8063 - acc: 0.72 - ETA: 11:13 - loss: 1.8230 - acc: 0.71 - ETA: 11:03 - loss: 1.8137 - acc: 0.71 - ETA: 10:53 - loss: 1.8182 - acc: 0.71 - ETA: 10:41 - loss: 1.8091 - acc: 0.71 - ETA: 10:31 - loss: 1.8092 - acc: 0.70 - ETA: 10:20 - loss: 1.8112 - acc: 0.70 - ETA: 10:09 - loss: 1.8082 - acc: 0.70 - ETA: 10:00 - loss: 1.8247 - acc: 0.69 - ETA: 9:49 - loss: 1.8358 - acc: 0.6987 - ETA: 9:39 - loss: 1.8374 - acc: 0.698 - ETA: 9:31 - loss: 1.8392 - acc: 0.696 - ETA: 9:20 - loss: 1.8323 - acc: 0.699 - ETA: 9:11 - loss: 1.8339 - acc: 0.701 - ETA: 9:03 - loss: 1.8376 - acc: 0.701 - ETA: 8:57 - loss: 1.8467 - acc: 0.696 - ETA: 8:46 - loss: 1.8435 - acc: 0.694 - ETA: 8:36 - loss: 1.8401 - acc: 0.694 - ETA: 8:26 - loss: 1.8383 - acc: 0.696 - ETA: 8:15 - loss: 1.8334 - acc: 0.700 - ETA: 8:05 - loss: 1.8258 - acc: 0.699 - ETA: 7:43 - loss: 1.9046 - acc: 0.680 - ETA: 7:35 - loss: 1.8958 - acc: 0.682 - ETA: 7:25 - loss: 1.8911 - acc: 0.685 - ETA: 7:15 - loss: 1.8944 - acc: 0.683 - ETA: 7:06 - loss: 1.8911 - acc: 0.682 - ETA: 6:56 - loss: 1.8810 - acc: 0.687 - ETA: 6:46 - loss: 1.8785 - acc: 0.689 - ETA: 6:35 - loss: 1.8747 - acc: 0.691 - ETA: 6:25 - loss: 1.8703 - acc: 0.693 - ETA: 6:15 - loss: 1.8679 - acc: 0.695 - ETA: 6:05 - loss: 1.8710 - acc: 0.692 - ETA: 5:55 - loss: 1.8666 - acc: 0.694 - ETA: 5:45 - loss: 1.8669 - acc: 0.693 - ETA: 5:35 - loss: 1.8625 - acc: 0.694 - ETA: 5:25 - loss: 1.8670 - acc: 0.693 - ETA: 5:15 - loss: 1.8609 - acc: 0.696 - ETA: 5:04 - loss: 1.8586 - acc: 0.696 - ETA: 4:54 - loss: 1.8564 - acc: 0.696 - ETA: 4:44 - loss: 1.8538 - acc: 0.697 - ETA: 4:34 - loss: 1.8587 - acc: 0.697 - ETA: 4:24 - loss: 1.8587 - acc: 0.696 - ETA: 4:13 - loss: 1.8597 - acc: 0.697 - ETA: 4:03 - loss: 1.8635 - acc: 0.694 - ETA: 3:53 - loss: 1.8652 - acc: 0.693 - ETA: 3:43 - loss: 1.8701 - acc: 0.693 - ETA: 3:33 - loss: 1.8770 - acc: 0.690 - ETA: 3:23 - loss: 1.8733 - acc: 0.691 - ETA: 3:13 - loss: 1.8717 - acc: 0.691 - ETA: 3:02 - loss: 1.8722 - acc: 0.690 - ETA: 2:52 - loss: 1.8689 - acc: 0.693 - ETA: 2:42 - loss: 1.8686 - acc: 0.693 - ETA: 2:32 - loss: 1.8634 - acc: 0.695 - ETA: 2:22 - loss: 1.8643 - acc: 0.694 - ETA: 2:12 - loss: 1.8628 - acc: 0.694 - ETA: 2:02 - loss: 1.8627 - acc: 0.694 - ETA: 1:52 - loss: 1.8622 - acc: 0.695 - ETA: 1:41 - loss: 1.8625 - acc: 0.694 - ETA: 1:31 - loss: 1.8607 - acc: 0.695 - ETA: 1:21 - loss: 1.8613 - acc: 0.694 - ETA: 1:11 - loss: 1.8594 - acc: 0.695 - ETA: 1:01 - loss: 1.8619 - acc: 0.694 - ETA: 51s - loss: 1.8634 - acc: 0.693 - ETA: 40s - loss: 1.8612 - acc: 0.69 - ETA: 30s - loss: 1.8596 - acc: 0.69 - ETA: 20s - loss: 1.8594 - acc: 0.69 - ETA: 10s - loss: 1.8584 - acc: 0.69 - 1189s 14s/step - loss: 1.8596 - acc: 0.6959 - val_loss: 1.2182 - val_acc: 0.6618\n",
      "Epoch 40/200\n",
      "69/83 [=======================>......] - ETA: 16:03 - loss: 1.7102 - acc: 0.75 - ETA: 15:37 - loss: 1.8717 - acc: 0.70 - ETA: 15:35 - loss: 1.7843 - acc: 0.71 - ETA: 15:22 - loss: 1.7439 - acc: 0.75 - ETA: 15:07 - loss: 1.7153 - acc: 0.74 - ETA: 14:48 - loss: 1.7315 - acc: 0.73 - ETA: 14:33 - loss: 1.7030 - acc: 0.74 - ETA: 14:21 - loss: 1.7263 - acc: 0.73 - ETA: 14:07 - loss: 1.7384 - acc: 0.72 - ETA: 13:55 - loss: 1.7428 - acc: 0.71 - ETA: 13:42 - loss: 1.7344 - acc: 0.71 - ETA: 13:30 - loss: 1.7209 - acc: 0.72 - ETA: 12:20 - loss: 1.9793 - acc: 0.66 - ETA: 12:13 - loss: 1.9726 - acc: 0.66 - ETA: 12:06 - loss: 1.9573 - acc: 0.66 - ETA: 11:58 - loss: 1.9479 - acc: 0.66 - ETA: 11:49 - loss: 1.9518 - acc: 0.66 - ETA: 11:40 - loss: 1.9509 - acc: 0.66 - ETA: 11:32 - loss: 1.9325 - acc: 0.67 - ETA: 11:22 - loss: 1.9153 - acc: 0.67 - ETA: 11:12 - loss: 1.9165 - acc: 0.67 - ETA: 11:02 - loss: 1.9175 - acc: 0.67 - ETA: 10:54 - loss: 1.9006 - acc: 0.68 - ETA: 10:44 - loss: 1.8838 - acc: 0.68 - ETA: 10:34 - loss: 1.8822 - acc: 0.68 - ETA: 10:24 - loss: 1.8811 - acc: 0.68 - ETA: 10:14 - loss: 1.8662 - acc: 0.69 - ETA: 10:03 - loss: 1.8520 - acc: 0.69 - ETA: 9:53 - loss: 1.8515 - acc: 0.6961 - ETA: 9:42 - loss: 1.8476 - acc: 0.699 - ETA: 9:31 - loss: 1.8442 - acc: 0.698 - ETA: 9:21 - loss: 1.8376 - acc: 0.701 - ETA: 9:10 - loss: 1.8443 - acc: 0.698 - ETA: 8:59 - loss: 1.8354 - acc: 0.700 - ETA: 8:48 - loss: 1.8417 - acc: 0.698 - ETA: 8:38 - loss: 1.8387 - acc: 0.693 - ETA: 8:26 - loss: 1.8499 - acc: 0.690 - ETA: 8:15 - loss: 1.8456 - acc: 0.692 - ETA: 8:06 - loss: 1.8443 - acc: 0.693 - ETA: 7:56 - loss: 1.8501 - acc: 0.691 - ETA: 7:44 - loss: 1.8469 - acc: 0.693 - ETA: 7:34 - loss: 1.8517 - acc: 0.690 - ETA: 7:27 - loss: 1.8569 - acc: 0.687 - ETA: 7:16 - loss: 1.8540 - acc: 0.686 - ETA: 7:05 - loss: 1.8549 - acc: 0.687 - ETA: 6:54 - loss: 1.8548 - acc: 0.687 - ETA: 6:43 - loss: 1.8544 - acc: 0.687 - ETA: 6:32 - loss: 1.8530 - acc: 0.688 - ETA: 6:21 - loss: 1.8526 - acc: 0.690 - ETA: 6:10 - loss: 1.8502 - acc: 0.690 - ETA: 6:00 - loss: 1.8531 - acc: 0.690 - ETA: 5:50 - loss: 1.8490 - acc: 0.691 - ETA: 5:39 - loss: 1.8486 - acc: 0.691 - ETA: 5:28 - loss: 1.8490 - acc: 0.690 - ETA: 5:17 - loss: 1.8441 - acc: 0.691 - ETA: 5:07 - loss: 1.8416 - acc: 0.691 - ETA: 4:56 - loss: 1.8377 - acc: 0.692 - ETA: 4:44 - loss: 1.8356 - acc: 0.691 - ETA: 4:33 - loss: 1.8345 - acc: 0.690 - ETA: 4:22 - loss: 1.8330 - acc: 0.690 - ETA: 4:11 - loss: 1.8264 - acc: 0.692 - ETA: 4:00 - loss: 1.8241 - acc: 0.692 - ETA: 3:48 - loss: 1.8166 - acc: 0.695 - ETA: 3:37 - loss: 1.8149 - acc: 0.697 - ETA: 3:25 - loss: 1.8108 - acc: 0.698 - ETA: 3:14 - loss: 1.8081 - acc: 0.697 - ETA: 3:03 - loss: 1.8054 - acc: 0.698 - ETA: 2:51 - loss: 1.8023 - acc: 0.700 - ETA: 2:39 - loss: 1.8013 - acc: 0.7015"
     ]
    },
    {
     "ename": "KeyboardInterrupt",
     "evalue": "",
     "output_type": "error",
     "traceback": [
      "\u001b[1;31m---------------------------------------------------------------------------\u001b[0m",
      "\u001b[1;31mKeyboardInterrupt\u001b[0m                         Traceback (most recent call last)",
      "\u001b[1;32m<ipython-input-32-c0a3ba229b2e>\u001b[0m in \u001b[0;36m<module>\u001b[1;34m()\u001b[0m\n\u001b[0;32m      8\u001b[0m     \u001b[0mvalidation_steps\u001b[0m\u001b[1;33m=\u001b[0m\u001b[1;36m25\u001b[0m\u001b[1;33m,\u001b[0m\u001b[1;33m\u001b[0m\u001b[0m\n\u001b[0;32m      9\u001b[0m     \u001b[0mverbose\u001b[0m\u001b[1;33m=\u001b[0m\u001b[1;36m1\u001b[0m\u001b[1;33m,\u001b[0m\u001b[1;33m\u001b[0m\u001b[0m\n\u001b[1;32m---> 10\u001b[1;33m     callbacks=callbacks_list)\n\u001b[0m",
      "\u001b[1;32m~\\Anaconda3\\lib\\site-packages\\keras\\legacy\\interfaces.py\u001b[0m in \u001b[0;36mwrapper\u001b[1;34m(*args, **kwargs)\u001b[0m\n\u001b[0;32m     89\u001b[0m                 warnings.warn('Update your `' + object_name +\n\u001b[0;32m     90\u001b[0m                               '` call to the Keras 2 API: ' + signature, stacklevel=2)\n\u001b[1;32m---> 91\u001b[1;33m             \u001b[1;32mreturn\u001b[0m \u001b[0mfunc\u001b[0m\u001b[1;33m(\u001b[0m\u001b[1;33m*\u001b[0m\u001b[0margs\u001b[0m\u001b[1;33m,\u001b[0m \u001b[1;33m**\u001b[0m\u001b[0mkwargs\u001b[0m\u001b[1;33m)\u001b[0m\u001b[1;33m\u001b[0m\u001b[0m\n\u001b[0m\u001b[0;32m     92\u001b[0m         \u001b[0mwrapper\u001b[0m\u001b[1;33m.\u001b[0m\u001b[0m_original_function\u001b[0m \u001b[1;33m=\u001b[0m \u001b[0mfunc\u001b[0m\u001b[1;33m\u001b[0m\u001b[0m\n\u001b[0;32m     93\u001b[0m         \u001b[1;32mreturn\u001b[0m \u001b[0mwrapper\u001b[0m\u001b[1;33m\u001b[0m\u001b[0m\n",
      "\u001b[1;32m~\\Anaconda3\\lib\\site-packages\\keras\\engine\\training.py\u001b[0m in \u001b[0;36mfit_generator\u001b[1;34m(self, generator, steps_per_epoch, epochs, verbose, callbacks, validation_data, validation_steps, class_weight, max_queue_size, workers, use_multiprocessing, shuffle, initial_epoch)\u001b[0m\n\u001b[0;32m   1413\u001b[0m             \u001b[0muse_multiprocessing\u001b[0m\u001b[1;33m=\u001b[0m\u001b[0muse_multiprocessing\u001b[0m\u001b[1;33m,\u001b[0m\u001b[1;33m\u001b[0m\u001b[0m\n\u001b[0;32m   1414\u001b[0m             \u001b[0mshuffle\u001b[0m\u001b[1;33m=\u001b[0m\u001b[0mshuffle\u001b[0m\u001b[1;33m,\u001b[0m\u001b[1;33m\u001b[0m\u001b[0m\n\u001b[1;32m-> 1415\u001b[1;33m             initial_epoch=initial_epoch)\n\u001b[0m\u001b[0;32m   1416\u001b[0m \u001b[1;33m\u001b[0m\u001b[0m\n\u001b[0;32m   1417\u001b[0m     \u001b[1;33m@\u001b[0m\u001b[0minterfaces\u001b[0m\u001b[1;33m.\u001b[0m\u001b[0mlegacy_generator_methods_support\u001b[0m\u001b[1;33m\u001b[0m\u001b[0m\n",
      "\u001b[1;32m~\\Anaconda3\\lib\\site-packages\\keras\\engine\\training_generator.py\u001b[0m in \u001b[0;36mfit_generator\u001b[1;34m(model, generator, steps_per_epoch, epochs, verbose, callbacks, validation_data, validation_steps, class_weight, max_queue_size, workers, use_multiprocessing, shuffle, initial_epoch)\u001b[0m\n\u001b[0;32m    211\u001b[0m                 outs = model.train_on_batch(x, y,\n\u001b[0;32m    212\u001b[0m                                             \u001b[0msample_weight\u001b[0m\u001b[1;33m=\u001b[0m\u001b[0msample_weight\u001b[0m\u001b[1;33m,\u001b[0m\u001b[1;33m\u001b[0m\u001b[0m\n\u001b[1;32m--> 213\u001b[1;33m                                             class_weight=class_weight)\n\u001b[0m\u001b[0;32m    214\u001b[0m \u001b[1;33m\u001b[0m\u001b[0m\n\u001b[0;32m    215\u001b[0m                 \u001b[0mouts\u001b[0m \u001b[1;33m=\u001b[0m \u001b[0mto_list\u001b[0m\u001b[1;33m(\u001b[0m\u001b[0mouts\u001b[0m\u001b[1;33m)\u001b[0m\u001b[1;33m\u001b[0m\u001b[0m\n",
      "\u001b[1;32m~\\Anaconda3\\lib\\site-packages\\keras\\engine\\training.py\u001b[0m in \u001b[0;36mtrain_on_batch\u001b[1;34m(self, x, y, sample_weight, class_weight)\u001b[0m\n\u001b[0;32m   1213\u001b[0m             \u001b[0mins\u001b[0m \u001b[1;33m=\u001b[0m \u001b[0mx\u001b[0m \u001b[1;33m+\u001b[0m \u001b[0my\u001b[0m \u001b[1;33m+\u001b[0m \u001b[0msample_weights\u001b[0m\u001b[1;33m\u001b[0m\u001b[0m\n\u001b[0;32m   1214\u001b[0m         \u001b[0mself\u001b[0m\u001b[1;33m.\u001b[0m\u001b[0m_make_train_function\u001b[0m\u001b[1;33m(\u001b[0m\u001b[1;33m)\u001b[0m\u001b[1;33m\u001b[0m\u001b[0m\n\u001b[1;32m-> 1215\u001b[1;33m         \u001b[0moutputs\u001b[0m \u001b[1;33m=\u001b[0m \u001b[0mself\u001b[0m\u001b[1;33m.\u001b[0m\u001b[0mtrain_function\u001b[0m\u001b[1;33m(\u001b[0m\u001b[0mins\u001b[0m\u001b[1;33m)\u001b[0m\u001b[1;33m\u001b[0m\u001b[0m\n\u001b[0m\u001b[0;32m   1216\u001b[0m         \u001b[1;32mreturn\u001b[0m \u001b[0munpack_singleton\u001b[0m\u001b[1;33m(\u001b[0m\u001b[0moutputs\u001b[0m\u001b[1;33m)\u001b[0m\u001b[1;33m\u001b[0m\u001b[0m\n\u001b[0;32m   1217\u001b[0m \u001b[1;33m\u001b[0m\u001b[0m\n",
      "\u001b[1;32m~\\Anaconda3\\lib\\site-packages\\keras\\backend\\tensorflow_backend.py\u001b[0m in \u001b[0;36m__call__\u001b[1;34m(self, inputs)\u001b[0m\n\u001b[0;32m   2664\u001b[0m                 \u001b[1;32mreturn\u001b[0m \u001b[0mself\u001b[0m\u001b[1;33m.\u001b[0m\u001b[0m_legacy_call\u001b[0m\u001b[1;33m(\u001b[0m\u001b[0minputs\u001b[0m\u001b[1;33m)\u001b[0m\u001b[1;33m\u001b[0m\u001b[0m\n\u001b[0;32m   2665\u001b[0m \u001b[1;33m\u001b[0m\u001b[0m\n\u001b[1;32m-> 2666\u001b[1;33m             \u001b[1;32mreturn\u001b[0m \u001b[0mself\u001b[0m\u001b[1;33m.\u001b[0m\u001b[0m_call\u001b[0m\u001b[1;33m(\u001b[0m\u001b[0minputs\u001b[0m\u001b[1;33m)\u001b[0m\u001b[1;33m\u001b[0m\u001b[0m\n\u001b[0m\u001b[0;32m   2667\u001b[0m         \u001b[1;32melse\u001b[0m\u001b[1;33m:\u001b[0m\u001b[1;33m\u001b[0m\u001b[0m\n\u001b[0;32m   2668\u001b[0m             \u001b[1;32mif\u001b[0m \u001b[0mpy_any\u001b[0m\u001b[1;33m(\u001b[0m\u001b[0mis_tensor\u001b[0m\u001b[1;33m(\u001b[0m\u001b[0mx\u001b[0m\u001b[1;33m)\u001b[0m \u001b[1;32mfor\u001b[0m \u001b[0mx\u001b[0m \u001b[1;32min\u001b[0m \u001b[0minputs\u001b[0m\u001b[1;33m)\u001b[0m\u001b[1;33m:\u001b[0m\u001b[1;33m\u001b[0m\u001b[0m\n",
      "\u001b[1;32m~\\Anaconda3\\lib\\site-packages\\keras\\backend\\tensorflow_backend.py\u001b[0m in \u001b[0;36m_call\u001b[1;34m(self, inputs)\u001b[0m\n\u001b[0;32m   2634\u001b[0m                                 \u001b[0msymbol_vals\u001b[0m\u001b[1;33m,\u001b[0m\u001b[1;33m\u001b[0m\u001b[0m\n\u001b[0;32m   2635\u001b[0m                                 session)\n\u001b[1;32m-> 2636\u001b[1;33m         \u001b[0mfetched\u001b[0m \u001b[1;33m=\u001b[0m \u001b[0mself\u001b[0m\u001b[1;33m.\u001b[0m\u001b[0m_callable_fn\u001b[0m\u001b[1;33m(\u001b[0m\u001b[1;33m*\u001b[0m\u001b[0marray_vals\u001b[0m\u001b[1;33m)\u001b[0m\u001b[1;33m\u001b[0m\u001b[0m\n\u001b[0m\u001b[0;32m   2637\u001b[0m         \u001b[1;32mreturn\u001b[0m \u001b[0mfetched\u001b[0m\u001b[1;33m[\u001b[0m\u001b[1;33m:\u001b[0m\u001b[0mlen\u001b[0m\u001b[1;33m(\u001b[0m\u001b[0mself\u001b[0m\u001b[1;33m.\u001b[0m\u001b[0moutputs\u001b[0m\u001b[1;33m)\u001b[0m\u001b[1;33m]\u001b[0m\u001b[1;33m\u001b[0m\u001b[0m\n\u001b[0;32m   2638\u001b[0m \u001b[1;33m\u001b[0m\u001b[0m\n",
      "\u001b[1;32m~\\Anaconda3\\lib\\site-packages\\tensorflow\\python\\client\\session.py\u001b[0m in \u001b[0;36m__call__\u001b[1;34m(self, *args, **kwargs)\u001b[0m\n\u001b[0;32m   1380\u001b[0m           ret = tf_session.TF_SessionRunCallable(\n\u001b[0;32m   1381\u001b[0m               \u001b[0mself\u001b[0m\u001b[1;33m.\u001b[0m\u001b[0m_session\u001b[0m\u001b[1;33m.\u001b[0m\u001b[0m_session\u001b[0m\u001b[1;33m,\u001b[0m \u001b[0mself\u001b[0m\u001b[1;33m.\u001b[0m\u001b[0m_handle\u001b[0m\u001b[1;33m,\u001b[0m \u001b[0margs\u001b[0m\u001b[1;33m,\u001b[0m \u001b[0mstatus\u001b[0m\u001b[1;33m,\u001b[0m\u001b[1;33m\u001b[0m\u001b[0m\n\u001b[1;32m-> 1382\u001b[1;33m               run_metadata_ptr)\n\u001b[0m\u001b[0;32m   1383\u001b[0m         \u001b[1;32mif\u001b[0m \u001b[0mrun_metadata\u001b[0m\u001b[1;33m:\u001b[0m\u001b[1;33m\u001b[0m\u001b[0m\n\u001b[0;32m   1384\u001b[0m           \u001b[0mproto_data\u001b[0m \u001b[1;33m=\u001b[0m \u001b[0mtf_session\u001b[0m\u001b[1;33m.\u001b[0m\u001b[0mTF_GetBuffer\u001b[0m\u001b[1;33m(\u001b[0m\u001b[0mrun_metadata_ptr\u001b[0m\u001b[1;33m)\u001b[0m\u001b[1;33m\u001b[0m\u001b[0m\n",
      "\u001b[1;31mKeyboardInterrupt\u001b[0m: "
     ]
    }
   ],
   "source": [
    "# we train our model again (this time fine-tuning the top 2 inception blocks\n",
    "# alongside the top Dense layers\n",
    "history = model.fit_generator(\n",
    "    train_generator,\n",
    "    steps_per_epoch=83,\n",
    "    epochs=200,\n",
    "    validation_data=validation_generator,\n",
    "    validation_steps=25,\n",
    "    verbose=1,\n",
    "    callbacks=callbacks_list)"
   ]
  },
  {
   "cell_type": "code",
   "execution_count": 33,
   "metadata": {},
   "outputs": [
    {
     "ename": "NameError",
     "evalue": "name 'history' is not defined",
     "output_type": "error",
     "traceback": [
      "\u001b[1;31m---------------------------------------------------------------------------\u001b[0m",
      "\u001b[1;31mNameError\u001b[0m                                 Traceback (most recent call last)",
      "\u001b[1;32m<ipython-input-33-0cab5c707e41>\u001b[0m in \u001b[0;36m<module>\u001b[1;34m()\u001b[0m\n\u001b[0;32m      1\u001b[0m \u001b[1;31m# Plot training & validation accuracy values\u001b[0m\u001b[1;33m\u001b[0m\u001b[1;33m\u001b[0m\u001b[0m\n\u001b[1;32m----> 2\u001b[1;33m \u001b[0mplt\u001b[0m\u001b[1;33m.\u001b[0m\u001b[0mplot\u001b[0m\u001b[1;33m(\u001b[0m\u001b[0mhistory\u001b[0m\u001b[1;33m.\u001b[0m\u001b[0mhistory\u001b[0m\u001b[1;33m[\u001b[0m\u001b[1;34m'acc'\u001b[0m\u001b[1;33m]\u001b[0m\u001b[1;33m)\u001b[0m\u001b[1;33m\u001b[0m\u001b[0m\n\u001b[0m\u001b[0;32m      3\u001b[0m \u001b[0mplt\u001b[0m\u001b[1;33m.\u001b[0m\u001b[0mplot\u001b[0m\u001b[1;33m(\u001b[0m\u001b[0mhistory\u001b[0m\u001b[1;33m.\u001b[0m\u001b[0mhistory\u001b[0m\u001b[1;33m[\u001b[0m\u001b[1;34m'val_acc'\u001b[0m\u001b[1;33m]\u001b[0m\u001b[1;33m)\u001b[0m\u001b[1;33m\u001b[0m\u001b[0m\n\u001b[0;32m      4\u001b[0m \u001b[0mplt\u001b[0m\u001b[1;33m.\u001b[0m\u001b[0mtitle\u001b[0m\u001b[1;33m(\u001b[0m\u001b[1;34m'Model accuracy'\u001b[0m\u001b[1;33m)\u001b[0m\u001b[1;33m\u001b[0m\u001b[0m\n\u001b[0;32m      5\u001b[0m \u001b[0mplt\u001b[0m\u001b[1;33m.\u001b[0m\u001b[0mylabel\u001b[0m\u001b[1;33m(\u001b[0m\u001b[1;34m'Accuracy'\u001b[0m\u001b[1;33m)\u001b[0m\u001b[1;33m\u001b[0m\u001b[0m\n",
      "\u001b[1;31mNameError\u001b[0m: name 'history' is not defined"
     ]
    }
   ],
   "source": [
    "# Plot training & validation accuracy values\n",
    "plt.plot(history.history['acc'])\n",
    "plt.plot(history.history['val_acc'])\n",
    "plt.title('Model accuracy')\n",
    "plt.ylabel('Accuracy')\n",
    "plt.xlabel('Epoch')\n",
    "plt.legend(['Train', 'Test'], loc='upper left')\n",
    "plt.show()\n",
    "\n",
    "# Plot training & validation loss values\n",
    "plt.plot(history.history['loss'])\n",
    "plt.plot(history.history['val_loss'])\n",
    "plt.title('Model loss')\n",
    "plt.ylabel('Loss')\n",
    "plt.xlabel('Epoch')\n",
    "plt.legend(['Train', 'Test'], loc='upper left')\n",
    "plt.show()"
   ]
  },
  {
   "cell_type": "code",
   "execution_count": 34,
   "metadata": {},
   "outputs": [
    {
     "name": "stdout",
     "output_type": "stream",
     "text": [
      "28/28 [==============================] - ETA: 26:0 - ETA: 15:1 - ETA: 11:3 - ETA: 9:4 - ETA: 8: - ETA: 7: - ETA: 6: - ETA: 6: - ETA: 5: - ETA: 5: - ETA: 4: - ETA: 4: - ETA: 4: - ETA: 3: - ETA: 3: - ETA: 3: - ETA: 2: - ETA: 2: - ETA: 2: - ETA: 1: - ETA: 1: - ETA: 1: - ETA: 1: - ETA: 56s - ETA: 42 - ETA: 27 - ETA: 13 - 378s 13s/step\n"
     ]
    }
   ],
   "source": [
    "preds = model.predict_generator(test_generator, verbose=1)"
   ]
  },
  {
   "cell_type": "code",
   "execution_count": 35,
   "metadata": {},
   "outputs": [
    {
     "data": {
      "text/plain": [
       "array([[2.1688983e-01, 1.1065563e-03, 1.7804666e-03, ..., 5.1173574e-04,\n",
       "        1.3050667e-03, 1.2941773e-01],\n",
       "       [7.7352702e-04, 8.1253098e-03, 2.3946064e-03, ..., 1.2656648e-02,\n",
       "        1.6453847e-02, 9.2768372e-04],\n",
       "       [1.4433657e-03, 5.7679401e-03, 5.5632456e-03, ..., 6.3613744e-04,\n",
       "        4.2795641e-03, 1.2343236e-03],\n",
       "       ...,\n",
       "       [8.0189138e-04, 1.5122019e-03, 8.9397834e-04, ..., 4.1262107e-04,\n",
       "        5.3670886e-04, 3.3756447e-04],\n",
       "       [4.7712920e-06, 7.2116440e-05, 5.8521346e-06, ..., 3.4691486e-05,\n",
       "        2.4634764e-05, 7.1759655e-06],\n",
       "       [1.8319199e-03, 6.3747604e-04, 2.0584937e-04, ..., 6.8397560e-05,\n",
       "        2.6196230e-04, 7.2548348e-05]], dtype=float32)"
      ]
     },
     "execution_count": 35,
     "metadata": {},
     "output_type": "execute_result"
    }
   ],
   "source": [
    "preds"
   ]
  },
  {
   "cell_type": "code",
   "execution_count": 37,
   "metadata": {},
   "outputs": [],
   "source": [
    "p=model.predict_generator(test_generator, steps=None, max_queue_size=10, workers=1, use_multiprocessing=False, verbose=0)"
   ]
  },
  {
   "cell_type": "code",
   "execution_count": 49,
   "metadata": {},
   "outputs": [
    {
     "ename": "AttributeError",
     "evalue": "'numpy.ndarray' object has no attribute 'class_indices'",
     "output_type": "error",
     "traceback": [
      "\u001b[1;31m---------------------------------------------------------------------------\u001b[0m",
      "\u001b[1;31mAttributeError\u001b[0m                            Traceback (most recent call last)",
      "\u001b[1;32m<ipython-input-49-5e1328cd0df1>\u001b[0m in \u001b[0;36m<module>\u001b[1;34m()\u001b[0m\n\u001b[1;32m----> 1\u001b[1;33m \u001b[0mp\u001b[0m\u001b[1;33m.\u001b[0m\u001b[0mclass_indices\u001b[0m\u001b[1;33m.\u001b[0m\u001b[0mkeys\u001b[0m\u001b[1;33m(\u001b[0m\u001b[1;33m)\u001b[0m\u001b[1;33m\u001b[0m\u001b[0m\n\u001b[0m\u001b[0;32m      2\u001b[0m \u001b[1;31m# test_generator.class_indices.keys()\u001b[0m\u001b[1;33m\u001b[0m\u001b[1;33m\u001b[0m\u001b[0m\n",
      "\u001b[1;31mAttributeError\u001b[0m: 'numpy.ndarray' object has no attribute 'class_indices'"
     ]
    }
   ],
   "source": [
    "p.class_indices.keys()\n",
    "# test_generator.class_indices.keys()"
   ]
  },
  {
   "cell_type": "code",
   "execution_count": 52,
   "metadata": {},
   "outputs": [
    {
     "ename": "AttributeError",
     "evalue": "'DirectoryIterator' object has no attribute 'argmax'",
     "output_type": "error",
     "traceback": [
      "\u001b[1;31m---------------------------------------------------------------------------\u001b[0m",
      "\u001b[1;31mAttributeError\u001b[0m                            Traceback (most recent call last)",
      "\u001b[1;32m<ipython-input-52-654c2a8b248f>\u001b[0m in \u001b[0;36m<module>\u001b[1;34m()\u001b[0m\n\u001b[1;32m----> 1\u001b[1;33m \u001b[0my_classes\u001b[0m \u001b[1;33m=\u001b[0m \u001b[0mtest_generator\u001b[0m\u001b[1;33m.\u001b[0m\u001b[0margmax\u001b[0m\u001b[1;33m(\u001b[0m\u001b[0maxis\u001b[0m\u001b[1;33m=\u001b[0m\u001b[1;33m-\u001b[0m\u001b[1;36m1\u001b[0m\u001b[1;33m)\u001b[0m\u001b[1;33m\u001b[0m\u001b[0m\n\u001b[0m",
      "\u001b[1;31mAttributeError\u001b[0m: 'DirectoryIterator' object has no attribute 'argmax'"
     ]
    }
   ],
   "source": [
    "y_classes = test_generator.argmax(axis=-1)"
   ]
  }
 ],
 "metadata": {
  "kernelspec": {
   "display_name": "Python 3",
   "language": "python",
   "name": "python3"
  },
  "language_info": {
   "codemirror_mode": {
    "name": "ipython",
    "version": 3
   },
   "file_extension": ".py",
   "mimetype": "text/x-python",
   "name": "python",
   "nbconvert_exporter": "python",
   "pygments_lexer": "ipython3",
   "version": "3.6.5"
  }
 },
 "nbformat": 4,
 "nbformat_minor": 2
}
